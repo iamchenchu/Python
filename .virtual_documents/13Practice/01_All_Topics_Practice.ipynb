


age = int(input("Please enter your age :"))

print(f"Your age is : {age}")

if age >= 18 : 
    print("You are eligibile for all government benifits")
else :
    print("You are not an adult now")


#If you want to use 3 conditions to be checked then we should use elif also in the condition box 

age = int(input("Please enter your age :"))

if age >= 18 and age < 30 : 
    print("you are an adult")
elif age >= 14 and age < 18 :
    print("You are a child now")
elif age >= 30 and age < 45 :
    print("You are a man now")
    
else:
    print("You are a kid now")


# take 3 values and compare the values of each with the other values and find the bigger values of out of 3

a = int(input("Enter the value of a : "))
b = int(input("Enter the value of b : "))
c = int(input("Enter the value of c : "))

if a == b and a == c :
    print("All are equal")
elif a >= b and a > c :
    print("A is the bigger number")
elif b >= a and b > c :
    print("B is the bigger number")
else :
    print("C is bigger number")


# Grading 

marks = int(input("Please enter your marks : "))

if marks >= 90 :
    print ("Congrats, you got A grade.")
elif marks >= 80:
    print("B Grade")
elif marks >= 70 :
    print("C Grade")
elif marks >= 60 :
    print ("D grade")
else :
    print("Fail")





a = 20 

if a%2 == 0 :
    print("Even number")
else : 
    print("Odd number")



# Greeting 
# We can initialize the parameter values during the function creation if required

def wish(name = "Mr. No Name"):
    print(f"Welcome to USA {name}")

wish()
wish("Chenchu")
    


# Create Table 

def create_table(num):
    i = 1
    for i in range(11):
        print(f"{num} * {i} = {num * i}")
        i += 1
        
create_table(10)
    
    
    


numbers = (10, 20, 30, 50)
summation = sum(numbers)
print(summation)


def calc_sum(*args):
    print(sum(args))

calc_sum(1, 2, 4, 5, 6, 10)
calc_sum(-10, 10, -20, 20)


def summing(*args):
    total = 0
    print(type(args))
    print(args)
    for i in args:
        total += i
    return total

summing(10, 50, 20, 30)
        


def cal_summ(a = 10, b = 20):
    return a + b

print(cal_summ(20, 20))
print(cal_summ(20, 30))
print(cal_summ())


# Find average 

def average(*args):
    sum = 0
    for i in args:
        sum += i
    return sum/len(args)
print(average(10, 20, 30, 50, 18, 25))


# Average in another way 

def avg(*args):
    return sum(args)/len(args)

avg(10, 20, 30)


# Nested Functions 

def calculator(*args):
    def calc_sum(*args):
        return sum(args)
    def calc_avg(*args):
        return sum(args)/len(args)
    def calc_prod(*args):
        prod = 1
        for i in args:
            prod *=i
        return prod
    return calc_sum(*args), calc_avg(*args), calc_prod(*args)

calculator(10, 20, 40, 60, 21, 13)


## *args, **kwargs

def function_with_both(*args, **kwargs):
    print(args)
    print(kwargs)
    print(type(args))
    print(type(kwargs))

function_with_both(1, 2, 4, 3, 6, 19,10, 100, name = "Chenchu", c = 10, city = "New York", b = 100 , Role = "Scientist")



def both_function(*args, **kwargs):
    for arg in args:
        print(arg)
    for kwarg in kwargs:
        print(kwarg, ":", kwargs[kwarg])

both_function(1, 2, 4, 3, 6, 19,10, 100, name = "Chenchu", c = 10, city = "New York", b = 100 , Role = "Scientist")


# Lambda functions 

add = lambda x, y=1, z = 1: x+y+z

print(add(2,2,3))
print(add(5))
print(add(1))
print(add(5,5))


# Filtering the lists 
numbers =[1, 2, 3, 4, 5, 6, 7, 8, 9, 10, 11, 12, 13, 14, 15, 16, 17, 18, 19, 20]

even_numbers = list(filter(lambda x: x%2 ==0, numbers))

print(even_numbers)


# Decorator 
def my_decorator(func):
    def wrapper():
        print("Something is happening before the function is called")
        func()
        print("Something is happening after function is called")
    return wrapper


def say_hello():
    print("Hello world")
    
decorated_hello = my_decorator(say_hello)
decorated_hello()





@my_decorator
def say_goodbye():
    print("Good Bye")

say_goodbye()


## Recursion
# Recursion is : a function is calling itself until basecase reached 

def show(n):
    if n == 0 :
        print("END OF THE FUNCTION CALL")
        return
    print(n)
    show(n-1)
    
    
show(10)


# Factorial 

def facto(n):
    if (n == 0 or n==1):
        return 1
    else:
        return n * facto(n-1)
       
facto(5)
    
        


# Write program to calculate and print the first n natural numbers sum using recursion.

def summation(n):
    if n == 0 :
        return 0
    else:
        return n + summation(n-1)
summation(10)



