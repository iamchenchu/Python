


age = int(input("Please enter your age :"))

print(f"Your age is : {age}")

if age >= 18 : 
    print("You are eligibile for all government benifits")
else :
    print("You are not an adult now")


#If you want to use 3 conditions to be checked then we should use elif also in the condition box 

age = int(input("Please enter your age :"))

if age >= 18 and age < 30 : 
    print("you are an adult")
elif age >= 14 and age < 18 :
    print("You are a child now")
elif age >= 30 and age < 45 :
    print("You are a man now")
    
else:
    print("You are a kid now")



