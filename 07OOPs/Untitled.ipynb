{
 "cells": [
  {
   "cell_type": "markdown",
   "id": "c3004aa4-923f-4c69-a2e3-254c34aa31d1",
   "metadata": {},
   "source": [
    "Write a Person class with an instance variable, , and a constructor that takes an integer, , as a parameter. The constructor must assign  to  after confirming the argument passed as  is not negative; if a negative argument is passed as , the constructor should set  to  and print Age is not valid, setting age to 0.. In addition, you must write the following instance methods:\n",
    "\n",
    "yearPasses() should increase the  instance variable by .\n",
    "amIOld() should perform the following conditional actions:\n",
    "If , print You are young..\n",
    "If  and , print You are a teenager..\n",
    "Otherwise, print You are old..\n",
    "To help you learn by example and complete this challenge, much of the code is provided for you, but you'll be writing everything in the future. The code that creates each instance of your Person class is in the main method. Don't worry if you don't understand it all quite yet!\n",
    "\n",
    "Note: Do not remove or alter the stub code in the editor."
   ]
  },
  {
   "cell_type": "code",
   "execution_count": null,
   "id": "9ce40baa-81ff-4c7f-901b-4319936d2726",
   "metadata": {},
   "outputs": [],
   "source": [
    "class Person:\n",
    "    def __init__(self, age):\n",
    "        if age < 0:\n",
    "            self.age = 0\n",
    "            print(\"Age is not valid, setting age to 0\")\n",
    "        else:\n",
    "            self.age = age\n",
    "\n",
    "    def yearPasses(self):\n",
    "        self.age += 1\n",
    "        \n",
    "    def amIOld(self):\n",
    "        if self.age < 13:\n",
    "            print(\"You are young.\")\n",
    "        elif 13 <= self.age <18:\n",
    "            print(\"You are a teenager.\")\n",
    "        else:\n",
    "            print(\"You are old.\")\n",
    "\n",
    "\n",
    "\n",
    "        "
   ]
  }
 ],
 "metadata": {
  "kernelspec": {
   "display_name": "Python 3 (ipykernel)",
   "language": "python",
   "name": "python3"
  },
  "language_info": {
   "codemirror_mode": {
    "name": "ipython",
    "version": 3
   },
   "file_extension": ".py",
   "mimetype": "text/x-python",
   "name": "python",
   "nbconvert_exporter": "python",
   "pygments_lexer": "ipython3",
   "version": "3.8.18"
  }
 },
 "nbformat": 4,
 "nbformat_minor": 5
}
