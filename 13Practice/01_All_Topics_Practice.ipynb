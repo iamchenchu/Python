{
 "cells": [
  {
   "cell_type": "markdown",
   "id": "6c04ffc0-f8b7-4b72-8a03-d78869e4c9e6",
   "metadata": {},
   "source": [
    "## Conditional Statements"
   ]
  },
  {
   "cell_type": "code",
   "execution_count": 2,
   "id": "24f38583-6093-4981-9056-16809b82d8a0",
   "metadata": {},
   "outputs": [
    {
     "name": "stdin",
     "output_type": "stream",
     "text": [
      "Please enter your age : 15\n"
     ]
    },
    {
     "name": "stdout",
     "output_type": "stream",
     "text": [
      "Your age is : 15\n",
      "You are not an adult now\n"
     ]
    }
   ],
   "source": [
    "age = int(input(\"Please enter your age :\"))\n",
    "\n",
    "print(f\"Your age is : {age}\")\n",
    "\n",
    "if age >= 18 : \n",
    "    print(\"You are eligibile for all government benifits\")\n",
    "else :\n",
    "    print(\"You are not an adult now\")"
   ]
  },
  {
   "cell_type": "code",
   "execution_count": 9,
   "id": "f0c0cd46-25d3-47fe-909e-083e3e7ff789",
   "metadata": {},
   "outputs": [
    {
     "name": "stdin",
     "output_type": "stream",
     "text": [
      "Please enter your age : 24\n"
     ]
    },
    {
     "name": "stdout",
     "output_type": "stream",
     "text": [
      "you are an adult\n"
     ]
    }
   ],
   "source": [
    "#If you want to use 3 conditions to be checked then we should use elif also in the condition box \n",
    "\n",
    "age = int(input(\"Please enter your age :\"))\n",
    "\n",
    "if age >= 18 and age < 30 : \n",
    "    print(\"you are an adult\")\n",
    "elif age >= 14 and age < 18 :\n",
    "    print(\"You are a child now\")\n",
    "elif age >= 30 and age < 45 :\n",
    "    print(\"You are a man now\")\n",
    "    \n",
    "else:\n",
    "    print(\"You are a kid now\")"
   ]
  },
  {
   "cell_type": "code",
   "execution_count": null,
   "id": "c114373e-6298-4580-9c7b-4989b00e844d",
   "metadata": {},
   "outputs": [],
   "source": []
  }
 ],
 "metadata": {
  "kernelspec": {
   "display_name": "Python 3 (ipykernel)",
   "language": "python",
   "name": "python3"
  },
  "language_info": {
   "codemirror_mode": {
    "name": "ipython",
    "version": 3
   },
   "file_extension": ".py",
   "mimetype": "text/x-python",
   "name": "python",
   "nbconvert_exporter": "python",
   "pygments_lexer": "ipython3",
   "version": "3.11.8"
  }
 },
 "nbformat": 4,
 "nbformat_minor": 5
}
