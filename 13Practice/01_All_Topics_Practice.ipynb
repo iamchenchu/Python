{
 "cells": [
  {
   "cell_type": "markdown",
   "id": "6c04ffc0-f8b7-4b72-8a03-d78869e4c9e6",
   "metadata": {},
   "source": [
    "## Conditional Statements"
   ]
  },
  {
   "cell_type": "code",
   "execution_count": 4,
   "id": "5d026618-237a-4603-97eb-d711d65f4444",
   "metadata": {},
   "outputs": [
    {
     "data": {
      "text/plain": [
       "['The', 'cow', 'jumped', 'over', 'the', 'moon.']"
      ]
     },
     "execution_count": 4,
     "metadata": {},
     "output_type": "execute_result"
    }
   ],
   "source": [
    "# String methods \n",
    "\n",
    "new_str = \"The cow jumped over the moon.\"\n",
    "new_str.split()"
   ]
  },
  {
   "cell_type": "code",
   "execution_count": 5,
   "id": "af2e8362-8d3d-4182-a421-62be53d8b8f0",
   "metadata": {},
   "outputs": [
    {
     "data": {
      "text/plain": [
       "['The', 'cow', 'jumped over the moon.']"
      ]
     },
     "execution_count": 5,
     "metadata": {},
     "output_type": "execute_result"
    }
   ],
   "source": [
    "new_str.split(' ', 2) # it splits first 2 words and then remaining as one word\n"
   ]
  },
  {
   "cell_type": "code",
   "execution_count": 6,
   "id": "e779a49f-4e5b-4920-8705-276cdce34896",
   "metadata": {},
   "outputs": [
    {
     "data": {
      "text/plain": [
       "['The cow jumped over the moon', '']"
      ]
     },
     "execution_count": 6,
     "metadata": {},
     "output_type": "execute_result"
    }
   ],
   "source": [
    "new_str.split('.')"
   ]
  },
  {
   "cell_type": "code",
   "execution_count": 7,
   "id": "7697cbb6-aa6a-4f55-a952-a66c201ee89d",
   "metadata": {},
   "outputs": [
    {
     "name": "stdout",
     "output_type": "stream",
     "text": [
      "If you can keep your head when all about you\n",
      "  Are losing theirs and blaming it on you,\n",
      "If you can trust yourself when all men doubt you,\n",
      "  But make allowance for their doubting too;\n",
      "If you can wait and not be tired by waiting,\n",
      "  Or being lied about, don’t deal in lies,\n",
      "Or being hated, don’t give way to hating,\n",
      "  And yet don’t look too good, nor talk too wise: \n",
      "\n",
      "Verse has a length of 362 characters.\n",
      "The first occurence of the word 'and' occurs at the 65th index.\n",
      "The last occurence of the word 'you' occurs at the 186th index.\n",
      "The word 'you' occurs 8 times in the verse.\n"
     ]
    }
   ],
   "source": [
    "verse = \"If you can keep your head when all about you\\n  Are losing theirs and blaming it on you,\\nIf you can trust yourself when all men doubt you,\\n  But make allowance for their doubting too;\\nIf you can wait and not be tired by waiting,\\n  Or being lied about, don’t deal in lies,\\nOr being hated, don’t give way to hating,\\n  And yet don’t look too good, nor talk too wise:\"\n",
    "print(verse, \"\\n\")\n",
    "\n",
    "print(\"Verse has a length of {} characters.\".format(len(verse)))\n",
    "print(\"The first occurence of the word 'and' occurs at the {}th index.\".format(verse.find('and')))\n",
    "print(\"The last occurence of the word 'you' occurs at the {}th index.\".format(verse.rfind('you')))\n",
    "print(\"The word 'you' occurs {} times in the verse.\".format(verse.count('you')))\n"
   ]
  },
  {
   "cell_type": "code",
   "execution_count": 14,
   "id": "ce75c31d-9adf-4ec5-b2dc-78fc0821df7a",
   "metadata": {},
   "outputs": [
    {
     "name": "stdout",
     "output_type": "stream",
     "text": [
      "if you can keep your head when all about you are losing theirs and blaming it on you   if you can trust yourself when all men doubt you     but make allowance for their doubting too   if you can wait and not be tired by waiting      or being lied about  don’t deal in lies   or being hated  don’t give way to hating      and yet don’t look too good  nor talk too wise \n",
      "\n",
      "['if', 'you', 'can', 'keep', 'your', 'head', 'when', 'all', 'about', 'you', 'are', 'losing', 'theirs', 'and', 'blaming', 'it', 'on', 'you', 'if', 'you', 'can', 'trust', 'yourself', 'when', 'all', 'men', 'doubt', 'you', 'but', 'make', 'allowance', 'for', 'their', 'doubting', 'too', 'if', 'you', 'can', 'wait', 'and', 'not', 'be', 'tired', 'by', 'waiting', 'or', 'being', 'lied', 'about', 'don’t', 'deal', 'in', 'lies', 'or', 'being', 'hated', 'don’t', 'give', 'way', 'to', 'hating', 'and', 'yet', 'don’t', 'look', 'too', 'good', 'nor', 'talk', 'too', 'wise'] \n",
      "\n",
      "{'lies', 'doubting', 'all', 'losing', 'look', 'are', 'men', 'or', 'hating', 'if', 'when', 'yet', 'deal', 'theirs', 'you', 'trust', 'too', 'not', 'nor', 'way', 'by', 'waiting', 'being', 'wise', 'hated', 'to', 'it', 'can', 'but', 'yourself', 'be', 'in', 'keep', 'give', 'and', 'doubt', 'make', 'their', 'good', 'tired', 'wait', 'head', 'about', 'your', 'on', 'don’t', 'talk', 'allowance', 'blaming', 'for', 'lied'} \n",
      "\n",
      "51\n"
     ]
    }
   ],
   "source": [
    "verse = \"if you can keep your head when all about you are losing theirs and blaming it on you   if you can trust yourself when all men doubt you     but make allowance for their doubting too   if you can wait and not be tired by waiting      or being lied about  don’t deal in lies   or being hated  don’t give way to hating      and yet don’t look too good  nor talk too wise\"\n",
    "print(verse, \"\\n\")\n",
    "\n",
    "## split verse into list of words\n",
    "verse_list = verse.split()\n",
    "print(verse_list, '\\n')\n",
    "\n",
    "## convert list to set to get unique words\n",
    "verse_set = set(verse_list)\n",
    "print(verse_set, '\\n')\n",
    "\n",
    "## print the number of unique words\n",
    "num_unique = len(verse_set)\n",
    "print(num_unique)"
   ]
  },
  {
   "cell_type": "code",
   "execution_count": 2,
   "id": "24f38583-6093-4981-9056-16809b82d8a0",
   "metadata": {},
   "outputs": [
    {
     "name": "stdin",
     "output_type": "stream",
     "text": [
      "Please enter your age : 15\n"
     ]
    },
    {
     "name": "stdout",
     "output_type": "stream",
     "text": [
      "Your age is : 15\n",
      "You are not an adult now\n"
     ]
    }
   ],
   "source": [
    "age = int(input(\"Please enter your age :\"))\n",
    "\n",
    "print(f\"Your age is : {age}\")\n",
    "\n",
    "if age >= 18 : \n",
    "    print(\"You are eligibile for all government benifits\")\n",
    "else :\n",
    "    print(\"You are not an adult now\")"
   ]
  },
  {
   "cell_type": "code",
   "execution_count": 9,
   "id": "f0c0cd46-25d3-47fe-909e-083e3e7ff789",
   "metadata": {},
   "outputs": [
    {
     "name": "stdin",
     "output_type": "stream",
     "text": [
      "Please enter your age : 24\n"
     ]
    },
    {
     "name": "stdout",
     "output_type": "stream",
     "text": [
      "you are an adult\n"
     ]
    }
   ],
   "source": [
    "#If you want to use 3 conditions to be checked then we should use elif also in the condition box \n",
    "\n",
    "age = int(input(\"Please enter your age :\"))\n",
    "\n",
    "if age >= 18 and age < 30 : \n",
    "    print(\"you are an adult\")\n",
    "elif age >= 14 and age < 18 :\n",
    "    print(\"You are a child now\")\n",
    "elif age >= 30 and age < 45 :\n",
    "    print(\"You are a man now\")\n",
    "    \n",
    "else:\n",
    "    print(\"You are a kid now\")"
   ]
  },
  {
   "cell_type": "code",
   "execution_count": 10,
   "id": "c114373e-6298-4580-9c7b-4989b00e844d",
   "metadata": {},
   "outputs": [
    {
     "name": "stdin",
     "output_type": "stream",
     "text": [
      "Enter the value of a :  10\n",
      "Enter the value of b :  30\n",
      "Enter the value of c :  24\n"
     ]
    },
    {
     "name": "stdout",
     "output_type": "stream",
     "text": [
      "B is the bigger number\n"
     ]
    }
   ],
   "source": [
    "# take 3 values and compare the values of each with the other values and find the bigger values of out of 3\n",
    "\n",
    "a = int(input(\"Enter the value of a : \"))\n",
    "b = int(input(\"Enter the value of b : \"))\n",
    "c = int(input(\"Enter the value of c : \"))\n",
    "\n",
    "if a == b and a == c :\n",
    "    print(\"All are equal\")\n",
    "elif a >= b and a > c :\n",
    "    print(\"A is the bigger number\")\n",
    "elif b >= a and b > c :\n",
    "    print(\"B is the bigger number\")\n",
    "else :\n",
    "    print(\"C is bigger number\")"
   ]
  },
  {
   "cell_type": "code",
   "execution_count": 11,
   "id": "a6e06148-f1bf-4082-ad41-3e384c51427c",
   "metadata": {},
   "outputs": [
    {
     "name": "stdin",
     "output_type": "stream",
     "text": [
      "Please enter your marks :  80\n"
     ]
    },
    {
     "name": "stdout",
     "output_type": "stream",
     "text": [
      "B Grade\n"
     ]
    }
   ],
   "source": [
    "# Grading \n",
    "\n",
    "marks = int(input(\"Please enter your marks : \"))\n",
    "\n",
    "if marks >= 90 :\n",
    "    print (\"Congrats, you got A grade.\")\n",
    "elif marks >= 80:\n",
    "    print(\"B Grade\")\n",
    "elif marks >= 70 :\n",
    "    print(\"C Grade\")\n",
    "elif marks >= 60 :\n",
    "    print (\"D grade\")\n",
    "else :\n",
    "    print(\"Fail\")"
   ]
  },
  {
   "cell_type": "markdown",
   "id": "3f5d2f79-a740-4fab-91bd-6cad8557a386",
   "metadata": {},
   "source": [
    "## Functions"
   ]
  },
  {
   "cell_type": "code",
   "execution_count": 13,
   "id": "b5b07308-a47e-4b6b-930a-92bea416609b",
   "metadata": {},
   "outputs": [
    {
     "name": "stdout",
     "output_type": "stream",
     "text": [
      "Even number\n"
     ]
    }
   ],
   "source": [
    "a = 20 \n",
    "\n",
    "if a%2 == 0 :\n",
    "    print(\"Even number\")\n",
    "else : \n",
    "    print(\"Odd number\")\n"
   ]
  },
  {
   "cell_type": "code",
   "execution_count": 15,
   "id": "fec455de-cb7c-4585-9d19-6d40910fa496",
   "metadata": {},
   "outputs": [
    {
     "name": "stdout",
     "output_type": "stream",
     "text": [
      "Welcome to USA Mr. No Name\n",
      "Welcome to USA Chenchu\n"
     ]
    }
   ],
   "source": [
    "# Greeting \n",
    "# We can initialize the parameter values during the function creation if required\n",
    "\n",
    "def wish(name = \"Mr. No Name\"):\n",
    "    print(f\"Welcome to USA {name}\")\n",
    "\n",
    "wish()\n",
    "wish(\"Chenchu\")\n",
    "    "
   ]
  },
  {
   "cell_type": "code",
   "execution_count": 24,
   "id": "7df92c4e-de1c-422a-8c72-db41e938d239",
   "metadata": {},
   "outputs": [
    {
     "name": "stdout",
     "output_type": "stream",
     "text": [
      "10 * 0 = 0\n",
      "10 * 1 = 10\n",
      "10 * 2 = 20\n",
      "10 * 3 = 30\n",
      "10 * 4 = 40\n",
      "10 * 5 = 50\n",
      "10 * 6 = 60\n",
      "10 * 7 = 70\n",
      "10 * 8 = 80\n",
      "10 * 9 = 90\n",
      "10 * 10 = 100\n"
     ]
    }
   ],
   "source": [
    "# Create Table \n",
    "\n",
    "def create_table(num):\n",
    "    i = 1\n",
    "    for i in range(11):\n",
    "        print(f\"{num} * {i} = {num * i}\")\n",
    "        i += 1\n",
    "        \n",
    "create_table(10)\n",
    "    \n",
    "    \n",
    "    "
   ]
  },
  {
   "cell_type": "code",
   "execution_count": 25,
   "id": "85584524-3518-4b67-b794-b802d5898a4e",
   "metadata": {},
   "outputs": [
    {
     "name": "stdout",
     "output_type": "stream",
     "text": [
      "110\n"
     ]
    }
   ],
   "source": [
    "numbers = (10, 20, 30, 50)\n",
    "summation = sum(numbers)\n",
    "print(summation)"
   ]
  },
  {
   "cell_type": "code",
   "execution_count": 26,
   "id": "d406f33c-fd03-4e59-bcea-32a3c3a7bb05",
   "metadata": {},
   "outputs": [
    {
     "name": "stdout",
     "output_type": "stream",
     "text": [
      "28\n",
      "0\n"
     ]
    }
   ],
   "source": [
    "def calc_sum(*args):\n",
    "    print(sum(args))\n",
    "\n",
    "calc_sum(1, 2, 4, 5, 6, 10)\n",
    "calc_sum(-10, 10, -20, 20)"
   ]
  },
  {
   "cell_type": "code",
   "execution_count": 28,
   "id": "9833b645-44ea-4983-8b70-ec8eb0f30025",
   "metadata": {},
   "outputs": [
    {
     "name": "stdout",
     "output_type": "stream",
     "text": [
      "<class 'tuple'>\n",
      "(10, 50, 20, 30)\n"
     ]
    },
    {
     "data": {
      "text/plain": [
       "110"
      ]
     },
     "execution_count": 28,
     "metadata": {},
     "output_type": "execute_result"
    }
   ],
   "source": [
    "def summing(*args):\n",
    "    total = 0\n",
    "    print(type(args))\n",
    "    print(args)\n",
    "    for i in args:\n",
    "        total += i\n",
    "    return total\n",
    "\n",
    "summing(10, 50, 20, 30)\n",
    "        "
   ]
  },
  {
   "cell_type": "code",
   "execution_count": 37,
   "id": "2c227d75-4e30-4fe7-bcae-734b65da5c4f",
   "metadata": {},
   "outputs": [
    {
     "name": "stdout",
     "output_type": "stream",
     "text": [
      "40\n",
      "50\n",
      "30\n"
     ]
    }
   ],
   "source": [
    "def cal_summ(a = 10, b = 20):\n",
    "    return a + b\n",
    "\n",
    "print(cal_summ(20, 20))\n",
    "print(cal_summ(20, 30))\n",
    "print(cal_summ())"
   ]
  },
  {
   "cell_type": "code",
   "execution_count": 38,
   "id": "878e54ac-a666-4701-ab38-d26b187c79cb",
   "metadata": {},
   "outputs": [
    {
     "name": "stdout",
     "output_type": "stream",
     "text": [
      "25.5\n"
     ]
    }
   ],
   "source": [
    "# Find average \n",
    "\n",
    "def average(*args):\n",
    "    sum = 0\n",
    "    for i in args:\n",
    "        sum += i\n",
    "    return sum/len(args)\n",
    "print(average(10, 20, 30, 50, 18, 25))"
   ]
  },
  {
   "cell_type": "code",
   "execution_count": 39,
   "id": "0d6bfbbc-db9c-4e6e-a2f2-fd8f1678f2dd",
   "metadata": {},
   "outputs": [
    {
     "data": {
      "text/plain": [
       "20.0"
      ]
     },
     "execution_count": 39,
     "metadata": {},
     "output_type": "execute_result"
    }
   ],
   "source": [
    "# Average in another way \n",
    "\n",
    "def avg(*args):\n",
    "    return sum(args)/len(args)\n",
    "\n",
    "avg(10, 20, 30)"
   ]
  },
  {
   "cell_type": "code",
   "execution_count": 46,
   "id": "53fab99e-52d5-4488-80c8-ced1b3cf21c5",
   "metadata": {},
   "outputs": [
    {
     "data": {
      "text/plain": [
       "(164, 27.333333333333332, 131040000)"
      ]
     },
     "execution_count": 46,
     "metadata": {},
     "output_type": "execute_result"
    }
   ],
   "source": [
    "# Nested Functions \n",
    "\n",
    "def calculator(*args):\n",
    "    def calc_sum(*args):\n",
    "        return sum(args)\n",
    "    def calc_avg(*args):\n",
    "        return sum(args)/len(args)\n",
    "    def calc_prod(*args):\n",
    "        prod = 1\n",
    "        for i in args:\n",
    "            prod *=i\n",
    "        return prod\n",
    "    return calc_sum(*args), calc_avg(*args), calc_prod(*args)\n",
    "\n",
    "calculator(10, 20, 40, 60, 21, 13)"
   ]
  },
  {
   "cell_type": "code",
   "execution_count": 53,
   "id": "9f33d7d9-2962-4803-ab79-4f0254b81ebe",
   "metadata": {},
   "outputs": [
    {
     "name": "stdout",
     "output_type": "stream",
     "text": [
      "(1, 2, 4, 3, 6, 19, 10, 100)\n",
      "{'name': 'Chenchu', 'c': 10, 'city': 'New York', 'b': 100, 'Role': 'Scientist'}\n",
      "<class 'tuple'>\n",
      "<class 'dict'>\n"
     ]
    }
   ],
   "source": [
    "## *args, **kwargs\n",
    "\n",
    "def function_with_both(*args, **kwargs):\n",
    "    print(args)\n",
    "    print(kwargs)\n",
    "    print(type(args))\n",
    "    print(type(kwargs))\n",
    "\n",
    "function_with_both(1, 2, 4, 3, 6, 19,10, 100, name = \"Chenchu\", c = 10, city = \"New York\", b = 100 , Role = \"Scientist\")"
   ]
  },
  {
   "cell_type": "code",
   "execution_count": 56,
   "id": "8f2832b0-be41-4c6d-870e-7785e39774d7",
   "metadata": {},
   "outputs": [
    {
     "name": "stdout",
     "output_type": "stream",
     "text": [
      "1\n",
      "2\n",
      "4\n",
      "3\n",
      "6\n",
      "19\n",
      "10\n",
      "100\n",
      "name : Chenchu\n",
      "c : 10\n",
      "city : New York\n",
      "b : 100\n",
      "Role : Scientist\n"
     ]
    }
   ],
   "source": [
    "\n",
    "def both_function(*args, **kwargs):\n",
    "    for arg in args:\n",
    "        print(arg)\n",
    "    for kwarg in kwargs:\n",
    "        print(kwarg, \":\", kwargs[kwarg])\n",
    "\n",
    "both_function(1, 2, 4, 3, 6, 19,10, 100, name = \"Chenchu\", c = 10, city = \"New York\", b = 100 , Role = \"Scientist\")"
   ]
  },
  {
   "cell_type": "code",
   "execution_count": 60,
   "id": "95fd418f-a1c0-4515-b46a-9607a4529a49",
   "metadata": {},
   "outputs": [
    {
     "name": "stdout",
     "output_type": "stream",
     "text": [
      "7\n",
      "7\n",
      "3\n",
      "11\n"
     ]
    }
   ],
   "source": [
    "# Lambda functions \n",
    "\n",
    "add = lambda x, y=1, z = 1: x+y+z\n",
    "\n",
    "print(add(2,2,3))\n",
    "print(add(5))\n",
    "print(add(1))\n",
    "print(add(5,5))"
   ]
  },
  {
   "cell_type": "code",
   "execution_count": 62,
   "id": "7c5d56b2-b94c-4d1e-a8c1-1039f86617b9",
   "metadata": {},
   "outputs": [
    {
     "name": "stdout",
     "output_type": "stream",
     "text": [
      "[2, 4, 6, 8, 10, 12, 14, 16, 18, 20]\n"
     ]
    }
   ],
   "source": [
    "# Filtering the lists \n",
    "numbers =[1, 2, 3, 4, 5, 6, 7, 8, 9, 10, 11, 12, 13, 14, 15, 16, 17, 18, 19, 20]\n",
    "\n",
    "even_numbers = list(filter(lambda x: x%2 ==0, numbers))\n",
    "\n",
    "print(even_numbers)"
   ]
  },
  {
   "cell_type": "code",
   "execution_count": 4,
   "id": "b2544adf-2261-4771-abec-cf38e11042b8",
   "metadata": {},
   "outputs": [
    {
     "name": "stdout",
     "output_type": "stream",
     "text": [
      "Something is happening before the function is called\n",
      "Hello world\n",
      "Something is happening after function is called\n"
     ]
    }
   ],
   "source": [
    "# Decorator \n",
    "def my_decorator(func):\n",
    "    def wrapper():\n",
    "        print(\"Something is happening before the function is called\")\n",
    "        func()\n",
    "        print(\"Something is happening after function is called\")\n",
    "    return wrapper\n",
    "\n",
    "\n",
    "def say_hello():\n",
    "    print(\"Hello world\")\n",
    "    \n",
    "decorated_hello = my_decorator(say_hello)\n",
    "decorated_hello()\n",
    "\n",
    "\n"
   ]
  },
  {
   "cell_type": "code",
   "execution_count": 5,
   "id": "ea2c9f97-37fa-4b41-901d-0b86745568ec",
   "metadata": {},
   "outputs": [
    {
     "name": "stdout",
     "output_type": "stream",
     "text": [
      "Something is happening before the function is called\n",
      "Good Bye\n",
      "Something is happening after function is called\n"
     ]
    }
   ],
   "source": [
    "@my_decorator\n",
    "def say_goodbye():\n",
    "    print(\"Good Bye\")\n",
    "\n",
    "say_goodbye()"
   ]
  },
  {
   "cell_type": "code",
   "execution_count": 11,
   "id": "efd890da-d292-4eb9-9fad-ccfa6b868748",
   "metadata": {},
   "outputs": [
    {
     "name": "stdout",
     "output_type": "stream",
     "text": [
      "10\n",
      "9\n",
      "8\n",
      "7\n",
      "6\n",
      "5\n",
      "4\n",
      "3\n",
      "2\n",
      "1\n",
      "END OF THE FUNCTION CALL\n"
     ]
    }
   ],
   "source": [
    "## Recursion\n",
    "# Recursion is : a function is calling itself until basecase reached \n",
    "\n",
    "def show(n):\n",
    "    if n == 0 :\n",
    "        print(\"END OF THE FUNCTION CALL\")\n",
    "        return\n",
    "    print(n)\n",
    "    show(n-1)\n",
    "    \n",
    "    \n",
    "show(10)"
   ]
  },
  {
   "cell_type": "markdown",
   "id": "b6f8f533-a2ff-47b0-bdbb-8727f6de9c48",
   "metadata": {},
   "source": [
    "# Factorial \n",
    "\n",
    "def facto(n):\n",
    "    if (n == 0 or n==1):\n",
    "        return 1\n",
    "    else:\n",
    "        return n * facto(n-1)\n",
    "       \n",
    "facto(5)\n",
    "    \n",
    "        "
   ]
  },
  {
   "cell_type": "code",
   "execution_count": 20,
   "id": "9e9c8402-154f-43b5-a043-73eaf270ffc0",
   "metadata": {},
   "outputs": [
    {
     "data": {
      "text/plain": [
       "55"
      ]
     },
     "execution_count": 20,
     "metadata": {},
     "output_type": "execute_result"
    }
   ],
   "source": [
    "# Write program to calculate and print the first n natural numbers sum using recursion.\n",
    "\n",
    "def summation(n):\n",
    "    if n == 0 :\n",
    "        return 0\n",
    "    else:\n",
    "        return n + summation(n-1)\n",
    "summation(10)"
   ]
  },
  {
   "cell_type": "markdown",
   "id": "f7811992-9a37-4b0c-a171-549c76ffb6fb",
   "metadata": {},
   "source": [
    "## Loops\n",
    "\n",
    "#### There are 2 types of loops are there in the python : for loop while loop \n",
    "#### Loops are used for repeated instructions \n",
    "#### Mainly used for iterate over sequence like list, tuple, strings or other iterable objects"
   ]
  },
  {
   "cell_type": "code",
   "execution_count": 24,
   "id": "22a838c3-53e8-4391-b3c6-9fa5e9519102",
   "metadata": {},
   "outputs": [
    {
     "name": "stdout",
     "output_type": "stream",
     "text": [
      "1 2 3 4 5 6 7 8 9 10 11 12 13 14 15 16 17 18 19 20 21 22 23 24 25 26 27 28 29 30 31 32 33 34 35 36 37 38 39 40 41 42 43 44 45 46 47 48 49 50 51 52 53 54 55 56 57 58 59 60 61 62 63 64 65 66 67 68 69 70 71 72 73 74 75 76 77 78 79 80 81 82 83 84 85 86 87 88 89 90 91 92 93 94 95 96 97 98 99 100 "
     ]
    }
   ],
   "source": [
    "# Print numbers 1 to 100\n",
    "i = 1\n",
    "while i <=100:\n",
    "    print(i, end=\" \")\n",
    "    i = i+1"
   ]
  },
  {
   "cell_type": "code",
   "execution_count": 28,
   "id": "3d1df5bc-133e-49c4-9ebd-eb5d319ec175",
   "metadata": {},
   "outputs": [
    {
     "name": "stdout",
     "output_type": "stream",
     "text": [
      "100 99 98 97 96 95 94 93 92 91 90 89 88 87 86 85 84 83 82 81 80 79 78 77 76 75 74 73 72 71 70 69 68 67 66 65 64 63 62 61 60 59 58 57 56 55 54 53 52 51 50 49 48 47 46 45 44 43 42 41 40 39 38 37 36 35 34 33 32 31 30 29 28 27 26 25 24 23 22 21 20 19 18 17 16 15 14 13 12 11 10 9 8 7 6 5 4 3 2 1 "
     ]
    }
   ],
   "source": [
    "# Print the nums from 100 to 1\n",
    "j = 100\n",
    "while j >= 1:\n",
    "    print(j, end = \" \")\n",
    "    j = j-1"
   ]
  },
  {
   "cell_type": "code",
   "execution_count": 29,
   "id": "c31d4cc3-a87e-4de0-a3f3-d1f970d4ce8d",
   "metadata": {},
   "outputs": [
    {
     "name": "stdin",
     "output_type": "stream",
     "text": [
      "Enter the number to print it's table :  10\n"
     ]
    },
    {
     "name": "stdout",
     "output_type": "stream",
     "text": [
      "10 * 1 = 10\n",
      "10 * 2 = 20\n",
      "10 * 3 = 30\n",
      "10 * 4 = 40\n",
      "10 * 5 = 50\n",
      "10 * 6 = 60\n",
      "10 * 7 = 70\n",
      "10 * 8 = 80\n",
      "10 * 9 = 90\n",
      "10 * 10 = 100\n"
     ]
    }
   ],
   "source": [
    "# print the multiplication table of n from 1 to 10\n",
    "table_num = int(input(\"Enter the number to print it's table : \"))\n",
    "n = 1\n",
    "while n <= 10:\n",
    "    print(f\"{table_num} * {n} = {n*table_num}\")\n",
    "    n = n+1\n",
    "\n"
   ]
  },
  {
   "cell_type": "code",
   "execution_count": 35,
   "id": "102d3453-544e-4cb0-88ea-de284e1c31b5",
   "metadata": {},
   "outputs": [
    {
     "name": "stdout",
     "output_type": "stream",
     "text": [
      "43\n",
      "27\n",
      "27\n",
      "81\n",
      "83\n",
      "384\n"
     ]
    }
   ],
   "source": [
    "# Print the elements of the following list using a loop \n",
    "import time\n",
    "\n",
    "list = [43, 27, 27, 81, 83, 384]\n",
    "idx = 0\n",
    "\n",
    "while idx < len(list):\n",
    "    print(list[idx])\n",
    "    time.sleep(1)\n",
    "    idx += 1\n",
    "    "
   ]
  },
  {
   "cell_type": "code",
   "execution_count": 1,
   "id": "e72af7d7-5da7-4c79-a270-44660527a73f",
   "metadata": {},
   "outputs": [
    {
     "name": "stdout",
     "output_type": "stream",
     "text": [
      "Ram\n",
      "Chenchu\n",
      "Krish\n",
      "Tirupathi\n",
      "Rajia\n",
      "Pinnaboina\n"
     ]
    }
   ],
   "source": [
    "# Iterate the list of names \n",
    "\n",
    "names = [\"Ram\", \"Chenchu\", \"Krish\", \"Tirupathi\", \"Rajia\", \"Pinnaboina\"]\n",
    "idx = 0\n",
    "while idx < len(names):\n",
    "    print(names[idx])\n",
    "    idx += 1\n",
    "    "
   ]
  },
  {
   "cell_type": "code",
   "execution_count": 1,
   "id": "a5b2b0e5-8b26-43d6-afbb-1bceaf1f345c",
   "metadata": {},
   "outputs": [
    {
     "name": "stdout",
     "output_type": "stream",
     "text": [
      "Searching the target\n",
      "Searching the target\n",
      "Searching the target\n",
      "Searching the target\n",
      "the 7 found at the position of 4\n"
     ]
    }
   ],
   "source": [
    "# Search a number in the below tuple \n",
    "\n",
    "import time \n",
    "\n",
    "tuple1 = (73, 373, 2, 1, 7, 0, 9, 27)\n",
    "target = 7\n",
    "idx = 0\n",
    "\n",
    "while idx < len(tuple1):\n",
    "    if tuple1[idx]==target :\n",
    "        print(f\"the {target} found at the position of {idx}\")\n",
    "        break\n",
    "    else:\n",
    "        time.sleep(1)\n",
    "        print(\"Searching the target\")\n",
    "    idx += 1\n"
   ]
  },
  {
   "cell_type": "markdown",
   "id": "6795e049-d8dc-491f-b221-2ec8e9608e84",
   "metadata": {},
   "source": [
    "### BREAK : To stop the iteration even if the condition is true \n",
    "### CONTINUE : Terminates the current iteration and continues with the next iteration"
   ]
  },
  {
   "cell_type": "code",
   "execution_count": 3,
   "id": "8c40df81-dd27-473e-9827-60dcfbd06ed0",
   "metadata": {},
   "outputs": [
    {
     "name": "stdout",
     "output_type": "stream",
     "text": [
      "1\n",
      "2\n",
      "4\n",
      "5\n"
     ]
    }
   ],
   "source": [
    "i = 1\n",
    "\n",
    "while i <= 5:\n",
    "    if i == 3 :\n",
    "        i += 1\n",
    "        continue\n",
    "    print(i)\n",
    "    i += 1"
   ]
  },
  {
   "cell_type": "code",
   "execution_count": 4,
   "id": "1ac2c5c9-7839-46b8-9797-6bd338b6ad0d",
   "metadata": {},
   "outputs": [
    {
     "name": "stdout",
     "output_type": "stream",
     "text": [
      "1\n",
      "3\n",
      "5\n",
      "7\n",
      "9\n"
     ]
    }
   ],
   "source": [
    "i = 1\n",
    "\n",
    "while i <= 10:\n",
    "    if i % 2 == 0:\n",
    "        i += 1\n",
    "        continue \n",
    "    print(i)\n",
    "    i +=1"
   ]
  },
  {
   "cell_type": "code",
   "execution_count": 6,
   "id": "e5fac233-f54f-4257-812f-aee907d8b485",
   "metadata": {},
   "outputs": [
    {
     "name": "stdout",
     "output_type": "stream",
     "text": [
      "1\n",
      "2\n",
      "3\n",
      "4\n",
      "5\n",
      "6\n",
      "7\n",
      "8\n",
      "9\n",
      "Skipping the current iteration as the b value is 10\n",
      "11\n",
      "12\n",
      "Breaking the look as the b value is 13 now\n"
     ]
    }
   ],
   "source": [
    "b = 1\n",
    "while b <= 15:\n",
    "    if b == 13:\n",
    "        print(\"Breaking the look as the b value is 13 now\")\n",
    "        break\n",
    "    elif b==10:\n",
    "        print(\"Skipping the current iteration as the b value is 10\")\n",
    "        b += 1\n",
    "        continue \n",
    "    print(b)\n",
    "    b += 1\n",
    "    "
   ]
  },
  {
   "cell_type": "code",
   "execution_count": 7,
   "id": "b862bf8a-0b40-45eb-8a8e-7874dc3d914c",
   "metadata": {},
   "outputs": [
    {
     "name": "stdout",
     "output_type": "stream",
     "text": [
      "0 Tomato\n",
      "1 Potato\n",
      "2 Onion\n",
      "3 Cabbage\n"
     ]
    }
   ],
   "source": [
    "# For Loop : The for loop in Python is used to iterate over a sequence (list, tuple, string, string) or other iterable objects.\n",
    "# Syntax: for element in sequence:\n",
    "\n",
    "veggies = [\"Tomato\", \"Potato\", \"Onion\", \"Cabbage\"]\n",
    "i=0\n",
    "\n",
    "for val in veggies:\n",
    "    print(i, val)\n",
    "    i += 1\n"
   ]
  },
  {
   "cell_type": "code",
   "execution_count": 10,
   "id": "ca3ca2d9-5651-45b2-89b6-3db6aaa614e8",
   "metadata": {},
   "outputs": [
    {
     "name": "stdout",
     "output_type": "stream",
     "text": [
      "U\n",
      "n\n",
      "i\n",
      "v\n",
      "e\n",
      "r\n",
      "s\n",
      "i\n",
      "t\n",
      "y\n",
      " \n",
      "o\n",
      "f\n",
      " \n",
      "S\n",
      "o\n",
      "u\n",
      "t\n",
      "h\n",
      " \n",
      "D\n",
      "a\n",
      "k\n",
      "o\n",
      "t\n",
      "a\n",
      "Total Chars in the string is : 26\n"
     ]
    }
   ],
   "source": [
    "string_name = \"University of South Dakota\"\n",
    "total_chars = 0\n",
    "\n",
    "for char in string_name:\n",
    "    print(char)\n",
    "    total_chars += 1\n",
    "print(f\"Total Chars in the string is : {total_chars}\")"
   ]
  },
  {
   "cell_type": "code",
   "execution_count": 12,
   "id": "846728d5-8412-4cf8-a77f-007a2d876443",
   "metadata": {},
   "outputs": [
    {
     "name": "stdout",
     "output_type": "stream",
     "text": [
      "10\n",
      "20\n",
      "30\n",
      "40\n",
      "50\n",
      "100\n",
      "200\n",
      "300\n",
      "400\n",
      "500\n"
     ]
    }
   ],
   "source": [
    "# 1. Print the elements of the following list using while loop:\n",
    "# list1 = [10, 20, 30, 40, 50, 100, 200, 300, 400, 500]\n",
    "\n",
    "list1 = [10, 20, 30, 40, 50, 100, 200, 300, 400, 500]\n",
    "id = 0\n",
    "while id < len(list1):\n",
    "    print(list1[id])\n",
    "    id += 1\n",
    "    \n"
   ]
  },
  {
   "cell_type": "code",
   "execution_count": 15,
   "id": "e5852ecc-e041-4e2c-848c-7ca683f22a4b",
   "metadata": {},
   "outputs": [
    {
     "name": "stdout",
     "output_type": "stream",
     "text": [
      "10\n",
      "20\n",
      "30\n",
      "40\n",
      "50\n",
      "100\n",
      "200\n",
      "300\n",
      "400\n",
      "500\n",
      "Iteration 0: 10\n",
      "Iteration 1: 20\n",
      "Iteration 2: 30\n",
      "Iteration 3: 40\n",
      "Iteration 4: 50\n",
      "Iteration 5: 100\n",
      "Iteration 6: 200\n",
      "Iteration 7: 300\n",
      "Iteration 8: 400\n",
      "Iteration 9: 500\n"
     ]
    }
   ],
   "source": [
    "# Using for Loop\n",
    "\n",
    "list1 = [10, 20, 30, 40, 50, 100, 200, 300, 400, 500]\n",
    "\n",
    "for i in list1:\n",
    "    print(i)\n",
    "\n",
    "for i in range(len(list1)):\n",
    "    print(f\"Iteration {i}: {list1[i]}\")"
   ]
  },
  {
   "cell_type": "code",
   "execution_count": 17,
   "id": "a49963d0-3ab4-4005-bfab-06853f1b89c5",
   "metadata": {},
   "outputs": [
    {
     "name": "stdout",
     "output_type": "stream",
     "text": [
      "10\n",
      "20\n",
      "30\n",
      "40\n",
      "50\n",
      "The 100 found at the 5th location in the tuple\n",
      "200\n",
      "300\n",
      "20\n",
      "500\n",
      "20\n"
     ]
    }
   ],
   "source": [
    "# Practice Questions\n",
    "# 2. Search for a number in the below tuple and print the index of the number:\n",
    "\n",
    "tuple1 = (10, 20, 30, 40, 50, 100, 200, 300, 20, 500, 20)\n",
    "target = 100\n",
    "for i in range(len(tuple1)):\n",
    "    if tuple1[i] == target:\n",
    "        print(f\"The {target} found at the {i}th location in the tuple\")\n",
    "    else:\n",
    "        print(tuple1[i])\n"
   ]
  },
  {
   "cell_type": "code",
   "execution_count": 19,
   "id": "4fcb2b74-5ca0-4a79-9e76-b02814ed18dd",
   "metadata": {},
   "outputs": [
    {
     "name": "stdout",
     "output_type": "stream",
     "text": [
      "Hello world it is iteration  0\n",
      "Hello world it is iteration  1\n",
      "Hello world it is iteration  2\n",
      "Hello world it is iteration  3\n",
      "Hello world it is iteration  4\n",
      "***********************\n",
      "Hello world it is iteration  5\n",
      "Hello world it is iteration  6\n",
      "Hello world it is iteration  7\n",
      "Hello world it is iteration  8\n",
      "Hello world it is iteration  9\n",
      "***********************\n",
      "Hello world it is iteration  0\n",
      "Hello world it is iteration  2\n",
      "Hello world it is iteration  4\n",
      "Hello world it is iteration  6\n",
      "Hello world it is iteration  8\n"
     ]
    }
   ],
   "source": [
    "for i in range(5):\n",
    "    print(\"Hello world it is iteration \", i)\n",
    "\n",
    "print(\"***********************\")\n",
    "\n",
    "for i in range(5, 10):\n",
    "    print(\"Hello world it is iteration \", i)\n",
    "\n",
    "print(\"***********************\")\n",
    "\n",
    "for i in range(0, 10, 2):\n",
    "    print(\"Hello world it is iteration \", i)"
   ]
  },
  {
   "cell_type": "code",
   "execution_count": 20,
   "id": "544387b7-4016-4bc6-9227-a2456833a4d1",
   "metadata": {},
   "outputs": [
    {
     "name": "stdout",
     "output_type": "stream",
     "text": [
      "1 2 3 4 5 6 7 8 9 10 11 12 13 14 15 16 17 18 19 20 21 22 23 24 25 26 27 28 29 30 31 32 33 34 35 36 37 38 39 40 41 42 43 44 45 46 47 48 49 50 51 52 53 54 55 56 57 58 59 60 61 62 63 64 65 66 67 68 69 70 71 72 73 74 75 76 77 78 79 80 81 82 83 84 85 86 87 88 89 90 91 92 93 94 95 96 97 98 99 100 "
     ]
    }
   ],
   "source": [
    "# Print numbers form 1 to 100 using for or range\n",
    "\n",
    "for i in range(1, 101):\n",
    "    print(i, end=\" \")"
   ]
  },
  {
   "cell_type": "code",
   "execution_count": 22,
   "id": "cdb23094-18d2-4265-923f-07d3b66d2ca6",
   "metadata": {},
   "outputs": [
    {
     "name": "stdout",
     "output_type": "stream",
     "text": [
      "100 99 98 97 96 95 94 93 92 91 90 89 88 87 86 85 84 83 82 81 80 79 78 77 76 75 74 73 72 71 70 69 68 67 66 65 64 63 62 61 60 59 58 57 56 55 54 53 52 51 50 49 48 47 46 45 44 43 42 41 40 39 38 37 36 35 34 33 32 31 30 29 28 27 26 25 24 23 22 21 20 19 18 17 16 15 14 13 12 11 10 9 8 7 6 5 4 3 2 1 "
     ]
    }
   ],
   "source": [
    "# Print the nums from 100 to 1 \n",
    "\n",
    "for i in range(100, 0, -1):\n",
    "    print(i, end=\" \")"
   ]
  },
  {
   "cell_type": "code",
   "execution_count": 24,
   "id": "b3ba6949-a8f7-4508-9150-3ffb2030c8ac",
   "metadata": {},
   "outputs": [
    {
     "name": "stdin",
     "output_type": "stream",
     "text": [
      "Please enter the input : 11\n"
     ]
    },
    {
     "name": "stdout",
     "output_type": "stream",
     "text": [
      "11 X 1 = 11\n",
      "11 X 2 = 22\n",
      "11 X 3 = 33\n",
      "11 X 4 = 44\n",
      "11 X 5 = 55\n",
      "11 X 6 = 66\n",
      "11 X 7 = 77\n",
      "11 X 8 = 88\n",
      "11 X 9 = 99\n",
      "11 X 10 = 110\n"
     ]
    }
   ],
   "source": [
    "# Print the multiplication of the n\n",
    "\n",
    "n = int(input(\"Please enter the input :\"))\n",
    "\n",
    "for i in range(1, 11, 1):\n",
    "    print(f\"{n} X {i} = {n*i}\")"
   ]
  },
  {
   "cell_type": "code",
   "execution_count": 25,
   "id": "8a7b880b-53b7-4e2a-b29a-abc35ad2eb6c",
   "metadata": {},
   "outputs": [],
   "source": [
    "# Write a program to find the sum of first n numbers\n",
    "\n",
    "\n"
   ]
  },
  {
   "cell_type": "code",
   "execution_count": 36,
   "id": "c2980212-40ba-4321-99c6-2829fef31cc0",
   "metadata": {},
   "outputs": [
    {
     "name": "stdin",
     "output_type": "stream",
     "text": [
      "Please enter the number to find the factorial :  10\n"
     ]
    },
    {
     "name": "stdout",
     "output_type": "stream",
     "text": [
      "Factorial of 10 is : 3628800\n"
     ]
    }
   ],
   "source": [
    "# WAP to find the factorial of first n numbers (using for loop)\n",
    "\n",
    "f_num = int(input(\"Please enter the number to find the factorial : \"))\n",
    "factorial = 1\n",
    "for i in range(1,f_num+1):\n",
    "    factorial *=i\n",
    "print(f\"Factorial of {f_num} is : {factorial}\")"
   ]
  },
  {
   "cell_type": "code",
   "execution_count": 39,
   "id": "6d1f338e-d0b0-40e5-8289-20a6abfc4d72",
   "metadata": {},
   "outputs": [
    {
     "name": "stdin",
     "output_type": "stream",
     "text": [
      "Please enter the number to find the factorial :  5\n"
     ]
    },
    {
     "name": "stdout",
     "output_type": "stream",
     "text": [
      "Factorial of 5 is : 120\n"
     ]
    }
   ],
   "source": [
    "f_num = int(input(\"Please enter the number to find the factorial : \"))\n",
    "factorial = 1\n",
    "for i in range(f_num,0, -1):\n",
    "    factorial *= i\n",
    "print(f\"Factorial of {f_num} is : {factorial}\")\n",
    "    "
   ]
  },
  {
   "cell_type": "code",
   "execution_count": 40,
   "id": "fbc9faa6-e137-4909-8133-5229f7feae98",
   "metadata": {},
   "outputs": [
    {
     "name": "stdout",
     "output_type": "stream",
     "text": [
      "Searching the 12, 0 time\n",
      "Searching the 12, 1 time\n",
      "Searching the 12, 2 time\n",
      "Searching the 12, 3 time\n",
      "Searching the 12, 4 time\n",
      "The 12 found at 5th position\n",
      "Searching the 12, 6 time\n",
      "Searching the 12, 7 time\n",
      "Searching the 12, 8 time\n",
      "Searching the 12, 9 time\n",
      "Searching the 12, 10 time\n",
      "Searching the 12, 11 time\n",
      "Searching the 12, 12 time\n"
     ]
    }
   ],
   "source": [
    "# Search for a tuple using the loop \n",
    "\n",
    "tuple1 = (1, 2, 4, 7, 9, 12, 8, 13, 1, 32, 4, 7, 9)\n",
    "tar = 12\n",
    "\n",
    "for i in range(len(tuple1)):\n",
    "    if tuple1[i] == tar:\n",
    "        print(f\"The {tar} found at {i}th position\")\n",
    "    else:\n",
    "        print(f\"Searching the {tar}, {i} time\")"
   ]
  },
  {
   "cell_type": "code",
   "execution_count": 43,
   "id": "415aa697-0f94-4462-9977-87414e5e3bff",
   "metadata": {},
   "outputs": [
    {
     "name": "stdout",
     "output_type": "stream",
     "text": [
      "12 has been found at 5th position\n"
     ]
    }
   ],
   "source": [
    "# Search for a tuple using the loop \n",
    "\n",
    "tuple1 = (1, 2, 4, 7, 9, 12, 8, 13, 1, 32, 4, 7, 9)\n",
    "tar = 12\n",
    "\n",
    "for val in tuple1:\n",
    "    if val == tar:\n",
    "        print(f\"{tar} has been found at {tuple1.index(val)}th position\")"
   ]
  },
  {
   "cell_type": "code",
   "execution_count": 48,
   "id": "63594738-b5a8-4287-8cec-8336f60d6f58",
   "metadata": {},
   "outputs": [
    {
     "name": "stdout",
     "output_type": "stream",
     "text": [
      "R has been found at 7th position\n"
     ]
    }
   ],
   "source": [
    "# char search in the String \n",
    "\n",
    "name =\"ChenchuReddy\"\n",
    "tar = 'R'\n",
    "\n",
    "for ch in name:\n",
    "    if ch == tar:\n",
    "        print(f\"{tar} has been found at {name.index(tar)}th position\")"
   ]
  },
  {
   "cell_type": "code",
   "execution_count": 53,
   "id": "380b566d-1cc9-4da9-86a7-7aeedb2aaddc",
   "metadata": {},
   "outputs": [
    {
     "name": "stdout",
     "output_type": "stream",
     "text": [
      "Searching\n",
      "Searching\n",
      "Searching\n",
      "Searching\n",
      "Searching\n",
      "Searching\n",
      "Searching\n",
      "R has been found at 7 position\n",
      "Searching\n",
      "Searching\n",
      "Searching\n",
      "Searching\n"
     ]
    }
   ],
   "source": [
    "# Using while looop \n",
    "name =\"ChenchuReddy\"\n",
    "tar = 'R'\n",
    "idx=0\n",
    "\n",
    "while idx < len(name):\n",
    "    if name[idx] == tar :\n",
    "        print(f\"{tar} has been found at {idx} position\")\n",
    "    else:\n",
    "        print(\"Searching\")\n",
    "    idx += 1\n",
    "        "
   ]
  },
  {
   "cell_type": "code",
   "execution_count": 56,
   "id": "601b7ad6-6abd-4bcf-8c1e-ef2f358ff3dd",
   "metadata": {},
   "outputs": [
    {
     "name": "stdin",
     "output_type": "stream",
     "text": [
      "Enter the name0 : as\n",
      "Enter the name1 : saf\n",
      "Enter the name2 : fs\n",
      "Enter the name3 : gd\n",
      "Enter the name4 : gd\n"
     ]
    },
    {
     "name": "stdout",
     "output_type": "stream",
     "text": [
      "['as', 'saf', 'fs', 'gd', 'gd']\n"
     ]
    }
   ],
   "source": [
    "names = []\n",
    "\n",
    "for i in range(5):\n",
    "    name = input(f\"Enter the name{i} :\")\n",
    "    names.append(name)\n",
    "print(names)"
   ]
  },
  {
   "cell_type": "markdown",
   "id": "77d28e0f-7110-4b1b-857e-bf8b26e2307b",
   "metadata": {},
   "source": [
    "## FILE HANDLING\n",
    "\n",
    "\"\"\" 'r' - Read mode (default)\n",
    "\n",
    "    'w' - Write mode, creates a new file or truncates the existing file\n",
    "    \n",
    "    'a' - Append mode, for adding new content to the end of the file\n",
    "    \n",
    "    'b' - Binary mode for binary files (used with other modes, e.g., 'rb', 'wb')\n",
    "    \n",
    "    '+' - Update mode, for reading and writing to the same file (e.g., 'r+', 'w+')\"\"\""
   ]
  },
  {
   "cell_type": "code",
   "execution_count": 17,
   "id": "1c0a0485-ced5-433d-aabe-b3db7d9a1a3e",
   "metadata": {},
   "outputs": [
    {
     "name": "stdout",
     "output_type": "stream",
     "text": [
      "[0, 1, 2, 3]\n"
     ]
    }
   ],
   "source": [
    "my_dict = {'a':[0, 1, 2, 3], 'b':[0, 1, 2, 3], 'c':[0, 1, 2, 3], 'd':[0, 1, 2, 3]}\n",
    "i = 0\n",
    "output = []\n",
    "for key in my_dict:\n",
    "    output.append(my_dict[key][i])\n",
    "    i += 1\n",
    "print(output)"
   ]
  },
  {
   "cell_type": "code",
   "execution_count": null,
   "id": "57b1bfa1-006a-4a00-848a-db0edea9639a",
   "metadata": {},
   "outputs": [],
   "source": []
  }
 ],
 "metadata": {
  "kernelspec": {
   "display_name": "Python 3 (ipykernel)",
   "language": "python",
   "name": "python3"
  },
  "language_info": {
   "codemirror_mode": {
    "name": "ipython",
    "version": 3
   },
   "file_extension": ".py",
   "mimetype": "text/x-python",
   "name": "python",
   "nbconvert_exporter": "python",
   "pygments_lexer": "ipython3",
   "version": "3.8.18"
  }
 },
 "nbformat": 4,
 "nbformat_minor": 5
}
