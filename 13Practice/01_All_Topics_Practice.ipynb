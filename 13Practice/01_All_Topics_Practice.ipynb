{
 "cells": [
  {
   "cell_type": "markdown",
   "id": "6c04ffc0-f8b7-4b72-8a03-d78869e4c9e6",
   "metadata": {},
   "source": [
    "## Conditional Statements"
   ]
  },
  {
   "cell_type": "code",
   "execution_count": 2,
   "id": "24f38583-6093-4981-9056-16809b82d8a0",
   "metadata": {},
   "outputs": [
    {
     "name": "stdin",
     "output_type": "stream",
     "text": [
      "Please enter your age : 15\n"
     ]
    },
    {
     "name": "stdout",
     "output_type": "stream",
     "text": [
      "Your age is : 15\n",
      "You are not an adult now\n"
     ]
    }
   ],
   "source": [
    "age = int(input(\"Please enter your age :\"))\n",
    "\n",
    "print(f\"Your age is : {age}\")\n",
    "\n",
    "if age >= 18 : \n",
    "    print(\"You are eligibile for all government benifits\")\n",
    "else :\n",
    "    print(\"You are not an adult now\")"
   ]
  },
  {
   "cell_type": "code",
   "execution_count": 9,
   "id": "f0c0cd46-25d3-47fe-909e-083e3e7ff789",
   "metadata": {},
   "outputs": [
    {
     "name": "stdin",
     "output_type": "stream",
     "text": [
      "Please enter your age : 24\n"
     ]
    },
    {
     "name": "stdout",
     "output_type": "stream",
     "text": [
      "you are an adult\n"
     ]
    }
   ],
   "source": [
    "#If you want to use 3 conditions to be checked then we should use elif also in the condition box \n",
    "\n",
    "age = int(input(\"Please enter your age :\"))\n",
    "\n",
    "if age >= 18 and age < 30 : \n",
    "    print(\"you are an adult\")\n",
    "elif age >= 14 and age < 18 :\n",
    "    print(\"You are a child now\")\n",
    "elif age >= 30 and age < 45 :\n",
    "    print(\"You are a man now\")\n",
    "    \n",
    "else:\n",
    "    print(\"You are a kid now\")"
   ]
  },
  {
   "cell_type": "code",
   "execution_count": 10,
   "id": "c114373e-6298-4580-9c7b-4989b00e844d",
   "metadata": {},
   "outputs": [
    {
     "name": "stdin",
     "output_type": "stream",
     "text": [
      "Enter the value of a :  10\n",
      "Enter the value of b :  30\n",
      "Enter the value of c :  24\n"
     ]
    },
    {
     "name": "stdout",
     "output_type": "stream",
     "text": [
      "B is the bigger number\n"
     ]
    }
   ],
   "source": [
    "# take 3 values and compare the values of each with the other values and find the bigger values of out of 3\n",
    "\n",
    "a = int(input(\"Enter the value of a : \"))\n",
    "b = int(input(\"Enter the value of b : \"))\n",
    "c = int(input(\"Enter the value of c : \"))\n",
    "\n",
    "if a == b and a == c :\n",
    "    print(\"All are equal\")\n",
    "elif a >= b and a > c :\n",
    "    print(\"A is the bigger number\")\n",
    "elif b >= a and b > c :\n",
    "    print(\"B is the bigger number\")\n",
    "else :\n",
    "    print(\"C is bigger number\")"
   ]
  },
  {
   "cell_type": "code",
   "execution_count": 11,
   "id": "a6e06148-f1bf-4082-ad41-3e384c51427c",
   "metadata": {},
   "outputs": [
    {
     "name": "stdin",
     "output_type": "stream",
     "text": [
      "Please enter your marks :  80\n"
     ]
    },
    {
     "name": "stdout",
     "output_type": "stream",
     "text": [
      "B Grade\n"
     ]
    }
   ],
   "source": [
    "# Grading \n",
    "\n",
    "marks = int(input(\"Please enter your marks : \"))\n",
    "\n",
    "if marks >= 90 :\n",
    "    print (\"Congrats, you got A grade.\")\n",
    "elif marks >= 80:\n",
    "    print(\"B Grade\")\n",
    "elif marks >= 70 :\n",
    "    print(\"C Grade\")\n",
    "elif marks >= 60 :\n",
    "    print (\"D grade\")\n",
    "else :\n",
    "    print(\"Fail\")"
   ]
  },
  {
   "cell_type": "markdown",
   "id": "3f5d2f79-a740-4fab-91bd-6cad8557a386",
   "metadata": {},
   "source": [
    "## Functions"
   ]
  },
  {
   "cell_type": "code",
   "execution_count": 13,
   "id": "b5b07308-a47e-4b6b-930a-92bea416609b",
   "metadata": {},
   "outputs": [
    {
     "name": "stdout",
     "output_type": "stream",
     "text": [
      "Even number\n"
     ]
    }
   ],
   "source": [
    "a = 20 \n",
    "\n",
    "if a%2 == 0 :\n",
    "    print(\"Even number\")\n",
    "else : \n",
    "    print(\"Odd number\")\n"
   ]
  },
  {
   "cell_type": "code",
   "execution_count": 15,
   "id": "fec455de-cb7c-4585-9d19-6d40910fa496",
   "metadata": {},
   "outputs": [
    {
     "name": "stdout",
     "output_type": "stream",
     "text": [
      "Welcome to USA Mr. No Name\n",
      "Welcome to USA Chenchu\n"
     ]
    }
   ],
   "source": [
    "# Greeting \n",
    "# We can initialize the parameter values during the function creation if required\n",
    "\n",
    "def wish(name = \"Mr. No Name\"):\n",
    "    print(f\"Welcome to USA {name}\")\n",
    "\n",
    "wish()\n",
    "wish(\"Chenchu\")\n",
    "    "
   ]
  },
  {
   "cell_type": "code",
   "execution_count": 24,
   "id": "7df92c4e-de1c-422a-8c72-db41e938d239",
   "metadata": {},
   "outputs": [
    {
     "name": "stdout",
     "output_type": "stream",
     "text": [
      "10 * 0 = 0\n",
      "10 * 1 = 10\n",
      "10 * 2 = 20\n",
      "10 * 3 = 30\n",
      "10 * 4 = 40\n",
      "10 * 5 = 50\n",
      "10 * 6 = 60\n",
      "10 * 7 = 70\n",
      "10 * 8 = 80\n",
      "10 * 9 = 90\n",
      "10 * 10 = 100\n"
     ]
    }
   ],
   "source": [
    "# Create Table \n",
    "\n",
    "def create_table(num):\n",
    "    i = 1\n",
    "    for i in range(11):\n",
    "        print(f\"{num} * {i} = {num * i}\")\n",
    "        i += 1\n",
    "        \n",
    "create_table(10)\n",
    "    \n",
    "    \n",
    "    "
   ]
  },
  {
   "cell_type": "code",
   "execution_count": 25,
   "id": "85584524-3518-4b67-b794-b802d5898a4e",
   "metadata": {},
   "outputs": [
    {
     "name": "stdout",
     "output_type": "stream",
     "text": [
      "110\n"
     ]
    }
   ],
   "source": [
    "numbers = (10, 20, 30, 50)\n",
    "summation = sum(numbers)\n",
    "print(summation)"
   ]
  },
  {
   "cell_type": "code",
   "execution_count": 26,
   "id": "d406f33c-fd03-4e59-bcea-32a3c3a7bb05",
   "metadata": {},
   "outputs": [
    {
     "name": "stdout",
     "output_type": "stream",
     "text": [
      "28\n",
      "0\n"
     ]
    }
   ],
   "source": [
    "def calc_sum(*args):\n",
    "    print(sum(args))\n",
    "\n",
    "calc_sum(1, 2, 4, 5, 6, 10)\n",
    "calc_sum(-10, 10, -20, 20)"
   ]
  },
  {
   "cell_type": "code",
   "execution_count": 28,
   "id": "9833b645-44ea-4983-8b70-ec8eb0f30025",
   "metadata": {},
   "outputs": [
    {
     "name": "stdout",
     "output_type": "stream",
     "text": [
      "<class 'tuple'>\n",
      "(10, 50, 20, 30)\n"
     ]
    },
    {
     "data": {
      "text/plain": [
       "110"
      ]
     },
     "execution_count": 28,
     "metadata": {},
     "output_type": "execute_result"
    }
   ],
   "source": [
    "def summing(*args):\n",
    "    total = 0\n",
    "    print(type(args))\n",
    "    print(args)\n",
    "    for i in args:\n",
    "        total += i\n",
    "    return total\n",
    "\n",
    "summing(10, 50, 20, 30)\n",
    "        "
   ]
  },
  {
   "cell_type": "code",
   "execution_count": 37,
   "id": "2c227d75-4e30-4fe7-bcae-734b65da5c4f",
   "metadata": {},
   "outputs": [
    {
     "name": "stdout",
     "output_type": "stream",
     "text": [
      "40\n",
      "50\n",
      "30\n"
     ]
    }
   ],
   "source": [
    "def cal_summ(a = 10, b = 20):\n",
    "    return a + b\n",
    "\n",
    "print(cal_summ(20, 20))\n",
    "print(cal_summ(20, 30))\n",
    "print(cal_summ())"
   ]
  },
  {
   "cell_type": "code",
   "execution_count": 38,
   "id": "878e54ac-a666-4701-ab38-d26b187c79cb",
   "metadata": {},
   "outputs": [
    {
     "name": "stdout",
     "output_type": "stream",
     "text": [
      "25.5\n"
     ]
    }
   ],
   "source": [
    "# Find average \n",
    "\n",
    "def average(*args):\n",
    "    sum = 0\n",
    "    for i in args:\n",
    "        sum += i\n",
    "    return sum/len(args)\n",
    "print(average(10, 20, 30, 50, 18, 25))"
   ]
  },
  {
   "cell_type": "code",
   "execution_count": 39,
   "id": "0d6bfbbc-db9c-4e6e-a2f2-fd8f1678f2dd",
   "metadata": {},
   "outputs": [
    {
     "data": {
      "text/plain": [
       "20.0"
      ]
     },
     "execution_count": 39,
     "metadata": {},
     "output_type": "execute_result"
    }
   ],
   "source": [
    "# Average in another way \n",
    "\n",
    "def avg(*args):\n",
    "    return sum(args)/len(args)\n",
    "\n",
    "avg(10, 20, 30)"
   ]
  },
  {
   "cell_type": "code",
   "execution_count": 46,
   "id": "53fab99e-52d5-4488-80c8-ced1b3cf21c5",
   "metadata": {},
   "outputs": [
    {
     "data": {
      "text/plain": [
       "(164, 27.333333333333332, 131040000)"
      ]
     },
     "execution_count": 46,
     "metadata": {},
     "output_type": "execute_result"
    }
   ],
   "source": [
    "# Nested Functions \n",
    "\n",
    "def calculator(*args):\n",
    "    def calc_sum(*args):\n",
    "        return sum(args)\n",
    "    def calc_avg(*args):\n",
    "        return sum(args)/len(args)\n",
    "    def calc_prod(*args):\n",
    "        prod = 1\n",
    "        for i in args:\n",
    "            prod *=i\n",
    "        return prod\n",
    "    return calc_sum(*args), calc_avg(*args), calc_prod(*args)\n",
    "\n",
    "calculator(10, 20, 40, 60, 21, 13)"
   ]
  },
  {
   "cell_type": "code",
   "execution_count": 53,
   "id": "9f33d7d9-2962-4803-ab79-4f0254b81ebe",
   "metadata": {},
   "outputs": [
    {
     "name": "stdout",
     "output_type": "stream",
     "text": [
      "(1, 2, 4, 3, 6, 19, 10, 100)\n",
      "{'name': 'Chenchu', 'c': 10, 'city': 'New York', 'b': 100, 'Role': 'Scientist'}\n",
      "<class 'tuple'>\n",
      "<class 'dict'>\n"
     ]
    }
   ],
   "source": [
    "## *args, **kwargs\n",
    "\n",
    "def function_with_both(*args, **kwargs):\n",
    "    print(args)\n",
    "    print(kwargs)\n",
    "    print(type(args))\n",
    "    print(type(kwargs))\n",
    "\n",
    "function_with_both(1, 2, 4, 3, 6, 19,10, 100, name = \"Chenchu\", c = 10, city = \"New York\", b = 100 , Role = \"Scientist\")"
   ]
  },
  {
   "cell_type": "code",
   "execution_count": 56,
   "id": "8f2832b0-be41-4c6d-870e-7785e39774d7",
   "metadata": {},
   "outputs": [
    {
     "name": "stdout",
     "output_type": "stream",
     "text": [
      "1\n",
      "2\n",
      "4\n",
      "3\n",
      "6\n",
      "19\n",
      "10\n",
      "100\n",
      "name : Chenchu\n",
      "c : 10\n",
      "city : New York\n",
      "b : 100\n",
      "Role : Scientist\n"
     ]
    }
   ],
   "source": [
    "\n",
    "def both_function(*args, **kwargs):\n",
    "    for arg in args:\n",
    "        print(arg)\n",
    "    for kwarg in kwargs:\n",
    "        print(kwarg, \":\", kwargs[kwarg])\n",
    "\n",
    "both_function(1, 2, 4, 3, 6, 19,10, 100, name = \"Chenchu\", c = 10, city = \"New York\", b = 100 , Role = \"Scientist\")"
   ]
  },
  {
   "cell_type": "code",
   "execution_count": 60,
   "id": "95fd418f-a1c0-4515-b46a-9607a4529a49",
   "metadata": {},
   "outputs": [
    {
     "name": "stdout",
     "output_type": "stream",
     "text": [
      "7\n",
      "7\n",
      "3\n",
      "11\n"
     ]
    }
   ],
   "source": [
    "# Lambda functions \n",
    "\n",
    "add = lambda x, y=1, z = 1: x+y+z\n",
    "\n",
    "print(add(2,2,3))\n",
    "print(add(5))\n",
    "print(add(1))\n",
    "print(add(5,5))"
   ]
  },
  {
   "cell_type": "code",
   "execution_count": 62,
   "id": "7c5d56b2-b94c-4d1e-a8c1-1039f86617b9",
   "metadata": {},
   "outputs": [
    {
     "name": "stdout",
     "output_type": "stream",
     "text": [
      "[2, 4, 6, 8, 10, 12, 14, 16, 18, 20]\n"
     ]
    }
   ],
   "source": [
    "# Filtering the lists \n",
    "numbers =[1, 2, 3, 4, 5, 6, 7, 8, 9, 10, 11, 12, 13, 14, 15, 16, 17, 18, 19, 20]\n",
    "\n",
    "even_numbers = list(filter(lambda x: x%2 ==0, numbers))\n",
    "\n",
    "print(even_numbers)"
   ]
  },
  {
   "cell_type": "code",
   "execution_count": 4,
   "id": "b2544adf-2261-4771-abec-cf38e11042b8",
   "metadata": {},
   "outputs": [
    {
     "name": "stdout",
     "output_type": "stream",
     "text": [
      "Something is happening before the function is called\n",
      "Hello world\n",
      "Something is happening after function is called\n"
     ]
    }
   ],
   "source": [
    "# Decorator \n",
    "def my_decorator(func):\n",
    "    def wrapper():\n",
    "        print(\"Something is happening before the function is called\")\n",
    "        func()\n",
    "        print(\"Something is happening after function is called\")\n",
    "    return wrapper\n",
    "\n",
    "\n",
    "def say_hello():\n",
    "    print(\"Hello world\")\n",
    "    \n",
    "decorated_hello = my_decorator(say_hello)\n",
    "decorated_hello()\n",
    "\n",
    "\n"
   ]
  },
  {
   "cell_type": "code",
   "execution_count": 5,
   "id": "ea2c9f97-37fa-4b41-901d-0b86745568ec",
   "metadata": {},
   "outputs": [
    {
     "name": "stdout",
     "output_type": "stream",
     "text": [
      "Something is happening before the function is called\n",
      "Good Bye\n",
      "Something is happening after function is called\n"
     ]
    }
   ],
   "source": [
    "@my_decorator\n",
    "def say_goodbye():\n",
    "    print(\"Good Bye\")\n",
    "\n",
    "say_goodbye()"
   ]
  },
  {
   "cell_type": "code",
   "execution_count": 11,
   "id": "efd890da-d292-4eb9-9fad-ccfa6b868748",
   "metadata": {},
   "outputs": [
    {
     "name": "stdout",
     "output_type": "stream",
     "text": [
      "10\n",
      "9\n",
      "8\n",
      "7\n",
      "6\n",
      "5\n",
      "4\n",
      "3\n",
      "2\n",
      "1\n",
      "END OF THE FUNCTION CALL\n"
     ]
    }
   ],
   "source": [
    "## Recursion\n",
    "# Recursion is : a function is calling itself until basecase reached \n",
    "\n",
    "def show(n):\n",
    "    if n == 0 :\n",
    "        print(\"END OF THE FUNCTION CALL\")\n",
    "        return\n",
    "    print(n)\n",
    "    show(n-1)\n",
    "    \n",
    "    \n",
    "show(10)"
   ]
  },
  {
   "cell_type": "code",
   "execution_count": 19,
   "id": "b9e08977-6742-4772-be9d-a7205a787f4b",
   "metadata": {},
   "outputs": [
    {
     "data": {
      "text/plain": [
       "120"
      ]
     },
     "execution_count": 19,
     "metadata": {},
     "output_type": "execute_result"
    }
   ],
   "source": [
    "# Factorial \n",
    "\n",
    "def facto(n):\n",
    "    if (n == 0 or n==1):\n",
    "        return 1\n",
    "    else:\n",
    "        return n * facto(n-1)\n",
    "       \n",
    "facto(5)\n",
    "    \n",
    "        "
   ]
  },
  {
   "cell_type": "code",
   "execution_count": 20,
   "id": "9e9c8402-154f-43b5-a043-73eaf270ffc0",
   "metadata": {},
   "outputs": [
    {
     "data": {
      "text/plain": [
       "55"
      ]
     },
     "execution_count": 20,
     "metadata": {},
     "output_type": "execute_result"
    }
   ],
   "source": [
    "# Write program to calculate and print the first n natural numbers sum using recursion.\n",
    "\n",
    "def summation(n):\n",
    "    if n == 0 :\n",
    "        return 0\n",
    "    else:\n",
    "        return n + summation(n-1)\n",
    "summation(10)"
   ]
  },
  {
   "cell_type": "code",
   "execution_count": null,
   "id": "b6093aa8-4896-4f8e-ac25-0575130bd954",
   "metadata": {},
   "outputs": [],
   "source": []
  }
 ],
 "metadata": {
  "kernelspec": {
   "display_name": "Python 3 (ipykernel)",
   "language": "python",
   "name": "python3"
  },
  "language_info": {
   "codemirror_mode": {
    "name": "ipython",
    "version": 3
   },
   "file_extension": ".py",
   "mimetype": "text/x-python",
   "name": "python",
   "nbconvert_exporter": "python",
   "pygments_lexer": "ipython3",
   "version": "3.11.8"
  }
 },
 "nbformat": 4,
 "nbformat_minor": 5
}
