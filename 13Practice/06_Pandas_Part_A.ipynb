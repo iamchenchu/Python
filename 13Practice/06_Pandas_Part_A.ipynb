{
 "cells": [
  {
   "cell_type": "markdown",
   "id": "f71f3f00-f6cd-4872-a21e-720678fbf3f1",
   "metadata": {},
   "source": [
    "## Pandas\n",
    "\n",
    "Pandas is a package for data manipulation and analysis in Python. The name Pandas is derived from the econometrics term Panel Data. Pandas incorporates two additional data structures into Python, namely __Pandas Series__ and __Pandas DataFrame__. These data structures allow us to work with labeled and relational data in an easy and intuitive manner. These lessons are intended as a basic overview of Pandas and introduces some of its most important features.\n",
    "\n",
    "In the following lessons you will learn:\n",
    "\n",
    "* How to import Pandas\n",
    "* How to create Pandas Series and DataFrames using various methods\n",
    "* How to access and change elements in Series and DataFrames\n",
    "* How to perform arithmetic operations on Series\n",
    "* How to load data into a DataFrame\n",
    "* How to deal with Not a Number (NaN) values\n",
    "  \n",
    "The following lessons assume that you are already familiar with NumPy and have gone over the previous NumPy lessons. Therefore, to avoid being repetitive we will omit a lot of details already given in the NumPy lessons. Consequently, if you haven't seen the NumPy lessons we suggest you go over them first."
   ]
  },
  {
   "cell_type": "code",
   "execution_count": 2,
   "id": "0a9e12a6-a5ee-4be1-b75b-9daa2820a506",
   "metadata": {},
   "outputs": [
    {
     "name": "stdout",
     "output_type": "stream",
     "text": [
      "# packages in environment at /Users/mekalathuruchenchaiah/Desktop/PROGRAMMING/Projects/GPU-pytorch/env:\n",
      "#\n",
      "# Name                    Version                   Build  Channel\n",
      "pandas                    2.0.3            py38h46d7db6_0  \n"
     ]
    }
   ],
   "source": [
    "!conda list pandas"
   ]
  },
  {
   "cell_type": "markdown",
   "id": "20b6765d-75c8-403f-b8e0-1e4291518876",
   "metadata": {},
   "source": [
    "### Why pandas is so important \n",
    "\n",
    "This package is built on top of Numpy, which makes it very fast and efficient\n",
    "\n",
    "* Allows the use of labels for rows and columns\n",
    "* Can calculate rolling statistics on time series data\n",
    "* Easy handling of NaN values\n",
    "* Is able to load data of different formats into DataFrames\n",
    "* Can join and merge different datasets together\n",
    "* It integrates with NumPy and Matplotlib"
   ]
  },
  {
   "cell_type": "markdown",
   "id": "77d5217e-ee40-4ce6-a545-8cfd349a99bb",
   "metadata": {},
   "source": [
    "#### A Pandas series is a one-dimensional array-like object that can hold many data types, such as numbers or strings, and has an option to provide axis labels.\n",
    "\n",
    "__Difference between NumPy ndarrays and Pandas Series__\n",
    "\n",
    "* One of the main differences between Pandas Series and NumPy ndarrays is that you can assign an index label to each element in the Pandas Series. In other words, you can name the indices of your Pandas Series anything you want.\n",
    "* Another big difference between Pandas Series and NumPy ndarrays is that Pandas Series can hold data of different data types\n",
    "\n",
    "Let's begin by creating a Pandas Series. You can create Pandas Series by using the command `pd.Series(data, index)`, where index is a list of `index` labels. Let's use a Pandas Series to store a grocery list. We will use the food items as index labels and the quantity we need to buy of each item as our data.\n",
    "\n"
   ]
  },
  {
   "cell_type": "code",
   "execution_count": 5,
   "id": "1eee62fc-5f2d-4689-87e3-6c88acac5bfb",
   "metadata": {},
   "outputs": [
    {
     "name": "stdout",
     "output_type": "stream",
     "text": [
      "eggs       30\n",
      "apples      4\n",
      "milk      YES\n",
      "bread      NO\n",
      "dtype: object\n"
     ]
    }
   ],
   "source": [
    "import pandas as pd \n",
    "\n",
    "groceries = pd.Series(data=[30, 4, 'YES', 'NO'], index = ['eggs', 'apples', 'milk', 'bread'])\n",
    "\n",
    "print(groceries) # Here in this series we have named each index with a label, this is the benefit of the pandas series over numpy array"
   ]
  },
  {
   "cell_type": "code",
   "execution_count": 6,
   "id": "b61fadac-6731-4924-a282-efb6ee1a14dd",
   "metadata": {},
   "outputs": [
    {
     "name": "stdout",
     "output_type": "stream",
     "text": [
      "Groceries has a shape :  (4,)\n",
      "Groceries has a dimension  :  1\n",
      "Groceries has total of 4 elements\n"
     ]
    }
   ],
   "source": [
    "# Example 2 - Print attributes - shape, ndim,and size\n",
    "\n",
    "print(\"Groceries has a shape : \", groceries.shape)\n",
    "print(\"Groceries has a dimension  : \", groceries.ndim)\n",
    "print(\"Groceries has total of\", groceries.size, 'elements')"
   ]
  },
  {
   "cell_type": "code",
   "execution_count": 7,
   "id": "37bd76f6-d5a3-4c48-8dd1-728f9e8432c0",
   "metadata": {},
   "outputs": [
    {
     "name": "stdout",
     "output_type": "stream",
     "text": [
      "The data in groceries is :  [30 4 'YES' 'NO']\n",
      "The index of groceries is :  Index(['eggs', 'apples', 'milk', 'bread'], dtype='object')\n"
     ]
    }
   ],
   "source": [
    "# Example 3 - Print attributes - values, and index\n",
    "\n",
    "print(\"The data in groceries is : \", groceries.values)\n",
    "print(\"The index of groceries is : \", groceries.index )"
   ]
  },
  {
   "cell_type": "code",
   "execution_count": 8,
   "id": "76d004c8-1e1b-4adc-9231-4af86da97355",
   "metadata": {},
   "outputs": [
    {
     "name": "stdout",
     "output_type": "stream",
     "text": [
      "Is banana in the groceries False\n",
      "Is bread is in the groceries True\n"
     ]
    }
   ],
   "source": [
    "# Example 4 - Check if an index is available in the given Series\n",
    "\n",
    "x = 'bananas' in groceries\n",
    "y = 'bread' in groceries\n",
    "\n",
    "print(f\"Is banana in the groceries {x}\")\n",
    "print(f\"Is bread is in the groceries {y}\")"
   ]
  },
  {
   "cell_type": "code",
   "execution_count": 9,
   "id": "6a190836-2ec4-445d-bd6a-d00fa4eb7efe",
   "metadata": {},
   "outputs": [
    {
     "name": "stdout",
     "output_type": "stream",
     "text": [
      "eggs       30\n",
      "apples      4\n",
      "milk      YES\n",
      "bread      NO\n",
      "dtype: object\n"
     ]
    }
   ],
   "source": [
    "print(groceries)"
   ]
  },
  {
   "cell_type": "code",
   "execution_count": 11,
   "id": "37264c17-f83d-489c-ae1c-ad52483aff2d",
   "metadata": {},
   "outputs": [
    {
     "name": "stdout",
     "output_type": "stream",
     "text": [
      "30\n"
     ]
    }
   ],
   "source": [
    "#In pandas series, it will let us access the data in multiple ways \n",
    "\n",
    "print(groceries['eggs']) # with index names we can access\n"
   ]
  },
  {
   "cell_type": "code",
   "execution_count": 12,
   "id": "3f54d7b5-faf7-47c3-8daf-827b13432415",
   "metadata": {},
   "outputs": [
    {
     "data": {
      "text/plain": [
       "milk     YES\n",
       "bread     NO\n",
       "dtype: object"
      ]
     },
     "execution_count": 12,
     "metadata": {},
     "output_type": "execute_result"
    }
   ],
   "source": [
    "groceries[['milk', 'bread']] # at a time accessing the multiple values "
   ]
  },
  {
   "cell_type": "code",
   "execution_count": 13,
   "id": "c016849c-6831-4d38-a9e4-514e98ea8943",
   "metadata": {},
   "outputs": [
    {
     "data": {
      "text/plain": [
       "30"
      ]
     },
     "execution_count": 13,
     "metadata": {},
     "output_type": "execute_result"
    }
   ],
   "source": [
    "groceries[0] # also can access the data using the indexs numbers "
   ]
  },
  {
   "cell_type": "code",
   "execution_count": 14,
   "id": "9597ca5c-6cc8-40a4-86a4-ae4d1dfbaeed",
   "metadata": {},
   "outputs": [
    {
     "data": {
      "text/plain": [
       "'NO'"
      ]
     },
     "execution_count": 14,
     "metadata": {},
     "output_type": "execute_result"
    }
   ],
   "source": [
    "groceries[-1] # access the last element \n"
   ]
  },
  {
   "cell_type": "code",
   "execution_count": 15,
   "id": "defce4a3-aabe-40b4-807d-8af018be1376",
   "metadata": {},
   "outputs": [
    {
     "data": {
      "text/plain": [
       "eggs      30\n",
       "apples     4\n",
       "dtype: object"
      ]
     },
     "execution_count": 15,
     "metadata": {},
     "output_type": "execute_result"
    }
   ],
   "source": [
    "groceries[[0, 1]]"
   ]
  },
  {
   "cell_type": "code",
   "execution_count": 16,
   "id": "f9d248c2-dc4d-4dbe-bd4c-b8ffb12d03be",
   "metadata": {},
   "outputs": [
    {
     "data": {
      "text/plain": [
       "eggs      30\n",
       "apples     4\n",
       "dtype: object"
      ]
     },
     "execution_count": 16,
     "metadata": {},
     "output_type": "execute_result"
    }
   ],
   "source": [
    "groceries.loc[['eggs', 'apples']] # loc means locations\n"
   ]
  },
  {
   "cell_type": "code",
   "execution_count": 17,
   "id": "b723d62c-32fe-42ed-b2c5-d3fee90d7a2f",
   "metadata": {},
   "outputs": [
    {
     "data": {
      "text/plain": [
       "milk     YES\n",
       "bread     NO\n",
       "dtype: object"
      ]
     },
     "execution_count": 17,
     "metadata": {},
     "output_type": "execute_result"
    }
   ],
   "source": [
    "groceries.iloc[[2, 3]] # it access the integer location of the series "
   ]
  },
  {
   "cell_type": "code",
   "execution_count": 18,
   "id": "566de571-bff1-48da-9e3a-2a65ab2fd68f",
   "metadata": {},
   "outputs": [
    {
     "name": "stdout",
     "output_type": "stream",
     "text": [
      "eggs       30\n",
      "apples      4\n",
      "milk      YES\n",
      "bread      NO\n",
      "dtype: object\n"
     ]
    }
   ],
   "source": [
    "print(groceries)"
   ]
  },
  {
   "cell_type": "code",
   "execution_count": 22,
   "id": "ad45b3a9-0cb4-4e66-b117-dd601d6cd947",
   "metadata": {},
   "outputs": [
    {
     "data": {
      "text/plain": [
       "eggs        2\n",
       "apples      4\n",
       "milk      YES\n",
       "bread      NO\n",
       "dtype: object"
      ]
     },
     "execution_count": 22,
     "metadata": {},
     "output_type": "execute_result"
    }
   ],
   "source": [
    "# now try to reassign some value \n",
    "groceries['eggs'] = 2\n",
    "groceries  # now here the data is modified from 30 to 2"
   ]
  },
  {
   "cell_type": "code",
   "execution_count": 24,
   "id": "b4b652a5-6e9a-4755-b0e4-2822a7d23907",
   "metadata": {},
   "outputs": [
    {
     "data": {
      "text/plain": [
       "eggs       2\n",
       "milk     YES\n",
       "bread     NO\n",
       "dtype: object"
      ]
     },
     "execution_count": 24,
     "metadata": {},
     "output_type": "execute_result"
    }
   ],
   "source": [
    "groceries.drop('apples') # now the apple is deleted from the series "
   ]
  },
  {
   "cell_type": "code",
   "execution_count": 25,
   "id": "062d99fd-a805-4b88-858b-2cca6194d94f",
   "metadata": {},
   "outputs": [
    {
     "data": {
      "text/plain": [
       "eggs        2\n",
       "apples      4\n",
       "milk      YES\n",
       "bread      NO\n",
       "dtype: object"
      ]
     },
     "execution_count": 25,
     "metadata": {},
     "output_type": "execute_result"
    }
   ],
   "source": [
    "# now let's check again , apple still exist because it is not doing changes in the main series data \n",
    "# to change, to delete the data from the original series we have to use parameter inplace=True \n",
    "groceries"
   ]
  },
  {
   "cell_type": "code",
   "execution_count": 26,
   "id": "881f0c5a-ab2d-4267-bd3b-0eaa975ebf95",
   "metadata": {},
   "outputs": [],
   "source": [
    "groceries.drop('apples', inplace=True)\n",
    "\n",
    "\n"
   ]
  },
  {
   "cell_type": "code",
   "execution_count": 28,
   "id": "2d065d65-b91f-42e2-9e55-dca3bba148e7",
   "metadata": {},
   "outputs": [
    {
     "data": {
      "text/plain": [
       "eggs       2\n",
       "milk     YES\n",
       "bread     NO\n",
       "dtype: object"
      ]
     },
     "execution_count": 28,
     "metadata": {},
     "output_type": "execute_result"
    }
   ],
   "source": [
    "groceries # the apple has been delete from the original series"
   ]
  },
  {
   "cell_type": "markdown",
   "id": "d95e71f4-c930-4c5e-acc9-532024d980e1",
   "metadata": {},
   "source": [
    "### Arithmetic Operations on pandas series \n",
    "\n",
    "We can also perform element wise arithmetic operation on series data just like we did on numpy arrays data elements"
   ]
  },
  {
   "cell_type": "code",
   "execution_count": 30,
   "id": "216812ae-5276-41ba-9d05-37341b79b526",
   "metadata": {},
   "outputs": [
    {
     "data": {
      "text/plain": [
       "apples     10\n",
       "oranges    15\n",
       "bananas    20\n",
       "dtype: int64"
      ]
     },
     "execution_count": 30,
     "metadata": {},
     "output_type": "execute_result"
    }
   ],
   "source": [
    "import pandas as pd \n",
    "\n",
    "fruits = pd.Series([10, 15, 20], ['apples', 'oranges', 'bananas'])\n",
    "\n",
    "fruits"
   ]
  },
  {
   "cell_type": "code",
   "execution_count": 32,
   "id": "ea911849-8a4d-4251-92ae-959a57af413c",
   "metadata": {},
   "outputs": [
    {
     "data": {
      "text/plain": [
       "apples     12\n",
       "oranges    17\n",
       "bananas    22\n",
       "dtype: int64"
      ]
     },
     "execution_count": 32,
     "metadata": {},
     "output_type": "execute_result"
    }
   ],
   "source": [
    "# Element-wise basic arithmetic operations\n",
    "fruits + 2\n"
   ]
  },
  {
   "cell_type": "code",
   "execution_count": 33,
   "id": "770362c6-cbd3-4d38-b6ca-02d7183aa227",
   "metadata": {},
   "outputs": [
    {
     "data": {
      "text/plain": [
       "apples      8\n",
       "oranges    13\n",
       "bananas    18\n",
       "dtype: int64"
      ]
     },
     "execution_count": 33,
     "metadata": {},
     "output_type": "execute_result"
    }
   ],
   "source": [
    "fruits - 2\n"
   ]
  },
  {
   "cell_type": "code",
   "execution_count": 34,
   "id": "6855600f-8d09-440f-9a82-efd8ac537826",
   "metadata": {},
   "outputs": [
    {
     "data": {
      "text/plain": [
       "apples     20\n",
       "oranges    30\n",
       "bananas    40\n",
       "dtype: int64"
      ]
     },
     "execution_count": 34,
     "metadata": {},
     "output_type": "execute_result"
    }
   ],
   "source": [
    "fruits * 2"
   ]
  },
  {
   "cell_type": "code",
   "execution_count": 35,
   "id": "79f217f1-fc22-4c02-9d38-8dbb243767f1",
   "metadata": {},
   "outputs": [
    {
     "data": {
      "text/plain": [
       "apples      5.0\n",
       "oranges     7.5\n",
       "bananas    10.0\n",
       "dtype: float64"
      ]
     },
     "execution_count": 35,
     "metadata": {},
     "output_type": "execute_result"
    }
   ],
   "source": [
    "fruits / 2"
   ]
  },
  {
   "cell_type": "code",
   "execution_count": 37,
   "id": "201265fc-53fd-45b7-a926-4c6fc07e74a4",
   "metadata": {},
   "outputs": [
    {
     "data": {
      "text/plain": [
       "apples     10\n",
       "oranges    15\n",
       "bananas    20\n",
       "dtype: int64"
      ]
     },
     "execution_count": 37,
     "metadata": {},
     "output_type": "execute_result"
    }
   ],
   "source": [
    "# Let's import numpy \n",
    "import numpy as np \n",
    "\n",
    "fruits\n"
   ]
  },
  {
   "cell_type": "code",
   "execution_count": 39,
   "id": "d2e00bbb-3519-4841-8771-0c2ac73d21e9",
   "metadata": {},
   "outputs": [
    {
     "data": {
      "text/plain": [
       "apples     3.162278\n",
       "oranges    3.872983\n",
       "bananas    4.472136\n",
       "dtype: float64"
      ]
     },
     "execution_count": 39,
     "metadata": {},
     "output_type": "execute_result"
    }
   ],
   "source": [
    "np.sqrt(fruits) # Square roots of the fruits"
   ]
  },
  {
   "cell_type": "code",
   "execution_count": 40,
   "id": "51f4e467-1516-4076-950b-adfa792dbf75",
   "metadata": {},
   "outputs": [
    {
     "data": {
      "text/plain": [
       "apples     2.202647e+04\n",
       "oranges    3.269017e+06\n",
       "bananas    4.851652e+08\n",
       "dtype: float64"
      ]
     },
     "execution_count": 40,
     "metadata": {},
     "output_type": "execute_result"
    }
   ],
   "source": [
    "np.exp(fruits)"
   ]
  },
  {
   "cell_type": "code",
   "execution_count": 41,
   "id": "02633d44-2e95-4cc4-bd5c-8f2247ef2d40",
   "metadata": {},
   "outputs": [
    {
     "data": {
      "text/plain": [
       "apples     100\n",
       "oranges    225\n",
       "bananas    400\n",
       "dtype: int64"
      ]
     },
     "execution_count": 41,
     "metadata": {},
     "output_type": "execute_result"
    }
   ],
   "source": [
    "np.power(fruits, 2)"
   ]
  },
  {
   "cell_type": "code",
   "execution_count": 42,
   "id": "88d8ff7e-a2e2-402f-b9b2-c488e859173a",
   "metadata": {},
   "outputs": [
    {
     "data": {
      "text/plain": [
       "apples     10\n",
       "oranges    15\n",
       "bananas    20\n",
       "dtype: int64"
      ]
     },
     "execution_count": 42,
     "metadata": {},
     "output_type": "execute_result"
    }
   ],
   "source": [
    "fruits"
   ]
  },
  {
   "cell_type": "code",
   "execution_count": 43,
   "id": "d874aad7-a1cf-4488-abf8-5dcf6cae408e",
   "metadata": {},
   "outputs": [
    {
     "data": {
      "text/plain": [
       "22"
      ]
     },
     "execution_count": 43,
     "metadata": {},
     "output_type": "execute_result"
    }
   ],
   "source": [
    "fruits['bananas'] + 2"
   ]
  },
  {
   "cell_type": "code",
   "execution_count": 44,
   "id": "dc9cee12-cfff-4650-88cd-2d80517b1edd",
   "metadata": {},
   "outputs": [
    {
     "data": {
      "text/plain": [
       "8"
      ]
     },
     "execution_count": 44,
     "metadata": {},
     "output_type": "execute_result"
    }
   ],
   "source": [
    "fruits[0] - 2 "
   ]
  },
  {
   "cell_type": "markdown",
   "id": "37888e02-e8e6-408a-b872-7ef4d3728784",
   "metadata": {},
   "source": [
    "fruits[['apples', 'oranges']] * 2"
   ]
  },
  {
   "cell_type": "code",
   "execution_count": 46,
   "id": "c0e2a2d6-3620-4309-bda7-7a173b82e54c",
   "metadata": {},
   "outputs": [
    {
     "data": {
      "text/plain": [
       "apples     5.0\n",
       "oranges    7.5\n",
       "dtype: float64"
      ]
     },
     "execution_count": 46,
     "metadata": {},
     "output_type": "execute_result"
    }
   ],
   "source": [
    "fruits.loc[['apples', 'oranges']]/2"
   ]
  },
  {
   "cell_type": "code",
   "execution_count": 49,
   "id": "b6a2ad80-0f39-474b-8018-80abe104804d",
   "metadata": {},
   "outputs": [
    {
     "data": {
      "text/plain": [
       "eggs       30\n",
       "apples     60\n",
       "milk      Yes\n",
       "bread      No\n",
       "dtype: object"
      ]
     },
     "execution_count": 49,
     "metadata": {},
     "output_type": "execute_result"
    }
   ],
   "source": [
    "# now let's check the groceries here again \n",
    "\n",
    "groceries  = pd.Series([30, 60, 'Yes', 'No'], ['eggs', 'apples', 'milk', 'bread'])\n",
    "groceries"
   ]
  },
  {
   "cell_type": "code",
   "execution_count": 51,
   "id": "756ce8d4-0516-4321-9031-d66368c28528",
   "metadata": {},
   "outputs": [
    {
     "data": {
      "text/plain": [
       "eggs          60\n",
       "apples       120\n",
       "milk      YesYes\n",
       "bread       NoNo\n",
       "dtype: object"
      ]
     },
     "execution_count": 51,
     "metadata": {},
     "output_type": "execute_result"
    }
   ],
   "source": [
    "groceries * 2 # Here the string is also gets multiplied so we have to be cereful "
   ]
  },
  {
   "cell_type": "code",
   "execution_count": 54,
   "id": "9ee5e3f9-84d2-4ac1-b3e6-f1387dc811c2",
   "metadata": {},
   "outputs": [],
   "source": [
    "### Manipulate a Series\n",
    "\n",
    "import pandas as pd\n",
    "\n",
    "# DO NOT CHANGE THE VARIABLE NAMES\n",
    "\n",
    "# Given a list representing a few planets\n",
    "planets = ['Earth', 'Saturn', 'Venus', 'Mars', 'Jupiter']\n",
    "\n",
    "# Given another list representing the distance of each of these planets from the Sun\n",
    "# The distance from the Sun is in units of 10^6 km\n",
    "distance_from_sun = [149.6, 1433.5, 108.2, 227.9, 778.6]"
   ]
  },
  {
   "cell_type": "code",
   "execution_count": 55,
   "id": "099e743f-7493-47ca-9d4b-c43b80e6c4f3",
   "metadata": {},
   "outputs": [
    {
     "data": {
      "text/plain": [
       "Earth       149.6\n",
       "Saturn     1433.5\n",
       "Venus       108.2\n",
       "Mars        227.9\n",
       "Jupiter     778.6\n",
       "dtype: float64"
      ]
     },
     "execution_count": 55,
     "metadata": {},
     "output_type": "execute_result"
    }
   ],
   "source": [
    "# TO DO: Create a Pandas Series \"dist_planets\" using the lists above, representing the distance of the planet from the Sun.\n",
    "# Use the `distance_from_sun` as your data, and `planets` as your index.\n",
    "dist_planets = pd.Series(distance_from_sun, planets)\n",
    "dist_planets"
   ]
  },
  {
   "cell_type": "code",
   "execution_count": 56,
   "id": "dcce3ab7-75f0-436b-a85b-1921e7b72461",
   "metadata": {},
   "outputs": [
    {
     "data": {
      "text/plain": [
       "Earth       8.311111\n",
       "Saturn     79.638889\n",
       "Venus       6.011111\n",
       "Mars       12.661111\n",
       "Jupiter    43.255556\n",
       "dtype: float64"
      ]
     },
     "execution_count": 56,
     "metadata": {},
     "output_type": "execute_result"
    }
   ],
   "source": [
    "# TO DO: Calculate the time (minutes) it takes light from the Sun to reach each planet. \n",
    "# You can do this by dividing each planet's distance from the Sun by the speed of light.\n",
    "# Use the speed of light, c = 18, since light travels 18 x 10^6 km/minute.\n",
    "time_light = dist_planets / 18\n",
    "time_light"
   ]
  },
  {
   "cell_type": "code",
   "execution_count": 58,
   "id": "f95d942c-4105-4d33-9fa9-ae42228fe3ed",
   "metadata": {},
   "outputs": [
    {
     "data": {
      "text/plain": [
       "Earth     8.311111\n",
       "Venus     6.011111\n",
       "Mars     12.661111\n",
       "dtype: float64"
      ]
     },
     "execution_count": 58,
     "metadata": {},
     "output_type": "execute_result"
    }
   ],
   "source": [
    "# TO DO: Use Boolean indexing to select only those planets for which sunlight takes less\n",
    "# than 40 minutes to reach them.\n",
    "close_planets = time_light[time_light < 40.0]\n",
    "close_planets"
   ]
  },
  {
   "cell_type": "code",
   "execution_count": 60,
   "id": "a66e902d-d219-45be-942f-9f01a0dfd2e9",
   "metadata": {},
   "outputs": [
    {
     "data": {
      "text/plain": [
       "Earth     8.311111\n",
       "Venus     6.011111\n",
       "Mars     12.661111\n",
       "dtype: float64"
      ]
     },
     "execution_count": 60,
     "metadata": {},
     "output_type": "execute_result"
    }
   ],
   "source": [
    "import pandas as pd\n",
    "\n",
    "distance_from_sun = [149.6, 1433.5, 108.2, 227.9, 778.6]\n",
    "\n",
    "planets = ['Earth','Saturn', 'Venus', 'Mars', 'Jupiter']\n",
    "\n",
    "dist_planets = pd.Series(data = distance_from_sun, index = planets)\n",
    "\n",
    "time_light = dist_planets / 18\n",
    "\n",
    "close_planets = time_light[time_light < 40]\n",
    "close_planets"
   ]
  },
  {
   "cell_type": "code",
   "execution_count": null,
   "id": "d96d6c53-a7d3-4654-9012-8bffa657c9b1",
   "metadata": {},
   "outputs": [],
   "source": []
  }
 ],
 "metadata": {
  "kernelspec": {
   "display_name": "Python 3 (ipykernel)",
   "language": "python",
   "name": "python3"
  },
  "language_info": {
   "codemirror_mode": {
    "name": "ipython",
    "version": 3
   },
   "file_extension": ".py",
   "mimetype": "text/x-python",
   "name": "python",
   "nbconvert_exporter": "python",
   "pygments_lexer": "ipython3",
   "version": "3.8.18"
  }
 },
 "nbformat": 4,
 "nbformat_minor": 5
}
