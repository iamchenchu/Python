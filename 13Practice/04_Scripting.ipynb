{
 "cells": [
  {
   "cell_type": "markdown",
   "id": "3128795c-0b9c-41a9-bc3d-f4bd38069319",
   "metadata": {},
   "source": [
    "## SCRIPTING \n",
    "\n",
    "we’ll learn about:\n",
    "\n",
    "* Python Installation and Environment Setup\n",
    "* Running and Editing Python Scripts\n",
    "* Interacting with User Input\n",
    "* Handling Exceptions\n",
    "* Reading and Writing Files\n",
    "* Importing Local, Standard, and Third-Party Modules\n",
    "* Experimenting with an Interpreter\n"
   ]
  },
  {
   "cell_type": "markdown",
   "id": "39e10e61-beb8-4777-8ad2-cc59923635b3",
   "metadata": {},
   "source": [
    "What Is a Python Script?\n",
    "A script is just Python code, so a Python script is a Python program.\n",
    "\n",
    "Often we save Python script in a file, which will have the suffix of .py to indicate it's a Python script.\n",
    "\n",
    "We'll walk you through how to execute .py files in the terminal on your computer in this lesson. You'll learn to use the command line interface (CLI) in your local environment to do this.\n",
    "\n",
    "To prepare for executing Python scripts on your computer, we'll first make sure on the next page that you have Python installed.\n",
    "\n"
   ]
  },
  {
   "cell_type": "code",
   "execution_count": 3,
   "id": "6c599781-d92c-4412-a617-90ab4c4b191d",
   "metadata": {},
   "outputs": [
    {
     "name": "stdout",
     "output_type": "stream",
     "text": [
      "\n",
      "Welcome to Python3!\n",
      "\n",
      "             ____\n",
      "            / . .\\\n",
      "            \\  ---<\n",
      "             \\  /\n",
      "   __________/ /\n",
      "-=:___________/\n",
      "\n",
      "<3, Juno\n",
      "\n"
     ]
    }
   ],
   "source": [
    "how_many_snakes = 1\n",
    "snake_string = \"\"\"\n",
    "Welcome to Python3!\n",
    "\n",
    "             ____\n",
    "            / . .\\\\\n",
    "            \\  ---<\n",
    "             \\  /\n",
    "   __________/ /\n",
    "-=:___________/\n",
    "\n",
    "<3, Juno\n",
    "\"\"\"\n",
    "\n",
    "\n",
    "print(snake_string * how_many_snakes)"
   ]
  },
  {
   "cell_type": "markdown",
   "id": "5b062381-0be4-4366-9d5d-efd5d38b1211",
   "metadata": {},
   "source": [
    "__Scripting with Raw Input__\n",
    "\n",
    "We can get raw input from the user with the built-in function input, which takes in an optional string argument that you can use to specify a message to show to the user when asking for input."
   ]
  },
  {
   "cell_type": "code",
   "execution_count": 4,
   "id": "df5d6222-f664-4e16-89a2-ae9185957095",
   "metadata": {},
   "outputs": [
    {
     "name": "stdin",
     "output_type": "stream",
     "text": [
      "Please enter your number :  rama rao\n"
     ]
    },
    {
     "name": "stdout",
     "output_type": "stream",
     "text": [
      "hello there, Rama Rao!!\n"
     ]
    }
   ],
   "source": [
    "name = input(\"Please enter your number : \")\n",
    "print(f\"hello there, {name.title()}!!\" )"
   ]
  },
  {
   "cell_type": "code",
   "execution_count": 5,
   "id": "3111cc3f-847c-467a-a48b-622b02ccaf91",
   "metadata": {},
   "outputs": [
    {
     "name": "stdin",
     "output_type": "stream",
     "text": [
      "Please enter an integer :  5\n"
     ]
    },
    {
     "name": "stdout",
     "output_type": "stream",
     "text": [
      "Hello Hello Hello Hello Hello \n"
     ]
    }
   ],
   "source": [
    "num = int(input(\"Please enter an integer : \" ))\n",
    "print(\"Hello \"* num)\n"
   ]
  },
  {
   "cell_type": "code",
   "execution_count": 6,
   "id": "e82256c9-e130-4df2-9756-b13f7e1c8a46",
   "metadata": {},
   "outputs": [
    {
     "name": "stdin",
     "output_type": "stream",
     "text": [
      "Enter an expression :  2*4\n"
     ]
    },
    {
     "name": "stdout",
     "output_type": "stream",
     "text": [
      "8\n"
     ]
    }
   ],
   "source": [
    "# We can also interpret user input as a Python expression using the built-in function eval. This function evaluates a string as a line of Python.\n",
    "\n",
    "result = eval(input(\"Enter an expression : \"))\n",
    "print(result)"
   ]
  },
  {
   "cell_type": "code",
   "execution_count": 8,
   "id": "1c14fc7d-ae8a-47a3-bd2a-28349a6ad82a",
   "metadata": {},
   "outputs": [
    {
     "name": "stdin",
     "output_type": "stream",
     "text": [
      "Enter names separated by commas:  RAM, BHEEM\n",
      "Enter assignment counts separated by commas:  12, 32\n",
      "Enter grades separated by commas:  80, 30\n"
     ]
    },
    {
     "name": "stdout",
     "output_type": "stream",
     "text": [
      "Hi Ram,\n",
      "\n",
      "This is a reminder that you have 12 assignments left to submit before you can graduate. You're current grade is 80 and can increase to 104 if you submit all assignments before the due date.\n",
      "\n",
      "\n",
      "Hi  Bheem,\n",
      "\n",
      "This is a reminder that you have  32 assignments left to submit before you can graduate. You're current grade is  30 and can increase to 94 if you submit all assignments before the due date.\n",
      "\n",
      "\n"
     ]
    }
   ],
   "source": [
    "names = input(\"Enter names separated by commas: \").title().split(\",\")\n",
    "assignments = input(\"Enter assignment counts separated by commas: \").split(\",\")\n",
    "grades = input(\"Enter grades separated by commas: \").split(\",\")\n",
    "\n",
    "message = \"Hi {},\\n\\nThis is a reminder that you have {} assignments left to \\\n",
    "submit before you can graduate. You're current grade is {} and can increase \\\n",
    "to {} if you submit all assignments before the due date.\\n\\n\"\n",
    "\n",
    "for name, assignment, grade in zip(names, assignments, grades):\n",
    "    print(message.format(name, assignment, grade, int(grade) + int(assignment)*2))"
   ]
  },
  {
   "cell_type": "code",
   "execution_count": null,
   "id": "49878414-1ed1-4d96-8b4e-1eed5de09be4",
   "metadata": {},
   "outputs": [],
   "source": []
  }
 ],
 "metadata": {
  "kernelspec": {
   "display_name": "Python 3 (ipykernel)",
   "language": "python",
   "name": "python3"
  },
  "language_info": {
   "codemirror_mode": {
    "name": "ipython",
    "version": 3
   },
   "file_extension": ".py",
   "mimetype": "text/x-python",
   "name": "python",
   "nbconvert_exporter": "python",
   "pygments_lexer": "ipython3",
   "version": "3.8.18"
  }
 },
 "nbformat": 4,
 "nbformat_minor": 5
}
