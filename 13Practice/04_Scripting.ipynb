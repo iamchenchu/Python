{
 "cells": [
  {
   "cell_type": "markdown",
   "id": "3128795c-0b9c-41a9-bc3d-f4bd38069319",
   "metadata": {},
   "source": [
    "## SCRIPTING \n",
    "\n",
    "we’ll learn about:\n",
    "\n",
    "* Python Installation and Environment Setup\n",
    "* Running and Editing Python Scripts\n",
    "* Interacting with User Input\n",
    "* Handling Exceptions\n",
    "* Reading and Writing Files\n",
    "* Importing Local, Standard, and Third-Party Modules\n",
    "* Experimenting with an Interpreter\n"
   ]
  },
  {
   "cell_type": "markdown",
   "id": "39e10e61-beb8-4777-8ad2-cc59923635b3",
   "metadata": {},
   "source": [
    "What Is a Python Script?\n",
    "A script is just Python code, so a Python script is a Python program.\n",
    "\n",
    "Often we save Python script in a file, which will have the suffix of .py to indicate it's a Python script.\n",
    "\n",
    "We'll walk you through how to execute .py files in the terminal on your computer in this lesson. You'll learn to use the command line interface (CLI) in your local environment to do this.\n",
    "\n",
    "To prepare for executing Python scripts on your computer, we'll first make sure on the next page that you have Python installed.\n",
    "\n"
   ]
  },
  {
   "cell_type": "code",
   "execution_count": 3,
   "id": "6c599781-d92c-4412-a617-90ab4c4b191d",
   "metadata": {},
   "outputs": [
    {
     "name": "stdout",
     "output_type": "stream",
     "text": [
      "\n",
      "Welcome to Python3!\n",
      "\n",
      "             ____\n",
      "            / . .\\\n",
      "            \\  ---<\n",
      "             \\  /\n",
      "   __________/ /\n",
      "-=:___________/\n",
      "\n",
      "<3, Juno\n",
      "\n"
     ]
    }
   ],
   "source": [
    "how_many_snakes = 1\n",
    "snake_string = \"\"\"\n",
    "Welcome to Python3!\n",
    "\n",
    "             ____\n",
    "            / . .\\\\\n",
    "            \\  ---<\n",
    "             \\  /\n",
    "   __________/ /\n",
    "-=:___________/\n",
    "\n",
    "<3, Juno\n",
    "\"\"\"\n",
    "\n",
    "\n",
    "print(snake_string * how_many_snakes)"
   ]
  },
  {
   "cell_type": "markdown",
   "id": "5b062381-0be4-4366-9d5d-efd5d38b1211",
   "metadata": {},
   "source": [
    "__Scripting with Raw Input__\n",
    "\n",
    "We can get raw input from the user with the built-in function input, which takes in an optional string argument that you can use to specify a message to show to the user when asking for input."
   ]
  },
  {
   "cell_type": "code",
   "execution_count": 4,
   "id": "df5d6222-f664-4e16-89a2-ae9185957095",
   "metadata": {},
   "outputs": [
    {
     "name": "stdin",
     "output_type": "stream",
     "text": [
      "Please enter your number :  rama rao\n"
     ]
    },
    {
     "name": "stdout",
     "output_type": "stream",
     "text": [
      "hello there, Rama Rao!!\n"
     ]
    }
   ],
   "source": [
    "name = input(\"Please enter your number : \")\n",
    "print(f\"hello there, {name.title()}!!\" )"
   ]
  },
  {
   "cell_type": "code",
   "execution_count": 5,
   "id": "3111cc3f-847c-467a-a48b-622b02ccaf91",
   "metadata": {},
   "outputs": [
    {
     "name": "stdin",
     "output_type": "stream",
     "text": [
      "Please enter an integer :  5\n"
     ]
    },
    {
     "name": "stdout",
     "output_type": "stream",
     "text": [
      "Hello Hello Hello Hello Hello \n"
     ]
    }
   ],
   "source": [
    "num = int(input(\"Please enter an integer : \" ))\n",
    "print(\"Hello \"* num)\n"
   ]
  },
  {
   "cell_type": "code",
   "execution_count": 6,
   "id": "e82256c9-e130-4df2-9756-b13f7e1c8a46",
   "metadata": {},
   "outputs": [
    {
     "name": "stdin",
     "output_type": "stream",
     "text": [
      "Enter an expression :  2*4\n"
     ]
    },
    {
     "name": "stdout",
     "output_type": "stream",
     "text": [
      "8\n"
     ]
    }
   ],
   "source": [
    "# We can also interpret user input as a Python expression using the built-in function eval. This function evaluates a string as a line of Python.\n",
    "\n",
    "result = eval(input(\"Enter an expression : \"))\n",
    "print(result)"
   ]
  },
  {
   "cell_type": "code",
   "execution_count": 8,
   "id": "1c14fc7d-ae8a-47a3-bd2a-28349a6ad82a",
   "metadata": {},
   "outputs": [
    {
     "name": "stdin",
     "output_type": "stream",
     "text": [
      "Enter names separated by commas:  RAM, BHEEM\n",
      "Enter assignment counts separated by commas:  12, 32\n",
      "Enter grades separated by commas:  80, 30\n"
     ]
    },
    {
     "name": "stdout",
     "output_type": "stream",
     "text": [
      "Hi Ram,\n",
      "\n",
      "This is a reminder that you have 12 assignments left to submit before you can graduate. You're current grade is 80 and can increase to 104 if you submit all assignments before the due date.\n",
      "\n",
      "\n",
      "Hi  Bheem,\n",
      "\n",
      "This is a reminder that you have  32 assignments left to submit before you can graduate. You're current grade is  30 and can increase to 94 if you submit all assignments before the due date.\n",
      "\n",
      "\n"
     ]
    }
   ],
   "source": [
    "names = input(\"Enter names separated by commas: \").title().split(\",\")\n",
    "assignments = input(\"Enter assignment counts separated by commas: \").split(\",\")\n",
    "grades = input(\"Enter grades separated by commas: \").split(\",\")\n",
    "\n",
    "message = \"Hi {},\\n\\nThis is a reminder that you have {} assignments left to \\\n",
    "submit before you can graduate. You're current grade is {} and can increase \\\n",
    "to {} if you submit all assignments before the due date.\\n\\n\"\n",
    "\n",
    "for name, assignment, grade in zip(names, assignments, grades):\n",
    "    print(message.format(name, assignment, grade, int(grade) + int(assignment)*2))"
   ]
  },
  {
   "cell_type": "markdown",
   "id": "eed2aad7-3f16-4ea7-b10c-1515abed297f",
   "metadata": {},
   "source": [
    "### Errors and Exceptions\n",
    "\n",
    "__Syntax errors__ occur when Python can’t interpret our code, since we didn’t follow the correct syntax for Python. These are errors you’re likely to get when you make a typo, or you’re first starting to learn Python.\n",
    "\n",
    "__Exceptions__ occur when unexpected things happen during execution of a program, even if the code is syntactically correct. There are different types of built-in exceptions in Python, and you can see which exception is thrown in the error message.\n",
    "\n",
    "\n",
    "```\n",
    " try:\n",
    "    # some code\n",
    " except ValueError:\n",
    "    # some code\n",
    " except KeyboardInterrupt:\n",
    "    # some code\n",
    "```"
   ]
  },
  {
   "cell_type": "code",
   "execution_count": 9,
   "id": "297b3e17-5bde-4dc1-bf59-d2cba5fd18e1",
   "metadata": {},
   "outputs": [
    {
     "name": "stdin",
     "output_type": "stream",
     "text": [
      "Please enter the number :  ten\n"
     ]
    },
    {
     "name": "stdout",
     "output_type": "stream",
     "text": [
      "That's not a valid input!!\n",
      "\n",
      "Attempted Input\n"
     ]
    }
   ],
   "source": [
    "try:\n",
    "    x = int(input(\"Please enter the number : \"))\n",
    "\n",
    "except:\n",
    "    print(\"That\\'s not a valid input!!\")\n",
    "\n",
    "print(\"\\nAttempted Input\")"
   ]
  },
  {
   "cell_type": "markdown",
   "id": "ab890d43-8f45-4b34-95f9-4cfb35c9e67a",
   "metadata": {},
   "source": [
    "Try Statement\n",
    "We can use try statements to handle exceptions. There are four clauses you can use (one more in addition to those shown in the video).\n",
    "\n",
    "try: This is the only mandatory clause in a try statement. The code in this block is the first thing that Python runs in a try statement.\n",
    "\n",
    "except: If Python runs into an exception while running the try block, it will jump to the except block that handles that exception.\n",
    "\n",
    "else: If Python runs into no exceptions while running the try block, it will run the code in this block after running the try block.\n",
    "\n",
    "finally: Before Python leaves this try statement, it will run the code in this finally block under any conditions, even if it's ending the program. E.g., if Python ran into an error while running code in the except or else block, this finally block will still be executed before stopping the program."
   ]
  },
  {
   "cell_type": "code",
   "execution_count": 2,
   "id": "ffbbdaa6-045e-4e85-b27b-577f58c2846e",
   "metadata": {},
   "outputs": [
    {
     "name": "stdin",
     "output_type": "stream",
     "text": [
      "Please enter the number :  10\n"
     ]
    }
   ],
   "source": [
    "# If we want to make it run until we enter the correct format then we will use the while true then we use beak statement to stop\n",
    "while True:\n",
    "    try:\n",
    "        x = int(input(\"Please enter the number : \"))\n",
    "        break\n",
    "    except:\n",
    "        print(\"That\\'s not a valid input!!\")\n",
    "\n",
    "    print(\"\\nAttempted Input\")"
   ]
  },
  {
   "cell_type": "markdown",
   "id": "60d3f70b-c7b7-4bee-b758-7e12099f94c9",
   "metadata": {},
   "source": [
    "### File Handling"
   ]
  },
  {
   "cell_type": "code",
   "execution_count": 7,
   "id": "2af8fcc4-1aa6-48be-82c1-c6701885183f",
   "metadata": {},
   "outputs": [
    {
     "name": "stdout",
     "output_type": "stream",
     "text": [
      "Hi Folks \n",
      "\n",
      "I am chenchu \n",
      "\n",
      "I am studying at USD\n",
      "46\n"
     ]
    }
   ],
   "source": [
    "file = open('files/file1.txt', 'r')\n",
    "file_data = file.read()\n",
    "file.close()\n",
    "\n",
    "\n",
    "print(file_data)\n",
    "\n",
    "print(len(file_data))\n"
   ]
  },
  {
   "cell_type": "markdown",
   "id": "c035c664-2c19-4483-a147-fa8e0a6b5745",
   "metadata": {},
   "source": [
    "* If we do not close the file after opening them at some point of time, our file handler will loose the capability of opening the new files as it exceeds the campacity.\n",
    "\n",
    "* If we want to avoid such situations then we have to ensure to close each file that we are opening\n",
    "\n",
    "* How any number of files can we open without closing the other files ? well, this is totally depends on the operating system that you are using. if you want to know how many files your system can open then please run the below code and put range to 1 crore or something."
   ]
  },
  {
   "cell_type": "code",
   "execution_count": null,
   "id": "a82836c8-3fdc-42ec-a07b-0e8400f0f0a7",
   "metadata": {},
   "outputs": [],
   "source": [
    "files = []\n",
    "for i in range(100): # since recent systems are powerfull they are having capability of opening thousands of files at a time\n",
    "    f = open('files/file1.txt', 'r')\n",
    "    print(i)"
   ]
  },
  {
   "cell_type": "code",
   "execution_count": 13,
   "id": "5d1a074a-a0ab-4473-94d8-14fa1cc9eeb7",
   "metadata": {},
   "outputs": [],
   "source": [
    "# Writing to the file : u have to open in writing mode, if previous content is there in the file then it will be deleted and new content will be replaced\n",
    "# in 'w' mode if the file does not exist then it will create for u and write the content to this file\n",
    "# If you want the old content to be there in the file then you have to open the file in append mode \n",
    "\n",
    "file = open('files/file2.txt', 'w')\n",
    "file.write(\"I am chenchu writing the content to file2\")\n",
    "file.close()\n"
   ]
  },
  {
   "cell_type": "code",
   "execution_count": 14,
   "id": "f9186f0f-d429-4797-84ed-bc0d3d0e43b2",
   "metadata": {},
   "outputs": [
    {
     "name": "stdout",
     "output_type": "stream",
     "text": [
      "I am chenchu writing the content to file2\n"
     ]
    }
   ],
   "source": [
    "# Now open the above file and read \n",
    "\n",
    "f = open('files/file2.txt', 'r')\n",
    "content = f.read()\n",
    "f.close()\n",
    "\n",
    "print(content)"
   ]
  },
  {
   "cell_type": "markdown",
   "id": "0875ffb1-80e7-48a2-b1fa-e877b049dd97",
   "metadata": {},
   "source": [
    "__with open() as f :__\n",
    "\n",
    "usually we tent to forget closing the file so now we have new way of opening file which will closes the file automatically for us."
   ]
  },
  {
   "cell_type": "code",
   "execution_count": 15,
   "id": "a722d0d8-51d5-4046-ae73-4bcef9cdc639",
   "metadata": {},
   "outputs": [
    {
     "name": "stdout",
     "output_type": "stream",
     "text": [
      "Hi Folks \n",
      "\n",
      "I am chenchu \n",
      "\n",
      "I am studying at USD\n"
     ]
    }
   ],
   "source": [
    "with open('files/file1.txt', 'r') as f:\n",
    "    content = f.read()\n",
    "    print(content) # here I am not closing the file, but the file will be closed automatically if we use the with statement here"
   ]
  },
  {
   "cell_type": "code",
   "execution_count": null,
   "id": "da033e2f-4bbf-4bb9-a48f-bb6cc7e6a417",
   "metadata": {},
   "outputs": [],
   "source": []
  }
 ],
 "metadata": {
  "kernelspec": {
   "display_name": "Python 3 (ipykernel)",
   "language": "python",
   "name": "python3"
  },
  "language_info": {
   "codemirror_mode": {
    "name": "ipython",
    "version": 3
   },
   "file_extension": ".py",
   "mimetype": "text/x-python",
   "name": "python",
   "nbconvert_exporter": "python",
   "pygments_lexer": "ipython3",
   "version": "3.8.18"
  }
 },
 "nbformat": 4,
 "nbformat_minor": 5
}
