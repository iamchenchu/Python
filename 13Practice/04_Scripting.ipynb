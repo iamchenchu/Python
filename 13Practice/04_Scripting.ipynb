{
 "cells": [
  {
   "cell_type": "markdown",
   "id": "3128795c-0b9c-41a9-bc3d-f4bd38069319",
   "metadata": {},
   "source": [
    "## SCRIPTING \n",
    "\n",
    "we’ll learn about:\n",
    "\n",
    "* Python Installation and Environment Setup\n",
    "* Running and Editing Python Scripts\n",
    "* Interacting with User Input\n",
    "* Handling Exceptions\n",
    "* Reading and Writing Files\n",
    "* Importing Local, Standard, and Third-Party Modules\n",
    "* Experimenting with an Interpreter\n"
   ]
  },
  {
   "cell_type": "markdown",
   "id": "39e10e61-beb8-4777-8ad2-cc59923635b3",
   "metadata": {},
   "source": [
    "What Is a Python Script?\n",
    "A script is just Python code, so a Python script is a Python program.\n",
    "\n",
    "Often we save Python script in a file, which will have the suffix of .py to indicate it's a Python script.\n",
    "\n",
    "We'll walk you through how to execute .py files in the terminal on your computer in this lesson. You'll learn to use the command line interface (CLI) in your local environment to do this.\n",
    "\n",
    "To prepare for executing Python scripts on your computer, we'll first make sure on the next page that you have Python installed.\n",
    "\n"
   ]
  },
  {
   "cell_type": "code",
   "execution_count": 3,
   "id": "6c599781-d92c-4412-a617-90ab4c4b191d",
   "metadata": {},
   "outputs": [
    {
     "name": "stdout",
     "output_type": "stream",
     "text": [
      "\n",
      "Welcome to Python3!\n",
      "\n",
      "             ____\n",
      "            / . .\\\n",
      "            \\  ---<\n",
      "             \\  /\n",
      "   __________/ /\n",
      "-=:___________/\n",
      "\n",
      "<3, Juno\n",
      "\n"
     ]
    }
   ],
   "source": [
    "how_many_snakes = 1\n",
    "snake_string = \"\"\"\n",
    "Welcome to Python3!\n",
    "\n",
    "             ____\n",
    "            / . .\\\\\n",
    "            \\  ---<\n",
    "             \\  /\n",
    "   __________/ /\n",
    "-=:___________/\n",
    "\n",
    "<3, Juno\n",
    "\"\"\"\n",
    "\n",
    "\n",
    "print(snake_string * how_many_snakes)"
   ]
  },
  {
   "cell_type": "markdown",
   "id": "5b062381-0be4-4366-9d5d-efd5d38b1211",
   "metadata": {},
   "source": [
    "__Scripting with Raw Input__\n",
    "\n",
    "We can get raw input from the user with the built-in function input, which takes in an optional string argument that you can use to specify a message to show to the user when asking for input."
   ]
  },
  {
   "cell_type": "code",
   "execution_count": 4,
   "id": "df5d6222-f664-4e16-89a2-ae9185957095",
   "metadata": {},
   "outputs": [
    {
     "name": "stdin",
     "output_type": "stream",
     "text": [
      "Please enter your number :  rama rao\n"
     ]
    },
    {
     "name": "stdout",
     "output_type": "stream",
     "text": [
      "hello there, Rama Rao!!\n"
     ]
    }
   ],
   "source": [
    "name = input(\"Please enter your number : \")\n",
    "print(f\"hello there, {name.title()}!!\" )"
   ]
  },
  {
   "cell_type": "code",
   "execution_count": 5,
   "id": "3111cc3f-847c-467a-a48b-622b02ccaf91",
   "metadata": {},
   "outputs": [
    {
     "name": "stdin",
     "output_type": "stream",
     "text": [
      "Please enter an integer :  5\n"
     ]
    },
    {
     "name": "stdout",
     "output_type": "stream",
     "text": [
      "Hello Hello Hello Hello Hello \n"
     ]
    }
   ],
   "source": [
    "num = int(input(\"Please enter an integer : \" ))\n",
    "print(\"Hello \"* num)\n"
   ]
  },
  {
   "cell_type": "code",
   "execution_count": 6,
   "id": "e82256c9-e130-4df2-9756-b13f7e1c8a46",
   "metadata": {},
   "outputs": [
    {
     "name": "stdin",
     "output_type": "stream",
     "text": [
      "Enter an expression :  2*4\n"
     ]
    },
    {
     "name": "stdout",
     "output_type": "stream",
     "text": [
      "8\n"
     ]
    }
   ],
   "source": [
    "# We can also interpret user input as a Python expression using the built-in function eval. This function evaluates a string as a line of Python.\n",
    "\n",
    "result = eval(input(\"Enter an expression : \"))\n",
    "print(result)"
   ]
  },
  {
   "cell_type": "code",
   "execution_count": 8,
   "id": "1c14fc7d-ae8a-47a3-bd2a-28349a6ad82a",
   "metadata": {},
   "outputs": [
    {
     "name": "stdin",
     "output_type": "stream",
     "text": [
      "Enter names separated by commas:  RAM, BHEEM\n",
      "Enter assignment counts separated by commas:  12, 32\n",
      "Enter grades separated by commas:  80, 30\n"
     ]
    },
    {
     "name": "stdout",
     "output_type": "stream",
     "text": [
      "Hi Ram,\n",
      "\n",
      "This is a reminder that you have 12 assignments left to submit before you can graduate. You're current grade is 80 and can increase to 104 if you submit all assignments before the due date.\n",
      "\n",
      "\n",
      "Hi  Bheem,\n",
      "\n",
      "This is a reminder that you have  32 assignments left to submit before you can graduate. You're current grade is  30 and can increase to 94 if you submit all assignments before the due date.\n",
      "\n",
      "\n"
     ]
    }
   ],
   "source": [
    "names = input(\"Enter names separated by commas: \").title().split(\",\")\n",
    "assignments = input(\"Enter assignment counts separated by commas: \").split(\",\")\n",
    "grades = input(\"Enter grades separated by commas: \").split(\",\")\n",
    "\n",
    "message = \"Hi {},\\n\\nThis is a reminder that you have {} assignments left to \\\n",
    "submit before you can graduate. You're current grade is {} and can increase \\\n",
    "to {} if you submit all assignments before the due date.\\n\\n\"\n",
    "\n",
    "for name, assignment, grade in zip(names, assignments, grades):\n",
    "    print(message.format(name, assignment, grade, int(grade) + int(assignment)*2))"
   ]
  },
  {
   "cell_type": "markdown",
   "id": "eed2aad7-3f16-4ea7-b10c-1515abed297f",
   "metadata": {},
   "source": [
    "### Errors and Exceptions\n",
    "\n",
    "__Syntax errors__ occur when Python can’t interpret our code, since we didn’t follow the correct syntax for Python. These are errors you’re likely to get when you make a typo, or you’re first starting to learn Python.\n",
    "\n",
    "__Exceptions__ occur when unexpected things happen during execution of a program, even if the code is syntactically correct. There are different types of built-in exceptions in Python, and you can see which exception is thrown in the error message.\n",
    "\n",
    "\n",
    "```\n",
    " try:\n",
    "    # some code\n",
    " except ValueError:\n",
    "    # some code\n",
    " except KeyboardInterrupt:\n",
    "    # some code\n",
    "```"
   ]
  },
  {
   "cell_type": "code",
   "execution_count": 9,
   "id": "297b3e17-5bde-4dc1-bf59-d2cba5fd18e1",
   "metadata": {},
   "outputs": [
    {
     "name": "stdin",
     "output_type": "stream",
     "text": [
      "Please enter the number :  ten\n"
     ]
    },
    {
     "name": "stdout",
     "output_type": "stream",
     "text": [
      "That's not a valid input!!\n",
      "\n",
      "Attempted Input\n"
     ]
    }
   ],
   "source": [
    "try:\n",
    "    x = int(input(\"Please enter the number : \"))\n",
    "\n",
    "except:\n",
    "    print(\"That\\'s not a valid input!!\")\n",
    "\n",
    "print(\"\\nAttempted Input\")"
   ]
  },
  {
   "cell_type": "markdown",
   "id": "ab890d43-8f45-4b34-95f9-4cfb35c9e67a",
   "metadata": {},
   "source": [
    "Try Statement\n",
    "We can use try statements to handle exceptions. There are four clauses you can use (one more in addition to those shown in the video).\n",
    "\n",
    "try: This is the only mandatory clause in a try statement. The code in this block is the first thing that Python runs in a try statement.\n",
    "\n",
    "except: If Python runs into an exception while running the try block, it will jump to the except block that handles that exception.\n",
    "\n",
    "else: If Python runs into no exceptions while running the try block, it will run the code in this block after running the try block.\n",
    "\n",
    "finally: Before Python leaves this try statement, it will run the code in this finally block under any conditions, even if it's ending the program. E.g., if Python ran into an error while running code in the except or else block, this finally block will still be executed before stopping the program."
   ]
  },
  {
   "cell_type": "code",
   "execution_count": 2,
   "id": "ffbbdaa6-045e-4e85-b27b-577f58c2846e",
   "metadata": {},
   "outputs": [
    {
     "name": "stdin",
     "output_type": "stream",
     "text": [
      "Please enter the number :  10\n"
     ]
    }
   ],
   "source": [
    "# If we want to make it run until we enter the correct format then we will use the while true then we use beak statement to stop\n",
    "while True:\n",
    "    try:\n",
    "        x = int(input(\"Please enter the number : \"))\n",
    "        break\n",
    "    except:\n",
    "        print(\"That\\'s not a valid input!!\")\n",
    "\n",
    "    print(\"\\nAttempted Input\")"
   ]
  },
  {
   "cell_type": "markdown",
   "id": "60d3f70b-c7b7-4bee-b758-7e12099f94c9",
   "metadata": {},
   "source": [
    "### File Handling"
   ]
  },
  {
   "cell_type": "code",
   "execution_count": 7,
   "id": "2af8fcc4-1aa6-48be-82c1-c6701885183f",
   "metadata": {},
   "outputs": [
    {
     "name": "stdout",
     "output_type": "stream",
     "text": [
      "Hi Folks \n",
      "\n",
      "I am chenchu \n",
      "\n",
      "I am studying at USD\n",
      "46\n"
     ]
    }
   ],
   "source": [
    "file = open('files/file1.txt', 'r')\n",
    "file_data = file.read()\n",
    "file.close()\n",
    "\n",
    "\n",
    "print(file_data)\n",
    "\n",
    "print(len(file_data))\n"
   ]
  },
  {
   "cell_type": "markdown",
   "id": "c035c664-2c19-4483-a147-fa8e0a6b5745",
   "metadata": {},
   "source": [
    "* If we do not close the file after opening them at some point of time, our file handler will loose the capability of opening the new files as it exceeds the campacity.\n",
    "\n",
    "* If we want to avoid such situations then we have to ensure to close each file that we are opening\n",
    "\n",
    "* How any number of files can we open without closing the other files ? well, this is totally depends on the operating system that you are using. if you want to know how many files your system can open then please run the below code and put range to 1 crore or something."
   ]
  },
  {
   "cell_type": "code",
   "execution_count": null,
   "id": "a82836c8-3fdc-42ec-a07b-0e8400f0f0a7",
   "metadata": {},
   "outputs": [],
   "source": [
    "files = []\n",
    "for i in range(100): # since recent systems are powerfull they are having capability of opening thousands of files at a time\n",
    "    f = open('files/file1.txt', 'r')\n",
    "    print(i)"
   ]
  },
  {
   "cell_type": "code",
   "execution_count": 13,
   "id": "5d1a074a-a0ab-4473-94d8-14fa1cc9eeb7",
   "metadata": {},
   "outputs": [],
   "source": [
    "# Writing to the file : u have to open in writing mode, if previous content is there in the file then it will be deleted and new content will be replaced\n",
    "# in 'w' mode if the file does not exist then it will create for u and write the content to this file\n",
    "# If you want the old content to be there in the file then you have to open the file in append mode \n",
    "\n",
    "file = open('files/file2.txt', 'w')\n",
    "file.write(\"I am chenchu writing the content to file2\")\n",
    "file.close()\n"
   ]
  },
  {
   "cell_type": "code",
   "execution_count": 14,
   "id": "f9186f0f-d429-4797-84ed-bc0d3d0e43b2",
   "metadata": {},
   "outputs": [
    {
     "name": "stdout",
     "output_type": "stream",
     "text": [
      "I am chenchu writing the content to file2\n"
     ]
    }
   ],
   "source": [
    "# Now open the above file and read \n",
    "\n",
    "f = open('files/file2.txt', 'r')\n",
    "content = f.read()\n",
    "f.close()\n",
    "\n",
    "print(content)"
   ]
  },
  {
   "cell_type": "markdown",
   "id": "0875ffb1-80e7-48a2-b1fa-e877b049dd97",
   "metadata": {},
   "source": [
    "__with open() as f :__\n",
    "\n",
    "* usually we tent to forget closing the file so now we have new way of opening file which will closes the file automatically for us.\n",
    "* Python provides a special syntax that auto-closes a file for you once you're finished using it.\n"
   ]
  },
  {
   "cell_type": "code",
   "execution_count": 20,
   "id": "a722d0d8-51d5-4046-ae73-4bcef9cdc639",
   "metadata": {},
   "outputs": [
    {
     "name": "stdout",
     "output_type": "stream",
     "text": [
      "Hi Folks \n",
      "\n",
      "I am chenchu \n",
      "\n",
      "I am studying at USD\n",
      "False\n",
      "True\n"
     ]
    }
   ],
   "source": [
    "with open('files/file1.txt', 'r') as f:\n",
    "    content = f.read()\n",
    "    print(content) # here I am not closing the file, but the file will be closed automatically if we use the with keyword here once we leave the indented block \n",
    "    print(f.closed) # it should retun false here as it will not close until we come out of intended block \n",
    "\n",
    "print(f.closed) # returns the file closed or not "
   ]
  },
  {
   "cell_type": "code",
   "execution_count": 24,
   "id": "18e9a5ed-41ae-4038-be3b-6865411914d6",
   "metadata": {},
   "outputs": [
    {
     "name": "stdout",
     "output_type": "stream",
     "text": [
      "H\n",
      "i Folks \n",
      "\n",
      "\n",
      "I am chenchu \n",
      "\n",
      "I am studying at USD\n"
     ]
    }
   ],
   "source": [
    "with open(\"files/file1.txt\") as song:\n",
    "    print(song.read(1))\n",
    "    print(song.read(8))\n",
    "    print(song.read())"
   ]
  },
  {
   "cell_type": "code",
   "execution_count": 26,
   "id": "da033e2f-4bbf-4bb9-a48f-bb6cc7e6a417",
   "metadata": {},
   "outputs": [
    {
     "name": "stdout",
     "output_type": "stream",
     "text": [
      "['Hi Folks', '', 'I am chenchu', '', 'I am studying at USD']\n"
     ]
    }
   ],
   "source": [
    "camelot_lines = []\n",
    "with open(\"files/file1.txt\", 'r') as f:\n",
    "    for line in f:\n",
    "        camelot_lines.append(line.strip())\n",
    "\n",
    "print(camelot_lines)\n"
   ]
  },
  {
   "cell_type": "markdown",
   "id": "1bf3da14-f7e0-45d5-80de-98a384d33b91",
   "metadata": {},
   "source": [
    "__Quiz: Flying Circus Cast List__\n",
    "\n",
    "You're going to create a list of the actors who appeared in the television programme Monty Python's Flying Circus.\n",
    "\n",
    "Write a function called create_cast_list that takes a filename as input and returns a list of actors' names. It will be run on the file flying_circus_cast.txt (this information was collected from imdb.com). Each line of that file consists of an actor's name, a comma, and then some (messy) information about roles they played in the programme. You'll need to extract only the name and add it to a list. You might use the .split() method(opens in a new tab) to process each line."
   ]
  },
  {
   "cell_type": "code",
   "execution_count": 32,
   "id": "b8828e16-c972-4ec0-a587-88b0948d8bae",
   "metadata": {},
   "outputs": [
    {
     "name": "stdout",
     "output_type": "stream",
     "text": [
      "['Graham Chapman', 'Eric Idle', 'Terry Jones', 'Michael Palin', 'Terry Gilliam', 'John Cleese', 'Carol Cleveland', 'Ian Davidson', 'John Hughman', 'The Fred Tomlinson Singers', 'Connie Booth', 'Bob Raymond', 'Lyn Ashley', 'Rita Davies', 'Stanley Mason', 'David Ballantyne', 'Donna Reading', 'Peter Brett', 'Maureen Flanagan', 'Katya Wyeth', 'Frank Lester', 'Neil Innes', 'Dick Vosburgh', 'Sandra Richards', 'Julia Breck', 'Nicki Howorth', 'Jimmy Hill', 'Barry Cryer', 'Jeannette Wild', 'Marjorie Wilde', 'Marie Anderson', 'Caron Gardner', 'Nosher Powell', 'Carolae Donoghue', 'Vincent Wong', 'Helena Clayton', 'Nigel Jones', 'Roy Gunson', 'Daphne Davey', 'Stenson Falke', 'Alexander Curry', 'Frank Williams', 'Ralph Wood', 'Rosalind Bailey', 'Marion Mould', 'Sheila Sands', 'Richard Baker', 'Douglas Adams', 'Ewa Aulin', 'Reginald Bosanquet', 'Barbara Lindley', 'Roy Brent', 'Jonas Card', 'Tony Christopher', 'Beulah Hughes', 'Peter Kodak', 'Lulu', 'Jay Neill', 'Graham Skidmore', 'Ringo Starr', 'Fred Tomlinson', 'David Hamilton', 'Suzy Mandel', 'Peter Woods']\n"
     ]
    }
   ],
   "source": [
    "def create_cast_list(filename):\n",
    "    cast_list = []\n",
    "    \n",
    "    with open(filename, 'r') as f:\n",
    "        for line in f:\n",
    "            name = line.split(',')[0]\n",
    "\n",
    "            cast_list.append(name)\n",
    "    #use with to open the file filename\n",
    "    #use the for loop syntax to process each line\n",
    "    #and add the actor name to cast_list\n",
    "    return cast_list\n",
    "cast_list = create_cast_list('files/flying_circus_cast.txt')\n",
    "print(cast_list)"
   ]
  },
  {
   "cell_type": "code",
   "execution_count": 33,
   "id": "b611ce5a-a0e9-464e-94a0-7c49ec35631f",
   "metadata": {},
   "outputs": [
    {
     "name": "stdout",
     "output_type": "stream",
     "text": [
      "Graham Chapman\n",
      "Eric Idle\n",
      "Terry Jones\n",
      "Michael Palin\n",
      "Terry Gilliam\n",
      "John Cleese\n",
      "Carol Cleveland\n",
      "Ian Davidson\n",
      "John Hughman\n",
      "The Fred Tomlinson Singers\n",
      "Connie Booth\n",
      "Bob Raymond\n",
      "Lyn Ashley\n",
      "Rita Davies\n",
      "Stanley Mason\n",
      "David Ballantyne\n",
      "Donna Reading\n",
      "Peter Brett\n",
      "Maureen Flanagan\n",
      "Katya Wyeth\n",
      "Frank Lester\n",
      "Neil Innes\n",
      "Dick Vosburgh\n",
      "Sandra Richards\n",
      "Julia Breck\n",
      "Nicki Howorth\n",
      "Jimmy Hill\n",
      "Barry Cryer\n",
      "Jeannette Wild\n",
      "Marjorie Wilde\n",
      "Marie Anderson\n",
      "Caron Gardner\n",
      "Nosher Powell\n",
      "Carolae Donoghue\n",
      "Vincent Wong\n",
      "Helena Clayton\n",
      "Nigel Jones\n",
      "Roy Gunson\n",
      "Daphne Davey\n",
      "Stenson Falke\n",
      "Alexander Curry\n",
      "Frank Williams\n",
      "Ralph Wood\n",
      "Rosalind Bailey\n",
      "Marion Mould\n",
      "Sheila Sands\n",
      "Richard Baker\n",
      "Douglas Adams\n",
      "Ewa Aulin\n",
      "Reginald Bosanquet\n",
      "Barbara Lindley\n",
      "Roy Brent\n",
      "Jonas Card\n",
      "Tony Christopher\n",
      "Beulah Hughes\n",
      "Peter Kodak\n",
      "Lulu\n",
      "Jay Neill\n",
      "Graham Skidmore\n",
      "Ringo Starr\n",
      "Fred Tomlinson\n",
      "David Hamilton\n",
      "Suzy Mandel\n",
      "Peter Woods\n"
     ]
    }
   ],
   "source": [
    "for actor in cast_list:\n",
    "    print(actor)"
   ]
  },
  {
   "cell_type": "code",
   "execution_count": 34,
   "id": "d1dd40a6-507b-449c-a76c-efb7ce3d1cc7",
   "metadata": {},
   "outputs": [
    {
     "name": "stdin",
     "output_type": "stream",
     "text": [
      "Enter any 2-digit number:  32\n",
      "Enter any 2-digit number:  84\n",
      "Enter any 2-digit number:  53\n",
      "Enter any 2-digit number:  23\n",
      "Enter any 2-digit number:  12\n",
      "Enter any 2-digit number:  43\n",
      "Enter any 2-digit number:  12\n",
      "Enter any 2-digit number:  32\n",
      "Enter any 2-digit number:  43\n",
      "Enter any 2-digit number:  43\n"
     ]
    },
    {
     "name": "stdout",
     "output_type": "stream",
     "text": [
      "user_list: [32, 84, 53, 23, 12, 43, 12, 32, 43, 43]\n",
      "The sum of the even numbers in user_list is: 172.\n"
     ]
    }
   ],
   "source": [
    "# initiate empty list to hold user input and sum value of zero\n",
    "user_list = []\n",
    "list_sum = 0\n",
    "\n",
    "# seek user input for ten numbers \n",
    "for i in range(10):\n",
    "    userInput = int(input(\"Enter any 2-digit number: \"))\n",
    "    \n",
    "# check to see if number is even and if yes, add to list_sum\n",
    "# print incorrect value warning  when ValueError exception occurs\n",
    "    try:\n",
    "        number = userInput\n",
    "        user_list.append(number)\n",
    "        if number % 2 == 0:\n",
    "            list_sum += number\n",
    "    except ValueError:\n",
    "        print(\"Incorrect value. That's not an int!\")\n",
    "\n",
    "print(\"user_list: {}\".format(user_list))\n",
    "print(\"The sum of the even numbers in user_list is: {}.\".format(list_sum))"
   ]
  },
  {
   "cell_type": "markdown",
   "id": "44993ed2-0b95-4541-92d0-e8a48cba2201",
   "metadata": {},
   "source": [
    "### Importing Local Scripts\n",
    "\n",
    "We can actually import Python code from other scripts, which is helpful if you are working on a bigger project where you want to organize your code into multiple files and reuse code in those files. If the Python script you want to import is in the same directory as your current script, you just type import followed by the name of the file, without the .py extension."
   ]
  },
  {
   "cell_type": "code",
   "execution_count": 35,
   "id": "ad3e8d69-9792-4e59-8e98-d6890199ad5c",
   "metadata": {},
   "outputs": [
    {
     "name": "stdout",
     "output_type": "stream",
     "text": [
      "87.4\n"
     ]
    }
   ],
   "source": [
    "import useful_functions\n",
    "\n",
    "scores = [88, 92, 79, 93, 85]\n",
    " \n",
    "mean = useful_functions.mean(scores) # we are importing the function from other file\n",
    "\n",
    "print(mean)"
   ]
  },
  {
   "cell_type": "code",
   "execution_count": 36,
   "id": "4d37c40b-b864-47f1-be0b-0bb9a461af76",
   "metadata": {},
   "outputs": [
    {
     "name": "stdout",
     "output_type": "stream",
     "text": [
      "Scores: [88, 92, 79, 93, 85]\n",
      "Original Mean: 87.4  New Mean: 92.4\n",
      "__main__\n",
      "useful_functions\n"
     ]
    }
   ],
   "source": [
    "import useful_functions as uf\n",
    "\n",
    "scores = [88, 92, 79, 93, 85]\n",
    "\n",
    "mean = uf.mean(scores)\n",
    "curved = uf.add_five(scores)\n",
    "\n",
    "mean_c = uf.mean(curved)\n",
    "\n",
    "print(\"Scores:\", scores)\n",
    "print(\"Original Mean:\", mean, \" New Mean:\", mean_c)\n",
    "\n",
    "print(__name__)\n",
    "print(uf.__name__)"
   ]
  },
  {
   "cell_type": "markdown",
   "id": "e527a3f7-c960-42a5-917d-b80a5d84902a",
   "metadata": {},
   "source": [
    "__Techniques for Importing Modules__\n",
    "\n",
    "There are other variants of import statements that are useful in different situations.\n",
    "\n",
    "To import an individual function or class from a module:\n",
    "\n",
    "from module_name import object_name\n",
    "\n",
    "To import multiple individual objects from a module:\n",
    "\n",
    "from module_name import first_object, second_object\n",
    "\n",
    "To rename a module:\n",
    "\n",
    "import module_name as new_name\n",
    "\n",
    "To import an object from a module and rename it:\n",
    "\n",
    "from module_name import object_name as new_name\n",
    "\n",
    "To import every object individually from a module (DO NOT DO THIS):\n",
    "\n",
    "from module_name import *\n",
    "\n",
    "    ```\n",
    "    6. If you really want to use all of the objects from a module, use the standard import module_name statement instead and access each of the objects       with the dot notation.\n",
    "    ```\n",
    "python\n",
    "import module_name\n"
   ]
  },
  {
   "cell_type": "markdown",
   "id": "1a2ff72b-5e9e-4ce5-b582-e87e537d5472",
   "metadata": {},
   "source": [
    "__QUESTION__\n",
    "\n",
    "Create a function that opens the flowers.txt, reads every line in it, and saves it as a dictionary. The main (separate) function should take user input (user's first name and last name) and parse the user input to identify the first letter of the first name. It should then use it to print the flower name with the same first letter (from dictionary created in the first function).\n",
    "\n",
    "Sample Output: ``` >>> Enter your First [space] Last name only: Bill Newman\n",
    "\n",
    ">>> Unique flower name with the first letter: Bellflower\n",
    "```"
   ]
  },
  {
   "cell_type": "code",
   "execution_count": 2,
   "id": "86d312d6-2fa7-4ba9-b750-eb02649d418f",
   "metadata": {},
   "outputs": [
    {
     "name": "stdin",
     "output_type": "stream",
     "text": [
      "Enter your First [space] Last name only:  ra\n"
     ]
    },
    {
     "name": "stdout",
     "output_type": "stream",
     "text": [
      "Unique flower name with the first letter: Rain Lily\n"
     ]
    }
   ],
   "source": [
    "## function that creates a flower_dictionary from filename\n",
    "def create_flowerdict(filename):\n",
    "    flower_dict = {}\n",
    "    with open(filename) as f:\n",
    "        for line in f:\n",
    "            letter = line.split(\": \")[0].lower() \n",
    "            flower = line.split(\": \")[1].strip()\n",
    "            flower_dict[letter] = flower\n",
    "    return flower_dict\n",
    "\n",
    "## Main function that prompts for user input, parses out the first letter\n",
    "## includes function call for create_flowerdict to create dictionary\n",
    "def main(): \n",
    "    flower_d = create_flowerdict('files/flowers.txt')\n",
    "    full_name = input(\"Enter your First [space] Last name only: \")\n",
    "    first_name = full_name[0].lower()\n",
    "    first_letter = first_name[0]\n",
    "## print command that prints final input with value from corresponding key in dictionary\n",
    "    print(\"Unique flower name with the first letter: {}\".format(flower_d[first_letter]))\n",
    "\n",
    "main()"
   ]
  },
  {
   "cell_type": "code",
   "execution_count": null,
   "id": "e73f3134-5f14-4f83-9d43-6a8e8e43d5d0",
   "metadata": {},
   "outputs": [],
   "source": []
  }
 ],
 "metadata": {
  "kernelspec": {
   "display_name": "Python 3 (ipykernel)",
   "language": "python",
   "name": "python3"
  },
  "language_info": {
   "codemirror_mode": {
    "name": "ipython",
    "version": 3
   },
   "file_extension": ".py",
   "mimetype": "text/x-python",
   "name": "python",
   "nbconvert_exporter": "python",
   "pygments_lexer": "ipython3",
   "version": "3.8.18"
  }
 },
 "nbformat": 4,
 "nbformat_minor": 5
}
