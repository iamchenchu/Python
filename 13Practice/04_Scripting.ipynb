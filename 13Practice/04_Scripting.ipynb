{
 "cells": [
  {
   "cell_type": "markdown",
   "id": "3128795c-0b9c-41a9-bc3d-f4bd38069319",
   "metadata": {},
   "source": [
    "## SCRIPTING \n",
    "\n",
    "we’ll learn about:\n",
    "\n",
    "* Python Installation and Environment Setup\n",
    "* Running and Editing Python Scripts\n",
    "* Interacting with User Input\n",
    "* Handling Exceptions\n",
    "* Reading and Writing Files\n",
    "* Importing Local, Standard, and Third-Party Modules\n",
    "* Experimenting with an Interpreter\n"
   ]
  },
  {
   "cell_type": "markdown",
   "id": "39e10e61-beb8-4777-8ad2-cc59923635b3",
   "metadata": {},
   "source": [
    "What Is a Python Script?\n",
    "A script is just Python code, so a Python script is a Python program.\n",
    "\n",
    "Often we save Python script in a file, which will have the suffix of .py to indicate it's a Python script.\n",
    "\n",
    "We'll walk you through how to execute .py files in the terminal on your computer in this lesson. You'll learn to use the command line interface (CLI) in your local environment to do this.\n",
    "\n",
    "To prepare for executing Python scripts on your computer, we'll first make sure on the next page that you have Python installed.\n",
    "\n"
   ]
  },
  {
   "cell_type": "code",
   "execution_count": 3,
   "id": "6c599781-d92c-4412-a617-90ab4c4b191d",
   "metadata": {},
   "outputs": [
    {
     "name": "stdout",
     "output_type": "stream",
     "text": [
      "\n",
      "Welcome to Python3!\n",
      "\n",
      "             ____\n",
      "            / . .\\\n",
      "            \\  ---<\n",
      "             \\  /\n",
      "   __________/ /\n",
      "-=:___________/\n",
      "\n",
      "<3, Juno\n",
      "\n"
     ]
    }
   ],
   "source": [
    "how_many_snakes = 1\n",
    "snake_string = \"\"\"\n",
    "Welcome to Python3!\n",
    "\n",
    "             ____\n",
    "            / . .\\\\\n",
    "            \\  ---<\n",
    "             \\  /\n",
    "   __________/ /\n",
    "-=:___________/\n",
    "\n",
    "<3, Juno\n",
    "\"\"\"\n",
    "\n",
    "\n",
    "print(snake_string * how_many_snakes)"
   ]
  },
  {
   "cell_type": "markdown",
   "id": "5b062381-0be4-4366-9d5d-efd5d38b1211",
   "metadata": {},
   "source": [
    "__Scripting with Raw Input__\n",
    "\n",
    "We can get raw input from the user with the built-in function input, which takes in an optional string argument that you can use to specify a message to show to the user when asking for input."
   ]
  },
  {
   "cell_type": "code",
   "execution_count": 4,
   "id": "df5d6222-f664-4e16-89a2-ae9185957095",
   "metadata": {},
   "outputs": [
    {
     "name": "stdin",
     "output_type": "stream",
     "text": [
      "Please enter your number :  rama rao\n"
     ]
    },
    {
     "name": "stdout",
     "output_type": "stream",
     "text": [
      "hello there, Rama Rao!!\n"
     ]
    }
   ],
   "source": [
    "name = input(\"Please enter your number : \")\n",
    "print(f\"hello there, {name.title()}!!\" )"
   ]
  },
  {
   "cell_type": "code",
   "execution_count": 5,
   "id": "3111cc3f-847c-467a-a48b-622b02ccaf91",
   "metadata": {},
   "outputs": [
    {
     "name": "stdin",
     "output_type": "stream",
     "text": [
      "Please enter an integer :  5\n"
     ]
    },
    {
     "name": "stdout",
     "output_type": "stream",
     "text": [
      "Hello Hello Hello Hello Hello \n"
     ]
    }
   ],
   "source": [
    "num = int(input(\"Please enter an integer : \" ))\n",
    "print(\"Hello \"* num)\n"
   ]
  },
  {
   "cell_type": "code",
   "execution_count": 6,
   "id": "e82256c9-e130-4df2-9756-b13f7e1c8a46",
   "metadata": {},
   "outputs": [
    {
     "name": "stdin",
     "output_type": "stream",
     "text": [
      "Enter an expression :  2*4\n"
     ]
    },
    {
     "name": "stdout",
     "output_type": "stream",
     "text": [
      "8\n"
     ]
    }
   ],
   "source": [
    "# We can also interpret user input as a Python expression using the built-in function eval. This function evaluates a string as a line of Python.\n",
    "\n",
    "result = eval(input(\"Enter an expression : \"))\n",
    "print(result)"
   ]
  },
  {
   "cell_type": "code",
   "execution_count": 8,
   "id": "1c14fc7d-ae8a-47a3-bd2a-28349a6ad82a",
   "metadata": {},
   "outputs": [
    {
     "name": "stdin",
     "output_type": "stream",
     "text": [
      "Enter names separated by commas:  RAM, BHEEM\n",
      "Enter assignment counts separated by commas:  12, 32\n",
      "Enter grades separated by commas:  80, 30\n"
     ]
    },
    {
     "name": "stdout",
     "output_type": "stream",
     "text": [
      "Hi Ram,\n",
      "\n",
      "This is a reminder that you have 12 assignments left to submit before you can graduate. You're current grade is 80 and can increase to 104 if you submit all assignments before the due date.\n",
      "\n",
      "\n",
      "Hi  Bheem,\n",
      "\n",
      "This is a reminder that you have  32 assignments left to submit before you can graduate. You're current grade is  30 and can increase to 94 if you submit all assignments before the due date.\n",
      "\n",
      "\n"
     ]
    }
   ],
   "source": [
    "names = input(\"Enter names separated by commas: \").title().split(\",\")\n",
    "assignments = input(\"Enter assignment counts separated by commas: \").split(\",\")\n",
    "grades = input(\"Enter grades separated by commas: \").split(\",\")\n",
    "\n",
    "message = \"Hi {},\\n\\nThis is a reminder that you have {} assignments left to \\\n",
    "submit before you can graduate. You're current grade is {} and can increase \\\n",
    "to {} if you submit all assignments before the due date.\\n\\n\"\n",
    "\n",
    "for name, assignment, grade in zip(names, assignments, grades):\n",
    "    print(message.format(name, assignment, grade, int(grade) + int(assignment)*2))"
   ]
  },
  {
   "cell_type": "markdown",
   "id": "eed2aad7-3f16-4ea7-b10c-1515abed297f",
   "metadata": {},
   "source": [
    "### Errors and Exceptions\n",
    "\n",
    "__Syntax errors__ occur when Python can’t interpret our code, since we didn’t follow the correct syntax for Python. These are errors you’re likely to get when you make a typo, or you’re first starting to learn Python.\n",
    "\n",
    "__Exceptions__ occur when unexpected things happen during execution of a program, even if the code is syntactically correct. There are different types of built-in exceptions in Python, and you can see which exception is thrown in the error message."
   ]
  },
  {
   "cell_type": "code",
   "execution_count": 9,
   "id": "297b3e17-5bde-4dc1-bf59-d2cba5fd18e1",
   "metadata": {},
   "outputs": [
    {
     "name": "stdin",
     "output_type": "stream",
     "text": [
      "Please enter the number :  ten\n"
     ]
    },
    {
     "name": "stdout",
     "output_type": "stream",
     "text": [
      "That's not a valid input!!\n",
      "\n",
      "Attempted Input\n"
     ]
    }
   ],
   "source": [
    "try:\n",
    "    x = int(input(\"Please enter the number : \"))\n",
    "\n",
    "except:\n",
    "    print(\"That\\'s not a valid input!!\")\n",
    "\n",
    "print(\"\\nAttempted Input\")"
   ]
  },
  {
   "cell_type": "markdown",
   "id": "ab890d43-8f45-4b34-95f9-4cfb35c9e67a",
   "metadata": {},
   "source": [
    "Try Statement\n",
    "We can use try statements to handle exceptions. There are four clauses you can use (one more in addition to those shown in the video).\n",
    "\n",
    "try: This is the only mandatory clause in a try statement. The code in this block is the first thing that Python runs in a try statement.\n",
    "\n",
    "except: If Python runs into an exception while running the try block, it will jump to the except block that handles that exception.\n",
    "\n",
    "else: If Python runs into no exceptions while running the try block, it will run the code in this block after running the try block.\n",
    "\n",
    "finally: Before Python leaves this try statement, it will run the code in this finally block under any conditions, even if it's ending the program. E.g., if Python ran into an error while running code in the except or else block, this finally block will still be executed before stopping the program."
   ]
  },
  {
   "cell_type": "code",
   "execution_count": 2,
   "id": "ffbbdaa6-045e-4e85-b27b-577f58c2846e",
   "metadata": {},
   "outputs": [
    {
     "name": "stdin",
     "output_type": "stream",
     "text": [
      "Please enter the number :  10\n"
     ]
    }
   ],
   "source": [
    "# If we want to make it run until we enter the correct format then we will use the while true then we use beak statement to stop\n",
    "while True:\n",
    "    try:\n",
    "        x = int(input(\"Please enter the number : \"))\n",
    "        break\n",
    "    except:\n",
    "        print(\"That\\'s not a valid input!!\")\n",
    "\n",
    "    print(\"\\nAttempted Input\")"
   ]
  },
  {
   "cell_type": "markdown",
   "id": "5c8fa938-dcdf-41ed-bf52-f2f56ef15814",
   "metadata": {},
   "source": [
    "__Handling Input Errors__\n",
    "\n",
    "The party_planner function below takes as input a number of party people and cookies and figures out how many cookies each person gets at the party, assuming equitable distribution of cookies. Then, it returns that number along with how many cookies will be left over.\n",
    "\n",
    "Right now, calling the function with an input of 0 people will cause an error, because it creates a ZeroDivisionError exception. Edit the party_planner function to handle this invalid input. If it runs into this exception, it should print a warning message to the user and request they input a different number of people.\n",
    "\n",
    "After you've edited the function, try running the file again and make sure it does what you intended. Try it with several different input values, including 0 and other values for the number of people.\n",
    "\n"
   ]
  },
  {
   "cell_type": "code",
   "execution_count": 1,
   "id": "9125ceea-cb71-4b4a-9b2b-5e9aa462cdb2",
   "metadata": {},
   "outputs": [
    {
     "name": "stdin",
     "output_type": "stream",
     "text": [
      "How many cookies are you baking?  20\n",
      "How many people are attending?  0\n"
     ]
    },
    {
     "name": "stdout",
     "output_type": "stream",
     "text": [
      "You entered wron input so please enter the correct input again\n"
     ]
    },
    {
     "name": "stdin",
     "output_type": "stream",
     "text": [
      "\n",
      "Would you like to party more? (y or n)  y\n",
      "How many cookies are you baking?  10\n",
      "How many people are attending?  3\n"
     ]
    },
    {
     "name": "stdout",
     "output_type": "stream",
     "text": [
      "\n",
      "Let's party! We'll have 3 people attending, they'll each get to eat 3 cookies, and we'll have 1 left over.\n"
     ]
    },
    {
     "name": "stdin",
     "output_type": "stream",
     "text": [
      "\n",
      "Would you like to party more? (y or n)  n\n"
     ]
    }
   ],
   "source": [
    "def party_planner(cookies, people):\n",
    "    leftovers = None\n",
    "    num_each = None\n",
    "    # TODO: Add a try-except block here to\n",
    "    #       make sure no ZeroDivisionError occurs.\n",
    "    try:\n",
    "        num_each = cookies // people\n",
    "        leftovers = cookies % people\n",
    "    except ZeroDivisionError:\n",
    "        print(\"You entered wron input so please enter the correct input again\")\n",
    "    \n",
    "    return(num_each, leftovers)\n",
    "\n",
    "# The main code block is below; do not edit this\n",
    "lets_party = 'y'\n",
    "while lets_party == 'y':\n",
    "\n",
    "    cookies = int(input(\"How many cookies are you baking? \"))\n",
    "    people = int(input(\"How many people are attending? \"))\n",
    "\n",
    "    cookies_each, leftovers = party_planner(cookies, people)\n",
    "\n",
    "    if cookies_each:  # if cookies_each is not None\n",
    "        message = \"\\nLet's party! We'll have {} people attending, they'll each get to eat {} cookies, and we'll have {} left over.\"\n",
    "        print(message.format(people, cookies_each, leftovers))\n",
    "\n",
    "    lets_party = input(\"\\nWould you like to party more? (y or n) \")"
   ]
  },
  {
   "cell_type": "code",
   "execution_count": null,
   "id": "bb6c2462-825b-4737-85f9-3d719a608b54",
   "metadata": {},
   "outputs": [],
   "source": []
  }
 ],
 "metadata": {
  "kernelspec": {
   "display_name": "Python 3 (ipykernel)",
   "language": "python",
   "name": "python3"
  },
  "language_info": {
   "codemirror_mode": {
    "name": "ipython",
    "version": 3
   },
   "file_extension": ".py",
   "mimetype": "text/x-python",
   "name": "python",
   "nbconvert_exporter": "python",
   "pygments_lexer": "ipython3",
   "version": "3.8.18"
  }
 },
 "nbformat": 4,
 "nbformat_minor": 5
}
