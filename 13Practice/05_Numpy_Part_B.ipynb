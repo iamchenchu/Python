{
 "cells": [
  {
   "cell_type": "markdown",
   "id": "65803364-2014-4efa-9a89-64a67607a5ff",
   "metadata": {},
   "source": [
    "### SLICING NDARRAYS\n",
    "\n",
    "1. ndarray[start:end]\n",
    "2. ndarray[start:]\n",
    "3. ndarray[:end]\n",
    "4. 3. ndarray[start:end:step]\n",
    "\n",
    "    * The starting index is always included and end index is always excluded\n",
    "    * numpy arrays cab be multidimentional so when slicing it's mandatory to mention size of each dimention of the array "
   ]
  },
  {
   "cell_type": "code",
   "execution_count": 1,
   "id": "f12a08a7-9d4f-414d-9083-4e4b7ab60da1",
   "metadata": {},
   "outputs": [
    {
     "data": {
      "text/plain": [
       "array([ 1,  2,  3,  4,  5,  6,  7,  8,  9, 10, 11, 12, 13, 14, 15, 16, 17,\n",
       "       18, 19, 20])"
      ]
     },
     "execution_count": 1,
     "metadata": {},
     "output_type": "execute_result"
    }
   ],
   "source": [
    "import numpy as np\n",
    "\n",
    "c = np.arange(1, 21)\n",
    "c"
   ]
  },
  {
   "cell_type": "code",
   "execution_count": 3,
   "id": "b8ab48c5-b330-4dee-a581-65b27d1df6a0",
   "metadata": {},
   "outputs": [
    {
     "data": {
      "text/plain": [
       "array([ 2,  4,  6,  8, 10, 12, 14])"
      ]
     },
     "execution_count": 3,
     "metadata": {},
     "output_type": "execute_result"
    }
   ],
   "source": [
    "c[1:15:2]"
   ]
  },
  {
   "cell_type": "code",
   "execution_count": 5,
   "id": "929cca62-1f5c-49b0-90ed-e35d7ed14572",
   "metadata": {},
   "outputs": [
    {
     "data": {
      "text/plain": [
       "array([[ 1,  2,  3,  4,  5],\n",
       "       [ 6,  7,  8,  9, 10],\n",
       "       [11, 12, 13, 14, 15],\n",
       "       [16, 17, 18, 19, 20]])"
      ]
     },
     "execution_count": 5,
     "metadata": {},
     "output_type": "execute_result"
    }
   ],
   "source": [
    "c = c.reshape(4, 5)\n",
    "c"
   ]
  },
  {
   "cell_type": "code",
   "execution_count": 6,
   "id": "fb559132-7a2f-4518-9312-3c3be334d67e",
   "metadata": {},
   "outputs": [
    {
     "data": {
      "text/plain": [
       "array([[ 6,  7,  8,  9, 10],\n",
       "       [11, 12, 13, 14, 15],\n",
       "       [16, 17, 18, 19, 20]])"
      ]
     },
     "execution_count": 6,
     "metadata": {},
     "output_type": "execute_result"
    }
   ],
   "source": [
    "c[1:4]"
   ]
  },
  {
   "cell_type": "code",
   "execution_count": 9,
   "id": "9d4b014e-41ae-4cbd-afdf-ede87a867dd8",
   "metadata": {},
   "outputs": [
    {
     "data": {
      "text/plain": [
       "array([[ 1,  2,  3,  4,  5],\n",
       "       [11, 12, 13, 14, 15]])"
      ]
     },
     "execution_count": 9,
     "metadata": {},
     "output_type": "execute_result"
    }
   ],
   "source": [
    "c[0:5: 2] "
   ]
  },
  {
   "cell_type": "code",
   "execution_count": 1,
   "id": "97cdfaf4-19e0-4c31-8356-afc1bb22d005",
   "metadata": {},
   "outputs": [
    {
     "name": "stdout",
     "output_type": "stream",
     "text": [
      "[[ 1  2  3  4  5]\n",
      " [ 6  7  8  9 10]\n",
      " [11 12 13 14 15]\n",
      " [16 17 18 19 20]]\n"
     ]
    }
   ],
   "source": [
    "# Let's see some examples for rank 2 arrays \n",
    "import numpy as np\n",
    "\n",
    "X = np.arange(1, 21).reshape(4, 5)\n",
    "print(X)"
   ]
  },
  {
   "cell_type": "code",
   "execution_count": 6,
   "id": "7e79aefb-4c2d-412d-86a3-4061ade10dfd",
   "metadata": {},
   "outputs": [
    {
     "name": "stdout",
     "output_type": "stream",
     "text": [
      "[[ 8  9 10]\n",
      " [13 14 15]\n",
      " [18 19 20]]\n"
     ]
    }
   ],
   "source": [
    "# Imagine I want the last 9 values in the array as 3 by 3\n",
    "# Remember that the indexing always starts with 0\n",
    "\n",
    "#One way \n",
    "z = X[1:4, 2:5] # X[start_range:end_range for rows, start_range:endrange for columns] here also the starting index is included and end is excluded\n",
    "print(z)\n"
   ]
  },
  {
   "cell_type": "code",
   "execution_count": 7,
   "id": "3b61000f-a512-4b66-b521-0f49cd49dc27",
   "metadata": {},
   "outputs": [
    {
     "name": "stdout",
     "output_type": "stream",
     "text": [
      "[[ 8  9 10]\n",
      " [13 14 15]\n",
      " [18 19 20]]\n"
     ]
    }
   ],
   "source": [
    "# Another way \n",
    "y = X[1: , 2: ]\n",
    "print(y)"
   ]
  },
  {
   "cell_type": "code",
   "execution_count": 8,
   "id": "600502f8-f271-4085-91aa-6b4e2b6ed243",
   "metadata": {},
   "outputs": [
    {
     "name": "stdout",
     "output_type": "stream",
     "text": [
      "[[ 3  4  5]\n",
      " [ 8  9 10]\n",
      " [13 14 15]]\n"
     ]
    }
   ],
   "source": [
    "# Now imagine we need right top 3 by 3 from X\n",
    "\n",
    "a = X[0:3, 2:5] # or X[:3, 2:]\n",
    "print(a)"
   ]
  },
  {
   "cell_type": "code",
   "execution_count": 10,
   "id": "be887d4d-4624-44ec-acdb-6dc4a852149a",
   "metadata": {},
   "outputs": [
    {
     "name": "stdout",
     "output_type": "stream",
     "text": [
      "[11 12 13 14 15]\n"
     ]
    }
   ],
   "source": [
    "b = X[2, : ] # selecting all elements from 3rd row\n",
    "print(b)"
   ]
  },
  {
   "cell_type": "code",
   "execution_count": 11,
   "id": "26111679-f663-4a28-b21f-3791366e92e9",
   "metadata": {},
   "outputs": [
    {
     "name": "stdout",
     "output_type": "stream",
     "text": [
      "[ 3  8 13 18]\n"
     ]
    }
   ],
   "source": [
    "c = X[:, 2] # All the rows from column 2\n",
    "print(c)\n",
    "\n",
    "# But it returns as rank 1 arraay "
   ]
  },
  {
   "cell_type": "code",
   "execution_count": 12,
   "id": "9e9ae0ef-8490-48c5-a9d7-85a3a4cb89d5",
   "metadata": {},
   "outputs": [
    {
     "name": "stdout",
     "output_type": "stream",
     "text": [
      "[[ 3]\n",
      " [ 8]\n",
      " [13]\n",
      " [18]]\n"
     ]
    }
   ],
   "source": [
    "# If you want rank 2 array then do as folollows \n",
    "d = X[:, 2:3]\n",
    "print(d)"
   ]
  },
  {
   "cell_type": "code",
   "execution_count": 13,
   "id": "2f124120-4c7d-4b70-913b-e5822d0aebc1",
   "metadata": {},
   "outputs": [
    {
     "name": "stdout",
     "output_type": "stream",
     "text": [
      "[[ 1  2  3  4  5]\n",
      " [ 6  7  8  9 10]\n",
      " [11 12 13 14 15]\n",
      " [16 17 18 19 20]]\n"
     ]
    }
   ],
   "source": [
    "print(X) "
   ]
  },
  {
   "cell_type": "code",
   "execution_count": 14,
   "id": "ddbc1d9b-79c1-4f2c-bc9d-97789564deb8",
   "metadata": {},
   "outputs": [
    {
     "name": "stdout",
     "output_type": "stream",
     "text": [
      "[[ 8  9 10]\n",
      " [13 14 15]\n",
      " [18 19 20]]\n"
     ]
    }
   ],
   "source": [
    "z = X[1: , 2:]\n",
    "print(z)"
   ]
  },
  {
   "cell_type": "code",
   "execution_count": 15,
   "id": "d2625abd-66e1-4220-bfa2-696d5a461b81",
   "metadata": {},
   "outputs": [
    {
     "name": "stdout",
     "output_type": "stream",
     "text": [
      "[[  8   9  10]\n",
      " [ 13  14  15]\n",
      " [ 18  19 555]]\n"
     ]
    }
   ],
   "source": [
    "z[2,2] = 555\n",
    "print(z) # now what ever we change in z, all changes do reflect in the X main arrays also"
   ]
  },
  {
   "cell_type": "code",
   "execution_count": 16,
   "id": "e6940ae3-ce56-489c-a691-c91d4b6a6762",
   "metadata": {},
   "outputs": [
    {
     "name": "stdout",
     "output_type": "stream",
     "text": [
      "[[  1   2   3   4   5]\n",
      " [  6   7   8   9  10]\n",
      " [ 11  12  13  14  15]\n",
      " [ 16  17  18  19 555]]\n"
     ]
    }
   ],
   "source": [
    "print(X)"
   ]
  },
  {
   "cell_type": "code",
   "execution_count": 17,
   "id": "c9509b78-7e3e-466b-ad91-4bf65eb96815",
   "metadata": {},
   "outputs": [
    {
     "name": "stdout",
     "output_type": "stream",
     "text": [
      "[[ 0  1  2  3  4]\n",
      " [ 5  6  7  8  9]\n",
      " [10 11 12 13 14]\n",
      " [15 16 17 18 19]]\n"
     ]
    }
   ],
   "source": [
    "X = np.arange(20).reshape(4, 5)\n",
    "print(X)"
   ]
  },
  {
   "cell_type": "code",
   "execution_count": 18,
   "id": "d0e06f15-5bf8-42d9-9618-22963f4a6bb1",
   "metadata": {},
   "outputs": [
    {
     "name": "stdout",
     "output_type": "stream",
     "text": [
      "[[ 7  8  9]\n",
      " [12 13 14]\n",
      " [17 18 19]]\n"
     ]
    }
   ],
   "source": [
    "z = np.copy(X[1:, 2:])\n",
    "print(z)"
   ]
  },
  {
   "cell_type": "code",
   "execution_count": 20,
   "id": "576aa71a-0c04-4d27-aff9-7167f929ec06",
   "metadata": {},
   "outputs": [
    {
     "name": "stdout",
     "output_type": "stream",
     "text": [
      "[[  7   8   9]\n",
      " [ 12  13  14]\n",
      " [ 17  18 555]]\n",
      "[[ 0  1  2  3  4]\n",
      " [ 5  6  7  8  9]\n",
      " [10 11 12 13 14]\n",
      " [15 16 17 18 19]]\n"
     ]
    }
   ],
   "source": [
    "z[2, 2] = 555 # here we can seee that the X main array will not gte affected by the chnages in z as we copied that seperatly from the X\n",
    "print(z)\n",
    "print(X)"
   ]
  },
  {
   "cell_type": "code",
   "execution_count": 21,
   "id": "a7bebe7f-e178-4ba5-9abe-d9c4370e4c2d",
   "metadata": {},
   "outputs": [
    {
     "name": "stdout",
     "output_type": "stream",
     "text": [
      "[1 3]\n"
     ]
    }
   ],
   "source": [
    "indices = np.array([1, 3])\n",
    "print(indices)"
   ]
  },
  {
   "cell_type": "code",
   "execution_count": 22,
   "id": "ebd46755-eb11-42ba-848f-f199235bf535",
   "metadata": {},
   "outputs": [
    {
     "name": "stdout",
     "output_type": "stream",
     "text": [
      "[[ 5  6  7  8  9]\n",
      " [15 16 17 18 19]]\n"
     ]
    }
   ],
   "source": [
    "y = X[indices, :]\n",
    "print(y) # it means it will print 1 and 3 rows, and 2nd row willl not be included, all columns will be included"
   ]
  },
  {
   "cell_type": "code",
   "execution_count": 24,
   "id": "da5dd78e-9dba-45f0-bd07-157c7c2c9af0",
   "metadata": {},
   "outputs": [
    {
     "name": "stdout",
     "output_type": "stream",
     "text": [
      "[[ 1  3]\n",
      " [ 6  8]\n",
      " [11 13]\n",
      " [16 18]]\n"
     ]
    }
   ],
   "source": [
    "z = X[:, indices] # all rows but 1st and 3rd columns\n",
    "print(z)"
   ]
  },
  {
   "cell_type": "code",
   "execution_count": 26,
   "id": "102a0bb0-bc12-44ab-babe-18f1bce031d5",
   "metadata": {},
   "outputs": [
    {
     "name": "stdout",
     "output_type": "stream",
     "text": [
      "[[ 0  1  2  3  4]\n",
      " [ 5  6  7  8  9]\n",
      " [10 11 12 13 14]\n",
      " [15 16 17 18 19]]\n"
     ]
    }
   ],
   "source": [
    "print(X)"
   ]
  },
  {
   "cell_type": "code",
   "execution_count": 25,
   "id": "73279670-8fba-4b2f-86b6-6e789bd4b1c1",
   "metadata": {},
   "outputs": [
    {
     "name": "stdout",
     "output_type": "stream",
     "text": [
      "[ 0  6 12 18]\n"
     ]
    }
   ],
   "source": [
    "z = np.diag(X) # will return the diagonal elements of the X\n",
    "print(z)"
   ]
  },
  {
   "cell_type": "code",
   "execution_count": 27,
   "id": "39f9b9c6-1923-4ce1-bad1-4aa7d3ce2f97",
   "metadata": {},
   "outputs": [
    {
     "name": "stdout",
     "output_type": "stream",
     "text": [
      "[ 1  7 13 19]\n"
     ]
    }
   ],
   "source": [
    "z = np.diag(X, k=1) # above the diagonal, by default k = 0 which is main diagonal \n",
    "print(z)"
   ]
  },
  {
   "cell_type": "code",
   "execution_count": 28,
   "id": "49a8e40b-18fb-4785-b0db-2bbb5e241a9c",
   "metadata": {},
   "outputs": [
    {
     "name": "stdout",
     "output_type": "stream",
     "text": [
      "[ 5 11 17]\n"
     ]
    }
   ],
   "source": [
    "z = np.diag(X, k=-1) # below the diagonal\n",
    "print(z)"
   ]
  },
  {
   "cell_type": "code",
   "execution_count": 29,
   "id": "910f4d0e-c9be-4a21-8e7e-c0d03651522f",
   "metadata": {},
   "outputs": [
    {
     "name": "stdout",
     "output_type": "stream",
     "text": [
      "[[1 2 3]\n",
      " [5 2 8]\n",
      " [1 2 3]]\n"
     ]
    }
   ],
   "source": [
    "X = np.array([[1, 2, 3], [5, 2, 8], [1, 2, 3]])\n",
    "print(X)"
   ]
  },
  {
   "cell_type": "code",
   "execution_count": 30,
   "id": "88a11d04-1775-4391-b607-ec2b8b6d2318",
   "metadata": {},
   "outputs": [
    {
     "name": "stdout",
     "output_type": "stream",
     "text": [
      "[1 2 3 5 8]\n"
     ]
    }
   ],
   "source": [
    "print(np.unique(X)) # will print all the unique elements in the entire array "
   ]
  },
  {
   "cell_type": "markdown",
   "id": "4d8404f4-fb7c-4bb7-86a3-07dd6b8f279c",
   "metadata": {},
   "source": [
    "### Boolean Indexing, set operations and sorting \n",
    "\n",
    "Up to now we have seen how to make slices and select elements of an ndarray using indices. This is useful when we know the exact indices of the elements we want to select. However, there are many situations in which we don't know the indices of the elements we want to select. For example, suppose we have a 10,000 x 10,000 ndarray of random integers ranging from 1 to 15,000 and we only want to select those integers that are less than 20. Boolean indexing can help us in these cases, by allowing us select elements using logical arguments instead of explicit indices. Let's see some examples:"
   ]
  },
  {
   "cell_type": "code",
   "execution_count": 32,
   "id": "8df3fa80-9352-4569-bc37-0aea2250dd71",
   "metadata": {},
   "outputs": [],
   "source": [
    "import numpy as np"
   ]
  },
  {
   "cell_type": "code",
   "execution_count": 33,
   "id": "6168a3da-1a47-4b71-b3bf-f76a1489d9df",
   "metadata": {},
   "outputs": [
    {
     "name": "stdout",
     "output_type": "stream",
     "text": [
      "[[ 0  1  2  3  4]\n",
      " [ 5  6  7  8  9]\n",
      " [10 11 12 13 14]\n",
      " [15 16 17 18 19]\n",
      " [20 21 22 23 24]]\n"
     ]
    }
   ],
   "source": [
    "X = np.arange(25).reshape(5, 5)\n",
    "print(X)"
   ]
  },
  {
   "cell_type": "code",
   "execution_count": 35,
   "id": "207e221a-52ed-4a7f-852a-fa03ebedac2c",
   "metadata": {},
   "outputs": [
    {
     "name": "stdout",
     "output_type": "stream",
     "text": [
      "[11 12 13 14 15 16 17 18 19 20 21 22 23 24]\n"
     ]
    }
   ],
   "source": [
    "print(X[X>10]) # print all the elements > 10 in the X array"
   ]
  },
  {
   "cell_type": "code",
   "execution_count": 36,
   "id": "54a0504d-c832-458a-9793-c9576c868c38",
   "metadata": {},
   "outputs": [
    {
     "name": "stdout",
     "output_type": "stream",
     "text": [
      "[0 1 2 3 4 5 6 7]\n"
     ]
    }
   ],
   "source": [
    "print(X[X<=7])\n"
   ]
  },
  {
   "cell_type": "code",
   "execution_count": 38,
   "id": "440f7cd9-4fb2-4d68-832e-346bceda1bd4",
   "metadata": {},
   "outputs": [
    {
     "name": "stdout",
     "output_type": "stream",
     "text": [
      "[11 12 13 14 15 16]\n"
     ]
    }
   ],
   "source": [
    "print(X[(X>10) & (X<17)])"
   ]
  },
  {
   "cell_type": "code",
   "execution_count": 40,
   "id": "5c096d6c-b15c-435e-8f53-2eac57d83f19",
   "metadata": {},
   "outputs": [
    {
     "name": "stdout",
     "output_type": "stream",
     "text": [
      "[[ 0  1  2  3  4]\n",
      " [ 5  6  7  8  9]\n",
      " [10 -1 -1 -1 -1]\n",
      " [-1 -1 17 18 19]\n",
      " [20 21 22 23 24]]\n"
     ]
    }
   ],
   "source": [
    "X[(X>10) & (X<17)]= -1\n",
    "print(X)"
   ]
  },
  {
   "cell_type": "code",
   "execution_count": 41,
   "id": "51b7d976-8040-47d7-a4a9-43de25a887fd",
   "metadata": {},
   "outputs": [
    {
     "name": "stdout",
     "output_type": "stream",
     "text": [
      "[2 4]\n",
      "[1 3 5]\n",
      "[1 2 3 4 5 6 7 8]\n"
     ]
    }
   ],
   "source": [
    "# Set operations \n",
    "\n",
    "x = np.array([1, 2, 3, 4, 5])\n",
    "y = np.array([6, 7, 2, 8, 4])\n",
    "\n",
    "print(np.intersect1d(x, y))\n",
    "print(np.setdiff1d(x, y))\n",
    "print(np.union1d(x, y))"
   ]
  },
  {
   "cell_type": "code",
   "execution_count": 45,
   "id": "b5b95281-359b-4d9f-a6b8-706a2f0d1957",
   "metadata": {},
   "outputs": [
    {
     "name": "stdout",
     "output_type": "stream",
     "text": [
      "[ 1  9  5  4  8 10  2  9  3  2]\n"
     ]
    }
   ],
   "source": [
    "# Sorting the arrays \n",
    "\n",
    "x = np.random.randint(1, 11, size=(10,))\n",
    "print(x)"
   ]
  },
  {
   "cell_type": "code",
   "execution_count": 46,
   "id": "f39569d6-e2cd-496f-b3ce-2e2fdd0080b7",
   "metadata": {},
   "outputs": [
    {
     "name": "stdout",
     "output_type": "stream",
     "text": [
      "[ 1  2  2  3  4  5  8  9  9 10]\n"
     ]
    }
   ],
   "source": [
    "print(np.sort(x))"
   ]
  },
  {
   "cell_type": "code",
   "execution_count": 47,
   "id": "d75f787d-e530-463c-895a-47e006689199",
   "metadata": {},
   "outputs": [
    {
     "name": "stdout",
     "output_type": "stream",
     "text": [
      "[ 1  2  3  4  5  8  9 10]\n"
     ]
    }
   ],
   "source": [
    "print(np.sort(np.unique(x))) # it won't change the original array "
   ]
  },
  {
   "cell_type": "code",
   "execution_count": 48,
   "id": "05e67871-9f5a-491d-a493-7c182ca7aac5",
   "metadata": {},
   "outputs": [
    {
     "name": "stdout",
     "output_type": "stream",
     "text": [
      "[ 1  9  5  4  8 10  2  9  3  2]\n"
     ]
    }
   ],
   "source": [
    "print(x)"
   ]
  },
  {
   "cell_type": "code",
   "execution_count": 50,
   "id": "526a6a98-2584-4dc5-b2d1-5d6d4a027c93",
   "metadata": {},
   "outputs": [
    {
     "name": "stdout",
     "output_type": "stream",
     "text": [
      "[ 1  2  2  3  4  5  8  9  9 10]\n"
     ]
    }
   ],
   "source": [
    "x.sort() # it wil change the original array\n",
    "print(x)"
   ]
  },
  {
   "cell_type": "code",
   "execution_count": 51,
   "id": "3c97df4a-50b0-4d16-abd4-7706b7831d9f",
   "metadata": {},
   "outputs": [
    {
     "name": "stdout",
     "output_type": "stream",
     "text": [
      "[[ 6  3  5  5  2]\n",
      " [ 3  1  3  8  4]\n",
      " [ 4  1 10  7  6]\n",
      " [ 6  1  3 10  7]\n",
      " [ 5  2  5 10  1]]\n"
     ]
    }
   ],
   "source": [
    "# We can also sort by rows and columns also \n",
    "\n",
    "X = np.random.randint(1, 11, size=(5, 5))\n",
    "print(X)"
   ]
  },
  {
   "cell_type": "code",
   "execution_count": 52,
   "id": "c0ae54e6-59c6-4246-9ce2-873219702ed7",
   "metadata": {},
   "outputs": [
    {
     "name": "stdout",
     "output_type": "stream",
     "text": [
      "[[ 3  1  3  5  1]\n",
      " [ 4  1  3  7  2]\n",
      " [ 5  1  5  8  4]\n",
      " [ 6  2  5 10  6]\n",
      " [ 6  3 10 10  7]]\n"
     ]
    }
   ],
   "source": [
    "print(np.sort(X, axis=0)) # will be sorted by rows"
   ]
  },
  {
   "cell_type": "markdown",
   "id": "8b9bcd5c-1823-46ce-ae3c-ed41f24b441c",
   "metadata": {},
   "source": [
    "print(np.sort(X, axis=1)) # will be sorted by columns "
   ]
  },
  {
   "cell_type": "markdown",
   "id": "5bab545e-4809-4cde-ba86-1ef2b913147c",
   "metadata": {},
   "source": [
    "Create a 5 x 5 ndarray X with consecutive integers from 1 to 25 (inclusive). Afterwards use Boolean indexing to pick out only the odd numbers in the array and assign the result to Y."
   ]
  },
  {
   "cell_type": "code",
   "execution_count": null,
   "id": "81c93e8c-59d9-4803-a007-175f43c2d7a9",
   "metadata": {},
   "outputs": [],
   "source": [
    "import numpy as np\n",
    "\n",
    "# TODO: replace None with appropriate code\n",
    "# Create a 5 x 5 ndarray with consecutive integers from 1 to 25 (inclusive).\n",
    "X = np.arange(1, 26).reshape(5,5)\n",
    "print(X)\n",
    "\n",
    "# TODO: replace None with appropriate code\n",
    "# Use Boolean indexing to pick out only the odd numbers in the array\n",
    "Y = X[X%2!=0]\n",
    "print(Y)"
   ]
  },
  {
   "cell_type": "markdown",
   "id": "9f767a66-edb5-4416-b95b-646778146060",
   "metadata": {},
   "source": [
    "### Arithmetic operations and Broadcasting\n"
   ]
  },
  {
   "cell_type": "code",
   "execution_count": 1,
   "id": "567baefc-405d-4b1e-87aa-87e8fe790b69",
   "metadata": {},
   "outputs": [
    {
     "name": "stdout",
     "output_type": "stream",
     "text": [
      "\n",
      "x =  [1 2 3 4]\n",
      "\n",
      "y =  [5.5 6.5 7.5 8.5]\n",
      "\n",
      "x + y =  [ 6.5  8.5 10.5 12.5]\n",
      "add(x,y) =  [ 6.5  8.5 10.5 12.5]\n",
      "\n",
      "x - y =  [-4.5 -4.5 -4.5 -4.5]\n",
      "subtract(x,y) =  [-4.5 -4.5 -4.5 -4.5]\n",
      "\n",
      "x  *y =  [ 5.5 13.  22.5 34. ]\n",
      "multiply(x,y) =  [ 5.5 13.  22.5 34. ]\n",
      "\n",
      "x / y =  [0.18181818 0.30769231 0.4        0.47058824]\n",
      "divide(x,y) =  [0.18181818 0.30769231 0.4        0.47058824]\n"
     ]
    }
   ],
   "source": [
    "import numpy as np\n",
    "\n",
    "# We create two rank 1 ndarrays\n",
    "x = np.array([1,2,3,4])\n",
    "y = np.array([5.5,6.5,7.5,8.5])\n",
    "\n",
    "# We print x\n",
    "print()\n",
    "print('x = ', x)\n",
    "\n",
    "# We print y\n",
    "print()\n",
    "print('y = ', y)\n",
    "print()\n",
    "\n",
    "# We perfrom basic element-wise operations using arithmetic symbols and functions\n",
    "print('x + y = ', x + y)\n",
    "print('add(x,y) = ', np.add(x,y))\n",
    "print()\n",
    "print('x - y = ', x - y)\n",
    "print('subtract(x,y) = ', np.subtract(x,y))\n",
    "print()\n",
    "print('x  *y = ', x*  y)\n",
    "print('multiply(x,y) = ', np.multiply(x,y))\n",
    "print()\n",
    "print('x / y = ', x / y)\n",
    "print('divide(x,y) = ', np.divide(x,y))"
   ]
  },
  {
   "cell_type": "markdown",
   "id": "1ad0093a-f8ac-47db-8bd3-12dadbae3c2b",
   "metadata": {},
   "source": [
    "### Example 2. Element-wise arithmetic operations on a 2-D array (Same shape)"
   ]
  },
  {
   "cell_type": "code",
   "execution_count": 2,
   "id": "8269c434-a657-4664-94ac-da2c3e835129",
   "metadata": {},
   "outputs": [
    {
     "name": "stdout",
     "output_type": "stream",
     "text": [
      "\n",
      "X = \n",
      " [[1 2]\n",
      " [3 4]]\n",
      "\n",
      "Y = \n",
      " [[5.5 6.5]\n",
      " [7.5 8.5]]\n",
      "\n",
      "X + Y = \n",
      " [[ 6.5  8.5]\n",
      " [10.5 12.5]]\n",
      "\n",
      "add(X,Y) = \n",
      " [[ 6.5  8.5]\n",
      " [10.5 12.5]]\n",
      "\n",
      "X - Y = \n",
      " [[-4.5 -4.5]\n",
      " [-4.5 -4.5]]\n",
      "\n",
      "subtract(X,Y) = \n",
      " [[-4.5 -4.5]\n",
      " [-4.5 -4.5]]\n",
      "\n",
      "X  *Y = \n",
      " [[ 5.5 13. ]\n",
      " [22.5 34. ]]\n",
      "\n",
      "multiply(X,Y) = \n",
      " [[ 5.5 13. ]\n",
      " [22.5 34. ]]\n",
      "\n",
      "X / Y = \n",
      " [[0.18181818 0.30769231]\n",
      " [0.4        0.47058824]]\n",
      "\n",
      "divide(X,Y) = \n",
      " [[0.18181818 0.30769231]\n",
      " [0.4        0.47058824]]\n"
     ]
    }
   ],
   "source": [
    "# We create two rank 2 ndarrays\n",
    "X = np.array([1,2,3,4]).reshape(2,2)\n",
    "Y = np.array([5.5,6.5,7.5,8.5]).reshape(2,2)\n",
    "\n",
    "# We print X\n",
    "print()\n",
    "print('X = \\n', X)\n",
    "\n",
    "# We print Y\n",
    "print()\n",
    "print('Y = \\n', Y)\n",
    "print()\n",
    "\n",
    "# We perform basic element-wise operations using arithmetic symbols and functions\n",
    "print('X + Y = \\n', X + Y)\n",
    "print()\n",
    "print('add(X,Y) = \\n', np.add(X,Y))\n",
    "print()\n",
    "print('X - Y = \\n', X - Y)\n",
    "print()\n",
    "print('subtract(X,Y) = \\n', np.subtract(X,Y))\n",
    "print()\n",
    "print('X  *Y = \\n', X*  Y)\n",
    "print()\n",
    "print('multiply(X,Y) = \\n', np.multiply(X,Y))\n",
    "print()\n",
    "print('X / Y = \\n', X / Y)\n",
    "print()\n",
    "print('divide(X,Y) = \\n', np.divide(X,Y))"
   ]
  },
  {
   "cell_type": "markdown",
   "id": "08ccdc8f-1e15-43f1-9f19-6692aa464e3b",
   "metadata": {},
   "source": [
    "Use Broadcasting to create a 4 x 4 ndarray that has its first column full of `1`s, its second column full of `2`s, its third column full of `3`s, etc.."
   ]
  },
  {
   "cell_type": "code",
   "execution_count": 57,
   "id": "ee53ee4a-53f7-42a9-af81-b52b30de37bd",
   "metadata": {},
   "outputs": [
    {
     "name": "stdout",
     "output_type": "stream",
     "text": [
      "[[1. 2. 3. 4.]\n",
      " [1. 2. 3. 4.]\n",
      " [1. 2. 3. 4.]\n",
      " [1. 2. 3. 4.]]\n"
     ]
    }
   ],
   "source": [
    "import numpy as np \n",
    "\n",
    "X = np.ones((4,4)) * np.arange(1,5)\n",
    "print(X)"
   ]
  },
  {
   "cell_type": "code",
   "execution_count": null,
   "id": "2b583e8f-b560-4c9a-9ddf-3fff96d8cf05",
   "metadata": {},
   "outputs": [],
   "source": [
    "'''Explanation\n",
    "np.ones((4,4)) will give you a 4 x 4 matrix:\n",
    "\n",
    "[[1. 1. 1. 1.],\n",
    " [1. 1. 1. 1.],\n",
    " [1. 1. 1. 1.],\n",
    " [1. 1. 1. 1.]]\n",
    "np.arange(1,5) will give you a 1 x 4 matrix:\n",
    "\n",
    "[1 2 3 4]\n",
    "X can be calculated by multiplying the above two matrices to get:\n",
    "\n",
    "[[1. 2. 3. 4.],\n",
    " [1. 2. 3. 4.],\n",
    " [1. 2. 3. 4.],\n",
    " [1. 2. 3. 4.]]'''"
   ]
  },
  {
   "cell_type": "markdown",
   "id": "2c7cefcb-0650-4878-9820-c05ed63c162d",
   "metadata": {},
   "source": [
    "Example 3. Additional mathematical functions\n"
   ]
  },
  {
   "cell_type": "code",
   "execution_count": 3,
   "id": "9d73d335-f83b-4a3f-985c-f69cbf0c1a51",
   "metadata": {},
   "outputs": [
    {
     "name": "stdout",
     "output_type": "stream",
     "text": [
      "\n",
      "x =  [1 2 3 4]\n",
      "\n",
      "EXP(x) = [ 2.71828183  7.3890561  20.08553692 54.59815003]\n",
      "\n",
      "SQRT(x) = [1.         1.41421356 1.73205081 2.        ]\n",
      "\n",
      "POW(x,2) = [ 1  4  9 16]\n"
     ]
    }
   ],
   "source": [
    "# We create a rank 1 ndarray\n",
    "x = np.array([1,2,3,4])\n",
    "\n",
    "# We print x\n",
    "print()\n",
    "print('x = ', x)\n",
    "\n",
    "# We apply different mathematical functions to all elements of x\n",
    "print()\n",
    "print('EXP(x) =', np.exp(x))\n",
    "print()\n",
    "print('SQRT(x) =',np.sqrt(x))\n",
    "print()\n",
    "print('POW(x,2) =',np.power(x,2)) # We raise all elements to the power of 2"
   ]
  },
  {
   "cell_type": "markdown",
   "id": "061009c9-71d2-406c-936f-1d6607e3f0d0",
   "metadata": {},
   "source": [
    "### Example 4. Statistical functions\n"
   ]
  },
  {
   "cell_type": "code",
   "execution_count": 4,
   "id": "9768c816-b84c-4ec0-809a-fca20bae46bd",
   "metadata": {},
   "outputs": [
    {
     "name": "stdout",
     "output_type": "stream",
     "text": [
      "\n",
      "X = \n",
      " [[1 2]\n",
      " [3 4]]\n",
      "\n",
      "Average of all elements in X: 2.5\n",
      "Average of all elements in the columns of X: [2. 3.]\n",
      "Average of all elements in the rows of X: [1.5 3.5]\n",
      "\n",
      "Sum of all elements in X: 10\n",
      "Sum of all elements in the columns of X: [4 6]\n",
      "Sum of all elements in the rows of X: [3 7]\n",
      "\n",
      "Standard Deviation of all elements in X: 1.118033988749895\n",
      "Standard Deviation of all elements in the columns of X: [1. 1.]\n",
      "Standard Deviation of all elements in the rows of X: [0.5 0.5]\n",
      "\n",
      "Median of all elements in X: 2.5\n",
      "Median of all elements in the columns of X: [2. 3.]\n",
      "Median of all elements in the rows of X: [1.5 3.5]\n",
      "\n",
      "Maximum value of all elements in X: 4\n",
      "Maximum value of all elements in the columns of X: [3 4]\n",
      "Maximum value of all elements in the rows of X: [2 4]\n",
      "\n",
      "Minimum value of all elements in X: 1\n",
      "Minimum value of all elements in the columns of X: [1 2]\n",
      "Minimum value of all elements in the rows of X: [1 3]\n"
     ]
    }
   ],
   "source": [
    "# We create a 2 x 2 ndarray\n",
    "X = np.array([[1,2], [3,4]])\n",
    "\n",
    "# We print x\n",
    "print()\n",
    "print('X = \\n', X)\n",
    "print()\n",
    "\n",
    "print('Average of all elements in X:', X.mean())\n",
    "print('Average of all elements in the columns of X:', X.mean(axis=0))\n",
    "print('Average of all elements in the rows of X:', X.mean(axis=1))\n",
    "print()\n",
    "print('Sum of all elements in X:', X.sum())\n",
    "print('Sum of all elements in the columns of X:', X.sum(axis=0))\n",
    "print('Sum of all elements in the rows of X:', X.sum(axis=1))\n",
    "print()\n",
    "print('Standard Deviation of all elements in X:', X.std())\n",
    "print('Standard Deviation of all elements in the columns of X:', X.std(axis=0))\n",
    "print('Standard Deviation of all elements in the rows of X:', X.std(axis=1))\n",
    "print()\n",
    "print('Median of all elements in X:', np.median(X))\n",
    "print('Median of all elements in the columns of X:', np.median(X,axis=0))\n",
    "print('Median of all elements in the rows of X:', np.median(X,axis=1))\n",
    "print()\n",
    "print('Maximum value of all elements in X:', X.max())\n",
    "print('Maximum value of all elements in the columns of X:', X.max(axis=0))\n",
    "print('Maximum value of all elements in the rows of X:', X.max(axis=1))\n",
    "print()\n",
    "print('Minimum value of all elements in X:', X.min())\n",
    "print('Minimum value of all elements in the columns of X:', X.min(axis=0))\n",
    "print('Minimum value of all elements in the rows of X:', X.min(axis=1))"
   ]
  },
  {
   "cell_type": "code",
   "execution_count": 6,
   "id": "f5909597-fd3c-4ba3-a352-be0c22af7e43",
   "metadata": {},
   "outputs": [
    {
     "name": "stdout",
     "output_type": "stream",
     "text": [
      "\n",
      "X = \n",
      " [[1 2]\n",
      " [3 4]]\n",
      "\n",
      "3  *X = \n",
      " [[ 3  6]\n",
      " [ 9 12]]\n",
      "\n",
      "3 + X = \n",
      " [[4 5]\n",
      " [6 7]]\n",
      "\n",
      "X - 3 = \n",
      " [[-2 -1]\n",
      " [ 0  1]]\n",
      "\n",
      "X / 3 = \n",
      " [[0.33333333 0.66666667]\n",
      " [1.         1.33333333]]\n"
     ]
    }
   ],
   "source": [
    "### Example 5. Change value of all elements of an array\n",
    "\n",
    "# We create a 2 x 2 ndarray\n",
    "X = np.array([[1,2], [3,4]])\n",
    "\n",
    "# We print x\n",
    "print()\n",
    "print('X = \\n', X)\n",
    "print()\n",
    "\n",
    "print('3  *X = \\n', 3*  X)\n",
    "print()\n",
    "print('3 + X = \\n', 3 + X)\n",
    "print()\n",
    "print('X - 3 = \\n', X - 3)\n",
    "print()\n",
    "print('X / 3 = \\n', X / 3)\n"
   ]
  },
  {
   "cell_type": "code",
   "execution_count": 7,
   "id": "f8306b42-4ab5-4f55-9347-19229d073a81",
   "metadata": {},
   "outputs": [
    {
     "name": "stdout",
     "output_type": "stream",
     "text": [
      "\n",
      "x =  [1 2 3]\n",
      "\n",
      "\n",
      "Y = \n",
      " [[1 2 3]\n",
      " [4 5 6]\n",
      " [7 8 9]]\n",
      "\n",
      "\n",
      "Z = \n",
      " [[1]\n",
      " [2]\n",
      " [3]]\n",
      "\n",
      "x + Y = \n",
      " [[ 2  4  6]\n",
      " [ 5  7  9]\n",
      " [ 8 10 12]]\n",
      "\n",
      "Z + Y = \n",
      " [[ 2  3  4]\n",
      " [ 6  7  8]\n",
      " [10 11 12]]\n"
     ]
    }
   ],
   "source": [
    "## Example 6. Arithmetic operations on 2-D arrays (Compatible shape)\n",
    "# We create a rank 1 ndarray\n",
    "x = np.array([1,2,3])\n",
    "\n",
    "# We create a 3 x 3 ndarray\n",
    "Y = np.array([[1,2,3],[4,5,6],[7,8,9]])\n",
    "\n",
    "# We create a 3 x 1 ndarray\n",
    "Z = np.array([1,2,3]).reshape(3,1)\n",
    "\n",
    "# We print x\n",
    "print()\n",
    "print('x = ', x)\n",
    "print()\n",
    "\n",
    "# We print Y\n",
    "print()\n",
    "print('Y = \\n', Y)\n",
    "print()\n",
    "\n",
    "# We print Z\n",
    "print()\n",
    "print('Z = \\n', Z)\n",
    "print()\n",
    "\n",
    "print('x + Y = \\n', x + Y)\n",
    "print()\n",
    "print('Z + Y = \\n',Z + Y)"
   ]
  },
  {
   "cell_type": "markdown",
   "id": "eda6cf83-583c-4850-906a-bbee8d1e7a9b",
   "metadata": {},
   "source": [
    "## Glossary\n",
    "\n",
    "### Category: General Purpose\n",
    "| Function/Method                        | Description                                                                                                 |\n",
    "|----------------------------------------|-------------------------------------------------------------------------------------------------------------|\n",
    "| `numpy.ndarray.dtype`                  | Return the data-type of the elements of the array. Remember, arrays are homogeneous.                        |\n",
    "| `numpy.ndarray.ndim`                   | Return the number of array-dimensions (rank), e.g., it will return 2 for a 4x3 array.                       |\n",
    "| `numpy.ndarray.shape`                  | Return a tuple representing the array dimensions, e.g., it will return (rows, columns) for a rank 2 array.  |\n",
    "| `numpy.ndarray.size`                   | Return the number of elements present in the array.                                                         |\n",
    "| `numpy.save`                           | Save an array to .npy (numpy) format.                                                                       |\n",
    "| `numpy.load`                           | Load array from the .npy files.                                                                             |\n",
    "| `numpy.random.random`                  | Return random floats values from the interval [0.0, 1.0), in a specified shape.                             |\n",
    "| `numpy.random.randint`                 | Return random integers from the half-open interval [a, b), in a specified shape.                            |\n",
    "| `numpy.random.normal`                  | Return random samples from a Gaussian (normal) distribution.                                                |\n",
    "| `numpy.random.permutation`             | Return a randomly permuted sequence from the given list.                                                    |\n",
    "| `numpy.reshape`                        | Returns an array containing the same elements with a new shape, without affecting the original array.       |\n",
    "| `numpy.ndarray.reshape`                | Returns an array containing the same elements with a new shape, without affecting the original array.       |\n",
    "\n",
    "### Category: Array Creation\n",
    "| Function/Method                        | Description                                                                                                 |\n",
    "|----------------------------------------|-------------------------------------------------------------------------------------------------------------|\n",
    "| `numpy.ones`                           | Return a new array of given shape and type, filled with 1s.                                                 |\n",
    "| `numpy.zeros`                          | Return a new array of given shape and type, filled with 0s.                                                 |\n",
    "| `numpy.full`                           | Return a new array of given shape and type, filled with a specific value.                                   |\n",
    "| `numpy.eye`                            | Return a 2-D array with 1s on the diagonal and 0s elsewhere.                                                |\n",
    "| `numpy.diag`                           | Extract the diagonal elements.                                                                              |\n",
    "| `numpy.unique`                         | Return the sorted unique elements of an array.                                                              |\n",
    "| `numpy.array`                          | Create an n-dimensional array.                                                                              |\n",
    "| `numpy.arange`                         | Return evenly spaced values within a given half-open interval [a, b).                                       |\n",
    "| `numpy.linspace`                       | Return evenly spaced numbers over a specified interval [a, b].                                              |\n",
    "| `numpy.ndarray.copy`                   | Returns a copy of the array.                                                                                |\n",
    "\n",
    "### Category: Operating with Elements and Indices\n",
    "| Function/Method                        | Description                                                                                                 |\n",
    "|----------------------------------------|-------------------------------------------------------------------------------------------------------------|\n",
    "| `numpy.insert`                         | Insert values along the given axis before the specified indices.                                            |\n",
    "| `numpy.delete`                         | Return a new array, after deleting sub-arrays along a specified axis.                                       |\n",
    "| `numpy.append`                         | Append values at the end of the specified array.                                                            |\n",
    "| `numpy.hstack`                         | Return a stacked array formed by stacking the given arrays in sequence horizontally (column-wise).          |\n",
    "| `numpy.vstack`                         | Return a stacked array formed by stacking the given arrays, will be at least 2-D, in sequence vertically (row-wise). |\n",
    "| `numpy.sort`                           | Return a sorted copy of an array.                                                                           |\n",
    "| `numpy.ndarray.sort`                   | Sort an array in-place.                                                                                     |\n",
    "\n",
    "### Category: Set Operations\n",
    "| Function/Method                        | Description                                                                                                 |\n",
    "|----------------------------------------|-------------------------------------------------------------------------------------------------------------|\n",
    "| `numpy.intersect1d`                    | Find the intersection of two arrays.                                                                        |\n",
    "| `numpy.setdiff1d`                      | Find the set difference of two arrays.                                                                      |\n",
    "| `numpy.union1d`                        | Return the unique, sorted array of values that are in either of the two input arrays.                       |\n",
    "\n",
    "### Category: Arithmetic and Statistical Operations\n",
    "| Function/Method                        | Description                                                                                                 |\n",
    "|----------------------------------------|-------------------------------------------------------------------------------------------------------------|\n",
    "| `numpy.add`                            | Element-wise add given arrays.                                                                              |\n",
    "| `numpy.subtract`                       | Subtract arguments of given arrays, element-wise.                                                           |\n",
    "| `numpy.multiply`                       | Multiply arguments of given arrays, element-wise.                                                           |\n",
    "| `numpy.divide`                         | Returns a true division of the inputs, element-wise.                                                        |\n",
    "| `numpy.exp`                            | Calculate the exponential of all elements in the input array.                                               |\n",
    "| `numpy.power`                          | First array elements raised to powers from second array, element-wise.                                      |\n",
    "| `numpy.sqrt`                           | Return the non-negative square-root of an array, element-wise.                                              |\n",
    "| `numpy.ndarray.min`                    | Return the minimum along the specified axis.                                                                |\n",
    "| `numpy.ndarray.max`                    | Return the maximum along a given axis.                                                                      |\n",
    "| `numpy.mean`                           | Compute the arithmetic mean along the specified axis.                                                       |\n",
    "| `numpy.ndarray.mean`                   | Compute the arithmetic mean along the specified axis.                                                       |\n",
    "| `numpy.median`                         | Compute the median along the specified axis.                                                                |\n"
   ]
  },
  {
   "cell_type": "code",
   "execution_count": null,
   "id": "052ffe99-dfee-4534-8bb8-77670175727a",
   "metadata": {},
   "outputs": [],
   "source": []
  }
 ],
 "metadata": {
  "kernelspec": {
   "display_name": "Python 3 (ipykernel)",
   "language": "python",
   "name": "python3"
  },
  "language_info": {
   "codemirror_mode": {
    "name": "ipython",
    "version": 3
   },
   "file_extension": ".py",
   "mimetype": "text/x-python",
   "name": "python",
   "nbconvert_exporter": "python",
   "pygments_lexer": "ipython3",
   "version": "3.8.18"
  }
 },
 "nbformat": 4,
 "nbformat_minor": 5
}
