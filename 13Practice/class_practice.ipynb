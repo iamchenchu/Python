{
 "cells": [
  {
   "cell_type": "markdown",
   "id": "dfabb7b9-2abb-4462-9686-834f42f5ec93",
   "metadata": {},
   "source": [
    "### Object Oriented Programming \n",
    "\n"
   ]
  },
  {
   "cell_type": "code",
   "execution_count": 7,
   "id": "bcabc5a8-5534-456a-af56-f1947d954c3f",
   "metadata": {},
   "outputs": [
    {
     "name": "stdout",
     "output_type": "stream",
     "text": [
      "3000\n",
      "2000 2500 1000 3000\n",
      "Red L Short 2000\n",
      "Blue XL Full Hands 2500\n",
      "Yellow L Short 1000\n",
      "White XL Full Hands 3000\n"
     ]
    }
   ],
   "source": [
    "class Shirt:\n",
    "    def __init__(self, shirt_color, shirt_size, shirt_style, shirt_price):\n",
    "        self.color = shirt_color\n",
    "        self.size = shirt_size\n",
    "        self.style = shirt_style \n",
    "        self.price = shirt_price\n",
    "\n",
    "    def change_price(self, new_price):\n",
    "        self.price = new_price\n",
    "        return self.price\n",
    "        \n",
    "    def discounted_price(self, discount):\n",
    "        self.price = self.price * (1-discount)\n",
    "        return f\"The discounted price has been updated for {self}!!!\"\n",
    "\n",
    "s1 = Shirt(\"Red\", \"L\", \"Short\", 2000)\n",
    "s2 = Shirt(\"Blue\", \"XL\", \"Full Hands\", 2500)\n",
    "s3 = Shirt(\"Yellow\", \"L\", \"Short\", 1000)\n",
    "s4 = Shirt(\"White\", \"XL\", \"Full Hands\", 2200)\n",
    "\n",
    "print(s4.change_price(3000)) # Updated to new price\n",
    "\n",
    "print(s1.price, s2.price, s3.price, s4.price)\n",
    "\n",
    "# Now I want to add all the above shirts to my lsit \n",
    "\n",
    "shirts_collection = []\n",
    "\n",
    "shirts_collection.append(s1)\n",
    "shirts_collection.append(s2)\n",
    "shirts_collection.append(s3)\n",
    "shirts_collection.append(s4)\n",
    "\n",
    "print(shirts_collection[0].color, shirts_collection[0].size, shirts_collection[0].style, shirts_collection[0].price)\n",
    "print(shirts_collection[1].color, shirts_collection[1].size, shirts_collection[1].style, shirts_collection[1].price)\n",
    "print(shirts_collection[2].color, shirts_collection[2].size, shirts_collection[2].style, shirts_collection[2].price)\n",
    "print(shirts_collection[3].color, shirts_collection[3].size, shirts_collection[3].style, shirts_collection[3].price)"
   ]
  },
  {
   "cell_type": "code",
   "execution_count": 9,
   "id": "65803368-a43f-4b5f-a18c-265efeed864c",
   "metadata": {},
   "outputs": [
    {
     "name": "stdout",
     "output_type": "stream",
     "text": [
      "[<__main__.Pants object at 0x11356c100>, <__main__.Pants object at 0x11356cee0>, <__main__.Pants object at 0x112ba1fd0>, <__main__.Pants object at 0x112ba1af0>]\n"
     ]
    }
   ],
   "source": [
    "class Pants:\n",
    "    def __init__(self, waist, size, color, type, price):\n",
    "        self.waist = waist\n",
    "        self.size = size\n",
    "        self.color = color \n",
    "        self.type = type \n",
    "        self.price = price\n",
    "\n",
    "    def change_price(self, new_price):\n",
    "        self.price = new_price\n",
    "        return f\"price has been updated for {self}!!!\"\n",
    "    def discounted_price(self, discount):\n",
    "        self.price = self.price * (1-discount)\n",
    "        return f\"The discounted price has been updated for {self}!!!\"\n",
    "\n",
    "p1 = Pants(36, 'L', 'Blue', \"Jeans\", 2000)\n",
    "p2 = Pants(32, 'S', 'Pink', \"Jeans\", 2200)\n",
    "p3 = Pants(38, 'XL', 'Black', \"Jeans\", 2300)\n",
    "p4 = Pants(39, 'XXL', 'Wgite', \"Jeans\", 2400)  \n",
    "\n",
    "pants_collection = []\n",
    "pants_collection.append(p1)\n",
    "pants_collection.append(p2)\n",
    "pants_collection.append(p3)\n",
    "pants_collection.append(p4)\n",
    "print(pants_collection)"
   ]
  },
  {
   "cell_type": "code",
   "execution_count": 19,
   "id": "4c6bebe1-a034-4836-9233-8868199b5c2b",
   "metadata": {},
   "outputs": [
    {
     "name": "stdout",
     "output_type": "stream",
     "text": [
      "Red L 2000 Short\n",
      "Blue 36 L 2000\n",
      "Blue XL 2500 Full Hands\n",
      "Pink 32 S 2200\n",
      "Yellow L 1000 Short\n",
      "Black 38 XL 2300\n",
      "White XL 3000 Full Hands\n",
      "Wgite 39 XXL 2400\n"
     ]
    }
   ],
   "source": [
    "for shirt, pant in zip(shirts_collection, pants_collection):\n",
    "    print(shirt.color,shirt.size, shirt.price, shirt.style)\n",
    "    print(pant.color, pant.waist, pant.size, pant.price)"
   ]
  },
  {
   "cell_type": "code",
   "execution_count": null,
   "id": "f7a131a4-a4b1-4146-b227-75d57c87af5d",
   "metadata": {},
   "outputs": [],
   "source": []
  }
 ],
 "metadata": {
  "kernelspec": {
   "display_name": "Python 3 (ipykernel)",
   "language": "python",
   "name": "python3"
  },
  "language_info": {
   "codemirror_mode": {
    "name": "ipython",
    "version": 3
   },
   "file_extension": ".py",
   "mimetype": "text/x-python",
   "name": "python",
   "nbconvert_exporter": "python",
   "pygments_lexer": "ipython3",
   "version": "3.8.18"
  }
 },
 "nbformat": 4,
 "nbformat_minor": 5
}
