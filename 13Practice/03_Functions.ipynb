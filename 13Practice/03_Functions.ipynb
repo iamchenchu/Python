{
 "cells": [
  {
   "cell_type": "markdown",
   "id": "87d77cfd-02a3-435b-93b7-407f28785320",
   "metadata": {},
   "source": [
    "## FUNCTIONS\n",
    "\n",
    "In this lesson, we will learn about:\n",
    "\n",
    "* Defining Functions\n",
    "* Variable Scope\n",
    "* Documentation\n",
    "* Lambda Expressions"
   ]
  },
  {
   "cell_type": "code",
   "execution_count": 1,
   "id": "e8f36075-a1a8-47f0-a511-dff5fde6a99b",
   "metadata": {},
   "outputs": [
    {
     "data": {
      "text/plain": [
       "\"Function Header\\nLet's start with the function header, which is the first line of a function definition.\\n\\nThe function header always starts with the def keyword, which indicates that this is a function definition.\\nThen comes the function name (here, cylinder_volume), which follows the same naming conventions as variables. You can revisit the naming conventions below.\\nImmediately after the name are parentheses that may include arguments separated by commas (here, height and radius). Arguments, or parameters, are values that are passed in as inputs when the function is called, and are used in the function body. If a function doesn't take arguments, these parentheses are left empty.\\nThe header always end with a colon :.\\nFunction Body\\nThe rest of the function is contained in the body, which is where the function does its work.\\n\\nThe body of a function is the code indented after the header line. Here, it's the two lines that define pi and return the volume.\\nWithin this body, we can refer to the argument variables and define new variables, which can only be used within these indented lines.\\nThe body will often include a return statement, which is used to send back an output value from the function to the statement that called the function. A return statement consists of the return keyword followed by an expression that is evaluated to get the output value for the function. If there is no return statement, the function simply returns None.\\nBelow, you'll find a code editor where you can experiment with this.\\n\\nNaming Conventions for Functions\\nFunction names follow the same naming conventions as variables.\\n\\nOnly use ordinary letters, numbers and underscores in your function names. They can’t have spaces, and need to start with a letter or underscore.\\nYou can’t use reserved words or built-in identifiers that have important purposes in Python, which you’ll learn about throughout this course. A list of Python reserved words is described here(opens in a new tab).\\nTry to use descriptive names that can help readers understand what the function does.\""
      ]
     },
     "execution_count": 1,
     "metadata": {},
     "output_type": "execute_result"
    }
   ],
   "source": [
    "\"\"\"Function Header\n",
    "Let's start with the function header, which is the first line of a function definition.\n",
    "\n",
    "The function header always starts with the def keyword, which indicates that this is a function definition.\n",
    "Then comes the function name (here, cylinder_volume), which follows the same naming conventions as variables. You can revisit the naming conventions below.\n",
    "Immediately after the name are parentheses that may include arguments separated by commas (here, height and radius). Arguments, or parameters, are values that are passed in as inputs when the function is called, and are used in the function body. If a function doesn't take arguments, these parentheses are left empty.\n",
    "The header always end with a colon :.\n",
    "Function Body\n",
    "The rest of the function is contained in the body, which is where the function does its work.\n",
    "\n",
    "The body of a function is the code indented after the header line. Here, it's the two lines that define pi and return the volume.\n",
    "Within this body, we can refer to the argument variables and define new variables, which can only be used within these indented lines.\n",
    "The body will often include a return statement, which is used to send back an output value from the function to the statement that called the function. A return statement consists of the return keyword followed by an expression that is evaluated to get the output value for the function. If there is no return statement, the function simply returns None.\n",
    "Below, you'll find a code editor where you can experiment with this.\n",
    "\n",
    "Naming Conventions for Functions\n",
    "Function names follow the same naming conventions as variables.\n",
    "\n",
    "Only use ordinary letters, numbers and underscores in your function names. They can’t have spaces, and need to start with a letter or underscore.\n",
    "You can’t use reserved words or built-in identifiers that have important purposes in Python, which you’ll learn about throughout this course. A list of Python reserved words is described here(opens in a new tab).\n",
    "Try to use descriptive names that can help readers understand what the function does.\"\"\"\n"
   ]
  },
  {
   "cell_type": "code",
   "execution_count": 2,
   "id": "574a0f20-d940-4c66-be89-4435e6cd5858",
   "metadata": {},
   "outputs": [
    {
     "data": {
      "text/plain": [
       "282.7431"
      ]
     },
     "execution_count": 2,
     "metadata": {},
     "output_type": "execute_result"
    }
   ],
   "source": [
    "def cylinder_volume(height, radius):\n",
    "    pi = 3.14159\n",
    "    return height  *pi*  radius ** 2\n",
    "\n",
    "cylinder_volume(10, 3)\n"
   ]
  },
  {
   "cell_type": "code",
   "execution_count": 6,
   "id": "04a8d8ab-c502-4816-a4e5-b907681bca37",
   "metadata": {},
   "outputs": [
    {
     "name": "stdout",
     "output_type": "stream",
     "text": [
      "282.7431\n",
      "785.3975\n",
      "1539.3791\n",
      "1539.3791\n"
     ]
    }
   ],
   "source": [
    "#Default Arguments\n",
    "#We can add default arguments in a function to have default values for parameters that are unspecified in a function call.\n",
    "\n",
    "def cylinder_volume(height, radius=5):\n",
    "    pi=3.14159\n",
    "    return height * pi * radius ** 2\n",
    "\n",
    "print(cylinder_volume(10, 3))\n",
    "print(cylinder_volume(10)) # taking the default value 5\n",
    "\n",
    "print(cylinder_volume(height=10, radius=7)) # pass in arguments by name\n",
    "print(cylinder_volume(10, 7))  # pass in arguments by position\n"
   ]
  },
  {
   "cell_type": "code",
   "execution_count": null,
   "id": "4e41f49e-f25e-4e18-8ff7-9472f623fdc4",
   "metadata": {},
   "outputs": [],
   "source": []
  }
 ],
 "metadata": {
  "kernelspec": {
   "display_name": "Python 3 (ipykernel)",
   "language": "python",
   "name": "python3"
  },
  "language_info": {
   "codemirror_mode": {
    "name": "ipython",
    "version": 3
   },
   "file_extension": ".py",
   "mimetype": "text/x-python",
   "name": "python",
   "nbconvert_exporter": "python",
   "pygments_lexer": "ipython3",
   "version": "3.8.18"
  }
 },
 "nbformat": 4,
 "nbformat_minor": 5
}
