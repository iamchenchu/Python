{
 "cells": [
  {
   "cell_type": "markdown",
   "id": "35c8986e-f915-43f4-8a8d-cba66e12443d",
   "metadata": {},
   "source": [
    "## Control Flow \n",
    "\n",
    "1. Conditional Statement\n",
    "2. for and while loops \n",
    "3. break and continue\n",
    "4. useful built in functions\n",
    "5. list comprehensions\n"
   ]
  },
  {
   "cell_type": "markdown",
   "id": "c250d256-38c5-4eb7-aba8-fea8756e069e",
   "metadata": {},
   "source": [
    "Control flow describes the order in which your lines of code are run. This order is usually different than the sequence in which the lines of code appear! Execution can flow from one place in the code to another, as suggested in the diagram below.\n",
    "\n",
    "    * Conditional Statements\n",
    "    * Boolean Expressions\n",
    "    * For and While Loops\n",
    "    * Break and Continue\n",
    "    * Zip and Enumerate\n",
    "    * List Comprehensions"
   ]
  },
  {
   "cell_type": "code",
   "execution_count": 7,
   "id": "4c0d4549-13a8-46bf-a830-29f320e613f2",
   "metadata": {},
   "outputs": [
    {
     "name": "stdout",
     "output_type": "stream",
     "text": [
      "4 100\n",
      "14 90\n"
     ]
    }
   ],
   "source": [
    "# If Statement : An if statement is a conditional statement that runs or skips code based on whether a condition is true or false. Here's a simple example.\n",
    "\n",
    "phone_balance = 4\n",
    "bank_balance = 100\n",
    "\n",
    "print(phone_balance, bank_balance)\n",
    "\n",
    "if phone_balance <= 5:\n",
    "    phone_balance += 10\n",
    "    bank_balance -= 10\n",
    "\n",
    "print(phone_balance, bank_balance)"
   ]
  },
  {
   "cell_type": "code",
   "execution_count": 6,
   "id": "da109bf9-b3c9-4a00-b6f5-235fbe585237",
   "metadata": {},
   "outputs": [
    {
     "name": "stdout",
     "output_type": "stream",
     "text": [
      "Stay Indoors\n"
     ]
    }
   ],
   "source": [
    "season = 'winter'\n",
    "\n",
    "if season == 'spring':\n",
    "    print('Plant the garden')\n",
    "elif season == 'summer':\n",
    "    print('water the garden')\n",
    "elif season == 'fall':\n",
    "    print('Harvest the garden')\n",
    "elif season == 'winter':\n",
    "    print('Stay Indoors')\n"
   ]
  },
  {
   "cell_type": "code",
   "execution_count": 8,
   "id": "ef2dd7a1-8035-4553-af70-3c9e578da972",
   "metadata": {},
   "outputs": [
    {
     "name": "stdout",
     "output_type": "stream",
     "text": [
      "Congratulations! You won a wafer-thin mint!\n"
     ]
    }
   ],
   "source": [
    "points = 174  # use this input to make your submission\n",
    "\n",
    "# write your if statement here\n",
    "\n",
    "\n",
    "if points <= 50:\n",
    "    result = 'Congratulations! You won a wooden rabbit!'\n",
    "elif points <= 150:\n",
    "    result = \"Oh dear, no prize this time.\"\n",
    "elif points <= 180:\n",
    "    result = \"Congratulations! You won a wafer-thin mint!\"\n",
    "else:\n",
    "    result = \"Congratulations! You won apenguin!\"\n",
    "    \n",
    "print(result)\n",
    "    "
   ]
  },
  {
   "cell_type": "code",
   "execution_count": 9,
   "id": "0e90c93c-09e7-49d0-8a85-dc4f2d9d58bd",
   "metadata": {},
   "outputs": [
    {
     "name": "stdout",
     "output_type": "stream",
     "text": [
      "Nice!  Your guess matched the answer!\n"
     ]
    }
   ],
   "source": [
    "# Fill in the conditionals below to inform the user about how\n",
    "# their guess compares to the answer.\n",
    "\n",
    "answer = 100 #replace 0 with a value you choose\n",
    "guess = 100 #replace 0 with a value you choose\n",
    "\n",
    "if answer > guess:\n",
    "    result = \"Oops!  Your guess was too low.\"\n",
    "elif answer < guess:\n",
    "    result = \"Oops!  Your guess was too high.\"\n",
    "else:\n",
    "    result = \"Nice!  Your guess matched the answer!\"\n",
    "print(result)"
   ]
  },
  {
   "cell_type": "code",
   "execution_count": null,
   "id": "dbb669bb-fa29-4b91-9fb4-a71e8c4473f5",
   "metadata": {},
   "outputs": [],
   "source": [
    "# 1st conditional statement: update prize to the correct prize name based on points.\n",
    "# 2nd conditional statement: set result to the correct phrase based on whether prize is evaluated as True or False.\n",
    "\n",
    "# If prize is None, result should be set to \"Oh dear, no prize this time.\"\n",
    "# If prize contains a prize name, result should be set to \"Congratulations! You won a {}!\".format(prize). This will avoid having the multiple result assignments for different prizes.\n",
    "# At the beginning of your code, set prize to None, as the default value."
   ]
  },
  {
   "cell_type": "code",
   "execution_count": 4,
   "id": "998a51cd-61fc-4bee-ba79-8163e5a540a1",
   "metadata": {},
   "outputs": [
    {
     "name": "stdout",
     "output_type": "stream",
     "text": [
      "Congratulations! You won a wafer-thin mint!\n"
     ]
    }
   ],
   "source": [
    "points = 174  # use this as input for your submission\n",
    "\n",
    "# establish the default prize value to None\n",
    "prize = None\n",
    "\n",
    "# Todo: use the points value to assign prizes to the correct prize names\n",
    "if points <= 50:\n",
    "    prize = \"wooden rabbit\"\n",
    "elif 151 <= points <= 180:\n",
    "    prize = \"wafer-thin mint\"\n",
    "elif points >= 181:\n",
    "    prize = \"penguin\"\n",
    "\n",
    "\n",
    "# Todo: use the truth value of prize to assign result to the correct prize\n",
    "if prize:\n",
    "    result = \"Congratulations! You won a {}!\".format(prize)\n",
    "else:\n",
    "    result = \"Oh dear, no prize this time.\" \n",
    "\n",
    "print(result)"
   ]
  },
  {
   "cell_type": "markdown",
   "id": "7236d763-7380-48ac-aed1-21d858048b3b",
   "metadata": {},
   "source": [
    "## FOR LOOPS and WHILE LOOPS \n",
    "\n",
    "__for Loop__ :\n",
    "\n",
    "__Iterable :__ ab object that can return one of it's elements at a time. This can include sequence types, such as strings, lists, and tuples, as well as non-sequence types, such as dictionaries and files.\n",
    "\n",
    "\n",
    "range() is a built-in function used to create an iterable sequence of numbers. You will frequently use range() with a for loop to repeat an action a certain number of times. Any variable can be used to iterate through the numbers, but Python programmers conventionally use i, as in this example:\n",
    "\n",
    "\n"
   ]
  },
  {
   "cell_type": "code",
   "execution_count": 5,
   "id": "7e9bafaf-aa7f-4d67-8b77-bbc64c1f1c41",
   "metadata": {},
   "outputs": [
    {
     "name": "stdout",
     "output_type": "stream",
     "text": [
      "New York City\n",
      "Mountain View\n",
      "Chicago\n",
      "Los Angeles\n"
     ]
    }
   ],
   "source": [
    "cities = ['new york city', 'mountain view', 'chicago', 'los angeles']\n",
    "\n",
    "for city in cities:\n",
    "    city = city.title()\n",
    "    print(city)"
   ]
  },
  {
   "cell_type": "code",
   "execution_count": 6,
   "id": "dfbe958e-ea26-483e-b32e-82b097618a2c",
   "metadata": {},
   "outputs": [
    {
     "name": "stdout",
     "output_type": "stream",
     "text": [
      "['New York City', 'Mountain View', 'Chicago', 'Los Angeles']\n"
     ]
    }
   ],
   "source": [
    "cities = ['new york city', 'mountain view', 'chicago', 'los angeles']\n",
    "updated_cities =[]\n",
    "for city in cities:\n",
    "    updated_cities.append(city.title())\n",
    "\n",
    "print(updated_cities)"
   ]
  },
  {
   "cell_type": "code",
   "execution_count": 8,
   "id": "1bf94603-29b8-4bee-a956-dd4130f1afd6",
   "metadata": {},
   "outputs": [
    {
     "name": "stdout",
     "output_type": "stream",
     "text": [
      "['NEW YORK CITY', 'MOUNTAIN VIEW', 'CHICAGO', 'LOS ANGELES']\n"
     ]
    }
   ],
   "source": [
    "cities = ['new york city', 'mountain view', 'chicago', 'los angeles']\n",
    "new_cities = []\n",
    "for val in range(len(cities)):\n",
    "    new_cities.append(cities[val].upper())\n",
    "\n",
    "print(new_cities)"
   ]
  },
  {
   "cell_type": "markdown",
   "id": "600fcb82-5ac7-49f7-85de-cc09f0773b0b",
   "metadata": {},
   "source": [
    "### Practice: Quick Brown Fox\n",
    "Use a for loop to take a list and print each element of the list in its own line. \n",
    "Example:\n",
    "\n",
    "`sentence = [\"the\", \"quick\", \"brown\", \"fox\", \"jumped\", \"over\", \"the\", \"lazy\", \"dog\"]`\n",
    "\n",
    "Output:\n",
    "```\n",
    "the\n",
    "quick\n",
    "brown\n",
    "fox\n",
    "jumped\n",
    "over\n",
    "the\n",
    "lazy\n",
    "dog\n",
    "```"
   ]
  },
  {
   "cell_type": "code",
   "execution_count": 9,
   "id": "340e1276-8309-4da8-a1fe-b6df785fb207",
   "metadata": {},
   "outputs": [
    {
     "name": "stdout",
     "output_type": "stream",
     "text": [
      "the\n",
      "quick\n",
      "brown\n",
      "fox\n",
      "jumped\n",
      "over\n",
      "the\n",
      "lazy\n",
      "dog\n"
     ]
    }
   ],
   "source": [
    "sentence = [\"the\", \"quick\", \"brown\", \"fox\", \"jumped\", \"over\", \"the\", \"lazy\", \"dog\"]\n",
    "\n",
    "for word in sentence:\n",
    "    print(word)"
   ]
  },
  {
   "cell_type": "markdown",
   "id": "2edb7cd0-23d0-4ab8-a39b-c263ca4e6435",
   "metadata": {},
   "source": [
    "### Practice: Multiples of 5\n",
    "Write a for loop below that will print out every whole number that is a multiple of 5 and less than or equal to 30.\n",
    "This should output:\n",
    "\n",
    "```\n",
    "5\n",
    "10\n",
    "15\n",
    "20\n",
    "25\n",
    "30\n",
    "```"
   ]
  },
  {
   "cell_type": "code",
   "execution_count": 13,
   "id": "4025ea00-710d-424d-8f44-2796571924bc",
   "metadata": {},
   "outputs": [
    {
     "name": "stdout",
     "output_type": "stream",
     "text": [
      "5\n",
      "10\n",
      "15\n",
      "20\n",
      "25\n",
      "30\n"
     ]
    }
   ],
   "source": [
    "\n",
    "for val in range(5, 35, 5):\n",
    "    print(val)\n",
    "    "
   ]
  },
  {
   "cell_type": "markdown",
   "id": "406d05ca-12d5-44a4-b1f7-e4ca4a1289f0",
   "metadata": {},
   "source": [
    "## Quiz: Create Usernames\n",
    "Write a for loop that iterates over the `names` list to create a `usernames` list. To create a username for each name, make everything lowercase and replace spaces with underscores. Running your for loop over the list: \n",
    "\n",
    "`names = [\"Joey Tribbiani\", \"Monica Geller\", \"Chandler Bing\", \"Phoebe Buffay\"]`\n",
    "\n",
    "the `usernames` list should look like this: \n",
    "\n",
    "`[\"joey_tribbiani\", \"monica_geller\", \"chandler_bing\", \"phoebe_buffay\"]`\n",
    "\n",
    "HINT: Use the `.replace()` method to replace the spaces with underscores. Check out how to use this method in this Stack Overflow answer."
   ]
  },
  {
   "cell_type": "code",
   "execution_count": 14,
   "id": "2e417d89-b51e-4c18-b7f5-fe1673d84736",
   "metadata": {},
   "outputs": [
    {
     "name": "stdout",
     "output_type": "stream",
     "text": [
      "['joey_tribbiani', 'monica_geller', 'chandler_bing', 'phoebe_buffay']\n"
     ]
    }
   ],
   "source": [
    "names = [\"Joey Tribbiani\", \"Monica Geller\", \"Chandler Bing\", \"Phoebe Buffay\"]\n",
    "usernames = []\n",
    "\n",
    "# write your for loop here\n",
    "for name in names:\n",
    "    usernames.append(name.lower().replace(\" \", '_'))\n",
    "\n",
    "print(usernames)"
   ]
  },
  {
   "cell_type": "markdown",
   "id": "b959779b-114a-492e-b555-5533530e246e",
   "metadata": {},
   "source": [
    "## Quiz: Modify Usernames with Range\n",
    "Write a for loop that uses `range()` to iterate over the positions in `usernames` to modify the list. Like you did in the previous quiz, change each name to be lowercase and replace spaces with underscores. \n",
    "\n",
    "After running your loop, this list\n",
    "\n",
    "`usernames = [\"Joey Tribbiani\", \"Monica Geller\", \"Chandler Bing\", \"Phoebe Buffay\"]` \n",
    "\n",
    "should change to this: \n",
    "\n",
    "`usernames = [\"joey_tribbiani\", \"monica_geller\", \"chandler_bing\", \"phoebe_buffay\"]`"
   ]
  },
  {
   "cell_type": "code",
   "execution_count": 20,
   "id": "851f34e0-c71f-4aec-b674-b8dc8c733cce",
   "metadata": {},
   "outputs": [
    {
     "name": "stdout",
     "output_type": "stream",
     "text": [
      "['joey_tribbiani', 'monica_geller', 'chandler_bing', 'phoebe_buffay']\n"
     ]
    }
   ],
   "source": [
    "usernames = [\"Joey Tribbiani\", \"Monica Geller\", \"Chandler Bing\", \"Phoebe Buffay\"]\n",
    "\n",
    "for val in range(len(usernames)):\n",
    "    usernames[val]=usernames[val].lower().replace(' ', '_')\n",
    "\n",
    "print(usernames)"
   ]
  },
  {
   "cell_type": "markdown",
   "id": "587fee8f-3bb9-41a1-af46-83823efe5036",
   "metadata": {},
   "source": [
    "## Quiz: Tag Counter\n",
    "Write a for loop that iterates over a list of strings, `tokens`, and counts how many of them are [XML tags](https://en.wikipedia.org/wiki/XML). XML is a data language similar to HTML. You can tell if a string is an XML tag if it begins with a left angle bracket \"<\" and ends with a right angle bracket \">\". Keep track of the number of tags using the variable `count`.\n",
    "\n",
    "You can assume that the list of strings will not contain empty strings."
   ]
  },
  {
   "cell_type": "code",
   "execution_count": 22,
   "id": "29a24142-63c3-4a24-9778-60a69ad138a5",
   "metadata": {},
   "outputs": [
    {
     "name": "stdout",
     "output_type": "stream",
     "text": [
      "2\n"
     ]
    }
   ],
   "source": [
    "tokens = ['<greeting>', 'Hello World!', '</greeting>']\n",
    "count = 0\n",
    "\n",
    "for token in tokens:\n",
    "    if token[0] == '<' and token[-1] == '>':\n",
    "        count += 1\n",
    "print(count)"
   ]
  },
  {
   "cell_type": "code",
   "execution_count": 23,
   "id": "1c25f14f-ccf2-4f5e-9d92-81574aca0819",
   "metadata": {},
   "outputs": [
    {
     "name": "stdout",
     "output_type": "stream",
     "text": [
      "{'great': 2, 'expectations': 1, 'the': 2, 'adventures': 2, 'of': 2, 'sherlock': 1, 'holmes': 1, 'gasby': 1, 'hamlet': 1, 'huckleberry': 1, 'fin': 1}\n"
     ]
    }
   ],
   "source": [
    "book_title =  ['great', 'expectations', 'the', 'adventures', 'of', 'sherlock', 'holmes', 'the', 'great', 'gasby', 'hamlet', 'adventures', 'of', 'huckleberry', 'fin']\n",
    "\n",
    "# Step 1: Create an empty dictionary\n",
    "word_counter = {}\n",
    "\n",
    "# Step 2: Iterate through each element in the list\n",
    "for word in book_title:\n",
    "    if word not in word_counter:\n",
    "        word_counter[word] = 1\n",
    "    else:\n",
    "        word_counter[word] += 1\n",
    "\n",
    "# Print the result\n",
    "print(word_counter)\n"
   ]
  },
  {
   "cell_type": "code",
   "execution_count": 24,
   "id": "086c5c8f-978e-4f12-9b21-06623506b245",
   "metadata": {},
   "outputs": [
    {
     "name": "stdout",
     "output_type": "stream",
     "text": [
      "{'great': 2, 'expectations': 1, 'the': 2, 'adventures': 2, 'of': 2, 'sherlock': 1, 'holmes': 1, 'gasby': 1, 'hamlet': 1, 'huckleberry': 1, 'fin': 1}\n"
     ]
    }
   ],
   "source": [
    "book_title =  ['great', 'expectations', 'the', 'adventures', 'of', 'sherlock', 'holmes', 'the', 'great', 'gasby', 'hamlet', 'adventures', 'of', 'huckleberry', 'fin']\n",
    "\n",
    "# Step 1: Create an empty dictionary\n",
    "word_counter = {}\n",
    "\n",
    "# Step 2: Iterate through each element, use get() to retrieve the current count, and add 1\n",
    "for word in book_title:\n",
    "    word_counter[word] = word_counter.get(word, 0) + 1\n",
    "\n",
    "# Print the result\n",
    "print(word_counter)\n"
   ]
  },
  {
   "cell_type": "code",
   "execution_count": 27,
   "id": "51fd4edb-ea61-4823-b641-da13fa09b8bc",
   "metadata": {},
   "outputs": [
    {
     "name": "stdout",
     "output_type": "stream",
     "text": [
      "Iterating through keys\n",
      "Jerry Seinfeld\n",
      "Julia Louis-Dreyfus\n",
      "Jason Alexander\n",
      "Michael Richards\n",
      "\n",
      "Iterating through keys and values :\n",
      "Actor :Jerry Seinfeld and Role:Jerry Seinfeld\n",
      "Actor :Julia Louis-Dreyfus and Role:Elaine Benes\n",
      "Actor :Jason Alexander and Role:George Costanza\n",
      "Actor :Michael Richards and Role:Cosmo Kramer\n"
     ]
    }
   ],
   "source": [
    "# Iterating Through Dictionaries with For Loops\n",
    "cast = {\n",
    "           \"Jerry Seinfeld\": \"Jerry Seinfeld\",\n",
    "           \"Julia Louis-Dreyfus\": \"Elaine Benes\",\n",
    "           \"Jason Alexander\": \"George Costanza\",\n",
    "           \"Michael Richards\": \"Cosmo Kramer\"\n",
    "       }\n",
    "print(\"Iterating through keys\")\n",
    "for key in cast:\n",
    "    print(key)\n",
    "\n",
    "print(\"\\nIterating through keys and values :\")\n",
    "for key, value in cast.items():\n",
    "    print(f\"Actor :{key} and Role:{value}\")\n"
   ]
  },
  {
   "cell_type": "code",
   "execution_count": null,
   "id": "a45e6e2e-912b-42fa-b336-f8e3dba4a577",
   "metadata": {},
   "outputs": [],
   "source": [
    "book_title =  ['great', 'expectations', 'the', 'adventures', 'of', 'sherlock', 'holmes', 'the', 'great', 'gasby', 'hamlet', 'adventures', 'of', 'huckleberry', 'fin']\n",
    "book_count = {}\n",
    "\n",
    "for book in book_title :\n",
    "    if book is not in book_count:\n",
    "        book_count[book] = 1\n",
    "    else:\n",
    "        \n",
    "    "
   ]
  }
 ],
 "metadata": {
  "kernelspec": {
   "display_name": "Python 3 (ipykernel)",
   "language": "python",
   "name": "python3"
  },
  "language_info": {
   "codemirror_mode": {
    "name": "ipython",
    "version": 3
   },
   "file_extension": ".py",
   "mimetype": "text/x-python",
   "name": "python",
   "nbconvert_exporter": "python",
   "pygments_lexer": "ipython3",
   "version": "3.8.18"
  }
 },
 "nbformat": 4,
 "nbformat_minor": 5
}
