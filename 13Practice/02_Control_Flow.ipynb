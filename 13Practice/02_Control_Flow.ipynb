{
 "cells": [
  {
   "cell_type": "markdown",
   "id": "35c8986e-f915-43f4-8a8d-cba66e12443d",
   "metadata": {},
   "source": [
    "## Control Flow \n",
    "\n",
    "1. Conditional Statement\n",
    "2. for and while loops \n",
    "3. break and continue\n",
    "4. useful built in functions\n",
    "5. list comprehensions\n"
   ]
  },
  {
   "cell_type": "markdown",
   "id": "c250d256-38c5-4eb7-aba8-fea8756e069e",
   "metadata": {},
   "source": [
    "Control flow describes the order in which your lines of code are run. This order is usually different than the sequence in which the lines of code appear! Execution can flow from one place in the code to another, as suggested in the diagram below.\n",
    "\n",
    "    * Conditional Statements\n",
    "    * Boolean Expressions\n",
    "    * For and While Loops\n",
    "    * Break and Continue\n",
    "    * Zip and Enumerate\n",
    "    * List Comprehensions"
   ]
  },
  {
   "cell_type": "code",
   "execution_count": 7,
   "id": "4c0d4549-13a8-46bf-a830-29f320e613f2",
   "metadata": {},
   "outputs": [
    {
     "name": "stdout",
     "output_type": "stream",
     "text": [
      "4 100\n",
      "14 90\n"
     ]
    }
   ],
   "source": [
    "# If Statement : An if statement is a conditional statement that runs or skips code based on whether a condition is true or false. Here's a simple example.\n",
    "\n",
    "phone_balance = 4\n",
    "bank_balance = 100\n",
    "\n",
    "print(phone_balance, bank_balance)\n",
    "\n",
    "if phone_balance <= 5:\n",
    "    phone_balance += 10\n",
    "    bank_balance -= 10\n",
    "\n",
    "print(phone_balance, bank_balance)"
   ]
  },
  {
   "cell_type": "code",
   "execution_count": 6,
   "id": "da109bf9-b3c9-4a00-b6f5-235fbe585237",
   "metadata": {},
   "outputs": [
    {
     "name": "stdout",
     "output_type": "stream",
     "text": [
      "Stay Indoors\n"
     ]
    }
   ],
   "source": [
    "season = 'winter'\n",
    "\n",
    "if season == 'spring':\n",
    "    print('Plant the garden')\n",
    "elif season == 'summer':\n",
    "    print('water the garden')\n",
    "elif season == 'fall':\n",
    "    print('Harvest the garden')\n",
    "elif season == 'winter':\n",
    "    print('Stay Indoors')\n"
   ]
  },
  {
   "cell_type": "code",
   "execution_count": 8,
   "id": "ef2dd7a1-8035-4553-af70-3c9e578da972",
   "metadata": {},
   "outputs": [
    {
     "name": "stdout",
     "output_type": "stream",
     "text": [
      "Congratulations! You won a wafer-thin mint!\n"
     ]
    }
   ],
   "source": [
    "points = 174  # use this input to make your submission\n",
    "\n",
    "# write your if statement here\n",
    "\n",
    "\n",
    "if points <= 50:\n",
    "    result = 'Congratulations! You won a wooden rabbit!'\n",
    "elif points <= 150:\n",
    "    result = \"Oh dear, no prize this time.\"\n",
    "elif points <= 180:\n",
    "    result = \"Congratulations! You won a wafer-thin mint!\"\n",
    "else:\n",
    "    result = \"Congratulations! You won apenguin!\"\n",
    "    \n",
    "print(result)\n",
    "    "
   ]
  },
  {
   "cell_type": "code",
   "execution_count": 9,
   "id": "0e90c93c-09e7-49d0-8a85-dc4f2d9d58bd",
   "metadata": {},
   "outputs": [
    {
     "name": "stdout",
     "output_type": "stream",
     "text": [
      "Nice!  Your guess matched the answer!\n"
     ]
    }
   ],
   "source": [
    "# Fill in the conditionals below to inform the user about how\n",
    "# their guess compares to the answer.\n",
    "\n",
    "answer = 100 #replace 0 with a value you choose\n",
    "guess = 100 #replace 0 with a value you choose\n",
    "\n",
    "if answer > guess:\n",
    "    result = \"Oops!  Your guess was too low.\"\n",
    "elif answer < guess:\n",
    "    result = \"Oops!  Your guess was too high.\"\n",
    "else:\n",
    "    result = \"Nice!  Your guess matched the answer!\"\n",
    "print(result)"
   ]
  },
  {
   "cell_type": "code",
   "execution_count": null,
   "id": "dbb669bb-fa29-4b91-9fb4-a71e8c4473f5",
   "metadata": {},
   "outputs": [],
   "source": [
    "# 1st conditional statement: update prize to the correct prize name based on points.\n",
    "# 2nd conditional statement: set result to the correct phrase based on whether prize is evaluated as True or False.\n",
    "\n",
    "# If prize is None, result should be set to \"Oh dear, no prize this time.\"\n",
    "# If prize contains a prize name, result should be set to \"Congratulations! You won a {}!\".format(prize). This will avoid having the multiple result assignments for different prizes.\n",
    "# At the beginning of your code, set prize to None, as the default value."
   ]
  },
  {
   "cell_type": "code",
   "execution_count": 4,
   "id": "998a51cd-61fc-4bee-ba79-8163e5a540a1",
   "metadata": {},
   "outputs": [
    {
     "name": "stdout",
     "output_type": "stream",
     "text": [
      "Congratulations! You won a wafer-thin mint!\n"
     ]
    }
   ],
   "source": [
    "points = 174  # use this as input for your submission\n",
    "\n",
    "# establish the default prize value to None\n",
    "prize = None\n",
    "\n",
    "# Todo: use the points value to assign prizes to the correct prize names\n",
    "if points <= 50:\n",
    "    prize = \"wooden rabbit\"\n",
    "elif 151 <= points <= 180:\n",
    "    prize = \"wafer-thin mint\"\n",
    "elif points >= 181:\n",
    "    prize = \"penguin\"\n",
    "\n",
    "\n",
    "# Todo: use the truth value of prize to assign result to the correct prize\n",
    "if prize:\n",
    "    result = \"Congratulations! You won a {}!\".format(prize)\n",
    "else:\n",
    "    result = \"Oh dear, no prize this time.\" \n",
    "\n",
    "print(result)"
   ]
  },
  {
   "cell_type": "markdown",
   "id": "7236d763-7380-48ac-aed1-21d858048b3b",
   "metadata": {},
   "source": [
    "## FOR LOOPS and WHILE LOOPS \n",
    "\n",
    "__for Loop__ :\n",
    "\n",
    "__Iterable :__ ab object that can return one of it's elements at a time. This can include sequence types, such as strings, lists, and tuples, as well as non-sequence types, such as dictionaries and files.\n",
    "\n",
    "\n",
    "range() is a built-in function used to create an iterable sequence of numbers. You will frequently use range() with a for loop to repeat an action a certain number of times. Any variable can be used to iterate through the numbers, but Python programmers conventionally use i, as in this example:\n",
    "\n",
    "\n"
   ]
  },
  {
   "cell_type": "code",
   "execution_count": 5,
   "id": "7e9bafaf-aa7f-4d67-8b77-bbc64c1f1c41",
   "metadata": {},
   "outputs": [
    {
     "name": "stdout",
     "output_type": "stream",
     "text": [
      "New York City\n",
      "Mountain View\n",
      "Chicago\n",
      "Los Angeles\n"
     ]
    }
   ],
   "source": [
    "cities = ['new york city', 'mountain view', 'chicago', 'los angeles']\n",
    "\n",
    "for city in cities:\n",
    "    city = city.title()\n",
    "    print(city)"
   ]
  },
  {
   "cell_type": "code",
   "execution_count": 6,
   "id": "dfbe958e-ea26-483e-b32e-82b097618a2c",
   "metadata": {},
   "outputs": [
    {
     "name": "stdout",
     "output_type": "stream",
     "text": [
      "['New York City', 'Mountain View', 'Chicago', 'Los Angeles']\n"
     ]
    }
   ],
   "source": [
    "cities = ['new york city', 'mountain view', 'chicago', 'los angeles']\n",
    "updated_cities =[]\n",
    "for city in cities:\n",
    "    updated_cities.append(city.title())\n",
    "\n",
    "print(updated_cities)"
   ]
  },
  {
   "cell_type": "code",
   "execution_count": 8,
   "id": "1bf94603-29b8-4bee-a956-dd4130f1afd6",
   "metadata": {},
   "outputs": [
    {
     "name": "stdout",
     "output_type": "stream",
     "text": [
      "['NEW YORK CITY', 'MOUNTAIN VIEW', 'CHICAGO', 'LOS ANGELES']\n"
     ]
    }
   ],
   "source": [
    "cities = ['new york city', 'mountain view', 'chicago', 'los angeles']\n",
    "new_cities = []\n",
    "for val in range(len(cities)):\n",
    "    new_cities.append(cities[val].upper())\n",
    "\n",
    "print(new_cities)"
   ]
  },
  {
   "cell_type": "markdown",
   "id": "600fcb82-5ac7-49f7-85de-cc09f0773b0b",
   "metadata": {},
   "source": [
    "### Practice: Quick Brown Fox\n",
    "Use a for loop to take a list and print each element of the list in its own line. \n",
    "Example:\n",
    "\n",
    "`sentence = [\"the\", \"quick\", \"brown\", \"fox\", \"jumped\", \"over\", \"the\", \"lazy\", \"dog\"]`\n",
    "\n",
    "Output:\n",
    "```\n",
    "the\n",
    "quick\n",
    "brown\n",
    "fox\n",
    "jumped\n",
    "over\n",
    "the\n",
    "lazy\n",
    "dog\n",
    "```"
   ]
  },
  {
   "cell_type": "code",
   "execution_count": 9,
   "id": "340e1276-8309-4da8-a1fe-b6df785fb207",
   "metadata": {},
   "outputs": [
    {
     "name": "stdout",
     "output_type": "stream",
     "text": [
      "the\n",
      "quick\n",
      "brown\n",
      "fox\n",
      "jumped\n",
      "over\n",
      "the\n",
      "lazy\n",
      "dog\n"
     ]
    }
   ],
   "source": [
    "sentence = [\"the\", \"quick\", \"brown\", \"fox\", \"jumped\", \"over\", \"the\", \"lazy\", \"dog\"]\n",
    "\n",
    "for word in sentence:\n",
    "    print(word)"
   ]
  },
  {
   "cell_type": "markdown",
   "id": "2edb7cd0-23d0-4ab8-a39b-c263ca4e6435",
   "metadata": {},
   "source": [
    "### Practice: Multiples of 5\n",
    "Write a for loop below that will print out every whole number that is a multiple of 5 and less than or equal to 30.\n",
    "This should output:\n",
    "\n",
    "```\n",
    "5\n",
    "10\n",
    "15\n",
    "20\n",
    "25\n",
    "30\n",
    "```"
   ]
  },
  {
   "cell_type": "code",
   "execution_count": 13,
   "id": "4025ea00-710d-424d-8f44-2796571924bc",
   "metadata": {},
   "outputs": [
    {
     "name": "stdout",
     "output_type": "stream",
     "text": [
      "5\n",
      "10\n",
      "15\n",
      "20\n",
      "25\n",
      "30\n"
     ]
    }
   ],
   "source": [
    "\n",
    "for val in range(5, 35, 5):\n",
    "    print(val)\n",
    "    "
   ]
  },
  {
   "cell_type": "markdown",
   "id": "406d05ca-12d5-44a4-b1f7-e4ca4a1289f0",
   "metadata": {},
   "source": [
    "## Quiz: Create Usernames\n",
    "Write a for loop that iterates over the `names` list to create a `usernames` list. To create a username for each name, make everything lowercase and replace spaces with underscores. Running your for loop over the list: \n",
    "\n",
    "`names = [\"Joey Tribbiani\", \"Monica Geller\", \"Chandler Bing\", \"Phoebe Buffay\"]`\n",
    "\n",
    "the `usernames` list should look like this: \n",
    "\n",
    "`[\"joey_tribbiani\", \"monica_geller\", \"chandler_bing\", \"phoebe_buffay\"]`\n",
    "\n",
    "HINT: Use the `.replace()` method to replace the spaces with underscores. Check out how to use this method in this Stack Overflow answer."
   ]
  },
  {
   "cell_type": "code",
   "execution_count": 14,
   "id": "2e417d89-b51e-4c18-b7f5-fe1673d84736",
   "metadata": {},
   "outputs": [
    {
     "name": "stdout",
     "output_type": "stream",
     "text": [
      "['joey_tribbiani', 'monica_geller', 'chandler_bing', 'phoebe_buffay']\n"
     ]
    }
   ],
   "source": [
    "names = [\"Joey Tribbiani\", \"Monica Geller\", \"Chandler Bing\", \"Phoebe Buffay\"]\n",
    "usernames = []\n",
    "\n",
    "# write your for loop here\n",
    "for name in names:\n",
    "    usernames.append(name.lower().replace(\" \", '_'))\n",
    "\n",
    "print(usernames)"
   ]
  },
  {
   "cell_type": "markdown",
   "id": "b959779b-114a-492e-b555-5533530e246e",
   "metadata": {},
   "source": [
    "## Quiz: Modify Usernames with Range\n",
    "Write a for loop that uses `range()` to iterate over the positions in `usernames` to modify the list. Like you did in the previous quiz, change each name to be lowercase and replace spaces with underscores. \n",
    "\n",
    "After running your loop, this list\n",
    "\n",
    "`usernames = [\"Joey Tribbiani\", \"Monica Geller\", \"Chandler Bing\", \"Phoebe Buffay\"]` \n",
    "\n",
    "should change to this: \n",
    "\n",
    "`usernames = [\"joey_tribbiani\", \"monica_geller\", \"chandler_bing\", \"phoebe_buffay\"]`"
   ]
  },
  {
   "cell_type": "code",
   "execution_count": 20,
   "id": "851f34e0-c71f-4aec-b674-b8dc8c733cce",
   "metadata": {},
   "outputs": [
    {
     "name": "stdout",
     "output_type": "stream",
     "text": [
      "['joey_tribbiani', 'monica_geller', 'chandler_bing', 'phoebe_buffay']\n"
     ]
    }
   ],
   "source": [
    "usernames = [\"Joey Tribbiani\", \"Monica Geller\", \"Chandler Bing\", \"Phoebe Buffay\"]\n",
    "\n",
    "for val in range(len(usernames)):\n",
    "    usernames[val]=usernames[val].lower().replace(' ', '_')\n",
    "\n",
    "print(usernames)"
   ]
  },
  {
   "cell_type": "markdown",
   "id": "587fee8f-3bb9-41a1-af46-83823efe5036",
   "metadata": {},
   "source": [
    "## Quiz: Tag Counter\n",
    "Write a for loop that iterates over a list of strings, `tokens`, and counts how many of them are [XML tags](https://en.wikipedia.org/wiki/XML). XML is a data language similar to HTML. You can tell if a string is an XML tag if it begins with a left angle bracket \"<\" and ends with a right angle bracket \">\". Keep track of the number of tags using the variable `count`.\n",
    "\n",
    "You can assume that the list of strings will not contain empty strings."
   ]
  },
  {
   "cell_type": "code",
   "execution_count": 22,
   "id": "29a24142-63c3-4a24-9778-60a69ad138a5",
   "metadata": {},
   "outputs": [
    {
     "name": "stdout",
     "output_type": "stream",
     "text": [
      "2\n"
     ]
    }
   ],
   "source": [
    "tokens = ['<greeting>', 'Hello World!', '</greeting>']\n",
    "count = 0\n",
    "\n",
    "for token in tokens:\n",
    "    if token[0] == '<' and token[-1] == '>':\n",
    "        count += 1\n",
    "print(count)"
   ]
  },
  {
   "cell_type": "code",
   "execution_count": 23,
   "id": "1c25f14f-ccf2-4f5e-9d92-81574aca0819",
   "metadata": {},
   "outputs": [
    {
     "name": "stdout",
     "output_type": "stream",
     "text": [
      "{'great': 2, 'expectations': 1, 'the': 2, 'adventures': 2, 'of': 2, 'sherlock': 1, 'holmes': 1, 'gasby': 1, 'hamlet': 1, 'huckleberry': 1, 'fin': 1}\n"
     ]
    }
   ],
   "source": [
    "book_title =  ['great', 'expectations', 'the', 'adventures', 'of', 'sherlock', 'holmes', 'the', 'great', 'gasby', 'hamlet', 'adventures', 'of', 'huckleberry', 'fin']\n",
    "\n",
    "# Step 1: Create an empty dictionary\n",
    "word_counter = {}\n",
    "\n",
    "# Step 2: Iterate through each element in the list\n",
    "for word in book_title:\n",
    "    if word not in word_counter:\n",
    "        word_counter[word] = 1\n",
    "    else:\n",
    "        word_counter[word] += 1\n",
    "\n",
    "# Print the result\n",
    "print(word_counter)\n"
   ]
  },
  {
   "cell_type": "code",
   "execution_count": 24,
   "id": "086c5c8f-978e-4f12-9b21-06623506b245",
   "metadata": {},
   "outputs": [
    {
     "name": "stdout",
     "output_type": "stream",
     "text": [
      "{'great': 2, 'expectations': 1, 'the': 2, 'adventures': 2, 'of': 2, 'sherlock': 1, 'holmes': 1, 'gasby': 1, 'hamlet': 1, 'huckleberry': 1, 'fin': 1}\n"
     ]
    }
   ],
   "source": [
    "book_title =  ['great', 'expectations', 'the', 'adventures', 'of', 'sherlock', 'holmes', 'the', 'great', 'gasby', 'hamlet', 'adventures', 'of', 'huckleberry', 'fin']\n",
    "\n",
    "# Step 1: Create an empty dictionary\n",
    "word_counter = {}\n",
    "\n",
    "# Step 2: Iterate through each element, use get() to retrieve the current count, and add 1\n",
    "for word in book_title:\n",
    "    word_counter[word] = word_counter.get(word, 0) + 1\n",
    "\n",
    "# Print the result\n",
    "print(word_counter)\n"
   ]
  },
  {
   "cell_type": "code",
   "execution_count": 27,
   "id": "51fd4edb-ea61-4823-b641-da13fa09b8bc",
   "metadata": {},
   "outputs": [
    {
     "name": "stdout",
     "output_type": "stream",
     "text": [
      "Iterating through keys\n",
      "Jerry Seinfeld\n",
      "Julia Louis-Dreyfus\n",
      "Jason Alexander\n",
      "Michael Richards\n",
      "\n",
      "Iterating through keys and values :\n",
      "Actor :Jerry Seinfeld and Role:Jerry Seinfeld\n",
      "Actor :Julia Louis-Dreyfus and Role:Elaine Benes\n",
      "Actor :Jason Alexander and Role:George Costanza\n",
      "Actor :Michael Richards and Role:Cosmo Kramer\n"
     ]
    }
   ],
   "source": [
    "# Iterating Through Dictionaries with For Loops\n",
    "cast = {\n",
    "           \"Jerry Seinfeld\": \"Jerry Seinfeld\",\n",
    "           \"Julia Louis-Dreyfus\": \"Elaine Benes\",\n",
    "           \"Jason Alexander\": \"George Costanza\",\n",
    "           \"Michael Richards\": \"Cosmo Kramer\"\n",
    "       }\n",
    "print(\"Iterating through keys\")\n",
    "for key in cast:\n",
    "    print(key)\n",
    "\n",
    "print(\"\\nIterating through keys and values :\")\n",
    "for key, value in cast.items():\n",
    "    print(f\"Actor :{key} and Role:{value}\")\n"
   ]
  },
  {
   "cell_type": "code",
   "execution_count": 2,
   "id": "a45e6e2e-912b-42fa-b336-f8e3dba4a577",
   "metadata": {},
   "outputs": [
    {
     "name": "stdout",
     "output_type": "stream",
     "text": [
      "{'great': 2, 'expectations': 1, 'the': 2, 'adventures': 2, 'of': 2, 'sherlock': 1, 'holmes': 1, 'gasby': 1, 'hamlet': 1, 'huckleberry': 1, 'fin': 1}\n"
     ]
    }
   ],
   "source": [
    "book_title =  ['great', 'expectations', 'the', 'adventures', 'of', 'sherlock', 'holmes', 'the', 'great', 'gasby', 'hamlet', 'adventures', 'of', 'huckleberry', 'fin']\n",
    "book_count = {}\n",
    "\n",
    "for book in book_title :\n",
    "    if book not in book_count:\n",
    "        book_count[book] = 1\n",
    "    else:\n",
    "        book_count[book] += 1\n",
    "\n",
    "print(book_count)\n",
    "    "
   ]
  },
  {
   "cell_type": "code",
   "execution_count": 9,
   "id": "00626622-f6ec-4264-89fe-2c34afb5bea0",
   "metadata": {},
   "outputs": [
    {
     "name": "stdout",
     "output_type": "stream",
     "text": [
      "{'great': 2, 'expectations': 1, 'the': 2, 'adventures': 2, 'of': 2, 'sherlock': 1, 'holmes': 1, 'gasby': 1, 'hamlet': 1, 'huckleberry': 1, 'fin': 1}\n",
      "Dictionary keys are :dict_keys(['great', 'expectations', 'the', 'adventures', 'of', 'sherlock', 'holmes', 'gasby', 'hamlet', 'huckleberry', 'fin'])\n",
      "Dictionary values are :dict_values([2, 1, 2, 2, 2, 1, 1, 1, 1, 1, 1])\n",
      "Dictionary items are as follows : dict_items([('great', 2), ('expectations', 1), ('the', 2), ('adventures', 2), ('of', 2), ('sherlock', 1), ('holmes', 1), ('gasby', 1), ('hamlet', 1), ('huckleberry', 1), ('fin', 1)])\n"
     ]
    }
   ],
   "source": [
    "# with get method \n",
    "book_title =  ['great', 'expectations', 'the', 'adventures', 'of', 'sherlock', 'holmes', 'the', 'great', 'gasby', 'hamlet', 'adventures', 'of', 'huckleberry', 'fin']\n",
    "book_count = {}\n",
    "\n",
    "for book in book_title:\n",
    "    book_count[book] = book_count.get(book, 0)+1\n",
    "\n",
    "print(book_count)\n",
    "\n",
    "print(f\"Dictionary keys are :{book_count.keys()}\")\n",
    "print(f\"Dictionary values are :{book_count.values()}\")\n",
    "print(f\"Dictionary items are as follows : {book_count.items()}\")\n",
    "\n",
    "\n"
   ]
  },
  {
   "cell_type": "markdown",
   "id": "f09b17e2-e0ca-43ef-8501-ef4d976e7d62",
   "metadata": {},
   "source": [
    "## Quiz: Fruit Basket - Task 1\n",
    "You would like to count the number of fruits in your basket.  In order to do this, you have the following dictionary and list of fruits.  Use the dictionary and list to count the total number of fruits, but you do not want to count the other items in your basket."
   ]
  },
  {
   "cell_type": "code",
   "execution_count": 12,
   "id": "72c77ac5-054a-40d8-8a75-c7bb08cf0e1b",
   "metadata": {},
   "outputs": [
    {
     "name": "stdout",
     "output_type": "stream",
     "text": [
      "23\n"
     ]
    }
   ],
   "source": [
    "result = 0\n",
    "basket_items = {'apples': 4, 'oranges': 19, 'kites': 3, 'sandwiches': 8}\n",
    "fruits = ['apples', 'oranges', 'pears', 'peaches', 'grapes', 'bananas']\n",
    "\n",
    "for fruit in basket_items.keys():\n",
    "    if fruit in fruits:\n",
    "        result += basket_items[fruit]\n",
    "    else:\n",
    "        result += 0\n",
    "print(result)"
   ]
  },
  {
   "cell_type": "markdown",
   "id": "f609007b-42f0-4769-912e-0702f456bd97",
   "metadata": {},
   "source": [
    "## Quiz: Fruit Basket - Task 2\n",
    "If your solution is robust, you should be able to use it with any dictionary of items to count the number of fruits in the basket.  Try the loop for each of the dictionaries below to make sure it always works."
   ]
  },
  {
   "cell_type": "code",
   "execution_count": 13,
   "id": "48b03b6f-3626-4c7c-9cfc-db9cc33b44bb",
   "metadata": {},
   "outputs": [
    {
     "name": "stdout",
     "output_type": "stream",
     "text": [
      "28\n",
      "28\n",
      "9\n",
      "9\n",
      "4\n",
      "4\n"
     ]
    }
   ],
   "source": [
    "# This quiz is not graded. You can use the run button to print out your result.\n",
    "#Example 1\n",
    "\n",
    "result = 0\n",
    "basket_items = {'pears': 5, 'grapes': 19, 'kites': 3, 'sandwiches': 8, 'bananas': 4}\n",
    "fruits = ['apples', 'oranges', 'pears', 'peaches', 'grapes', 'bananas']\n",
    "\n",
    "# Your previous solution here\n",
    "for fruit in basket_items.keys():\n",
    "    if fruit in fruits:\n",
    "        result += basket_items[fruit]\n",
    "    else:\n",
    "        result += 0\n",
    "print(result)\n",
    "\n",
    "\n",
    "print(result)\n",
    "\n",
    "#Example 2\n",
    "\n",
    "result = 0\n",
    "basket_items = {'peaches': 5, 'lettuce': 2, 'kites': 3, 'sandwiches': 8, 'pears': 4}\n",
    "fruits = ['apples', 'oranges', 'pears', 'peaches', 'grapes', 'bananas']\n",
    "\n",
    "# Your previous solution here\n",
    "for fruit in basket_items.keys():\n",
    "    if fruit in fruits:\n",
    "        result += basket_items[fruit]\n",
    "    else:\n",
    "        result += 0\n",
    "print(result)\n",
    "\n",
    "\n",
    "print(result)\n",
    "\n",
    "\n",
    "#Example 3\n",
    "\n",
    "result = 0\n",
    "basket_items = {'lettuce': 2, 'kites': 3, 'sandwiches': 8, 'pears': 4, 'bears': 10}\n",
    "fruits = ['apples', 'oranges', 'pears', 'peaches', 'grapes', 'bananas']\n",
    "\n",
    "# Your previous solution here\n",
    "for fruit in basket_items.keys():\n",
    "    if fruit in fruits:\n",
    "        result += basket_items[fruit]\n",
    "    else:\n",
    "        result += 0\n",
    "print(result)\n",
    "\n",
    "\n",
    "print(result)"
   ]
  },
  {
   "cell_type": "markdown",
   "id": "e3a1e0fe-5f11-4ab5-b623-e8d199ed7f36",
   "metadata": {},
   "source": [
    "## Quiz: Fruit Basket - Task 3\n",
    "So, a couple of things about the above examples:\n",
    "\n",
    "1. It is a bit annoying having to copy and paste all the code to each spot - wouldn't it be nice to have a way to repeat the process without copying all the code?  Don't worry! You will learn how to do this in the next lesson!\n",
    "2. It would be nice to keep track of both the number of fruits and other items in the basket.\n",
    "\n",
    "Use the environment below to try out this second part."
   ]
  },
  {
   "cell_type": "code",
   "execution_count": 14,
   "id": "472dab78-61e0-4afe-904c-608821aaa5dd",
   "metadata": {},
   "outputs": [
    {
     "name": "stdout",
     "output_type": "stream",
     "text": [
      "fruit_count : 23\n",
      "not_fruit_count :11\n"
     ]
    }
   ],
   "source": [
    "# You would like to count the number of fruits in your basket. \n",
    "# In order to do this, you have the following dictionary and list of\n",
    "# fruits.  Use the dictionary and list to count the total number\n",
    "# of fruits and not_fruits.\n",
    "\n",
    "fruit_count, not_fruit_count = 0, 0\n",
    "basket_items = {'apples': 4, 'oranges': 19, 'kites': 3, 'sandwiches': 8}\n",
    "fruits = ['apples', 'oranges', 'pears', 'peaches', 'grapes', 'bananas']\n",
    "\n",
    "#Iterate through the dictionary\n",
    "for fruit in basket_items.keys():\n",
    "    if fruit in fruits:\n",
    "        fruit_count += basket_items[fruit]\n",
    "    else:\n",
    "        not_fruit_count += basket_items[fruit]\n",
    "        \n",
    "print(f\"fruit_count : {fruit_count}\")\n",
    "print(f\"not_fruit_count :{not_fruit_count}\")\n",
    "\n",
    "#if the key is in the list of fruits, add to fruit_count.\n",
    "\n",
    "#if the key is not in the list, then add to the not_fruit_count"
   ]
  },
  {
   "cell_type": "markdown",
   "id": "c780845d-341e-4b69-87f8-28e0a77078ee",
   "metadata": {},
   "source": [
    "### While Loop\n",
    "`for` loops are an example of \"definite iteration\" meaning that the loop's body is run a predefined number of times. This differs from \"indefinite iteration\" which is when a loop repeats an unknown number of times and ends when some condition is met, which is what happens in a `while` loop. Here's an example of a `while` loop.\n"
   ]
  },
  {
   "cell_type": "code",
   "execution_count": 16,
   "id": "c784b64b-7e03-400c-a9fe-3b1ce111db95",
   "metadata": {},
   "outputs": [
    {
     "name": "stdout",
     "output_type": "stream",
     "text": [
      "[10, 8]\n",
      "[4, 11, 8, 5, 13, 2]\n"
     ]
    }
   ],
   "source": [
    "card_deck = [4, 11, 8, 5, 13, 2, 8, 10]\n",
    "hand = []\n",
    "\n",
    "while sum(hand) <= 17:\n",
    "    hand.append(card_deck.pop())\n",
    "\n",
    "print(hand)\n",
    "print(card_deck)"
   ]
  },
  {
   "cell_type": "markdown",
   "id": "051fac75-76c7-471f-80ac-79da2de95a82",
   "metadata": {},
   "source": [
    "## Practice: Factorials with While Loops\n",
    "Find the factorial of a number using a while loop.\n",
    "\n",
    "A **factorial** of a whole number is that number multiplied by every whole number between itself and 1. For example, 6 factorial (written \"6!\") equals 6 x 5 x 4 x 3 x 2 x 1 = 720. So 6! = 720.\n",
    "\n",
    "We can write a while loop to take any given number and figure out what its factorial is.\n",
    "\n",
    "Example: If `number` is 6, your code should compute and print the `product`, 720."
   ]
  },
  {
   "cell_type": "code",
   "execution_count": 18,
   "id": "e7793853-b9d5-4879-9de6-9be86163ade6",
   "metadata": {},
   "outputs": [
    {
     "name": "stdout",
     "output_type": "stream",
     "text": [
      "720\n"
     ]
    }
   ],
   "source": [
    "# while loop\n",
    "number = 6\n",
    "product = 1\n",
    "current = 1\n",
    "\n",
    "while current <= 6:\n",
    "    product *= current \n",
    "    current += 1\n",
    "\n",
    "print(product)"
   ]
  },
  {
   "cell_type": "code",
   "execution_count": 19,
   "id": "779e8e00-138d-4b14-8448-b5feb262046f",
   "metadata": {},
   "outputs": [
    {
     "name": "stdout",
     "output_type": "stream",
     "text": [
      "720\n"
     ]
    }
   ],
   "source": [
    "# For loop \n",
    "\n",
    "number = 6\n",
    "product = 1\n",
    "\n",
    "for num in range(1, number+1, 1):\n",
    "    product *= num\n",
    "\n",
    "print(product)"
   ]
  },
  {
   "cell_type": "markdown",
   "id": "1f7bb5c3-fea0-476b-9190-ea9af7716f54",
   "metadata": {},
   "source": [
    "## Quiz: Count By\n",
    "Suppose you want to count from some number `start_num` by another number `count_by` until you hit a final number `end_num`. Use `break_num` as the variable that you'll change each time through the loop.  For simplicity, assume that `end_num` is always larger than `start_num` and `count_by` is always positive. \n",
    "\n",
    "Before the loop, what do you want to set `break_num` equal to? How do you want to change `break_num` each time through the loop? What condition will you use to see when it's time to stop looping?\n",
    "\n",
    "After the loop is done, what's the value of `break_num`? It is the case that `break_num` should be a number that is the first number larger than `end_num`."
   ]
  },
  {
   "cell_type": "code",
   "execution_count": 22,
   "id": "05b6e192-b6be-4c22-94ac-62c098bd9e79",
   "metadata": {},
   "outputs": [
    {
     "name": "stdout",
     "output_type": "stream",
     "text": [
      "101\n"
     ]
    }
   ],
   "source": [
    "start_num = 5\n",
    "end_num = 100\n",
    "count_by = 2\n",
    "\n",
    "break_num = start_num\n",
    "while break_num < end_num:\n",
    "    break_num += count_by\n",
    "\n",
    "print(break_num)"
   ]
  },
  {
   "cell_type": "markdown",
   "id": "ac17bfcb-9b26-4b17-bbe3-a53733b1be15",
   "metadata": {},
   "source": [
    "## Quiz: Count By Check\n",
    "Suppose you want to count from some number `start_num` by another number `count_by` until you hit a final number `end_num`, and calculate `break_num` the way you did in the last quiz.\n",
    "\n",
    "Now in addition, address what would happen if someone gives a `start_num` that is greater than `end_num`. If this is the case, set `result` to `\"Oops!  Looks like your start value is greater than the end value.  Please try again.\"` \n",
    "\n",
    "Otherwise, set `result` to the value of `break_num`."
   ]
  },
  {
   "cell_type": "code",
   "execution_count": 23,
   "id": "64ac204e-ecaf-4359-ba82-f4d6607bffcf",
   "metadata": {},
   "outputs": [
    {
     "name": "stdout",
     "output_type": "stream",
     "text": [
      "101\n"
     ]
    }
   ],
   "source": [
    "start_num = 5\n",
    "end_num = 100\n",
    "count_by = 2\n",
    "\n",
    "if start_num > end_num:\n",
    "    result = \"Oops! Looks like your start value is greater than the end value. Please try again.\"\n",
    "\n",
    "else:\n",
    "    break_num = start_num\n",
    "    while break_num < end_num:\n",
    "        break_num += count_by\n",
    "\n",
    "    result = break_num\n",
    "\n",
    "print(result)"
   ]
  },
  {
   "cell_type": "code",
   "execution_count": 21,
   "id": "706431cc-a27b-4245-b0b6-68ca67de7e09",
   "metadata": {},
   "outputs": [
    {
     "name": "stdout",
     "output_type": "stream",
     "text": [
      "36\n"
     ]
    }
   ],
   "source": [
    "limit = 40 #provide a limit, replace 40 with a number you choose\n",
    "# write your while loop here\n",
    "squares = []\n",
    "for num in range(1, limit+1, 1):\n",
    "    square = num * num\n",
    "    if square > 40:\n",
    "        break\n",
    "    squares.append(square)\n",
    "    \n",
    "    \n",
    "    \n",
    "nearest_square = squares[-1] # replace None with appropriate code\n",
    "print(nearest_square)"
   ]
  },
  {
   "cell_type": "markdown",
   "id": "392b020a-817e-491c-a947-08edeaa3bdda",
   "metadata": {},
   "source": [
    "__Question:__ You need to write a loop that takes the numbers in a given list named num_list:\n",
    "num_list = [422, 136, 524, 85, 96, 719, 85, 92, 10, 17, 312, 542, 87, 23, 86, 191, 116, 35, 173, 45, 149, 59, 84, 69, 113, 166]\n",
    "\n",
    "Your code should add up the odd numbers in the list, but only up to the first 5 odd numbers together. If there are more than 5 odd numbers, you should stop at the fifth. If there are fewer than 5 odd numbers, add all of the odd numbers."
   ]
  },
  {
   "cell_type": "code",
   "execution_count": 24,
   "id": "ef6da680-4ffe-4fac-8243-e1293084821b",
   "metadata": {},
   "outputs": [
    {
     "name": "stdout",
     "output_type": "stream",
     "text": [
      "The numbers of odd numbers added are: 5\n",
      "The sum of the odd numbers added is: 993\n"
     ]
    }
   ],
   "source": [
    "num_list = [422, 136, 524, 85, 96, 719, 85, 92, 10, 17, 312, 542, 87, 23, 86, 191, 116, 35, 173, 45, 149, 59, 84, 69, 113, 166]\n",
    "\n",
    "count_odd = 0\n",
    "list_sum = 0\n",
    "i = 0\n",
    "len_num_list = len(num_list)\n",
    "\n",
    "while (count_odd < 5) and (i < len_num_list): \n",
    "    if num_list[i] % 2 != 0:\n",
    "        list_sum += num_list[i]\n",
    "        count_odd += 1\n",
    "    i += 1\n",
    "\n",
    "print (\"The numbers of odd numbers added are: {}\".format(count_odd))\n",
    "print (\"The sum of the odd numbers added is: {}\".format(list_sum))"
   ]
  },
  {
   "cell_type": "markdown",
   "id": "29128428-08fa-4d30-8c34-eb953357c34b",
   "metadata": {},
   "source": [
    "## BREAK AND CONTINUE\n",
    "\n",
    "Sometimes we need more control over when a loop should end, or skip an iteration. In these cases, we use the `break` and `continue` keywords, which can be used in both `for` and `while` loops.\n",
    "\n",
    "* break terminates a loop\n",
    "* continue skips one iteration of a loop"
   ]
  },
  {
   "cell_type": "code",
   "execution_count": 30,
   "id": "16b18ae3-1873-4111-8ec6-bb022a97f98f",
   "metadata": {},
   "outputs": [
    {
     "name": "stdout",
     "output_type": "stream",
     "text": [
      "Method 1\n",
      "current weight 0\n",
      "adding the bananas which have the weight of 15\n",
      "current weight 15\n",
      "adding the mattresses which have the weight of 24\n",
      "current weight 39\n",
      "adding the dog kennels which have the weight of 42\n",
      "current weight 81\n",
      "adding the machine which have the weight of 120\n",
      "current weight 201\n",
      "\n",
      "FInal weight  : 201\n",
      "Final Items : ['bananas', 'mattresses', 'dog kennels', 'machine']\n"
     ]
    }
   ],
   "source": [
    "manifest = [(\"bananas\", 15), (\"mattresses\", 24), (\"dog kennels\", 42), (\"machine\", 120), (\"cheeses\", 5)]\n",
    "\n",
    "print(\"Method 1\")\n",
    "weight = 0\n",
    "loaded_items = []\n",
    "\n",
    "for cargo_name, cargo_weight in manifest:\n",
    "    print(f\"current weight {weight}\")\n",
    "    if weight >= 100:\n",
    "        break\n",
    "    else:\n",
    "        print(f\"adding the {cargo_name} which have the weight of {cargo_weight}\")\n",
    "        loaded_items.append(cargo_name)\n",
    "        weight += cargo_weight\n",
    "print(f\"\\nFInal weight  : {weight}\")\n",
    "print(f\"Final Items : {loaded_items}\")\n",
    "        "
   ]
  },
  {
   "cell_type": "code",
   "execution_count": 31,
   "id": "0c9d684e-5dab-46a1-b78c-fb29004b045b",
   "metadata": {},
   "outputs": [
    {
     "name": "stdout",
     "output_type": "stream",
     "text": [
      "current weight: 0\n",
      "  adding bananas (15)\n",
      "current weight: 15\n",
      "  adding mattresses (24)\n",
      "current weight: 39\n",
      "  adding dog kennels (42)\n",
      "current weight: 81\n",
      "  skipping machine (120)\n",
      "current weight: 81\n",
      "  adding cheeses (5)\n",
      "\n",
      "Final Weight: 86\n",
      "Final Items: ['bananas', 'mattresses', 'dog kennels', 'cheeses']\n"
     ]
    }
   ],
   "source": [
    "## METHOD 2\n",
    "manifest = [(\"bananas\", 15), (\"mattresses\", 24), (\"dog kennels\", 42), (\"machine\", 120), (\"cheeses\", 5)]\n",
    "\n",
    "weight = 0\n",
    "items = []\n",
    "for cargo_name, cargo_weight in manifest:\n",
    "    print(\"current weight: {}\".format(weight))\n",
    "    if weight >= 100:\n",
    "        print(\"  breaking from the loop now!\")\n",
    "        break\n",
    "    elif weight + cargo_weight > 100:\n",
    "        print(\"  skipping {} ({})\".format(cargo_name, cargo_weight))\n",
    "        continue\n",
    "    else:\n",
    "        print(\"  adding {} ({})\".format(cargo_name, cargo_weight))\n",
    "        items.append(cargo_name)\n",
    "        weight += cargo_weight\n",
    "\n",
    "print(\"\\nFinal Weight: {}\".format(weight))\n",
    "print(\"Final Items: {}\".format(items))"
   ]
  },
  {
   "cell_type": "code",
   "execution_count": 33,
   "id": "610a6894-1c5d-455a-9795-0e1f2bc5c49d",
   "metadata": {},
   "outputs": [
    {
     "name": "stdout",
     "output_type": "stream",
     "text": [
      "Local Bear Eaten by Man Legislature Announces New Laws Peasant Discovers Violence Inherent in System Cat Rescues Fireman Stuck in Tree Brave\n",
      "140\n"
     ]
    }
   ],
   "source": [
    "headlines = [\"Local Bear Eaten by Man\",\n",
    "             \"Legislature Announces New Laws\",\n",
    "             \"Peasant Discovers Violence Inherent in System\",\n",
    "             \"Cat Rescues Fireman Stuck in Tree\",\n",
    "             \"Brave Knight Runs Away\",\n",
    "             \"Papperbok Review: Totally Triffic\"]\n",
    "\n",
    "news_ticker = \"\"\n",
    "for headline in headlines:\n",
    "    news_ticker += headline + \" \"\n",
    "    if len(news_ticker) >= 140:\n",
    "        news_ticker = news_ticker[:140]\n",
    "        break\n",
    "\n",
    "print(news_ticker)\n",
    "print(len(news_ticker))"
   ]
  },
  {
   "cell_type": "code",
   "execution_count": 53,
   "id": "72c03d00-9f21-4f25-ad61-1a434071dbf3",
   "metadata": {},
   "outputs": [
    {
     "name": "stdout",
     "output_type": "stream",
     "text": [
      "37 is a prime number\n"
     ]
    }
   ],
   "source": [
    "# Check for Prime Numbers\n",
    "\n",
    "def check_primenumber(n):\n",
    "    if n == 1:\n",
    "        return False\n",
    "        \n",
    "    for i in range(2, n, 1):\n",
    "        if n%i == 0:\n",
    "            print(f\"{n} number is not a prime\")\n",
    "            break\n",
    "        elif i+1==n:\n",
    "            print(f\"{n} is a prime number\")\n",
    "    \n",
    "\n",
    "check_primenumber(37)"
   ]
  },
  {
   "cell_type": "markdown",
   "id": "6b36e752-3eb6-4414-9a16-688a719274c3",
   "metadata": {},
   "source": [
    "__Zip and Enumerate__\n",
    "\n",
    "`zip` and `enumerate` are useful built-in functions that can come in handy when dealing with loops.\n",
    "\n",
    "__Zip__\n",
    "\n",
    "`zip` returns an iterator that combines multiple iterables into one sequence of tuples. Each tuple contains the elements in that position from all the iterables. For example, printing\n",
    "\n",
    "list(zip(['a', 'b', 'c'], [1, 2, 3])) would output [('a', 1), ('b', 2), ('c', 3)].\n",
    "\n",
    "Like we did for `range()` we need to convert it to a list or iterate through it with a loop to see the elements.\n",
    "\n"
   ]
  },
  {
   "cell_type": "code",
   "execution_count": 56,
   "id": "b70db94a-2a33-4497-9c5d-a79857458af5",
   "metadata": {},
   "outputs": [
    {
     "name": "stdout",
     "output_type": "stream",
     "text": [
      "1 : a\n",
      "2 : b\n",
      "3 : c\n"
     ]
    }
   ],
   "source": [
    "# this is the case where we wanted to just iterate them together \n",
    "letters = ['a', 'b', 'c']\n",
    "nums = [1, 2, 3]\n",
    "\n",
    "for letter, num in zip(letters, nums):\n",
    "    print(f\"{num} : {letter}\")"
   ]
  },
  {
   "cell_type": "code",
   "execution_count": 61,
   "id": "d27524d2-6f0b-45b3-a083-efb6931fc8aa",
   "metadata": {},
   "outputs": [
    {
     "name": "stdout",
     "output_type": "stream",
     "text": [
      "[(1, 'a'), (2, 'b'), (3, 'c'), (4, 'd'), (5, 'e'), (6, 'f'), (2, 'b')]\n",
      "{(5, 'e'), (6, 'f'), (1, 'a'), (4, 'd'), (2, 'b'), (3, 'c')}\n",
      "((1, 'a'), (2, 'b'), (3, 'c'), (4, 'd'), (5, 'e'), (6, 'f'), (2, 'b'))\n",
      "{1: 'a', 2: 'b', 3: 'c', 4: 'd', 5: 'e', 6: 'f'}\n"
     ]
    }
   ],
   "source": [
    "# If we want to create the list or tuple .. using zip. We can do them as follows \n",
    "letters = ['a', 'b', 'c','d', 'e', 'f', 'b']\n",
    "nums = [1, 2, 3, 4, 5, 6, 2]\n",
    "\n",
    "paired_list = list(zip(nums, letters))\n",
    "print(paired_list)\n",
    "\n",
    "paired_set = set(zip(nums,letters))\n",
    "print(paired_set)\n",
    "\n",
    "paired_tuple = tuple(zip(nums, letters))\n",
    "print(paired_tuple)\n",
    "\n",
    "paired_dict = dict(zip(nums, letters))\n",
    "print(paired_dict)"
   ]
  },
  {
   "cell_type": "code",
   "execution_count": 62,
   "id": "792c6077-5ca4-4cad-afb8-400a82f618b4",
   "metadata": {},
   "outputs": [
    {
     "name": "stdout",
     "output_type": "stream",
     "text": [
      "(1, 2, 3, 4, 5, 6, 2)\n",
      "('a', 'b', 'c', 'd', 'e', 'f', 'b')\n"
     ]
    }
   ],
   "source": [
    "# We can also unpack the results if we want using * symbol, it unpacks as a tuple \n",
    "\n",
    "numbers, letterrs = zip(*paired_tuple)\n",
    "print(numbers)\n",
    "print(letterrs)"
   ]
  },
  {
   "cell_type": "markdown",
   "id": "027d49d1-e1fb-4eae-a5e4-d3e1bafd10ef",
   "metadata": {},
   "source": [
    "### Enumerate\n",
    "\n",
    "`enumerate` is a built in function that returns an iterator of tuples containing indices and values of a list. You'll often use this when you want the index along with each element of an iterable in a loop."
   ]
  },
  {
   "cell_type": "code",
   "execution_count": 64,
   "id": "3808d431-daa1-42c8-a087-eb241ebf2fea",
   "metadata": {},
   "outputs": [
    {
     "name": "stdout",
     "output_type": "stream",
     "text": [
      "0 : a\n",
      "1 : b\n",
      "2 : c\n",
      "3 : d\n",
      "4 : e\n"
     ]
    }
   ],
   "source": [
    "letters = ['a', 'b', 'c', 'd', 'e']\n",
    "\n",
    "for i, letter in enumerate(letters):\n",
    "    print(f\"{i} : {letter}\")"
   ]
  },
  {
   "cell_type": "markdown",
   "id": "db3e24c4-e043-45ba-b14f-cde0508785e5",
   "metadata": {},
   "source": [
    "## Quiz: Zip Coordinates\n",
    "Use `zip` to write a for loop that creates a string specifying the label and coordinates of each point and appends it to the list `points`. \n",
    "\n",
    "Each string should be formatted as `label: x, y, z`. For example, the string for the first coordinate should be `F: 23, 677, 4`."
   ]
  },
  {
   "cell_type": "code",
   "execution_count": 70,
   "id": "f71fec27-98d6-491a-97ad-f4b2c08d8195",
   "metadata": {},
   "outputs": [
    {
     "name": "stdout",
     "output_type": "stream",
     "text": [
      "F: 23, 677, 4\n",
      "J: 53, 233, 16\n",
      "A: 2, 405, -6\n",
      "Q: -12, 433, -42\n",
      "Y: 95, 905, 3\n",
      "B: 103, 376, -6\n",
      "W: 14, 432, 23\n",
      "X: -5, 445, -1\n"
     ]
    }
   ],
   "source": [
    "x_coord = [23, 53, 2, -12, 95, 103, 14, -5]\n",
    "y_coord = [677, 233, 405, 433, 905, 376, 432, 445]\n",
    "z_coord = [4, 16, -6, -42, 3, -6, 23, -1]\n",
    "labels = [\"F\", \"J\", \"A\", \"Q\", \"Y\", \"B\", \"W\", \"X\"]\n",
    "\n",
    "points = []\n",
    "for point in zip(labels, x_coord, y_coord, z_coord):\n",
    "    points.append(\"{}: {}, {}, {}\".format(*point)) # String making using format\n",
    "\n",
    "for point in points:\n",
    "    print(point)"
   ]
  },
  {
   "cell_type": "code",
   "execution_count": 71,
   "id": "b63ac7eb-c0e6-4f34-aa1c-2380d41faf61",
   "metadata": {},
   "outputs": [
    {
     "name": "stdout",
     "output_type": "stream",
     "text": [
      "F: 23, 677, 4\n",
      "J: 53, 233, 16\n",
      "A: 2, 405, -6\n",
      "Q: -12, 433, -42\n",
      "Y: 95, 905, 3\n",
      "B: 103, 376, -6\n",
      "W: 14, 432, 23\n",
      "X: -5, 445, -1\n"
     ]
    }
   ],
   "source": [
    "x_coord = [23, 53, 2, -12, 95, 103, 14, -5]\n",
    "y_coord = [677, 233, 405, 433, 905, 376, 432, 445]\n",
    "z_coord = [4, 16, -6, -42, 3, -6, 23, -1]\n",
    "labels = [\"F\", \"J\", \"A\", \"Q\", \"Y\", \"B\", \"W\", \"X\"]\n",
    "points = []\n",
    "\n",
    "# Use f-string in the for loop\n",
    "for point in zip(labels, x_coord, y_coord, z_coord):\n",
    "    label, x, y, z = point\n",
    "    points.append(f\"{label}: {x}, {y}, {z}\") # String making using f string\n",
    "\n",
    "# Print the points\n",
    "for point in points:\n",
    "    print(point)"
   ]
  },
  {
   "cell_type": "code",
   "execution_count": 72,
   "id": "adba96fe-3a0f-4cac-94e2-6bdd55aff49b",
   "metadata": {},
   "outputs": [
    {
     "name": "stdout",
     "output_type": "stream",
     "text": [
      "{'Barney': 72, 'Robin': 68, 'Ted': 72, 'Lily': 66, 'Marshall': 76}\n"
     ]
    }
   ],
   "source": [
    "# Making a dictionary\n",
    "\n",
    "cast_names = [\"Barney\", \"Robin\", \"Ted\", \"Lily\", \"Marshall\"]\n",
    "cast_heights = [72, 68, 72, 66, 76]\n",
    "\n",
    "cast = dict(zip(cast_names, cast_heights))\n",
    "\n",
    "print(cast)"
   ]
  },
  {
   "cell_type": "code",
   "execution_count": 74,
   "id": "ffeb80aa-b359-4032-b5e1-662d479c2416",
   "metadata": {},
   "outputs": [
    {
     "name": "stdout",
     "output_type": "stream",
     "text": [
      "('Barney', 'Robin', 'Ted', 'Lily', 'Marshall')\n",
      "(72, 68, 72, 66, 76)\n"
     ]
    }
   ],
   "source": [
    "# Unzip\n",
    "\n",
    "cast = ((\"Barney\", 72), (\"Robin\", 68), (\"Ted\", 72), (\"Lily\", 66), (\"Marshall\", 76))\n",
    "\n",
    "names, heights = zip(*cast)\n",
    "\n",
    "print(names)\n",
    "print(heights)"
   ]
  },
  {
   "cell_type": "code",
   "execution_count": 75,
   "id": "a385e07f-469d-4420-8f22-015f82ed32d4",
   "metadata": {},
   "outputs": [
    {
     "name": "stdout",
     "output_type": "stream",
     "text": [
      "((0, 3, 6, 9), (1, 4, 7, 10), (2, 5, 8, 11))\n"
     ]
    }
   ],
   "source": [
    "# Transpose\n",
    "data = ((0, 1, 2), (3, 4, 5), (6, 7, 8), (9, 10, 11))\n",
    "\n",
    "transpose = tuple(zip(*data))\n",
    "print(transpose)"
   ]
  },
  {
   "cell_type": "code",
   "execution_count": 76,
   "id": "7ec5eb0d-3660-4dae-b74c-c06589678575",
   "metadata": {},
   "outputs": [
    {
     "name": "stdout",
     "output_type": "stream",
     "text": [
      "Barney Stinson 72\n",
      "Robin Scherbatsky 68\n",
      "Ted Mosby 72\n",
      "Lily Aldrin 66\n",
      "Marshall Eriksen 76\n"
     ]
    }
   ],
   "source": [
    "cast = [\"Barney Stinson\", \"Robin Scherbatsky\", \"Ted Mosby\", \"Lily Aldrin\", \"Marshall Eriksen\"]\n",
    "heights = [72, 68, 72, 66, 76]\n",
    "\n",
    "for i, charecter in enumerate(cast):\n",
    "    cast[i] = charecter + \" \"+str(heights[i])\n",
    "\n",
    "for cas in cast:\n",
    "    print(cas)"
   ]
  },
  {
   "cell_type": "markdown",
   "id": "3718a6af-85cf-4e55-92a8-bfbfc0bca814",
   "metadata": {},
   "source": [
    "### List Comprehensions\n",
    "\n",
    "you can create lists really quickly and concisely with `list comprehensions`.\n",
    "\n",
    "__Expression for iterator in sequence_name__\n",
    "\n",
    "EX : city.title() for city in cities\n",
    "\n",
    "\n",
    "Conditionals in List Comprehensions\n",
    "You can also add conditionals to list comprehensions (listcomps). After the iterable, you can use the if keyword to check a condition in each iteration.\n",
    "\n",
    "`squares = [x**2 for x in range(9) if x % 2 == 0]`\n",
    "\n",
    "The code above sets `squares` equal to the list [0, 4, 16, 36, 64], as x to the power of 2 is only evaluated if x is even. If you want to add an else, you will get a syntax error doing this.\n",
    "\n",
    "`squares = [x**2 for x in range(9) if x % 2 == 0 else x + 3]`\n",
    "\n",
    "In a list comprehension, the condition must be completed for each item before iterating over the iterable. The syntax error occurs because the placement of the else statement in your code is not valid within the list comprehension.\n",
    "\n",
    "If you would like to add else, you have to move the conditionals to the beginning of the listcomp, right after the expression, like this.\n",
    "\n",
    "`squares = [x**2 if x % 2 == 0 else x + 3 for x in range(9)]`\n",
    "\n",
    "Note:\n",
    "\n",
    "In the first code line above, the if statement acts as a filter of the for-loop.\n",
    "\n",
    "In the third code line, the if statement acts as a conditional expression (if-else) that evaluates every single iteration. For this reason, if we didn't have an else statement, moving the if statement in front of for loop would produce a syntax error, as Python would not know what to do if the condition was not met."
   ]
  },
  {
   "cell_type": "code",
   "execution_count": 78,
   "id": "6f353b7e-c6e4-452f-be2d-6bfd8055df2c",
   "metadata": {},
   "outputs": [
    {
     "name": "stdout",
     "output_type": "stream",
     "text": [
      "['New York City', 'Mountain View', 'Chicago', 'Los Angeles']\n"
     ]
    }
   ],
   "source": [
    "# Regular for loop\n",
    "cities = ['new york city', 'mountain view', 'chicago', 'los angeles']\n",
    "new_cities = []\n",
    "\n",
    "for city in cities:\n",
    "    new_cities.append(city.title())\n",
    "\n",
    "print(new_cities)"
   ]
  },
  {
   "cell_type": "code",
   "execution_count": 83,
   "id": "73733625-b730-4cda-a214-da17ca964a08",
   "metadata": {},
   "outputs": [
    {
     "name": "stdout",
     "output_type": "stream",
     "text": [
      "['New York City', 'Mountain View', 'Chicago', 'Los Angeles']\n"
     ]
    }
   ],
   "source": [
    "# Using list comprehensions, this concept is not there in other languages but it's very common in python\n",
    "\n",
    "mod_cities = [city.title() for city in cities]\n",
    "\n",
    "print(mod_cities)\n"
   ]
  },
  {
   "cell_type": "code",
   "execution_count": 84,
   "id": "82fb2782-edff-4a80-a99c-2f0de4548a4a",
   "metadata": {},
   "outputs": [
    {
     "name": "stdout",
     "output_type": "stream",
     "text": [
      "[0, 1, 4, 9, 16, 25, 36, 49, 64]\n"
     ]
    }
   ],
   "source": [
    "# using list comprehensions print squares of the number range 9\n",
    "\n",
    "squares = [num**2 for num in range(9)]\n",
    "\n",
    "print(squares)"
   ]
  },
  {
   "cell_type": "code",
   "execution_count": 86,
   "id": "c9fda927-b9e7-4b8f-9335-372248c0c5a4",
   "metadata": {},
   "outputs": [
    {
     "name": "stdout",
     "output_type": "stream",
     "text": [
      "[0, 4, 16, 36, 64, 100]\n"
     ]
    }
   ],
   "source": [
    "# If I want to add if condition to the expression then we can do that after the sequence name \n",
    "# Now let's try the squares only for the even numbers \n",
    "\n",
    "even_squares = [num**2 for num in range(11) if num%2 == 0]\n",
    "print(even_squares)"
   ]
  },
  {
   "cell_type": "markdown",
   "id": "6d8e7f0e-8997-4aa9-8aec-f893cf18760f",
   "metadata": {},
   "source": [
    "`squares = [x**2 for x in range(9) if x % 2 == 0 else x + 3]\n",
    "print(squares)`\n",
    "\n",
    "The above code seems to be correct in our perspective but it is wrong \n",
    "\n",
    "* If we want to add the if else conditions to the the list comprehensions then we should move if else condition to right after the expression of the loop at the beginning"
   ]
  },
  {
   "cell_type": "code",
   "execution_count": 88,
   "id": "c6c1df06-36ac-4898-9d50-b3988e36df1a",
   "metadata": {},
   "outputs": [
    {
     "name": "stdout",
     "output_type": "stream",
     "text": [
      "[0, 4, 4, 6, 16, 8, 36, 10, 64]\n"
     ]
    }
   ],
   "source": [
    "squares = [num**2 if num%2 == 0 else num+3 for num in range(9) ]\n",
    "print(squares)"
   ]
  },
  {
   "cell_type": "markdown",
   "id": "8da4737c-8583-4659-81c8-e8ef4d3eb432",
   "metadata": {},
   "source": [
    "## Quiz: Extract First Names\n",
    "Use a list comprehension to create a new list `first_names` containing just the first names in `names` in lowercase.\n",
    "\n"
   ]
  },
  {
   "cell_type": "code",
   "execution_count": 90,
   "id": "f058f170-96fa-4760-b56e-686909aa875b",
   "metadata": {},
   "outputs": [
    {
     "name": "stdout",
     "output_type": "stream",
     "text": [
      "['rick', 'morty', 'summer', 'jerry', 'beth']\n"
     ]
    }
   ],
   "source": [
    "names = [\"Rick Sanchez\", \"Morty Smith\", \"Summer Smith\", \"Jerry Smith\", \"Beth Smith\"]\n",
    "first_names = [name.split(\" \")[0].lower() for name in names]\n",
    "print(first_names)"
   ]
  },
  {
   "cell_type": "code",
   "execution_count": 91,
   "id": "01236af2-510e-4575-a6bc-7a04ae6439cf",
   "metadata": {},
   "outputs": [
    {
     "name": "stdout",
     "output_type": "stream",
     "text": [
      "[3, 6, 9, 12, 15, 18, 21, 24, 27, 30, 33, 36, 39, 42, 45, 48, 51, 54, 57, 60]\n"
     ]
    }
   ],
   "source": [
    "# Use a list comprehension to create a list `multiples_3` containing the first 20 multiples of 3.\n",
    "multiples_3 = [i*3 for i in range(1, 21)]\n",
    "print(multiples_3)"
   ]
  },
  {
   "cell_type": "code",
   "execution_count": 105,
   "id": "4fe65ff9-22d8-4da4-9681-d1d08ed1a66c",
   "metadata": {},
   "outputs": [
    {
     "name": "stdout",
     "output_type": "stream",
     "text": [
      "dict_keys(['Rick Sanchez', 'Morty Smith', 'Summer Smith', 'Jerry Smith', 'Beth Smith'])\n",
      "dict_values([70, 35, 82, 23, 98])\n",
      "['Rick Sanchez', 'Summer Smith', 'Beth Smith']\n"
     ]
    }
   ],
   "source": [
    "# Use a list comprehension to create a list of names `passed` that only include those that scored at least 65.\n",
    "scores = {\n",
    "             \"Rick Sanchez\": 70,\n",
    "             \"Morty Smith\": 35,\n",
    "             \"Summer Smith\": 82,\n",
    "             \"Jerry Smith\": 23,\n",
    "             \"Beth Smith\": 98\n",
    "          }\n",
    "print(scores.keys())\n",
    "print(scores.values())\n",
    "\n",
    "passed = [name for name, score in scores.items() if score >= 65]\n",
    "print(passed)"
   ]
  },
  {
   "cell_type": "markdown",
   "id": "ed42abb7-c8fa-4dc3-83bd-4e0299893638",
   "metadata": {},
   "source": [
    "### QUIZ\n",
    "\n",
    "A. Create a dictionary that includes the count of Oscar nominations for each director in the nominations list.\n",
    "\n",
    "B. Provide a dictionary with the count of Oscar wins for each director in the winners list."
   ]
  },
  {
   "cell_type": "code",
   "execution_count": 115,
   "id": "196af5d2-8d54-4ceb-a23a-5e3194a7d4e5",
   "metadata": {},
   "outputs": [
    {
     "name": "stdout",
     "output_type": "stream",
     "text": [
      "{'Norman Taurog': 2, 'Wesley Ruggles': 1, 'Clarence Brown': 4, 'Lewis Milestone': 1, 'Josef Von Sternberg': 2, 'Frank Borzage': 1, 'King Vidor': 3, 'Frank Lloyd': 2, 'Frank Capra': 6, 'George Cukor': 5, 'Victor Schertzinger': 1, 'W. S. Van Dyke': 2, 'John Ford': 5, 'Michael Curtiz': 5, 'Henry Hathaway': 1, 'William Wyler': 12, 'Robert Z. Leonard': 1, 'Gregory La Cava': 2, 'Leo McCarey': 3, 'Sidney Franklin': 1, 'William Dieterle': 1, 'William Wellman': 2, 'Sam Wood': 3, 'Victor Fleming': 1, 'Alfred Hitchcock': 5, 'Orson Welles': 1, 'Alexander Hall': 1, 'Howard Hawks': 1, 'Mervyn LeRoy': 1, 'John Farrow': 1, 'Ernst Lubitsch': 1, 'George Stevens': 5, 'Henry King': 2, 'Billy Wilder': 8, 'Otto Preminger': 2, 'Jean Renoir': 1, 'David Lean': 7, 'Robert Siodmak': 1, 'Elia Kazan': 5, 'Henry Koster': 1, 'Edward Dmytryk': 1, 'John Huston': 5, 'Laurence Olivier': 1, 'Jean Negulesco': 1, 'Fred Zinnemann': 7, 'Anatole Litvak': 1, 'Joseph L. Mankiewicz': 4, 'Robert Rossen': 2, 'William A. Wellman': 1, 'Carol Reed': 3, 'Vincente Minnelli': 2, 'Cecil B. DeMille': 1, 'Charles Walters': 1, 'George Seaton': 1, 'Delbert Mann': 1, 'John Sturges': 1, 'Joshua Logan': 2, 'Michael Anderson': 1, 'Walter Lang': 1, 'Mark Robson': 2, 'Sidney Lumet': 4, 'Richard Brooks': 3, 'Stanley Kramer': 3, 'Robert Wise': 3, 'Jack Clayton': 1, 'Jules Dassin': 1, 'Jack Cardiff': 1, 'J. Lee Thompson': 1, 'Federico Fellini': 4, 'Jerome Robbins': 1, 'Frank Perry': 1, 'Pietro Germi': 1, 'Arthur Penn': 3, 'Robert Mulligan': 1, 'Martin Ritt': 1, 'Tony Richardson': 1, 'Peter Glenville': 1, 'Stanley Kubrick': 4, 'Robert Stevenson': 1, 'Michael Cacoyannis': 1, 'John Schlesinger': 3, 'Hiroshi Teshigahara': 1, 'Michelangelo Antonioni': 1, 'Claude Lelouch': 1, 'Mike Nichols': 4, 'Norman Jewison': 3, 'Gillo Pontecorvo': 1, 'Anthony Harvey': 1, 'Franco Zeffirelli': 1, 'George Roy Hill': 2, 'Sydney Pollack': 3, 'Costa-Gavras': 1, 'Franklin J. Schaffner': 1, 'Arthur Hiller': 1, 'Robert Altman': 5, 'Ken Russell': 1, 'Peter Bogdanovich': 1, 'William Friedkin': 2, 'Bob Fosse': 3, 'John Boorman': 2, 'Jan Troell': 1, 'Francis Ford Coppola': 3, 'George Lucas': 2, 'Ingmar Bergman': 3, 'Bernardo Bertolucci': 2, 'Roman Polanski': 3, 'Francois Truffaut': 1, 'John Cassavetes': 1, 'Milos Forman': 3, 'Alan J. Pakula': 1, 'Lina Wertmuller': 1, 'John G. Avildsen': 1, 'Steven Spielberg': 6, 'Herbert Ross': 1, 'Woody Allen': 6, 'Hal Ashby': 1, 'Warren Beatty': 2, 'Buck Henry': 1, 'Alan Parker': 2, 'Michael Cimino': 1, 'Francis Coppola': 1, 'Peter Yates': 2, 'Edouard Molinaro': 1, 'Robert Benton': 2, 'David Lynch': 3, 'Martin Scorsese': 6, 'Richard Rush': 1, 'Robert Redford': 2, 'Louis Malle': 1, 'Hugh Hudson': 1, 'Mark Rydell': 1, 'Wolfgang Petersen': 1, 'Richard Attenborough': 1, 'Bruce Beresford': 1, 'James L. Brooks': 1, 'Roland Joffe': 2, 'Hector Babenco': 1, 'Akira Kurosawa': 1, 'Peter Weir': 4, 'James Ivory': 3, 'Oliver Stone': 3, 'Adrian Lyne': 1, 'Lasse Hallstrom': 2, 'Barry Levinson': 2, 'Charles Crichton': 1, 'Kenneth Branagh': 1, 'Jim Sheridan': 2, 'Stephen Frears': 2, 'Barbet Schroeder': 1, 'Kevin Costner': 1, 'John Singleton': 1, 'Ridley Scott': 3, 'Jonathan Demme': 1, 'Clint Eastwood': 4, 'Neil Jordan': 1, 'Martin Brest': 1, 'Jane Campion': 1, 'Quentin Tarantino': 2, 'Krzysztof Kieslowski': 1, 'Robert Zemeckis': 1, 'Chris Noonan': 1, 'Tim Robbins': 1, 'Mike Figgis': 1, 'Michael Radford': 1, 'Mel Gibson': 1, 'Anthony Minghella': 1, 'Joel Coen': 3, 'Mike Leigh': 2, 'Scott Hicks': 1, 'Peter Cattaneo': 1, 'Gus Van Sant': 2, 'Curtis Hanson': 1, 'Atom Egoyan': 1, 'James Cameron': 2, 'Roberto Benigni': 1, 'John Madden': 1, 'Terrence Malick': 1, 'Spike Jonze': 1, 'Michael Mann': 1, 'M. Night Shyamalan': 1, 'Sam Mendes': 1, 'Stephen Daldry': 3, 'Ang Lee': 2, 'Steven Soderbergh': 2, 'Peter Jackson': 2, 'Ron Howard': 2, 'Rob Marshall': 1, 'Pedro Almodovar': 1, 'Fernando Meirelles': 1, 'Sofia Coppola': 1, 'Taylor Hackford': 1, 'Alexander Payne': 1, 'Bennett Miller': 1, 'Paul Haggis': 1, 'George Clooney': 1, 'Alejandro Gonzaalez Inarritu': 1, 'Paul Greengrass': 1, 'Julian Schnabel': 1, 'Jason Reitman': 2, 'Tony Gilroy': 1, 'Paul Thomas Anderson': 1, 'Ethan Coen': 2, 'David Fincher': 2, 'Danny Boyle': 1, 'Lee Daniels': 1, 'Kathryn Bigelow': 1, 'Darren Aronofsky': 1, 'David O. Russell': 1, 'Tom Hooper': 1}\n",
      "209\n"
     ]
    }
   ],
   "source": [
    "nominated = {1931: ['Norman Taurog', 'Wesley Ruggles', 'Clarence Brown', 'Lewis Milestone', 'Josef Von Sternberg'], 1932: ['Frank Borzage', 'King Vidor', 'Josef Von Sternberg'], 1933: ['Frank Lloyd', 'Frank Capra', 'George Cukor'], 1934: ['Frank Capra', 'Victor Schertzinger', 'W. S. Van Dyke'], 1935: ['John Ford', 'Michael Curtiz', 'Henry Hathaway', 'Frank Lloyd'], 1936: ['Frank Capra', 'William Wyler', 'Robert Z. Leonard', 'Gregory La Cava', 'W. S. Van Dyke'], 1937: ['Leo McCarey', 'Sidney Franklin', 'William Dieterle', 'Gregory La Cava', 'William Wellman'], 1938: ['Frank Capra', 'Michael Curtiz', 'Norman Taurog', 'King Vidor', 'Michael Curtiz'], 1939: ['Sam Wood', 'Frank Capra', 'John Ford', 'William Wyler', 'Victor Fleming'], 1940: ['John Ford', 'Sam Wood', 'William Wyler', 'George Cukor', 'Alfred Hitchcock'], 1941: ['John Ford', 'Orson Welles', 'Alexander Hall', 'William Wyler', 'Howard Hawks'], 1942: ['Sam Wood', 'Mervyn LeRoy', 'John Farrow', 'Michael Curtiz', 'William Wyler'], 1943: ['Michael Curtiz', 'Ernst Lubitsch', 'Clarence Brown', 'George Stevens', 'Henry King'], 1944: ['Leo McCarey', 'Billy Wilder', 'Otto Preminger', 'Alfred Hitchcock', 'Henry King'], 1945: ['Billy Wilder', 'Leo McCarey', 'Clarence Brown', 'Jean Renoir', 'Alfred Hitchcock'], 1946: ['David Lean', 'Frank Capra', 'Robert Siodmak', 'Clarence Brown', 'William Wyler'], 1947: ['Elia Kazan', 'Henry Koster', 'Edward Dmytryk', 'George Cukor', 'David Lean'], 1948: ['John Huston', 'Laurence Olivier', 'Jean Negulesco', 'Fred Zinnemann', 'Anatole Litvak'], 1949: ['Joseph L. Mankiewicz', 'Robert Rossen', 'William A. Wellman', 'Carol Reed', 'William Wyler'], 1950: ['Joseph L. Mankiewicz', 'John Huston', 'George Cukor', 'Billy Wilder', 'Carol Reed'], 1951: ['George Stevens', 'John Huston', 'Vincente Minnelli', 'William Wyler', 'Elia Kazan'], 1952: ['John Ford', 'Joseph L. Mankiewicz', 'Cecil B. DeMille', 'Fred Zinnemann', 'John Huston'], 1953: ['Fred Zinnemann', 'Charles Walters', 'William Wyler', 'George Stevens', 'Billy Wilder'], 1954: ['Elia Kazan', 'George Seaton', 'William Wellman', 'Alfred Hitchcock', 'Billy Wilder'], 1955: ['Delbert Mann', 'John Sturges', 'Elia Kazan', 'Joshua Logan', 'David Lean'], 1956: ['George Stevens', 'Michael Anderson', 'William Wyler', 'Walter Lang', 'King Vidor'], 1957: ['David Lean', 'Mark Robson', 'Joshua Logan', 'Sidney Lumet', 'Billy Wilder'], 1958: ['Richard Brooks', 'Stanley Kramer', 'Robert Wise', 'Mark Robson', 'Vincente Minnelli'], 1959: ['George Stevens', 'Fred Zinnemann', 'Jack Clayton', 'Billy Wilder', 'William Wyler'], 1960: ['Billy Wilder', 'Jules Dassin', 'Alfred Hitchcock', 'Jack Cardiff', 'Fred Zinnemann'], 1961: ['J. Lee Thompson', 'Robert Rossen', 'Stanley Kramer', 'Federico Fellini', 'Robert Wise', 'Jerome Robbins'], 1962: ['David Lean', 'Frank Perry', 'Pietro Germi', 'Arthur Penn', 'Robert Mulligan'], 1963: ['Elia Kazan', 'Otto Preminger', 'Federico Fellini', 'Martin Ritt', 'Tony Richardson'], 1964: ['George Cukor', 'Peter Glenville', 'Stanley Kubrick', 'Robert Stevenson', 'Michael Cacoyannis'], 1965: ['William Wyler', 'John Schlesinger', 'David Lean', 'Hiroshi Teshigahara', 'Robert Wise'], 1966: ['Fred Zinnemann', 'Michelangelo Antonioni', 'Claude Lelouch', 'Richard Brooks', 'Mike Nichols'], 1967: ['Arthur Penn', 'Stanley Kramer', 'Richard Brooks', 'Norman Jewison', 'Mike Nichols'], 1968: ['Carol Reed', 'Gillo Pontecorvo', 'Anthony Harvey', 'Franco Zeffirelli', 'Stanley Kubrick'], 1969: ['John Schlesinger', 'Arthur Penn', 'George Roy Hill', 'Sydney Pollack', 'Costa-Gavras'], 1970: ['Franklin J. Schaffner', 'Federico Fellini', 'Arthur Hiller', 'Robert Altman', 'Ken Russell'], 1971: ['Stanley Kubrick', 'Norman Jewison', 'Peter Bogdanovich', 'John Schlesinger', 'William Friedkin'], 1972: ['Bob Fosse', 'John Boorman', 'Jan Troell', 'Francis Ford Coppola', 'Joseph L. Mankiewicz'], 1973: ['George Roy Hill', 'George Lucas', 'Ingmar Bergman', 'William Friedkin', 'Bernardo Bertolucci'], 1974: ['Francis Ford Coppola', 'Roman Polanski', 'Francois Truffaut', 'Bob Fosse', 'John Cassavetes'], 1975: ['Federico Fellini', 'Stanley Kubrick', 'Sidney Lumet', 'Robert Altman', 'Milos Forman'], 1976: ['Alan J. Pakula', 'Ingmar Bergman', 'Sidney Lumet', 'Lina Wertmuller', 'John G. Avildsen'], 1977: ['Steven Spielberg', 'Fred Zinnemann', 'George Lucas', 'Herbert Ross', 'Woody Allen'], 1978: ['Hal Ashby', 'Warren Beatty', 'Buck Henry', 'Woody Allen', 'Alan Parker', 'Michael Cimino'], 1979: ['Bob Fosse', 'Francis Coppola', 'Peter Yates', 'Edouard Molinaro', 'Robert Benton'], 1980: ['David Lynch', 'Martin Scorsese', 'Richard Rush', 'Roman Polanski', 'Robert Redford'], 1981: ['Louis Malle', 'Hugh Hudson', 'Mark Rydell', 'Steven Spielberg', 'Warren Beatty'], 1982: ['Wolfgang Petersen', 'Steven Spielberg', 'Sydney Pollack', 'Sidney Lumet', 'Richard Attenborough'], 1983: ['Peter Yates', 'Ingmar Bergman', 'Mike Nichols', 'Bruce Beresford', 'James L. Brooks'], 1984: ['Woody Allen', 'Roland Joffe', 'David Lean', 'Robert Benton', 'Milos Forman'], 1985: ['Hector Babenco', 'John Huston', 'Akira Kurosawa', 'Peter Weir', 'Sydney Pollack'], 1986: ['David Lynch', 'Woody Allen', 'Roland Joffe', 'James Ivory', 'Oliver Stone'], 1987: ['Bernardo Bertolucci', 'Adrian Lyne', 'John Boorman', 'Norman Jewison', 'Lasse Hallstrom'], 1988: ['Barry Levinson', 'Charles Crichton', 'Martin Scorsese', 'Alan Parker', 'Mike Nichols'], 1989: ['Woody Allen', 'Peter Weir', 'Kenneth Branagh', 'Jim Sheridan', 'Oliver Stone'], 1990: ['Francis Ford Coppola', 'Martin Scorsese', 'Stephen Frears', 'Barbet Schroeder', 'Kevin Costner'], 1991: ['John Singleton', 'Barry Levinson', 'Oliver Stone', 'Ridley Scott', 'Jonathan Demme'], 1992: ['Clint Eastwood', 'Neil Jordan', 'James Ivory', 'Robert Altman', 'Martin Brest'], 1993: ['Jim Sheridan', 'Jane Campion', 'James Ivory', 'Robert Altman', 'Steven Spielberg'], 1994: ['Woody Allen', 'Quentin Tarantino', 'Robert Redford', 'Krzysztof Kieslowski', 'Robert Zemeckis'], 1995: ['Chris Noonan', 'Tim Robbins', 'Mike Figgis', 'Michael Radford', 'Mel Gibson'], 1996: ['Anthony Minghella', 'Joel Coen', 'Milos Forman', 'Mike Leigh', 'Scott Hicks'], 1997: ['Peter Cattaneo', 'Gus Van Sant', 'Curtis Hanson', 'Atom Egoyan', 'James Cameron'], 1998: ['Roberto Benigni', 'John Madden', 'Terrence Malick', 'Peter Weir', 'Steven Spielberg'], 1999: ['Spike Jonze', 'Lasse Hallstrom', 'Michael Mann', 'M. Night Shyamalan', 'Sam Mendes'], 2000: ['Stephen Daldry', 'Ang Lee', 'Steven Soderbergh', 'Ridley Scott', 'Steven Soderbergh'], 2001: ['Ridley Scott', 'Robert Altman', 'Peter Jackson', 'David Lynch', 'Ron Howard'], 2002: ['Rob Marshall', 'Martin Scorsese', 'Stephen Daldry', 'Pedro Almodovar', 'Roman Polanski'], 2003: ['Fernando Meirelles', 'Sofia Coppola', 'Peter Weir', 'Clint Eastwood', 'Peter Jackson'], 2004: ['Martin Scorsese', 'Taylor Hackford', 'Alexander Payne', 'Mike Leigh', 'Clint Eastwood'], 2005: ['Ang Lee', 'Bennett Miller', 'Paul Haggis', 'George Clooney', 'Steven Spielberg'], 2006: ['Alejandro Gonzaalez Inarritu', 'Clint Eastwood', 'Stephen Frears', 'Paul Greengrass', 'Martin Scorsese'], 2007: ['Julian Schnabel', 'Jason Reitman', 'Tony Gilroy', 'Paul Thomas Anderson', 'Joel Coen', 'Ethan Coen'], 2008: ['David Fincher', 'Ron Howard', 'Gus Van Sant', 'Stephen Daldry', 'Danny Boyle'], 2009: ['James Cameron', 'Quentin Tarantino', 'Lee Daniels', 'Jason Reitman', 'Kathryn Bigelow'], 2010: ['Darren Aronofsky', 'David O. Russell', 'David Fincher', 'Ethan Coen', 'Joel Coen', 'Tom Hooper']}\n",
    "nom_count_dict={}\n",
    "\n",
    "# Question 1A: Create dictionary with the count of Oscar nominations for each director \n",
    "for year, directors in nominated.items():\n",
    "    for director in directors:\n",
    "        if director in nom_count_dict:\n",
    "            nom_count_dict[director] += 1\n",
    "        else:\n",
    "            nom_count_dict[director] = 1\n",
    "\n",
    "print(nom_count_dict)\n",
    "\n",
    "print(len(nom_count_dict))\n",
    "    "
   ]
  },
  {
   "cell_type": "code",
   "execution_count": 117,
   "id": "3ddfe1c4-6539-4f10-a349-e638aae14b7f",
   "metadata": {},
   "outputs": [
    {
     "name": "stdout",
     "output_type": "stream",
     "text": [
      "{'Norman Taurog': 1, 'Frank Borzage': 1, 'Frank Lloyd': 1, 'Frank Capra': 3, 'John Ford': 4, 'Leo McCarey': 2, 'Victor Fleming': 1, 'William Wyler': 3, 'Michael Curtiz': 1, 'Billy Wilder': 2, 'Elia Kazan': 2, 'John Huston': 1, 'Joseph L. Mankiewicz': 2, 'George Stevens': 2, 'Fred Zinnemann': 2, 'Delbert Mann': 1, 'David Lean': 2, 'Vincente Minnelli': 1, 'Jerome Robbins': 1, 'Robert Wise': 2, 'Tony Richardson': 1, 'George Cukor': 1, 'Mike Nichols': 1, 'Carol Reed': 1, 'John Schlesinger': 1, 'Franklin J. Schaffner': 1, 'William Friedkin': 1, 'Bob Fosse': 1, 'George Roy Hill': 1, 'Francis Ford Coppola': 1, 'Milos Forman': 2, 'John G. Avildsen': 1, 'Woody Allen': 1, 'Michael Cimino': 1, 'Robert Benton': 1, 'Robert Redford': 1, 'Warren Beatty': 1, 'Richard Attenborough': 1, 'James L. Brooks': 1, 'Sydney Pollack': 1, 'Oliver Stone': 2, 'Bernardo Bertolucci': 1, 'Barry Levinson': 1, 'Kevin Costner': 1, 'Jonathan Demme': 1, 'Clint Eastwood': 2, 'Steven Spielberg': 2, 'Robert Zemeckis': 1, 'Mel Gibson': 1, 'Anthony Minghella': 1, 'James Cameron': 1, 'Sam Mendes': 1, 'Steven Soderbergh': 1, 'Ron Howard': 1, 'Roman Polanski': 1, 'Peter Jackson': 1, 'Ang Lee': 1, 'Martin Scorsese': 1, 'Ethan Coen': 1, 'Joel Coen': 1, 'Danny Boyle': 1, 'Kathryn Bigelow': 1, 'Tom Hooper': 1}\n"
     ]
    }
   ],
   "source": [
    "winners = {1931: ['Norman Taurog'], 1932: ['Frank Borzage'], 1933: ['Frank Lloyd'], 1934: ['Frank Capra'], 1935: ['John Ford'], 1936: ['Frank Capra'], 1937: ['Leo McCarey'], 1938: ['Frank Capra'], 1939: ['Victor Fleming'], 1940: ['John Ford'], 1941: ['John Ford'], 1942: ['William Wyler'], 1943: ['Michael Curtiz'], 1944: ['Leo McCarey'], 1945: ['Billy Wilder'], 1946: ['William Wyler'], 1947: ['Elia Kazan'], 1948: ['John Huston'], 1949: ['Joseph L. Mankiewicz'], 1950: ['Joseph L. Mankiewicz'], 1951: ['George Stevens'], 1952: ['John Ford'], 1953: ['Fred Zinnemann'], 1954: ['Elia Kazan'], 1955: ['Delbert Mann'], 1956: ['George Stevens'], 1957: ['David Lean'], 1958: ['Vincente Minnelli'], 1959: ['William Wyler'], 1960: ['Billy Wilder'], 1961: ['Jerome Robbins', 'Robert Wise'], 1962: ['David Lean'], 1963: ['Tony Richardson'], 1964: ['George Cukor'], 1965: ['Robert Wise'], 1966: ['Fred Zinnemann'], 1967: ['Mike Nichols'], 1968: ['Carol Reed'], 1969: ['John Schlesinger'], 1970: ['Franklin J. Schaffner'], 1971: ['William Friedkin'], 1972: ['Bob Fosse'], 1973: ['George Roy Hill'], 1974: ['Francis Ford Coppola'], 1975: ['Milos Forman'], 1976: ['John G. Avildsen'], 1977: ['Woody Allen'], 1978: ['Michael Cimino'], 1979: ['Robert Benton'], 1980: ['Robert Redford'], 1981: ['Warren Beatty'], 1982: ['Richard Attenborough'], 1983: ['James L. Brooks'], 1984: ['Milos Forman'], 1985: ['Sydney Pollack'], 1986: ['Oliver Stone'], 1987: ['Bernardo Bertolucci'], 1988: ['Barry Levinson'], 1989: ['Oliver Stone'], 1990: ['Kevin Costner'], 1991: ['Jonathan Demme'], 1992: ['Clint Eastwood'], 1993: ['Steven Spielberg'], 1994: ['Robert Zemeckis'], 1995: ['Mel Gibson'], 1996: ['Anthony Minghella'], 1997: ['James Cameron'], 1998: ['Steven Spielberg'], 1999: ['Sam Mendes'], 2000: ['Steven Soderbergh'], 2001: ['Ron Howard'], 2002: ['Roman Polanski'], 2003: ['Peter Jackson'], 2004: ['Clint Eastwood'], 2005: ['Ang Lee'], 2006: ['Martin Scorsese'], 2007: ['Ethan Coen', 'Joel Coen'], 2008: ['Danny Boyle'], 2009: ['Kathryn Bigelow'], 2010: ['Tom Hooper']}\n",
    "\n",
    "win_count_dict = {}\n",
    "\n",
    "for year, directors in winners.items():\n",
    "    for director in directors:\n",
    "        if director in win_count_dict:\n",
    "            win_count_dict[director] += 1\n",
    "        else:\n",
    "            win_count_dict[director] = 1\n",
    "\n",
    "print(win_count_dict)"
   ]
  },
  {
   "cell_type": "markdown",
   "id": "b2511b51-c850-42e0-a303-0461c7fb8197",
   "metadata": {},
   "source": [
    "##### Provide a list with the name(s) of the director(s) with the most Oscar wins. We are asking for a list because there could be more than 1 director tied for the most Oscar wins."
   ]
  },
  {
   "cell_type": "code",
   "execution_count": 126,
   "id": "727743a9-e769-4f80-baad-91207c2ed043",
   "metadata": {},
   "outputs": [
    {
     "name": "stdout",
     "output_type": "stream",
     "text": [
      "['John Ford']\n",
      "4\n"
     ]
    }
   ],
   "source": [
    "winners = {1931: ['Norman Taurog'], 1932: ['Frank Borzage'], 1933: ['Frank Lloyd'], 1934: ['Frank Capra'], 1935: ['John Ford'], 1936: ['Frank Capra'], 1937: ['Leo McCarey'], 1938: ['Frank Capra'], 1939: ['Victor Fleming'], 1940: ['John Ford'], 1941: ['John Ford'], 1942: ['William Wyler'], 1943: ['Michael Curtiz'], 1944: ['Leo McCarey'], 1945: ['Billy Wilder'], 1946: ['William Wyler'], 1947: ['Elia Kazan'], 1948: ['John Huston'], 1949: ['Joseph L. Mankiewicz'], 1950: ['Joseph L. Mankiewicz'], 1951: ['George Stevens'], 1952: ['John Ford'], 1953: ['Fred Zinnemann'], 1954: ['Elia Kazan'], 1955: ['Delbert Mann'], 1956: ['George Stevens'], 1957: ['David Lean'], 1958: ['Vincente Minnelli'], 1959: ['William Wyler'], 1960: ['Billy Wilder'], 1961: ['Jerome Robbins', 'Robert Wise'], 1962: ['David Lean'], 1963: ['Tony Richardson'], 1964: ['George Cukor'], 1965: ['Robert Wise'], 1966: ['Fred Zinnemann'], 1967: ['Mike Nichols'], 1968: ['Carol Reed'], 1969: ['John Schlesinger'], 1970: ['Franklin J. Schaffner'], 1971: ['William Friedkin'], 1972: ['Bob Fosse'], 1973: ['George Roy Hill'], 1974: ['Francis Ford Coppola'], 1975: ['Milos Forman'], 1976: ['John G. Avildsen'], 1977: ['Woody Allen'], 1978: ['Michael Cimino'], 1979: ['Robert Benton'], 1980: ['Robert Redford'], 1981: ['Warren Beatty'], 1982: ['Richard Attenborough'], 1983: ['James L. Brooks'], 1984: ['Milos Forman'], 1985: ['Sydney Pollack'], 1986: ['Oliver Stone'], 1987: ['Bernardo Bertolucci'], 1988: ['Barry Levinson'], 1989: ['Oliver Stone'], 1990: ['Kevin Costner'], 1991: ['Jonathan Demme'], 1992: ['Clint Eastwood'], 1993: ['Steven Spielberg'], 1994: ['Robert Zemeckis'], 1995: ['Mel Gibson'], 1996: ['Anthony Minghella'], 1997: ['James Cameron'], 1998: ['Steven Spielberg'], 1999: ['Sam Mendes'], 2000: ['Steven Soderbergh'], 2001: ['Ron Howard'], 2002: ['Roman Polanski'], 2003: ['Peter Jackson'], 2004: ['Clint Eastwood'], 2005: ['Ang Lee'], 2006: ['Martin Scorsese'], 2007: ['Ethan Coen', 'Joel Coen'], 2008: ['Danny Boyle'], 2009: ['Kathryn Bigelow'], 2010: ['Tom Hooper']}\n",
    "\n",
    "#FIRST PART OF SOLUTION\n",
    "win_count_dict = {}\n",
    "for year, winnerlist in winners.items():\n",
    "    for winner in winnerlist:\n",
    "        win_count_dict[winner] = win_count_dict.get(winner, 0) + 1\n",
    "\n",
    "#SECOND PART OF SOLUTION\n",
    "highest_count = 0\n",
    "most_win_director = []\n",
    "\n",
    "for key, value in win_count_dict.items():\n",
    "    if value > highest_count:\n",
    "        highest_count = value\n",
    "        most_win_director.clear()\n",
    "        most_win_director.append(key)\n",
    "    elif value == highest_count:\n",
    "        most_win_director.append(key)\n",
    "    else:\n",
    "        continue\n",
    "\n",
    "print(most_win_director)\n",
    "print(highest_count)"
   ]
  },
  {
   "cell_type": "code",
   "execution_count": 128,
   "id": "85c35ba7-ec76-4e59-883c-dea0a8606142",
   "metadata": {},
   "outputs": [
    {
     "name": "stdout",
     "output_type": "stream",
     "text": [
      "['John Ford']\n"
     ]
    }
   ],
   "source": [
    "#ALTERNATIVE SECOND PART OF SOLUTION\n",
    "highest_count = max(win_count_dict.values())\n",
    "\n",
    "most_win_director = [key for key, value in win_count_dict.items() if value == highest_count]\n",
    "\n",
    "print(most_win_director)"
   ]
  },
  {
   "cell_type": "code",
   "execution_count": null,
   "id": "cf10096e-c06e-458c-8f53-742a76928de1",
   "metadata": {},
   "outputs": [],
   "source": []
  }
 ],
 "metadata": {
  "kernelspec": {
   "display_name": "Python 3 (ipykernel)",
   "language": "python",
   "name": "python3"
  },
  "language_info": {
   "codemirror_mode": {
    "name": "ipython",
    "version": 3
   },
   "file_extension": ".py",
   "mimetype": "text/x-python",
   "name": "python",
   "nbconvert_exporter": "python",
   "pygments_lexer": "ipython3",
   "version": "3.8.18"
  }
 },
 "nbformat": 4,
 "nbformat_minor": 5
}
