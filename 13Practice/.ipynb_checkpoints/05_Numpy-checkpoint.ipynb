{
 "cells": [
  {
   "cell_type": "markdown",
   "id": "6a33524a-194d-4fb2-84c0-26cff3473a18",
   "metadata": {},
   "source": [
    "## NUMPY\n",
    "\n",
    "__NumPy__ stands for Numerical Python and it's a fundamental package for scientific computing in Python. NumPy provides Python with an extensive math library capable of performing numerical computations effectively and efficiently. These lessons are intended as a basic overview of NumPy and introduce some of its most important features.\n",
    "\n",
    "In the following lessons you will learn:\n",
    "\n",
    "* How to import NumPy\n",
    "* How to create multidimensional NumPy ndarrays using various methods\n",
    "* How to access and change elements in ndarrays\n",
    "* How to load and save ndarrays\n",
    "* How to use slicing to select or change subsets of an ndarray\n",
    "* Understand the difference between a view and a copy of an ndarray\n",
    "* How to use Boolean indexing and set operations to select or change subsets of an ndarray\n",
    "* How to sort ndarrays\n",
    "* How to perform element-wise operations on ndarrays\n",
    "* Understand how NumPy uses broadcasting to perform operations on ndarrays of different sizes.\n",
    "\n",
    "* it is built on the language of c, which works at lower level of our computer"
   ]
  },
  {
   "cell_type": "markdown",
   "id": "002efd67-d1db-4f1d-a4d9-44cb99f0c02f",
   "metadata": {},
   "source": [
    "__Benefits of using NumPy__\n",
    "\n",
    "Even though Python lists are great on their own, NumPy has a number of key features that give it great advantages over Python lists. Below are a few convincingly strong features:\n",
    "\n",
    "* One such feature is speed. When performing operations on large arrays NumPy can often perform several orders of magnitude faster than Python lists. This speed comes from the nature of NumPy arrays being memory-efficient and from optimized algorithms used by NumPy for doing arithmetic, statistical, and linear algebra operations.\n",
    "\n",
    "* Another great feature of NumPy is that it has multidimensional array data structures that can represent vectors and matrices. You will learn all about vectors and matrices in the Linear Algebra section of this course later on, and as you will soon see, a lot of machine learning algorithms rely on matrix operations. For example, when training a Neural Network, you often have to carry out many matrix multiplications. NumPy is optimized for matrix operations and it allows us to do Linear Algebra operations effectively and efficiently, making it very suitable for solving machine learning problems.\n",
    "\n",
    "* Another great advantage of NumPy over Python lists is that NumPy has a large number of optimized built-in mathematical functions. These functions allow you to do a variety of complex mathematical computations very fast and with very little code (avoiding the use of complicated loops) making your programs more readable and easier to understand.\n",
    "\n",
    "These are just some of the key features that have made NumPy an essential package for scientific computing in Python. In fact, NumPy has become so popular that a lot of Python packages, such as Pandas, are built on top of NumPy.\n",
    "\n"
   ]
  },
  {
   "cell_type": "code",
   "execution_count": 1,
   "id": "7956dcd7-c876-468f-8714-c26e6c2b3a3a",
   "metadata": {},
   "outputs": [
    {
     "name": "stdout",
     "output_type": "stream",
     "text": [
      "4.09601092338562\n",
      "0.01866292953491211\n"
     ]
    }
   ],
   "source": [
    "import numpy as np\n",
    "import time \n",
    "\n",
    "x = np.random.random(100000000)\n",
    "\n",
    "# case 1 let's see plain python speed to calculate the mean \n",
    "start = time.time()\n",
    "sum(x)-len(x)\n",
    "print(time.time()-start)\n",
    "\n",
    "\n",
    "#Let's see how much time it took for numpy \n",
    "start = time.time()\n",
    "np.mean(x)\n",
    "print(time.time()-start)\n",
    "\n",
    "# Plain python toook 4 secs, numpy took 0.2 secs which is toooo much fast and efficient for large programs in our real life\n"
   ]
  },
  {
   "cell_type": "code",
   "execution_count": 2,
   "id": "2070b64c-c994-4ab4-a7c3-9f358389ede6",
   "metadata": {},
   "outputs": [
    {
     "name": "stdout",
     "output_type": "stream",
     "text": [
      "[1 2 3 4 5 6]\n",
      "<class 'numpy.ndarray'>\n"
     ]
    }
   ],
   "source": [
    "import numpy as np\n",
    "\n",
    "x = np.array([1, 2, 3, 4, 5, 6])\n",
    "print(x)\n",
    "print(type(x))"
   ]
  },
  {
   "cell_type": "code",
   "execution_count": 3,
   "id": "0040a8b1-7c0e-465e-9e1b-26ec401774dd",
   "metadata": {},
   "outputs": [
    {
     "data": {
      "text/plain": [
       "dtype('int64')"
      ]
     },
     "execution_count": 3,
     "metadata": {},
     "output_type": "execute_result"
    }
   ],
   "source": [
    "x.dtype # in this case the array elements stored in signed int 64 bits, in numpy all elemets should of same type"
   ]
  },
  {
   "cell_type": "code",
   "execution_count": 4,
   "id": "983e7f78-0edb-432f-9545-5d719beda229",
   "metadata": {},
   "outputs": [
    {
     "data": {
      "text/plain": [
       "(6,)"
      ]
     },
     "execution_count": 4,
     "metadata": {},
     "output_type": "execute_result"
    }
   ],
   "source": [
    "x.shape # it gives the dimentions of the array"
   ]
  },
  {
   "cell_type": "code",
   "execution_count": 5,
   "id": "1bf6b956-e568-4c21-a6a1-d51814c8684b",
   "metadata": {},
   "outputs": [
    {
     "name": "stdout",
     "output_type": "stream",
     "text": [
      "[[ 1  2  3]\n",
      " [ 4  5  6]\n",
      " [ 7  8  9]\n",
      " [10 11 12]]\n"
     ]
    }
   ],
   "source": [
    "Y = np.array([[1, 2, 3,], [4, 5, 6], [7, 8, 9], [10, 11, 12]]) # creating 2 dimentional array\n",
    "print(Y)"
   ]
  },
  {
   "cell_type": "code",
   "execution_count": 6,
   "id": "cb2b2fef-9c85-46eb-8fcd-bf728a3f8b49",
   "metadata": {},
   "outputs": [
    {
     "name": "stdout",
     "output_type": "stream",
     "text": [
      "(4, 3)\n"
     ]
    }
   ],
   "source": [
    "print(Y.shape) # 4 rows and 3 columns "
   ]
  },
  {
   "cell_type": "code",
   "execution_count": 7,
   "id": "c8f8dc42-fb74-4216-bb03-573c0ee06a2c",
   "metadata": {},
   "outputs": [
    {
     "name": "stdout",
     "output_type": "stream",
     "text": [
      "2\n"
     ]
    }
   ],
   "source": [
    "print(Y.ndim) # this will print the total dimentions of the array "
   ]
  },
  {
   "cell_type": "code",
   "execution_count": 9,
   "id": "02098b90-c2b9-4ea9-868d-eaec89dc8576",
   "metadata": {},
   "outputs": [
    {
     "name": "stdout",
     "output_type": "stream",
     "text": [
      "12\n"
     ]
    }
   ],
   "source": [
    "print(Y.size) # this will print the total elements in the array "
   ]
  },
  {
   "cell_type": "code",
   "execution_count": 11,
   "id": "d097c9ad-2e07-4b10-81ee-623ffb4c618f",
   "metadata": {},
   "outputs": [
    {
     "name": "stdout",
     "output_type": "stream",
     "text": [
      "['Hello' 'World']\n"
     ]
    }
   ],
   "source": [
    "# We can aslo create the arrays with the other data types like strings and float \n",
    "\n",
    "x = np.array(['Hello', 'World']) # now it's a array of words created by numpy array with elements of all the same datatype namely unicode strings of 5 characters\n",
    "x = np.array([1, 2, 'world'])\n",
    "print(x)"
   ]
  },
  {
   "cell_type": "code",
   "execution_count": 12,
   "id": "684f4d2f-774b-40f0-9158-6c11e6f4bfd5",
   "metadata": {},
   "outputs": [
    {
     "name": "stdout",
     "output_type": "stream",
     "text": [
      "<U5\n"
     ]
    }
   ],
   "source": [
    "print(x.dtype) # it is stored in the data type of U5 string "
   ]
  },
  {
   "cell_type": "code",
   "execution_count": 13,
   "id": "8f0a24f7-d7cd-4255-b53c-41b9e4eb8e90",
   "metadata": {},
   "outputs": [
    {
     "name": "stdout",
     "output_type": "stream",
     "text": [
      "(2,)\n"
     ]
    }
   ],
   "source": [
    "print(x.shape)"
   ]
  },
  {
   "cell_type": "code",
   "execution_count": 14,
   "id": "9b4945a7-1847-498e-924d-fa601dc52f57",
   "metadata": {},
   "outputs": [
    {
     "name": "stdout",
     "output_type": "stream",
     "text": [
      "<class 'numpy.ndarray'>\n"
     ]
    }
   ],
   "source": [
    "print(type(x)) # still it is an array with the strins "
   ]
  },
  {
   "cell_type": "code",
   "execution_count": 15,
   "id": "6ef473fb-a137-4862-ba01-346d2e0139c8",
   "metadata": {},
   "outputs": [
    {
     "name": "stdout",
     "output_type": "stream",
     "text": [
      "['1' '2' 'world']\n",
      "shape : (3,)\n",
      "type : <class 'numpy.ndarray'>\n",
      "dtype : <U21\n"
     ]
    }
   ],
   "source": [
    "# We can create the array with the multiple data types in the same array but the numpy will have to store everything in a same type \n",
    "# Even though the python had mixed datatypes, the array function created a numpy array with elements of all the same datatype namely unicode strings of 21 characters\n",
    "x = np.array([1, 2, 'world'])\n",
    "\n",
    "print(x)\n",
    "print('shape :', x.shape)\n",
    "print('type :', type(x))\n",
    "print('dtype :', x.dtype)"
   ]
  },
  {
   "cell_type": "markdown",
   "id": "5f08293f-9aca-4a47-b019-c32e0017a241",
   "metadata": {},
   "source": [
    "### Unlike python list, the numpy array should contain all the elements of the same data type\n",
    "\n",
    "* If we try to create multiple datatypes arrays then it will chooose one datatype for all the elements and create the np.array\n",
    "* For suppose we create an array using the integers and floats then the numpy chooses the floats as the type and create the array, this is called the upcasting. this happens in order to loosing the precision in numarical computations\n",
    "* Numpy aslo allows us to specify the perticular dtype while creating the array\n",
    "\n",
    "* Once we "
   ]
  },
  {
   "cell_type": "code",
   "execution_count": 18,
   "id": "71676508-9277-4762-8e3e-1fa713f6af02",
   "metadata": {},
   "outputs": [
    {
     "name": "stdout",
     "output_type": "stream",
     "text": [
      "float64\n"
     ]
    }
   ],
   "source": [
    "x = np.array([1, 2.5, 4])\n",
    "print(x.dtype) # will be of the float "
   ]
  },
  {
   "cell_type": "code",
   "execution_count": 21,
   "id": "e6862052-b493-4053-8ab3-f20cca326723",
   "metadata": {},
   "outputs": [
    {
     "name": "stdout",
     "output_type": "stream",
     "text": [
      "[ 1  3 55]\n",
      "int64\n"
     ]
    }
   ],
   "source": [
    "x = np.array([1.5, 3.5, 55.7], dtype=np.int64) # Here we are specifying the dtype of the array \n",
    "print(x) # results integer values instead of the floats we defined in the definition\n",
    "print(x.dtype)"
   ]
  },
  {
   "cell_type": "code",
   "execution_count": 23,
   "id": "0ae58f4b-1ddf-4919-adeb-220dc1257a9a",
   "metadata": {},
   "outputs": [],
   "source": [
    "# We can also save the numpy array to the current directory as follows \n",
    "\n",
    "x = np.array([1, 2, 4, 3, 6, 3, 8, 20])\n",
    "np.save('files/my_array', x)\n"
   ]
  },
  {
   "cell_type": "code",
   "execution_count": 25,
   "id": "00b79b70-1c7a-4111-8e8c-ed3ba6fa5327",
   "metadata": {},
   "outputs": [
    {
     "name": "stdout",
     "output_type": "stream",
     "text": [
      "[ 1  2  4  3  6  3  8 20]\n"
     ]
    }
   ],
   "source": [
    "# I can load my array as follows as per requirement \n",
    "\n",
    "y = np.load('files/my_array.npy')\n",
    "print(y)"
   ]
  },
  {
   "cell_type": "markdown",
   "id": "a318f89e-ce47-429e-a599-ff057ad1ae0c",
   "metadata": {},
   "source": [
    "### Example 1.a - Using a 1-D Array of Integers (Rank #1 Array)\n"
   ]
  },
  {
   "cell_type": "code",
   "execution_count": 26,
   "id": "fb33b2aa-8efb-472a-a40f-6389199827dd",
   "metadata": {},
   "outputs": [
    {
     "name": "stdout",
     "output_type": "stream",
     "text": [
      "x =  [1 2 3 4 5]\n"
     ]
    }
   ],
   "source": [
    "import numpy as np\n",
    "\n",
    "# We create a 1D ndarray that contains only integers\n",
    "x = np.array([1, 2, 3, 4, 5])\n",
    "\n",
    "# Let's print the ndarray we just created using the print() command\n",
    "print('x = ', x)"
   ]
  },
  {
   "cell_type": "code",
   "execution_count": 27,
   "id": "893f3a13-be84-4b0c-9b49-eb32a300db84",
   "metadata": {},
   "outputs": [
    {
     "name": "stdout",
     "output_type": "stream",
     "text": [
      "x is an object of type: <class 'numpy.ndarray'>\n",
      "The elements in x are of type: int64\n",
      "x has dimensions: (5,)\n",
      "x has size: 5\n"
     ]
    }
   ],
   "source": [
    "# We print information about x\n",
    "print('x is an object of type:', type(x))\n",
    "print('The elements in x are of type:', x.dtype)\n",
    "print('x has dimensions:', x.shape)\n",
    "print('x has size:', x.size)"
   ]
  },
  {
   "cell_type": "markdown",
   "id": "1db462cd-30c3-4b05-8414-e43ce0fb10d7",
   "metadata": {},
   "source": [
    "### Example 1.b  - Using 1-D Array of Strings (Rank #1 Array)"
   ]
  },
  {
   "cell_type": "code",
   "execution_count": 28,
   "id": "bf4c577d-ca77-443d-802f-e1eaded5a926",
   "metadata": {},
   "outputs": [
    {
     "name": "stdout",
     "output_type": "stream",
     "text": [
      "x =  ['Hello' 'World']\n",
      "x has dimensions: (2,)\n",
      "x is an object of type: <class 'numpy.ndarray'>\n",
      "The elements in x are of type: <U5\n"
     ]
    }
   ],
   "source": [
    "# We create a rank 1 ndarray that only contains strings\n",
    "x = np.array(['Hello', 'World'])\n",
    "\n",
    "# We print information about x\n",
    "print('x = ', x)\n",
    "print('x has dimensions:', x.shape)\n",
    "print('x is an object of type:', type(x))\n",
    "print('The elements in x are of type:', x.dtype)"
   ]
  },
  {
   "cell_type": "markdown",
   "id": "3dbd49cd-b381-4a54-843e-96015fb4a5f3",
   "metadata": {},
   "source": [
    "### Example 1.c - Using a 1-D Array of Int and String (Rank #1 Array)\n",
    "***NumPy will assign each element a same datatype because NumPy arrays must contains elements of same type.***"
   ]
  },
  {
   "cell_type": "code",
   "execution_count": 30,
   "id": "2ff7a274-cb7d-42d8-9933-f5be5a6a2e79",
   "metadata": {},
   "outputs": [
    {
     "name": "stdout",
     "output_type": "stream",
     "text": [
      "x =  ['1' '2' 'World']\n",
      "x has dimensions: (3,)\n",
      "x is an object of type: <class 'numpy.ndarray'>\n",
      "The elements in x are of type: <U21\n"
     ]
    }
   ],
   "source": [
    "# We create a rank 1 ndarray from a Python list that contains integers and strings\n",
    "x = np.array([1, 2, 'World'])\n",
    "\n",
    "# We print information about x\n",
    "print('x = ', x)\n",
    "print('x has dimensions:', x.shape) \n",
    "print('x is an object of type:', type(x))\n",
    "print('The elements in x are of type:', x.dtype)"
   ]
  },
  {
   "cell_type": "markdown",
   "id": "63eb4f87-758c-48bb-9294-a51d1354c264",
   "metadata": {},
   "source": [
    "### Example 1.d - Using a 1-D Array of Int and Float\n",
    "***Upcasting demo*** - All integers will be converted (upgraded) to Float datatype. It is called upcasting, not downcasting, because a Float has a precision value (digits after the decimal). "
   ]
  },
  {
   "cell_type": "code",
   "execution_count": 31,
   "id": "e02b845c-3ebc-480e-85f0-656f776c65ea",
   "metadata": {},
   "outputs": [
    {
     "name": "stdout",
     "output_type": "stream",
     "text": [
      "The elements in x are of type: int64\n",
      "The elements in y are of type: float64\n",
      "The elements in z are of type: float64\n"
     ]
    }
   ],
   "source": [
    "# We create a rank 1 ndarray that contains integers\n",
    "x = np.array([1,2,3])\n",
    "\n",
    "# We create a rank 1 ndarray that contains floats\n",
    "y = np.array([1.0,2.0,3.0])\n",
    "\n",
    "# We create a rank 1 ndarray that contains integers and floats\n",
    "z = np.array([1, 2.5, 4])\n",
    "\n",
    "# We print the dtype of each ndarray\n",
    "print('The elements in x are of type:', x.dtype)\n",
    "print('The elements in y are of type:', y.dtype)\n",
    "print('The elements in z are of type:', z.dtype)"
   ]
  },
  {
   "cell_type": "markdown",
   "id": "7df5dbd2-37bc-47af-877c-d3a7bc23c5f2",
   "metadata": {},
   "source": [
    "### Example 1.e - Using a 1-D Array of Float, and specifying the datatype of each element as int64\n",
    "***NOTE*** - Precision will be lost in this example"
   ]
  },
  {
   "cell_type": "code",
   "execution_count": 32,
   "id": "98d5bc8f-1596-4343-8451-5022bc3108a2",
   "metadata": {},
   "outputs": [
    {
     "name": "stdout",
     "output_type": "stream",
     "text": [
      "x =  [1 2 3 4 5]\n",
      "The elements in x are of type: int64\n"
     ]
    }
   ],
   "source": [
    "# We create a rank 1 ndarray of floats but set the dtype to int64\n",
    "x = np.array([1.5, 2.2, 3.7, 4.0, 5.9], dtype = np.int64)\n",
    "\n",
    "# We print the dtype x\n",
    "print('x = ', x)\n",
    "print('The elements in x are of type:', x.dtype)"
   ]
  },
  {
   "cell_type": "markdown",
   "id": "68c0f608-71af-443d-ae25-bf97ecace1b3",
   "metadata": {},
   "source": [
    "### Example 2 - Using a 2-D Array (Rank #2 Array)"
   ]
  },
  {
   "cell_type": "code",
   "execution_count": 33,
   "id": "4e952836-cce7-4d2f-b793-e7ddde3b4795",
   "metadata": {},
   "outputs": [
    {
     "name": "stdout",
     "output_type": "stream",
     "text": [
      "Y = \n",
      " [[ 1  2  3]\n",
      " [ 4  5  6]\n",
      " [ 7  8  9]\n",
      " [10 11 12]]\n",
      "Y is an object of type: <class 'numpy.ndarray'>\n",
      "The elements in Y are of type: int64\n",
      "Y has dimensions: (4, 3)\n",
      "Y has a total of 12 elements\n"
     ]
    }
   ],
   "source": [
    "# We create a rank 2 ndarray that only contains integers\n",
    "Y = np.array([[1,2,3],[4,5,6],[7,8,9], [10,11,12]])\n",
    "\n",
    "# We print information about Y\n",
    "print('Y = \\n', Y)\n",
    "print('Y is an object of type:', type(Y))\n",
    "print('The elements in Y are of type:', Y.dtype)\n",
    "print('Y has dimensions:', Y.shape)\n",
    "print('Y has a total of', Y.size, 'elements')"
   ]
  },
  {
   "cell_type": "markdown",
   "id": "6f8cd25f-b15c-4a73-a89e-ab714d348716",
   "metadata": {},
   "source": [
    "### Example 3 - Save the NumPy array to a File"
   ]
  },
  {
   "cell_type": "code",
   "execution_count": 34,
   "id": "972c5807-f046-416d-949d-5c25be44c28d",
   "metadata": {},
   "outputs": [],
   "source": [
    "# We create a rank 1 ndarray\n",
    "x = np.array([1, 2, 3, 4, 5])\n",
    "\n",
    "# We save x into the current directory as \n",
    "np.save('files/my_array', x)"
   ]
  },
  {
   "cell_type": "code",
   "execution_count": 35,
   "id": "ebbe66bc-0ea7-4b64-945a-02c47aa247e8",
   "metadata": {},
   "outputs": [
    {
     "name": "stdout",
     "output_type": "stream",
     "text": [
      "Y = \n",
      " [1 2 3 4 5]\n",
      "y is an object of type: <class 'numpy.ndarray'>\n",
      "The elements in y are of type: int64\n"
     ]
    }
   ],
   "source": [
    "# We load the saved array from our current directory into variable y\n",
    "y = np.load('files/my_array.npy')\n",
    "\n",
    "# We print information about the ndarray we loaded\n",
    "print('Y = \\n', y)\n",
    "print('y is an object of type:', type(y))\n",
    "print('The elements in y are of type:', y.dtype)"
   ]
  },
  {
   "cell_type": "markdown",
   "id": "bfac5115-f565-4ede-81e0-783318c5c833",
   "metadata": {},
   "source": [
    "### Numpy Builtin Functions for creating arrays\n",
    "\n",
    "so far we created the numpy arrays using the np.array() function, but we have so many other builtin functions to create in numpy as per our requirements"
   ]
  },
  {
   "cell_type": "code",
   "execution_count": 36,
   "id": "e6fbb5e9-f20b-47cc-8993-b3ecb3d7909c",
   "metadata": {},
   "outputs": [
    {
     "name": "stdout",
     "output_type": "stream",
     "text": [
      "[[0. 0. 0. 0.]\n",
      " [0. 0. 0. 0.]\n",
      " [0. 0. 0. 0.]]\n"
     ]
    }
   ],
   "source": [
    "x = np.zeros((3, 4))\n",
    "print(x)"
   ]
  },
  {
   "cell_type": "code",
   "execution_count": 38,
   "id": "2b6cbeb1-4f29-4f48-ad11-a8ab75489213",
   "metadata": {},
   "outputs": [
    {
     "name": "stdout",
     "output_type": "stream",
     "text": [
      "[[0 0 0]\n",
      " [0 0 0]\n",
      " [0 0 0]]\n"
     ]
    }
   ],
   "source": [
    "# can also specify the dtype while creating the array \n",
    "\n",
    "y = np.zeros((3,3), dtype=int)\n",
    "print(y)"
   ]
  },
  {
   "cell_type": "code",
   "execution_count": 39,
   "id": "85781942-97be-413c-a9e6-7c9063899584",
   "metadata": {},
   "outputs": [
    {
     "name": "stdout",
     "output_type": "stream",
     "text": [
      "[[1 1 1 1]\n",
      " [1 1 1 1]\n",
      " [1 1 1 1]\n",
      " [1 1 1 1]]\n"
     ]
    }
   ],
   "source": [
    "x = np.ones((4,4), dtype= int)\n",
    "print(x)"
   ]
  },
  {
   "cell_type": "code",
   "execution_count": 40,
   "id": "bcf1e99a-05b0-48f9-ab2f-81b0188c45fd",
   "metadata": {},
   "outputs": [
    {
     "name": "stdout",
     "output_type": "stream",
     "text": [
      "[[1. 1. 1.]\n",
      " [1. 1. 1.]\n",
      " [1. 1. 1.]]\n"
     ]
    }
   ],
   "source": [
    "x = np.ones((3,3)) # by default the dtype would be float\n",
    "\n",
    "print(x)"
   ]
  },
  {
   "cell_type": "code",
   "execution_count": 42,
   "id": "113ae531-58d7-49af-91c2-1973b88f53c3",
   "metadata": {},
   "outputs": [
    {
     "name": "stdout",
     "output_type": "stream",
     "text": [
      "[[5 5 5]\n",
      " [5 5 5]\n",
      " [5 5 5]\n",
      " [5 5 5]]\n"
     ]
    }
   ],
   "source": [
    "# if we want to create the arrays with the constants then it is also possible in this numpy \n",
    "\n",
    "X = np.full((4, 3), 5) # (4, 3) is the shape, 5 is the constant that we want to create the array with, and the dtype would be the type of constant \n",
    "print(X)"
   ]
  },
  {
   "cell_type": "code",
   "execution_count": 44,
   "id": "752b6280-bcd8-49c2-9166-dbdd96fd9eba",
   "metadata": {},
   "outputs": [
    {
     "name": "stdout",
     "output_type": "stream",
     "text": [
      "int64\n"
     ]
    }
   ],
   "source": [
    "print(X.dtype)"
   ]
  },
  {
   "cell_type": "code",
   "execution_count": 46,
   "id": "13e9b6ce-60de-43ea-b414-d409c465a247",
   "metadata": {},
   "outputs": [
    {
     "name": "stdout",
     "output_type": "stream",
     "text": [
      "[[1. 0. 0. 0. 0.]\n",
      " [0. 1. 0. 0. 0.]\n",
      " [0. 0. 1. 0. 0.]\n",
      " [0. 0. 0. 1. 0.]\n",
      " [0. 0. 0. 0. 1.]]\n"
     ]
    }
   ],
   "source": [
    "# Identity matrix is a square shape one which will have ones in the main diagonal and zeros everywhere else we can create this using eye()\n",
    "\n",
    "I = np.eye(5,5) # we can also give single integer as an argument because it's square in shape\n",
    "print(I)\n"
   ]
  },
  {
   "cell_type": "code",
   "execution_count": 47,
   "id": "e8e02fc0-5ef0-47c7-97ec-93e13ad11203",
   "metadata": {},
   "outputs": [
    {
     "name": "stdout",
     "output_type": "stream",
     "text": [
      "[[1. 0. 0.]\n",
      " [0. 1. 0.]\n",
      " [0. 0. 1.]]\n"
     ]
    }
   ],
   "source": [
    "I = np.eye(3)\n",
    "print(I)"
   ]
  },
  {
   "cell_type": "code",
   "execution_count": 48,
   "id": "d3db0cbc-29c7-4920-835a-b18f590f8b35",
   "metadata": {},
   "outputs": [
    {
     "name": "stdout",
     "output_type": "stream",
     "text": [
      "[[10  0  0  0]\n",
      " [ 0 20  0  0]\n",
      " [ 0  0 30  0]\n",
      " [ 0  0  0 40]]\n"
     ]
    }
   ],
   "source": [
    "# we can also create customized diagonal matrix by defining the values \n",
    "X = np.diag([10, 20, 30, 40]) # the number of values here will be the shape of the matrix \n",
    "print(X)"
   ]
  },
  {
   "cell_type": "code",
   "execution_count": 49,
   "id": "3a3cdc32-6fbe-4a35-a534-93e5af06896d",
   "metadata": {},
   "outputs": [
    {
     "name": "stdout",
     "output_type": "stream",
     "text": [
      "[0 1 2 3 4 5 6 7 8 9]\n"
     ]
    }
   ],
   "source": [
    "# np.arange() : it is just line range function we use for printing numbers, but here we use it to create arrays np.arange(start, stop, step)\n",
    "\n",
    "X  = np.arange(10) # from 0 till 9\n",
    "print(X)"
   ]
  },
  {
   "cell_type": "code",
   "execution_count": 50,
   "id": "97fc970a-37fe-414b-8223-d00c09c469c7",
   "metadata": {},
   "outputs": [
    {
     "name": "stdout",
     "output_type": "stream",
     "text": [
      "[1 2 3 4 5 6 7 8 9]\n"
     ]
    }
   ],
   "source": [
    "A = np.arange(1, 10) # from 1 to 9\n",
    "print(A)"
   ]
  },
  {
   "cell_type": "code",
   "execution_count": 51,
   "id": "51b24870-1e67-4c7d-8aea-7be1ace09027",
   "metadata": {},
   "outputs": [
    {
     "name": "stdout",
     "output_type": "stream",
     "text": [
      "[ 5  8 11 14 17 20 23]\n"
     ]
    }
   ],
   "source": [
    "C = np.arange(5, 25, 3) # from 5 till 25 with step of 3\n",
    "print(C)"
   ]
  },
  {
   "cell_type": "code",
   "execution_count": 53,
   "id": "c4bf948e-cbc2-4cae-acd7-875de1c1f4af",
   "metadata": {},
   "outputs": [
    {
     "name": "stdout",
     "output_type": "stream",
     "text": [
      "[ 0.          2.77777778  5.55555556  8.33333333 11.11111111 13.88888889\n",
      " 16.66666667 19.44444444 22.22222222 25.        ]\n"
     ]
    }
   ],
   "source": [
    "# The arange function allows the floating point also as the step, but the result would be inconsistant because of inconsistant floating point precision so we use different function for this case\n",
    "\n",
    "# x = np.linspace(start, stop, total_elements) start and stop are inclusive \n",
    "\n",
    "x = np.linspace(0, 25, 10)\n",
    "print(x)"
   ]
  },
  {
   "cell_type": "code",
   "execution_count": 55,
   "id": "88a11ffb-672b-4d6f-8fed-deabeda5c704",
   "metadata": {},
   "outputs": [
    {
     "name": "stdout",
     "output_type": "stream",
     "text": [
      "[ 1.   2.9  4.8  6.7  8.6 10.5 12.4 14.3 16.2 18.1]\n"
     ]
    }
   ],
   "source": [
    "# if u want the end_point to be exclusive then u can do that as follows \n",
    "\n",
    "d = np.linspace(1, 20, 10, endpoint=False)\n",
    "print(d)"
   ]
  },
  {
   "cell_type": "code",
   "execution_count": 58,
   "id": "63889d8d-73f8-420f-8aa1-ed5d46d5e886",
   "metadata": {},
   "outputs": [
    {
     "name": "stdout",
     "output_type": "stream",
     "text": [
      "[10.         10.6122449  11.2244898  11.83673469 12.44897959 13.06122449\n",
      " 13.67346939 14.28571429 14.89795918 15.51020408 16.12244898 16.73469388\n",
      " 17.34693878 17.95918367 18.57142857 19.18367347 19.79591837 20.40816327\n",
      " 21.02040816 21.63265306 22.24489796 22.85714286 23.46938776 24.08163265\n",
      " 24.69387755 25.30612245 25.91836735 26.53061224 27.14285714 27.75510204\n",
      " 28.36734694 28.97959184 29.59183673 30.20408163 30.81632653 31.42857143\n",
      " 32.04081633 32.65306122 33.26530612 33.87755102 34.48979592 35.10204082\n",
      " 35.71428571 36.32653061 36.93877551 37.55102041 38.16326531 38.7755102\n",
      " 39.3877551  40.        ]\n"
     ]
    }
   ],
   "source": [
    "E = np.linspace(10, 40) # Here I did not mension the number of evenly spaced numbers so the it would take the default number which is 50\n",
    "print(E)"
   ]
  },
  {
   "cell_type": "code",
   "execution_count": 59,
   "id": "4c0794ce-1313-4d2a-aa51-dbe0e0505347",
   "metadata": {},
   "outputs": [
    {
     "name": "stdout",
     "output_type": "stream",
     "text": [
      "[[10.         10.6122449  11.2244898  11.83673469 12.44897959 13.06122449\n",
      "  13.67346939 14.28571429 14.89795918 15.51020408]\n",
      " [16.12244898 16.73469388 17.34693878 17.95918367 18.57142857 19.18367347\n",
      "  19.79591837 20.40816327 21.02040816 21.63265306]\n",
      " [22.24489796 22.85714286 23.46938776 24.08163265 24.69387755 25.30612245\n",
      "  25.91836735 26.53061224 27.14285714 27.75510204]\n",
      " [28.36734694 28.97959184 29.59183673 30.20408163 30.81632653 31.42857143\n",
      "  32.04081633 32.65306122 33.26530612 33.87755102]\n",
      " [34.48979592 35.10204082 35.71428571 36.32653061 36.93877551 37.55102041\n",
      "  38.16326531 38.7755102  39.3877551  40.        ]]\n"
     ]
    }
   ],
   "source": [
    "# Now we have created so many single ranked arrays here in the above examples and now we can convert them into a specific shape using the reshape() functions\n",
    "\n",
    "E =np.reshape(E, (5, 10))\n",
    "print(E)"
   ]
  },
  {
   "cell_type": "code",
   "execution_count": 63,
   "id": "795c7dc0-93c1-47f1-9c5c-20f639601d8a",
   "metadata": {},
   "outputs": [
    {
     "name": "stdout",
     "output_type": "stream",
     "text": [
      "[ 0  1  2  3  4  5  6  7  8  9 10 11 12 13 14 15 16 17 18 19]\n",
      "Reshaped Array is : \n",
      " [[ 0  1  2  3  4]\n",
      " [ 5  6  7  8  9]\n",
      " [10 11 12 13 14]\n",
      " [15 16 17 18 19]]\n"
     ]
    }
   ],
   "source": [
    "F = np.arange(20)\n",
    "print(F)\n",
    "\n",
    "# Now let's convert the X into a rank 2 matrix\n",
    "F = np.reshape(F, (4, 5))\n",
    "print(\"Reshaped Array is : \\n\", F) \n",
    "\n",
    "# Note : for this to happen the total elemets in the array should be multple of the shape we decide"
   ]
  },
  {
   "cell_type": "code",
   "execution_count": 64,
   "id": "79ca78ce-d1dd-4e89-a74f-1cd8aa2605f6",
   "metadata": {},
   "outputs": [
    {
     "name": "stdout",
     "output_type": "stream",
     "text": [
      "[[ 0  1  2  3  4]\n",
      " [ 5  6  7  8  9]\n",
      " [10 11 12 13 14]\n",
      " [15 16 17 18 19]]\n"
     ]
    }
   ],
   "source": [
    "# we can directly use 2 functions in a single line unlike the above code\n",
    "\n",
    "g = np.arange(20).reshape((4,5))\n",
    "print(g)"
   ]
  },
  {
   "cell_type": "code",
   "execution_count": 65,
   "id": "5ea8e519-ed39-4b98-b307-48420cab9ae1",
   "metadata": {},
   "outputs": [
    {
     "name": "stdout",
     "output_type": "stream",
     "text": [
      "[[ 0.  5. 10. 15. 20.]\n",
      " [25. 30. 35. 40. 45.]]\n"
     ]
    }
   ],
   "source": [
    "x = np.linspace(0, 50, 10, endpoint=False).reshape((2,5))\n",
    "print(x)"
   ]
  },
  {
   "cell_type": "code",
   "execution_count": 66,
   "id": "029f0802-df6e-4914-b54f-83af39ced33c",
   "metadata": {},
   "outputs": [
    {
     "name": "stdout",
     "output_type": "stream",
     "text": [
      "[[0.26666876 0.09482472 0.06822899]\n",
      " [0.56744069 0.34734859 0.20671172]\n",
      " [0.69032354 0.96403542 0.43277004]]\n"
     ]
    }
   ],
   "source": [
    "x = np.random.random((3, 3)) # Creates the matrix from 0, 1(exclusive) range \n",
    "print(x)"
   ]
  },
  {
   "cell_type": "code",
   "execution_count": 68,
   "id": "05dbcf37-dc63-403e-bbcf-f9c18d993ec7",
   "metadata": {},
   "outputs": [
    {
     "name": "stdout",
     "output_type": "stream",
     "text": [
      "[[ 8 11]\n",
      " [ 8 14]\n",
      " [ 9 12]]\n"
     ]
    }
   ],
   "source": [
    "x = np.random.randint(4, 15, (3,2)) # randint(lowerbound, upperbound,(rows, columns))\n",
    "print(x)"
   ]
  },
  {
   "cell_type": "code",
   "execution_count": 69,
   "id": "b3f8ad60-428e-48a7-9c25-ffd3d5e8d367",
   "metadata": {},
   "outputs": [
    {
     "name": "stdout",
     "output_type": "stream",
     "text": [
      "[[ 1.35909304e-01  5.30590260e-02  3.00188252e-02 ...  2.27339067e-01\n",
      "   1.83636625e-04  3.74612907e-03]\n",
      " [ 1.01884821e-02 -1.38785535e-01 -1.22334240e-01 ...  1.36954571e-01\n",
      "   4.97640369e-02  1.55470724e-01]\n",
      " [-4.11823762e-02  4.49348792e-02  9.83900952e-02 ... -9.73955650e-02\n",
      "   1.68641265e-01 -1.42421324e-01]\n",
      " ...\n",
      " [-1.53159909e-01  6.64638841e-02  2.88383097e-01 ...  6.17502170e-02\n",
      "   6.38905730e-02 -1.74732864e-02]\n",
      " [-1.46977339e-02 -3.67056731e-02  5.41199599e-02 ... -8.27547666e-02\n",
      "   3.13945830e-02  2.24267818e-01]\n",
      " [ 1.82253955e-01 -1.19048692e-01 -3.11950398e-03 ... -1.17018593e-01\n",
      "  -2.08171210e-01  2.21033742e-01]]\n"
     ]
    }
   ],
   "source": [
    "# We can also create arrays with satistical values of our requirements for example the mean should be 0 on an average which are drawn from probability distribution\n",
    "X = np.random.normal(0, 0.1, size=(1000, 1000)) # normal(mean, std, size=(1000, 1000)\n",
    "print(X)\n"
   ]
  },
  {
   "cell_type": "code",
   "execution_count": 70,
   "id": "8456420f-789a-408a-8478-33b2b9c2eae9",
   "metadata": {},
   "outputs": [
    {
     "name": "stdout",
     "output_type": "stream",
     "text": [
      "Mean :  2.1396385038798347e-05\n",
      "Std :  0.09999182911654225\n",
      "Max :  0.48484622075490846\n",
      "Min :  -0.47661360859787155\n",
      "# Positive :  500213\n",
      "# Negative :  499787\n"
     ]
    }
   ],
   "source": [
    "print(\"Mean : \", X.mean())\n",
    "print(\"Std : \", X.std())\n",
    "print(\"Max : \", X.max())\n",
    "print(\"Min : \", X.min())\n",
    "print(\"# Positive : \", (X>0).sum())\n",
    "print(\"# Negative : \", (X<0).sum())"
   ]
  },
  {
   "cell_type": "markdown",
   "id": "871f11f4-f593-44e4-bd63-f5720cb0a103",
   "metadata": {},
   "source": [
    "Using the NumPy functions you learned about on the previous page, create a 4 x 4 ndarray that only contains consecutive even numbers from 2 to 32 (inclusive)."
   ]
  },
  {
   "cell_type": "code",
   "execution_count": 71,
   "id": "6d571eb7-61e4-4814-8df7-8ad007250cfa",
   "metadata": {},
   "outputs": [
    {
     "name": "stdout",
     "output_type": "stream",
     "text": [
      "[[ 2  4  6  8]\n",
      " [10 12 14 16]\n",
      " [18 20 22 24]\n",
      " [26 28 30 32]]\n"
     ]
    }
   ],
   "source": [
    "import numpy as np\n",
    "\n",
    "# Replace None with appropriate code\n",
    "X = np.arange(2, 34, 2).reshape(4, 4)\n",
    "print(X)"
   ]
  },
  {
   "cell_type": "code",
   "execution_count": 75,
   "id": "e83f3be4-ee1b-418b-af35-9b0ab45fa8fd",
   "metadata": {},
   "outputs": [
    {
     "name": "stdout",
     "output_type": "stream",
     "text": [
      "[[ 2.  4.  6.  8.]\n",
      " [10. 12. 14. 16.]\n",
      " [18. 20. 22. 24.]\n",
      " [26. 28. 30. 32.]]\n"
     ]
    }
   ],
   "source": [
    "# another way \n",
    "\n",
    "import numpy as np\n",
    "\n",
    "X = np.linspace(2, 32, 16, dtype=int).reshape(4, 4) # int\n",
    "X = np.linspace(2, 32, 16).reshape(4, 4) # float by default\n",
    "print(X)"
   ]
  },
  {
   "cell_type": "code",
   "execution_count": null,
   "id": "c5bed69a-703a-494b-992b-82c61c42f002",
   "metadata": {},
   "outputs": [],
   "source": []
  }
 ],
 "metadata": {
  "kernelspec": {
   "display_name": "Python 3 (ipykernel)",
   "language": "python",
   "name": "python3"
  },
  "language_info": {
   "codemirror_mode": {
    "name": "ipython",
    "version": 3
   },
   "file_extension": ".py",
   "mimetype": "text/x-python",
   "name": "python",
   "nbconvert_exporter": "python",
   "pygments_lexer": "ipython3",
   "version": "3.8.18"
  }
 },
 "nbformat": 4,
 "nbformat_minor": 5
}
