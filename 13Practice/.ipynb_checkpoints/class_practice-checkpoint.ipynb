{
 "cells": [
  {
   "cell_type": "markdown",
   "id": "dfabb7b9-2abb-4462-9686-834f42f5ec93",
   "metadata": {},
   "source": [
    "### Object Oriented Programming \n",
    "\n"
   ]
  },
  {
   "cell_type": "code",
   "execution_count": 7,
   "id": "bcabc5a8-5534-456a-af56-f1947d954c3f",
   "metadata": {},
   "outputs": [
    {
     "name": "stdout",
     "output_type": "stream",
     "text": [
      "3000\n",
      "2000 2500 1000 3000\n",
      "Red L Short 2000\n",
      "Blue XL Full Hands 2500\n",
      "Yellow L Short 1000\n",
      "White XL Full Hands 3000\n"
     ]
    }
   ],
   "source": [
    "class Shirt:\n",
    "    def __init__(self, shirt_color, shirt_size, shirt_style, shirt_price):\n",
    "        self.color = shirt_color\n",
    "        self.size = shirt_size\n",
    "        self.style = shirt_style \n",
    "        self.price = shirt_price\n",
    "\n",
    "    def change_price(self, new_price):\n",
    "        self.price = new_price\n",
    "        return self.price\n",
    "        \n",
    "    def discounted_price(self, discount):\n",
    "        self.price = self.price * (1-discount)\n",
    "        return f\"The discounted price has been updated for {self}!!!\"\n",
    "\n",
    "s1 = Shirt(\"Red\", \"L\", \"Short\", 2000)\n",
    "s2 = Shirt(\"Blue\", \"XL\", \"Full Hands\", 2500)\n",
    "s3 = Shirt(\"Yellow\", \"L\", \"Short\", 1000)\n",
    "s4 = Shirt(\"White\", \"XL\", \"Full Hands\", 2200)\n",
    "\n",
    "print(s4.change_price(3000)) # Updated to new price\n",
    "\n",
    "print(s1.price, s2.price, s3.price, s4.price)\n",
    "\n",
    "# Now I want to add all the above shirts to my lsit \n",
    "\n",
    "shirts_collection = []\n",
    "\n",
    "shirts_collection.append(s1)\n",
    "shirts_collection.append(s2)\n",
    "shirts_collection.append(s3)\n",
    "shirts_collection.append(s4)\n",
    "\n",
    "print(shirts_collection[0].color, shirts_collection[0].size, shirts_collection[0].style, shirts_collection[0].price)\n",
    "print(shirts_collection[1].color, shirts_collection[1].size, shirts_collection[1].style, shirts_collection[1].price)\n",
    "print(shirts_collection[2].color, shirts_collection[2].size, shirts_collection[2].style, shirts_collection[2].price)\n",
    "print(shirts_collection[3].color, shirts_collection[3].size, shirts_collection[3].style, shirts_collection[3].price)"
   ]
  },
  {
   "cell_type": "code",
   "execution_count": null,
   "id": "65803368-a43f-4b5f-a18c-265efeed864c",
   "metadata": {},
   "outputs": [],
   "source": [
    "class Pants:\n",
    "    def __init__(self, waist, size, color, type, price):\n",
    "        self.waist = waist\n",
    "        self.size = size\n",
    "        self.color = color \n",
    "        self.type = type \n",
    "        self.price = price\n",
    "\n",
    "    def change_price(self, new_price):\n",
    "        self.price = new_price\n",
    "        return f\"price has been updated for {self}\"\n",
    "    def discounted_price(self, discount):\n",
    "        self.price = \n",
    "    "
   ]
  }
 ],
 "metadata": {
  "kernelspec": {
   "display_name": "Python 3 (ipykernel)",
   "language": "python",
   "name": "python3"
  },
  "language_info": {
   "codemirror_mode": {
    "name": "ipython",
    "version": 3
   },
   "file_extension": ".py",
   "mimetype": "text/x-python",
   "name": "python",
   "nbconvert_exporter": "python",
   "pygments_lexer": "ipython3",
   "version": "3.8.18"
  }
 },
 "nbformat": 4,
 "nbformat_minor": 5
}
