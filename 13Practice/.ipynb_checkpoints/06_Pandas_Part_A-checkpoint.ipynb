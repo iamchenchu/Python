{
 "cells": [
  {
   "cell_type": "markdown",
   "id": "f71f3f00-f6cd-4872-a21e-720678fbf3f1",
   "metadata": {},
   "source": [
    "## Pandas\n",
    "\n",
    "Pandas is a package for data manipulation and analysis in Python. The name Pandas is derived from the econometrics term Panel Data. Pandas incorporates two additional data structures into Python, namely __Pandas Series__ and __Pandas DataFrame__. These data structures allow us to work with labeled and relational data in an easy and intuitive manner. These lessons are intended as a basic overview of Pandas and introduces some of its most important features.\n",
    "\n",
    "In the following lessons you will learn:\n",
    "\n",
    "* How to import Pandas\n",
    "* How to create Pandas Series and DataFrames using various methods\n",
    "* How to access and change elements in Series and DataFrames\n",
    "* How to perform arithmetic operations on Series\n",
    "* How to load data into a DataFrame\n",
    "* How to deal with Not a Number (NaN) values\n",
    "  \n",
    "The following lessons assume that you are already familiar with NumPy and have gone over the previous NumPy lessons. Therefore, to avoid being repetitive we will omit a lot of details already given in the NumPy lessons. Consequently, if you haven't seen the NumPy lessons we suggest you go over them first."
   ]
  },
  {
   "cell_type": "code",
   "execution_count": 2,
   "id": "0a9e12a6-a5ee-4be1-b75b-9daa2820a506",
   "metadata": {},
   "outputs": [
    {
     "name": "stdout",
     "output_type": "stream",
     "text": [
      "# packages in environment at /Users/mekalathuruchenchaiah/Desktop/PROGRAMMING/Projects/GPU-pytorch/env:\n",
      "#\n",
      "# Name                    Version                   Build  Channel\n",
      "pandas                    2.0.3            py38h46d7db6_0  \n"
     ]
    }
   ],
   "source": [
    "!conda list pandas"
   ]
  },
  {
   "cell_type": "markdown",
   "id": "20b6765d-75c8-403f-b8e0-1e4291518876",
   "metadata": {},
   "source": [
    "### Why pandas is so important \n",
    "\n",
    "This package is built on top of Numpy, which makes it very fast and efficient\n",
    "\n",
    "* Allows the use of labels for rows and columns\n",
    "* Can calculate rolling statistics on time series data\n",
    "* Easy handling of NaN values\n",
    "* Is able to load data of different formats into DataFrames\n",
    "* Can join and merge different datasets together\n",
    "* It integrates with NumPy and Matplotlib"
   ]
  },
  {
   "cell_type": "code",
   "execution_count": null,
   "id": "720980ec-c3dc-4d00-a97d-023a3db7ef11",
   "metadata": {},
   "outputs": [],
   "source": []
  }
 ],
 "metadata": {
  "kernelspec": {
   "display_name": "Python 3 (ipykernel)",
   "language": "python",
   "name": "python3"
  },
  "language_info": {
   "codemirror_mode": {
    "name": "ipython",
    "version": 3
   },
   "file_extension": ".py",
   "mimetype": "text/x-python",
   "name": "python",
   "nbconvert_exporter": "python",
   "pygments_lexer": "ipython3",
   "version": "3.8.18"
  }
 },
 "nbformat": 4,
 "nbformat_minor": 5
}
