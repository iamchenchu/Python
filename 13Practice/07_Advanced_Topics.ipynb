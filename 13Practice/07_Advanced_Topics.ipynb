{
 "cells": [
  {
   "cell_type": "markdown",
   "id": "7ff2cf4f-34f6-4862-8f53-4ed71e5217a9",
   "metadata": {},
   "source": [
    "### Iterators and Generators\n",
    "\n",
    "__Iterables__ are objects that can return one of their elements at a time, such as a list. Many of the built-in functions we’ve used so far, like 'enumerate,' return an iterator.\n",
    "\n",
    "An __iterator__ is an object that represents a stream of data. This is different from a list, which is also an iterable, but is not an iterator because it is not a stream of data.\n",
    "\n",
    "__Generators__ are a simple way to create iterators using functions. You can also define iterators using classes, which you can read more about here(opens in a new tab).\n",
    "\n",
    "Here is an example of a generator function called `my_range`, which produces an iterator that is a stream of numbers from 0 to (x - 1).\n",
    "\n",
    "Notice that instead of using the return keyword, it uses `yield`. This allows the function to return values one at a time, and start where it left off each time it’s called. This `yield` keyword is what differentiates a generator from a typical function.\n",
    "\n",
    "Remember, since this returns an iterator, we can convert it to a list or iterate through it in a loop to view its contents. For example, this code:\n",
    "\n"
   ]
  },
  {
   "cell_type": "code",
   "execution_count": 1,
   "id": "9544c132-17b6-4f7f-ba45-0543954a2e6c",
   "metadata": {},
   "outputs": [],
   "source": [
    "def my_range(x):\n",
    "    i = 0\n",
    "    while i < x:\n",
    "        yield i\n",
    "        i += 1"
   ]
  },
  {
   "cell_type": "code",
   "execution_count": 2,
   "id": "3089e610-f08e-4953-bf19-bb795f14792d",
   "metadata": {},
   "outputs": [
    {
     "name": "stdout",
     "output_type": "stream",
     "text": [
      "<generator object my_range at 0x103f8bcf0>\n"
     ]
    }
   ],
   "source": [
    "print(my_range(5))"
   ]
  },
  {
   "cell_type": "code",
   "execution_count": 4,
   "id": "b4d75658-1bf3-415f-81f9-c2a21995d7da",
   "metadata": {},
   "outputs": [
    {
     "name": "stdout",
     "output_type": "stream",
     "text": [
      "Lesson 1: Why Python Programming\n",
      "Lesson 2: Data Types and Operators\n",
      "Lesson 3: Control Flow\n",
      "Lesson 4: Functions\n",
      "Lesson 5: Scripting\n"
     ]
    }
   ],
   "source": [
    "lessons = [\"Why Python Programming\", \"Data Types and Operators\", \"Control Flow\", \"Functions\", \"Scripting\"]\n",
    "\n",
    "def my_enumerate(iterable, start=0):\n",
    "    index = start\n",
    "    for item in iterable:\n",
    "        yield index, item\n",
    "        index += 1\n",
    "\n",
    "#Code to test your my_enumerate function\n",
    "for i, lesson in my_enumerate(lessons, 1):\n",
    "    print(\"Lesson {}: {}\".format(i, lesson))"
   ]
  },
  {
   "cell_type": "code",
   "execution_count": 7,
   "id": "bf6a647c-9b30-4747-a362-a58b006a7683",
   "metadata": {},
   "outputs": [
    {
     "name": "stdout",
     "output_type": "stream",
     "text": [
      "[0, 1, 2, 3]\n",
      "[4, 5, 6, 7]\n",
      "[8, 9, 10, 11]\n",
      "[12, 13, 14, 15]\n",
      "[16, 17, 18, 19]\n",
      "[20, 21, 22, 23]\n",
      "[24]\n"
     ]
    }
   ],
   "source": [
    "def chunker(iterable, size):\n",
    "    # Implement function here\n",
    "\n",
    "    for i in range(0, len(iterable), size):\n",
    "        yield iterable[i : i+size]\n",
    "    return\n",
    "\n",
    "# Code to test your chunker function\n",
    "for chunk in chunker(range(25), 4):\n",
    "    print(list(chunk))"
   ]
  },
  {
   "cell_type": "code",
   "execution_count": null,
   "id": "6f82513a-2768-4f5c-b533-2dd35bf97e71",
   "metadata": {},
   "outputs": [],
   "source": []
  }
 ],
 "metadata": {
  "kernelspec": {
   "display_name": "Python 3 (ipykernel)",
   "language": "python",
   "name": "python3"
  },
  "language_info": {
   "codemirror_mode": {
    "name": "ipython",
    "version": 3
   },
   "file_extension": ".py",
   "mimetype": "text/x-python",
   "name": "python",
   "nbconvert_exporter": "python",
   "pygments_lexer": "ipython3",
   "version": "3.8.18"
  }
 },
 "nbformat": 4,
 "nbformat_minor": 5
}
