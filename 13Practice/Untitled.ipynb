{
 "cells": [
  {
   "cell_type": "markdown",
   "id": "a6d7861f-8149-4958-8b63-3f9c54abfd28",
   "metadata": {},
   "source": [
    "## Python Practice One Shot"
   ]
  },
  {
   "cell_type": "markdown",
   "id": "526c63ce-7eea-4a7a-81a0-ef28cfa72f49",
   "metadata": {},
   "source": [
    "### Topic 1: Variables, Data Types & Operations in Python"
   ]
  },
  {
   "cell_type": "code",
   "execution_count": 1,
   "id": "80b103cc-cfab-4097-8dc5-5e80429e7b10",
   "metadata": {},
   "outputs": [
    {
     "name": "stdout",
     "output_type": "stream",
     "text": [
      "27\n"
     ]
    }
   ],
   "source": [
    "age = 27 # Integer\n",
    "Exp = 5.5 # Flota\n",
    "name = 'Chenchu' #String\n",
    "licence = True # Bool\n",
    "jobs = None # None Type\n",
    "\n",
    "\n",
    "print(age)"
   ]
  },
  {
   "cell_type": "code",
   "execution_count": 5,
   "id": "7ab358e2-abe4-4d41-a195-79ac72430987",
   "metadata": {},
   "outputs": [
    {
     "name": "stdout",
     "output_type": "stream",
     "text": [
      "5.5 Chenchu True None\n"
     ]
    }
   ],
   "source": [
    "print(Exp, name, licence, jobs)"
   ]
  },
  {
   "cell_type": "code",
   "execution_count": 7,
   "id": "869e6a00-49ac-445e-991e-58670faeeadf",
   "metadata": {},
   "outputs": [
    {
     "name": "stdout",
     "output_type": "stream",
     "text": [
      "<class 'int'> <class 'float'> <class 'str'> <class 'bool'> <class 'NoneType'>\n"
     ]
    }
   ],
   "source": [
    "print(type(age), type(Exp), type(name), type(licence), type(jobs))"
   ]
  },
  {
   "cell_type": "code",
   "execution_count": 25,
   "id": "5543b148-86a2-47a3-a94a-caa32624d886",
   "metadata": {},
   "outputs": [
    {
     "name": "stdout",
     "output_type": "stream",
     "text": [
      "Trainig ResNet50\n",
      "Number of epochs :50\n",
      "Device being used :True\n",
      "learning rate :0.01\n"
     ]
    }
   ],
   "source": [
    "# Example 1\n",
    "\n",
    "\n",
    "epochs = 50 #int\n",
    "learning_rate = 0.01 # float\n",
    "model_name = \"ResNet50\" # str\n",
    "use_gpu = True # bool\n",
    "\n",
    "print(f\"Trainig {model_name}\")\n",
    "print(f\"Number of epochs :{epochs}\")\n",
    "print(f\"Device being used :{use_gpu}\")\n",
    "print(f\"learning rate :{learning_rate}\")"
   ]
  },
  {
   "cell_type": "code",
   "execution_count": 19,
   "id": "a69c3345-b619-4a24-9b50-ec9389a5319d",
   "metadata": {},
   "outputs": [
    {
     "name": "stdout",
     "output_type": "stream",
     "text": [
      "Training ResNet50 for 50 epochs at 0.01 LR on GPU: True\n"
     ]
    }
   ],
   "source": [
    "print(f\"Training {model_name} for {epochs} epochs at {learning_rate} LR on GPU: {use_gpu}\")"
   ]
  },
  {
   "cell_type": "code",
   "execution_count": 27,
   "id": "7a3a6f9b-41a0-49a9-9755-3c162b0b3331",
   "metadata": {},
   "outputs": [
    {
     "name": "stdout",
     "output_type": "stream",
     "text": [
      "Age :25, Score :0.975, Type of Score :<class 'float'>\n"
     ]
    }
   ],
   "source": [
    "# Example 2\n",
    "\n",
    "raw_age = '25'\n",
    "raw_score = '0.975'\n",
    "\n",
    "age = int(raw_age)\n",
    "score = float(raw_score)\n",
    "\n",
    "print(f\"Age :{age}, Score :{score}, Type of Score :{type(score)}\") #This is common when reading CSV or JSON datasets for model training."
   ]
  },
  {
   "cell_type": "code",
   "execution_count": 31,
   "id": "3f92f164-3449-45b3-a167-f656b97b71eb",
   "metadata": {},
   "outputs": [
    {
     "name": "stdout",
     "output_type": "stream",
     "text": [
      "BMI: 22.86\n"
     ]
    }
   ],
   "source": [
    "# Example 3\n",
    "\n",
    "weight_kg = 70\n",
    "height_m = 1.75\n",
    "\n",
    "bmi = weight_kg/(height_m ** 2)\n",
    "\n",
    "print(\"BMI:\", round(bmi, 2))"
   ]
  },
  {
   "cell_type": "code",
   "execution_count": 32,
   "id": "d528e970-c612-4cae-9513-76007535b461",
   "metadata": {},
   "outputs": [
    {
     "name": "stdout",
     "output_type": "stream",
     "text": [
      "Model improved:  True\n"
     ]
    }
   ],
   "source": [
    "# Example 4\n",
    "\n",
    "previous_accuracy = 0.84\n",
    "current_accuracy = 0.87\n",
    "\n",
    "improved = current_accuracy > previous_accuracy\n",
    "print(\"Model improved: \", improved) # Useful in training loops to decide if early stopping or checkpointing is needed."
   ]
  },
  {
   "cell_type": "code",
   "execution_count": 33,
   "id": "a0f9dc29-60b1-4849-a6f2-4d16af0f662a",
   "metadata": {},
   "outputs": [
    {
     "name": "stdout",
     "output_type": "stream",
     "text": [
      "Processed Text:  machine learning is powerful!\n"
     ]
    }
   ],
   "source": [
    "# Example 5\n",
    "\n",
    "raw_text = \"       Machine Learning is AWESOME!   \"\n",
    "clean_text = raw_text.strip().lower().replace('awesome', 'powerful')\n",
    "\n",
    "print(\"Processed Text: \", clean_text)"
   ]
  },
  {
   "cell_type": "markdown",
   "id": "47592c30-b550-4aae-aa78-3f6f1a2935a4",
   "metadata": {},
   "source": [
    "### Topic 2: Control Flow in Python (if-else, loops)\n",
    "\n",
    "`if/else:` Decision-making\n",
    "\n",
    "`for loops:` Iterating over data batches or epochs\n",
    "\n",
    "`while loops:` Repeating until a stopping condition (e.g., convergence)\n",
    "\n",
    "`break/continue:` Controlling loop behavior\n",
    "\n",
    "`pass:` Placeholder logic in pipeline stages"
   ]
  },
  {
   "cell_type": "code",
   "execution_count": 35,
   "id": "b7fde19d-ae0d-4b46-9c73-61dc06572cd5",
   "metadata": {},
   "outputs": [],
   "source": [
    "# Example 1\n",
    "\n",
    "accuracies = [0.7, 0.74, 0.78, 0.80, 0.79]\n",
    "patience = 2\n",
    "best = 0\n",
    "wait = 0\n",
    "\n",
    "for acc in accuracies:\n",
    "    if acc > best:\n",
    "        best = acc\n",
    "        wait = 0\n",
    "    else:\n",
    "        wait += 1\n",
    "        if wait >= patience:\n",
    "            print(\"Early stopping triggered. Best Accuracy:\", best)\n",
    "            break"
   ]
  },
  {
   "cell_type": "code",
   "execution_count": 37,
   "id": "ea336bcb-7d54-4e37-93f7-3382ea01b701",
   "metadata": {},
   "outputs": [
    {
     "name": "stdout",
     "output_type": "stream",
     "text": [
      "Positive\n",
      "Negative\n"
     ]
    }
   ],
   "source": [
    "# Example 2\n",
    "\n",
    "def classify(prob, threshold=0.5):\n",
    "    if prob >= threshold:\n",
    "        return \"Positive\"\n",
    "    else:\n",
    "        return \"Negative\"\n",
    "\n",
    "print(classify(0.92))\n",
    "print(classify(0.45))"
   ]
  },
  {
   "cell_type": "code",
   "execution_count": 44,
   "id": "3fa06437-210f-4370-a42c-e8f880bd1e16",
   "metadata": {},
   "outputs": [
    {
     "name": "stdout",
     "output_type": "stream",
     "text": [
      "[1, 2, 3, 4, 5, 6, 7, 8, 9, 10, 11, 12, 13, 14, 15, 16, 17, 18, 19, 20, 21, 22, 23, 24, 25, 26, 27, 28, 29, 30, 31, 32, 33, 34, 35, 36, 37, 38, 39, 40, 41, 42, 43, 44, 45, 46, 47, 48, 49, 50, 51, 52, 53, 54, 55, 56, 57, 58, 59, 60, 61, 62, 63, 64, 65, 66, 67, 68, 69, 70, 71, 72, 73, 74, 75, 76, 77, 78, 79, 80, 81, 82, 83, 84, 85, 86, 87, 88, 89, 90, 91, 92, 93, 94, 95, 96, 97, 98, 99, 100]\n"
     ]
    }
   ],
   "source": [
    "# Example 3 : Batch wise pre-processing\n",
    "\n",
    "data = [i for i in range(1, 101)]\n",
    "batch_size = 20\n",
    "print(data)"
   ]
  },
  {
   "cell_type": "code",
   "execution_count": 45,
   "id": "3c7001c6-d897-4976-9fd4-16c1e14acaf9",
   "metadata": {},
   "outputs": [
    {
     "name": "stdout",
     "output_type": "stream",
     "text": [
      "Batch 1: [1, 2, 3]...[18, 19, 20]\n",
      "Batch 2: [21, 22, 23]...[38, 39, 40]\n",
      "Batch 3: [41, 42, 43]...[58, 59, 60]\n",
      "Batch 4: [61, 62, 63]...[78, 79, 80]\n",
      "Batch 5: [81, 82, 83]...[98, 99, 100]\n"
     ]
    }
   ],
   "source": [
    "for i in range(0, len(data), batch_size):\n",
    "    batch = data[i:i + batch_size]\n",
    "    batch_num = i // batch_size + 1\n",
    "    print(f\"Batch {batch_num}: {batch[:3]}...{batch[-3:]}\")"
   ]
  },
  {
   "cell_type": "code",
   "execution_count": 48,
   "id": "b660ea4c-eec7-4cab-a082-afa0cf79706e",
   "metadata": {},
   "outputs": [
    {
     "name": "stdout",
     "output_type": "stream",
     "text": [
      "Feature: age, Value: 34, Type:int\n",
      "Feature: income, Value: 60000, Type:int\n",
      "Feature: employed, Value: True, Type:bool\n"
     ]
    }
   ],
   "source": [
    "# Example 4 : Looping over Feature Dictionary\n",
    "\n",
    "features = {\"age\": 34, \"income\": 60000, \"employed\":True}\n",
    "for key, value in features.items():\n",
    "    print(f\"Feature: {key}, Value: {value}, Type:{type(value).__name__}\")"
   ]
  },
  {
   "cell_type": "code",
   "execution_count": 49,
   "id": "77c87227-76f8-422c-8e45-f77ee2dc830f",
   "metadata": {},
   "outputs": [
    {
     "name": "stdout",
     "output_type": "stream",
     "text": [
      "Cleaned Texts: ['ai is fun!', 'machine learning', 'deep learning']\n"
     ]
    }
   ],
   "source": [
    "# Example 5 : Clean and Preprcess the data\n",
    "\n",
    "texts = [\" AI is fun!  \", \"Machine Learning  \", \"  Deep Learning  \"]\n",
    "\n",
    "cleaned = []\n",
    "for text in texts:\n",
    "    text = text.strip().lower()\n",
    "    if len(text) > 0:\n",
    "        cleaned.append(text)\n",
    "\n",
    "print(\"Cleaned Texts:\", cleaned)"
   ]
  },
  {
   "cell_type": "code",
   "execution_count": 52,
   "id": "799e2eed-c61e-4bbe-a91e-53f4b22ae6e7",
   "metadata": {},
   "outputs": [
    {
     "name": "stdout",
     "output_type": "stream",
     "text": [
      "Precision: 0.67 Recall: 0.67\n"
     ]
    }
   ],
   "source": [
    "# Example 6: Model Evaluation with Conditional Metrics\n",
    "\n",
    "true = [1, 0, 1, 1, 0]\n",
    "pred = [1, 0, 0, 1, 1]\n",
    "\n",
    "TP = FP = FN = 0\n",
    "\n",
    "for t, p in zip(true, pred):\n",
    "    if t == 1 and p == 1:\n",
    "        TP += 1\n",
    "    elif t == 0 and p == 1:\n",
    "        FP += 1\n",
    "    elif t == 1 and p == 0:\n",
    "        FN += 1\n",
    "\n",
    "precision = TP / (TP + FP)\n",
    "recall = TP / (TP + FN)\n",
    "\n",
    "print(\"Precision:\", round(precision, 2), \"Recall:\", round(recall, 2))\n"
   ]
  },
  {
   "cell_type": "code",
   "execution_count": 53,
   "id": "fc2ba2c8-3cf8-44d0-825e-f89385bcef62",
   "metadata": {},
   "outputs": [
    {
     "name": "stdout",
     "output_type": "stream",
     "text": [
      "Step 1- Loss: 0.60000\n",
      "Step 2- Loss: 0.36000\n",
      "Step 3- Loss: 0.21600\n",
      "Step 4- Loss: 0.12960\n",
      "Step 5- Loss: 0.07776\n",
      "Step 6- Loss: 0.04666\n",
      "Step 7- Loss: 0.02799\n",
      "Step 8- Loss: 0.01680\n",
      "Step 9- Loss: 0.01008\n",
      "Step 10- Loss: 0.00605\n"
     ]
    }
   ],
   "source": [
    "# Example 7: While Loop for Convergebce Criteria\n",
    "loss = 1.0\n",
    "step = 0\n",
    "\n",
    "while loss > 0.01:\n",
    "    step += 1\n",
    "    loss *= 0.6\n",
    "    print(f\"Step {step}- Loss: {loss:.5f}\")"
   ]
  },
  {
   "cell_type": "code",
   "execution_count": 55,
   "id": "8992c5b6-4c67-4c05-b72e-16dd63799778",
   "metadata": {},
   "outputs": [
    {
     "name": "stdout",
     "output_type": "stream",
     "text": [
      "Processed : 23\n",
      "Processed : 42\n",
      "Found zero, stopping..\n"
     ]
    }
   ],
   "source": [
    "# Example 8: continue and break for Data Cleaning\n",
    "\n",
    "records = [23, -1, 42, None, 0, 9]\n",
    "\n",
    "for record in records:\n",
    "    if record is None or record < 0:\n",
    "        continue\n",
    "    if record == 0:\n",
    "        print(\"Found zero, stopping..\")\n",
    "        break\n",
    "\n",
    "    print(\"Processed :\", record)"
   ]
  },
  {
   "cell_type": "code",
   "execution_count": 57,
   "id": "600e8355-2b78-461f-949d-466f0772f3f2",
   "metadata": {},
   "outputs": [
    {
     "name": "stdout",
     "output_type": "stream",
     "text": [
      "Load step complete.\n",
      "Feature transformation to be added later\n",
      "Train step complete.\n",
      "Evaluate step complete.\n"
     ]
    }
   ],
   "source": [
    "# Example 9: Loop with pass for Pipeline Placeholder\n",
    "\n",
    "pipeline = [\"load\", \"transform\", \"train\", \"evaluate\"]\n",
    "\n",
    "for step in pipeline:\n",
    "    if step == \"transform\":\n",
    "        print(\"Feature transformation to be added later\")\n",
    "        pass\n",
    "    else:\n",
    "        print(f\"{step.title()} step complete.\")"
   ]
  },
  {
   "cell_type": "code",
   "execution_count": null,
   "id": "a0393667-8c2e-4548-b1c1-a1ff6563b84b",
   "metadata": {},
   "outputs": [],
   "source": [
    "# Example 10: Simulate Epochs & Checkpoint Save\n",
    "\n",
    "import random\n",
    "\n",
    "for epoch in range(1, 6):\n",
    "    train_acc = round(random.uniform())"
   ]
  }
 ],
 "metadata": {
  "kernelspec": {
   "display_name": "Python 3 (ipykernel)",
   "language": "python",
   "name": "python3"
  },
  "language_info": {
   "codemirror_mode": {
    "name": "ipython",
    "version": 3
   },
   "file_extension": ".py",
   "mimetype": "text/x-python",
   "name": "python",
   "nbconvert_exporter": "python",
   "pygments_lexer": "ipython3",
   "version": "3.8.18"
  }
 },
 "nbformat": 4,
 "nbformat_minor": 5
}
