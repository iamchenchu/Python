{
 "cells": [
  {
   "cell_type": "markdown",
   "id": "a6d7861f-8149-4958-8b63-3f9c54abfd28",
   "metadata": {},
   "source": [
    "## Python Practice One Shot"
   ]
  },
  {
   "cell_type": "markdown",
   "id": "526c63ce-7eea-4a7a-81a0-ef28cfa72f49",
   "metadata": {},
   "source": [
    "### Topic 1: Variables, Data Types & Operations in Python"
   ]
  },
  {
   "cell_type": "code",
   "execution_count": 1,
   "id": "80b103cc-cfab-4097-8dc5-5e80429e7b10",
   "metadata": {},
   "outputs": [
    {
     "name": "stdout",
     "output_type": "stream",
     "text": [
      "27\n"
     ]
    }
   ],
   "source": [
    "age = 27 # Integer\n",
    "Exp = 5.5 # Flota\n",
    "name = 'Chenchu' #String\n",
    "licence = True # Bool\n",
    "jobs = None # None Type\n",
    "\n",
    "\n",
    "print(age)"
   ]
  },
  {
   "cell_type": "code",
   "execution_count": 5,
   "id": "7ab358e2-abe4-4d41-a195-79ac72430987",
   "metadata": {},
   "outputs": [
    {
     "name": "stdout",
     "output_type": "stream",
     "text": [
      "5.5 Chenchu True None\n"
     ]
    }
   ],
   "source": [
    "print(Exp, name, licence, jobs)"
   ]
  },
  {
   "cell_type": "code",
   "execution_count": 7,
   "id": "869e6a00-49ac-445e-991e-58670faeeadf",
   "metadata": {},
   "outputs": [
    {
     "name": "stdout",
     "output_type": "stream",
     "text": [
      "<class 'int'> <class 'float'> <class 'str'> <class 'bool'> <class 'NoneType'>\n"
     ]
    }
   ],
   "source": [
    "print(type(age), type(Exp), type(name), type(licence), type(jobs))"
   ]
  },
  {
   "cell_type": "code",
   "execution_count": 25,
   "id": "5543b148-86a2-47a3-a94a-caa32624d886",
   "metadata": {},
   "outputs": [
    {
     "name": "stdout",
     "output_type": "stream",
     "text": [
      "Trainig ResNet50\n",
      "Number of epochs :50\n",
      "Device being used :True\n",
      "learning rate :0.01\n"
     ]
    }
   ],
   "source": [
    "# Example 1\n",
    "\n",
    "\n",
    "epochs = 50 #int\n",
    "learning_rate = 0.01 # float\n",
    "model_name = \"ResNet50\" # str\n",
    "use_gpu = True # bool\n",
    "\n",
    "print(f\"Trainig {model_name}\")\n",
    "print(f\"Number of epochs :{epochs}\")\n",
    "print(f\"Device being used :{use_gpu}\")\n",
    "print(f\"learning rate :{learning_rate}\")"
   ]
  },
  {
   "cell_type": "code",
   "execution_count": 19,
   "id": "a69c3345-b619-4a24-9b50-ec9389a5319d",
   "metadata": {},
   "outputs": [
    {
     "name": "stdout",
     "output_type": "stream",
     "text": [
      "Training ResNet50 for 50 epochs at 0.01 LR on GPU: True\n"
     ]
    }
   ],
   "source": [
    "print(f\"Training {model_name} for {epochs} epochs at {learning_rate} LR on GPU: {use_gpu}\")"
   ]
  },
  {
   "cell_type": "code",
   "execution_count": 27,
   "id": "7a3a6f9b-41a0-49a9-9755-3c162b0b3331",
   "metadata": {},
   "outputs": [
    {
     "name": "stdout",
     "output_type": "stream",
     "text": [
      "Age :25, Score :0.975, Type of Score :<class 'float'>\n"
     ]
    }
   ],
   "source": [
    "# Example 2\n",
    "\n",
    "raw_age = '25'\n",
    "raw_score = '0.975'\n",
    "\n",
    "age = int(raw_age)\n",
    "score = float(raw_score)\n",
    "\n",
    "print(f\"Age :{age}, Score :{score}, Type of Score :{type(score)}\") #This is common when reading CSV or JSON datasets for model training."
   ]
  },
  {
   "cell_type": "code",
   "execution_count": 31,
   "id": "3f92f164-3449-45b3-a167-f656b97b71eb",
   "metadata": {},
   "outputs": [
    {
     "name": "stdout",
     "output_type": "stream",
     "text": [
      "BMI: 22.86\n"
     ]
    }
   ],
   "source": [
    "# Example 3\n",
    "\n",
    "weight_kg = 70\n",
    "height_m = 1.75\n",
    "\n",
    "bmi = weight_kg/(height_m ** 2)\n",
    "\n",
    "print(\"BMI:\", round(bmi, 2))"
   ]
  },
  {
   "cell_type": "code",
   "execution_count": 32,
   "id": "d528e970-c612-4cae-9513-76007535b461",
   "metadata": {},
   "outputs": [
    {
     "name": "stdout",
     "output_type": "stream",
     "text": [
      "Model improved:  True\n"
     ]
    }
   ],
   "source": [
    "# Example 4\n",
    "\n",
    "previous_accuracy = 0.84\n",
    "current_accuracy = 0.87\n",
    "\n",
    "improved = current_accuracy > previous_accuracy\n",
    "print(\"Model improved: \", improved) # Useful in training loops to decide if early stopping or checkpointing is needed."
   ]
  },
  {
   "cell_type": "code",
   "execution_count": null,
   "id": "a0f9dc29-60b1-4849-a6f2-4d16af0f662a",
   "metadata": {},
   "outputs": [],
   "source": []
  }
 ],
 "metadata": {
  "kernelspec": {
   "display_name": "Python 3 (ipykernel)",
   "language": "python",
   "name": "python3"
  },
  "language_info": {
   "codemirror_mode": {
    "name": "ipython",
    "version": 3
   },
   "file_extension": ".py",
   "mimetype": "text/x-python",
   "name": "python",
   "nbconvert_exporter": "python",
   "pygments_lexer": "ipython3",
   "version": "3.8.18"
  }
 },
 "nbformat": 4,
 "nbformat_minor": 5
}
