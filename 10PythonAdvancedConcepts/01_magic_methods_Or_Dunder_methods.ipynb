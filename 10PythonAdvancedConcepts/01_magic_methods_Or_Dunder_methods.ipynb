{
 "cells": [
  {
   "cell_type": "markdown",
   "id": "ef7b3544-efd7-464d-abfd-ff1cf2ecdc34",
   "metadata": {},
   "source": [
    "## Magic methods or Dunder methods \n",
    "\n",
    "Magic methods also known as dunder methods, are special methods in python that begin and ends with the double underscores(__). They allow developers to defie the behaviour of their custom objects for various operations such as addition, subtraction, string representation and more.\n",
    "\n",
    "Few methods are below :\n",
    "\n",
    "1. Initialization and Representation:\n",
    "\n",
    "* `__init__(self, ...)`: Called when an instance is created (the constructor).\n",
    "* `__repr__(self)`: Defines the “official” string representation of an object. Useful for debugging.\n",
    "* `__str__(self)`: Defines the “informal” or nicely printable string representation of an object.\n",
    "\n",
    "2. Attribute Access:\n",
    "\n",
    "* `__getattr__(self, name)`: Called when an attribute is not found in the usual places.\n",
    "* `__setattr__(self, name, value)`: Called when an attribute assignment is attempted.\n",
    "* `__delattr__(self, name)`: Called when an attribute deletion is attempted.\n",
    "\n",
    "3. Container Emulation:\n",
    "\n",
    "* `__len__(self)`: Defines behavior for the built-in len() function.\n",
    "* `__getitem__(self, key)`: Defines behavior for indexing.\n",
    "* `__setitem__(self, key, value)`: Defines behavior for indexed assignment.\n",
    "* `__delitem__(self, key)`: Defines behavior for indexed deletion.\n",
    "* `__iter__(self)`: Defines behavior for iteration over the object.\n",
    "* `__contains__(self, item)`: Defines behavior for membership test operators (in and not in).\n",
    "\n",
    "4. Arithmetic Operators:\n",
    "\n",
    "* `__add__(self, other)`: Defines behavior for the addition operator +.\n",
    "* `__sub__(self, other)`: Defines behavior for the subtraction operator -.\n",
    "* `__mul__(self, other)`: Defines behavior for the multiplication operator *.\n",
    "* `__truediv__(self, other)`: Defines behavior for the division operator /.\n",
    "* `__floordiv__(self, other)`: Defines behavior for the floor division operator //.\n",
    "* `__mod__(self, other)`: Defines behavior for the modulo operator %.\n",
    "* `__pow__(self, other)`: Defines behavior for the exponentiation operator **."
   ]
  },
  {
   "cell_type": "code",
   "execution_count": 1,
   "id": "bc5f2a17-0c36-4910-aaeb-6c943a96d456",
   "metadata": {},
   "outputs": [
    {
     "name": "stdout",
     "output_type": "stream",
     "text": [
      "<__main__.Person object at 0x105ec1c40>\n",
      "Mike\n",
      "Object is being deconstructed!!\n",
      "The object has been deleted.\n"
     ]
    }
   ],
   "source": [
    "class Person:\n",
    "    def __init__(self, name, age):\n",
    "        self.name = name\n",
    "        self.age = age\n",
    "\n",
    "    def __del__(self):\n",
    "        print(\"Object is being deconstructed!!\")\n",
    "\n",
    "# Create a Person object\n",
    "p = Person(\"Mike\", 25)\n",
    "\n",
    "# Print the object (default representation)\n",
    "print(p)\n",
    "\n",
    "# Print the name attribute of the object\n",
    "print(p.name)\n",
    "\n",
    "# Explicitly delete the object\n",
    "del p\n",
    "\n",
    "# Confirm deletion\n",
    "print(\"The object has been deleted.\")\n",
    "\n",
    "\n"
   ]
  },
  {
   "cell_type": "markdown",
   "id": "16277351-778b-4192-979e-13ed8a19ab7c",
   "metadata": {},
   "source": [
    "```<__main__.Person object at 0x101538e50>\n",
    "Mike\n",
    "Object is being deconstructed!!\n",
    "The object has been deleted.\n",
    "```\n",
    "\n",
    "the above has to be the output, but it's different in the notebook is due to the way objects are managed and garbage collected in these environments.\n",
    "\n"
   ]
  },
  {
   "cell_type": "code",
   "execution_count": 5,
   "id": "6a690194-b64c-4ff8-ba0c-b483a49a0dc4",
   "metadata": {},
   "outputs": [
    {
     "name": "stdout",
     "output_type": "stream",
     "text": [
      "<__main__.Vector object at 0x1076fbc70>\n",
      "40 40\n"
     ]
    }
   ],
   "source": [
    "class Vector:\n",
    "    def __init__(self, x, y):\n",
    "        self.x = x\n",
    "        self.y = y\n",
    "\n",
    "    def __add__(self, other): # this modifies the basic addition to as per our requirement here\n",
    "        return Vector(self.x + other.x, self.y+other.y)\n",
    "\n",
    "v1 = Vector(10, 20)\n",
    "v2 = Vector(30, 20)\n",
    "v3 = v1 + v2\n",
    "print(v3)\n",
    "print(v3.x, v3.y)\n"
   ]
  },
  {
   "cell_type": "markdown",
   "id": "99e3f80f-5b85-40fb-9150-81c2057f54f9",
   "metadata": {},
   "source": [
    "The `__str__` and `__repr__` methods in Python are both used to provide string representations of objects, but they serve different purposes and are intended for different audiences. Here is a detailed explanation of the differences between` __str__` and `__repr__`:\n",
    "\n",
    "`__str__` Method :\n",
    "* Purpose: The __str__ method is intended to provide a \"nice\" or \"informal\" string representation of an object that is readable and user-friendly. It is meant for the end user.\n",
    "* Usage: It is called by the str() function and the print() function.\n",
    "* Fallback: If __str__ is not defined, Python will use __repr__ as a fallback.\n",
    "  \n",
    "`__repr__` Method:\n",
    "* Purpose: The __repr__ method is intended to provide a \"formal\" or \"official\" string representation of an object that is precise and unambiguous. It is meant for * developers and debugging. The goal is to provide a string that, if passed to eval(), would (ideally) recreate the original object.\n",
    "* Usage: It is called by the repr() function and in the interactive interpreter.\n",
    "* Fallback: If __repr__ is not defined, the default implementation provided by Python is used, which usually includes the object's memory address."
   ]
  },
  {
   "cell_type": "code",
   "execution_count": 7,
   "id": "e68f226d-61e2-46e0-8816-6a3e785578bb",
   "metadata": {},
   "outputs": [
    {
     "name": "stdout",
     "output_type": "stream",
     "text": [
      "Name : Chenchu \n",
      "Age : 20\n"
     ]
    }
   ],
   "source": [
    "class Person:\n",
    "    def __init__(self, name, age):\n",
    "        self.name = name\n",
    "        self.age = age\n",
    "\n",
    "    def __str__(self):\n",
    "        return f\"Name : {self.name} \\nAge : {self.age}\"\n",
    "\n",
    "    def __repr__(self):\n",
    "        return f\"Representation of the string as follows Name is {self.name} and Age is {self.age}.\"\n",
    "\n",
    "p1 = Person(\"Chenchu\", 20)\n",
    "print(p1) # by default it will pick the __str__ if we define both __str__ and __repr__"
   ]
  },
  {
   "cell_type": "code",
   "execution_count": 8,
   "id": "05e180f5-6678-4473-a022-6c4295e46a58",
   "metadata": {},
   "outputs": [
    {
     "name": "stdout",
     "output_type": "stream",
     "text": [
      "Representation of the string as follows Name is Chenchu and Age is 20.\n"
     ]
    }
   ],
   "source": [
    "class Person:\n",
    "    def __init__(self, name, age):\n",
    "        self.name = name\n",
    "        self.age = age\n",
    "\n",
    "    def __repr__(self):\n",
    "        return f\"Representation of the string as follows Name is {self.name} and Age is {self.age}.\"\n",
    "\n",
    "p1 = Person(\"Chenchu\", 20)\n",
    "print(p1) # If we don't represent using __str__ then by default it will pick the __repr__"
   ]
  },
  {
   "cell_type": "code",
   "execution_count": 10,
   "id": "afd9a2d9-fbb8-4f1a-83cb-b4c1d85f7711",
   "metadata": {},
   "outputs": [
    {
     "name": "stdout",
     "output_type": "stream",
     "text": [
      "Representation of the string as follows Name is Chenchu and Age is 20.\n",
      "Name : Chenchu \n",
      "Age : 20\n"
     ]
    }
   ],
   "source": [
    "class Person:\n",
    "    def __init__(self, name, age):\n",
    "        self.name = name\n",
    "        self.age = age\n",
    "\n",
    "    def __str__(self):\n",
    "        return f\"Name : {self.name} \\nAge : {self.age}\"\n",
    "\n",
    "    def __repr__(self):\n",
    "        return f\"Representation of the string as follows Name is {self.name} and Age is {self.age}.\"\n",
    "\n",
    "p1 = Person(\"Chenchu\", 20)\n",
    "print(repr(p1)) # we can call respective methods in this way  \n",
    "print(str(p1))"
   ]
  },
  {
   "cell_type": "code",
   "execution_count": 11,
   "id": "51044629-0eaf-4be9-a2af-4698caf46dcb",
   "metadata": {},
   "outputs": [
    {
     "name": "stdout",
     "output_type": "stream",
     "text": [
      "15\n"
     ]
    }
   ],
   "source": [
    "# __call__()\n",
    "class Adder:\n",
    "    def __init__(self, value):\n",
    "        self.value = value\n",
    "\n",
    "    def __call__(self, x): # we can call the object of the class as a function\n",
    "        return self.value + x\n",
    "\n",
    "add_five = Adder(5)\n",
    "\n",
    "print(add_five(10)) # calling as a function and it is giving me the output as a function"
   ]
  },
  {
   "cell_type": "code",
   "execution_count": 14,
   "id": "e3a95c87-d0fd-48d7-bdd8-031f15c8b35d",
   "metadata": {},
   "outputs": [
    {
     "name": "stdout",
     "output_type": "stream",
     "text": [
      "8\n"
     ]
    }
   ],
   "source": [
    "# __len__()\n",
    "\n",
    "class MyList:\n",
    "    def __init__(self, *args):\n",
    "        self.items = list(args)\n",
    "\n",
    "    def __len__(self):\n",
    "        return len(self.items)\n",
    "\n",
    "my_list1 = MyList(1, 3, 5, 4, 2, 9, 19, 24)\n",
    "\n",
    "print(len(my_list1)) # Now it will return the length of the object "
   ]
  },
  {
   "cell_type": "code",
   "execution_count": null,
   "id": "bb76aa26-ba06-4c5b-bdf8-5c19267325bf",
   "metadata": {},
   "outputs": [],
   "source": []
  }
 ],
 "metadata": {
  "kernelspec": {
   "display_name": "Python 3 (ipykernel)",
   "language": "python",
   "name": "python3"
  },
  "language_info": {
   "codemirror_mode": {
    "name": "ipython",
    "version": 3
   },
   "file_extension": ".py",
   "mimetype": "text/x-python",
   "name": "python",
   "nbconvert_exporter": "python",
   "pygments_lexer": "ipython3",
   "version": "3.8.18"
  }
 },
 "nbformat": 4,
 "nbformat_minor": 5
}
