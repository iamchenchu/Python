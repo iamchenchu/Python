{
 "cells": [
  {
   "cell_type": "markdown",
   "id": "63f34ee8-e91c-4a39-a60f-bb17afa9e8d5",
   "metadata": {},
   "source": [
    "## Decorators in python :\n",
    "__Decorators__ in python are a powerful and expressive tool that allow you to modify the behaviour of a functions or a class. They provide a clean and readable way to extend or alter the behaviour of callable objects without permanantly modifying them.\n",
    "\n",
    "__BASICS OF A DECORATOR :__\n",
    "1. A decorator is a function that takes another function as an input and it extends or alters the functions behaviour. Decorators are typically used for logging, access control, memorization and more\n",
    "\n",
    "2. The basic syntax of a decorator involves defining a decorator function and applying it to another function using `@` symbol"
   ]
  },
  {
   "cell_type": "code",
   "execution_count": 1,
   "id": "606a552f-0d07-495f-bef7-c3e4a022e6e1",
   "metadata": {},
   "outputs": [
    {
     "name": "stdout",
     "output_type": "stream",
     "text": [
      "Before the function call\n",
      "Hello I am a function who is getting executed in decorator function\n",
      "After the function call\n"
     ]
    }
   ],
   "source": [
    "def simple_decorator(func):\n",
    "    def wrapper():\n",
    "        print(\"Before the function call\")\n",
    "        func()\n",
    "        print(\"After the function call\")\n",
    "    return wrapper\n",
    "\n",
    "\n",
    "@simple_decorator\n",
    "def say_hello():\n",
    "    print(\"Hello I am a function who is getting executed in decorator function\")\n",
    "\n",
    "\n",
    "say_hello()"
   ]
  },
  {
   "cell_type": "code",
   "execution_count": 2,
   "id": "64fbc659-94cd-42c4-a64d-d0a3208de56c",
   "metadata": {},
   "outputs": [
    {
     "name": "stdout",
     "output_type": "stream",
     "text": [
      "Hello Chenchu\n",
      "Hello Chenchu\n",
      "Hello Chenchu\n"
     ]
    }
   ],
   "source": [
    "# Sometimes we need our decorator to accept arguments \n",
    "# Decorator with arguments \n",
    "\n",
    "def repeat(num_times):\n",
    "    def decorator_repeat(func):\n",
    "        def wrapper(*args, **kwargs):\n",
    "            for _ in range(num_times):\n",
    "                func(*args, **kwargs)\n",
    "        return wrapper\n",
    "    return decorator_repeat\n",
    "\n",
    "\n",
    "@repeat(num_times=3)\n",
    "def greet(name):\n",
    "    print(f\"Hello {name}\")\n",
    "\n",
    "greet(\"Chenchu\")\n",
    "    \n",
    "\n",
    "        \n",
    "    "
   ]
  },
  {
   "cell_type": "code",
   "execution_count": 3,
   "id": "f6c8baaa-73f2-4b4a-93a0-3c3c94cb437b",
   "metadata": {},
   "outputs": [
    {
     "name": "stdout",
     "output_type": "stream",
     "text": [
      "Hello world\n"
     ]
    },
    {
     "data": {
      "text/plain": [
       "<function __main__.my_decorator.<locals>.wrapper()>"
      ]
     },
     "execution_count": 3,
     "metadata": {},
     "output_type": "execute_result"
    }
   ],
   "source": [
    "def my_decorator(function):\n",
    "    def wrapper():\n",
    "        print(\"I am decorating your function\")\n",
    "        function()\n",
    "    return wrapper\n",
    "\n",
    "def hello():\n",
    "    print(\"Hello world\")\n",
    "\n",
    "my_decorator(hello())\n",
    "    "
   ]
  },
  {
   "cell_type": "code",
   "execution_count": 4,
   "id": "1c9b019b-94e2-4899-9b8e-225447edcdb2",
   "metadata": {},
   "outputs": [
    {
     "name": "stdout",
     "output_type": "stream",
     "text": [
      "I am decorating your function\n",
      "Hello world\n"
     ]
    }
   ],
   "source": [
    "def my_decorator(function):\n",
    "    def wrapper():\n",
    "        print(\"I am decorating your function\")\n",
    "        function()\n",
    "    return wrapper\n",
    "\n",
    "@my_decorator\n",
    "def hello():\n",
    "    print(\"Hello world\")\n",
    "\n",
    "hello()"
   ]
  },
  {
   "cell_type": "code",
   "execution_count": 5,
   "id": "ea40cee1-c887-4d25-9a81-b4912bfc219d",
   "metadata": {},
   "outputs": [
    {
     "name": "stdout",
     "output_type": "stream",
     "text": [
      "I am decorating your function\n",
      "Hello Chenchu\n"
     ]
    }
   ],
   "source": [
    "def my_decorator(function):\n",
    "    def wrapper(*args, **kwargs):\n",
    "        print(\"I am decorating your function\")\n",
    "        function(*args, **kwargs)\n",
    "    return wrapper\n",
    "\n",
    "@my_decorator\n",
    "def hello(person):\n",
    "    print(f\"Hello {person}\")\n",
    "\n",
    "hello(\"Chenchu\")"
   ]
  },
  {
   "cell_type": "code",
   "execution_count": 6,
   "id": "d6ed9acc-fd56-4530-b910-d2ce1ebe5931",
   "metadata": {},
   "outputs": [
    {
     "name": "stdout",
     "output_type": "stream",
     "text": [
      "add returned value 40\n",
      "add returned value 60\n",
      "add returned value 80\n"
     ]
    },
    {
     "data": {
      "text/plain": [
       "80"
      ]
     },
     "execution_count": 6,
     "metadata": {},
     "output_type": "execute_result"
    }
   ],
   "source": [
    "# Practical Example Logging \n",
    "\n",
    "def logging(function):\n",
    "    def wrapper(*args, **kwargs):\n",
    "        value = function(*args, **kwargs)\n",
    "        with open(\"logfile.txt\", 'a+') as file:\n",
    "            function_name = function.__name__\n",
    "            file.write(f\"{function_name} with {args[0]} and {args[1]} values returned value {value}\\n\")\n",
    "            print(f\"{function_name} returned value {value}\")\n",
    "            \n",
    "        return value \n",
    "        \n",
    "    return wrapper\n",
    "\n",
    "@logging\n",
    "def add(x, y):\n",
    "    return x+y\n",
    "\n",
    "add(10, 30)\n",
    "add(30, 30)\n",
    "add(50, 30)"
   ]
  },
  {
   "cell_type": "code",
   "execution_count": 10,
   "id": "20c05fe4-ea02-4b31-a262-ff413fde5329",
   "metadata": {},
   "outputs": [
    {
     "data": {
      "text/plain": [
       "120"
      ]
     },
     "execution_count": 10,
     "metadata": {},
     "output_type": "execute_result"
    }
   ],
   "source": [
    "# Practical Example 2\n",
    "\n",
    "import time \n",
    "\n",
    "def timed(function):\n",
    "    def wrapper(*args, **kwargs):\n",
    "        before = time.time()\n",
    "        value = function(*args, **kwargs)\n",
    "        after = time.time\n",
    "        function_name = function.__name__\n",
    "        print(f\"{function_name} took {after-before} seconds to execute\")\n",
    "        return value \n",
    "\n",
    "    return wrapper \n",
    "\n",
    "\n",
    "def myfunction(n):\n",
    "    result = 1\n",
    "    for i in range(1, n+1):\n",
    "        result *= i\n",
    "    return result\n",
    "\n",
    "myfunction(5)"
   ]
  },
  {
   "cell_type": "code",
   "execution_count": 20,
   "id": "ced6003c-4475-44b3-9a73-9ec684c47548",
   "metadata": {},
   "outputs": [
    {
     "name": "stdout",
     "output_type": "stream",
     "text": [
      "1 2 3 4 5 6 7 8 9 10 11 12 13 14 15 16 17 18 19 20 21 22 23 24 25 26 27 28 29 30 31 32 33 34 35 36 37 38 39 40 41 42 43 44 45 46 47 48 49 50 \n",
      "myfunction took 0.0027430057525634766 seconds to execute\n"
     ]
    },
    {
     "data": {
      "text/plain": [
       "1"
      ]
     },
     "execution_count": 20,
     "metadata": {},
     "output_type": "execute_result"
    }
   ],
   "source": [
    "import time \n",
    "\n",
    "def timed(function):\n",
    "    def wrapper(*args, **kwargs):\n",
    "        before = time.time()\n",
    "        value = function(*args, **kwargs)\n",
    "        after = time.time()\n",
    "        function_name = function.__name__\n",
    "        print(f\"\\n{function_name} took {after-before} seconds to execute\")\n",
    "        return value \n",
    "\n",
    "    return wrapper \n",
    "\n",
    "@timed\n",
    "def myfunction(n):\n",
    "    result = 1\n",
    "    for i in range(1, n+1):\n",
    "        print(i, end=\" \")\n",
    "    return result\n",
    "\n",
    "myfunction(50)"
   ]
  },
  {
   "cell_type": "code",
   "execution_count": null,
   "id": "f31cf36f-d4ef-425b-8659-81de2aca4367",
   "metadata": {},
   "outputs": [],
   "source": []
  }
 ],
 "metadata": {
  "kernelspec": {
   "display_name": "Python 3 (ipykernel)",
   "language": "python",
   "name": "python3"
  },
  "language_info": {
   "codemirror_mode": {
    "name": "ipython",
    "version": 3
   },
   "file_extension": ".py",
   "mimetype": "text/x-python",
   "name": "python",
   "nbconvert_exporter": "python",
   "pygments_lexer": "ipython3",
   "version": "3.8.18"
  }
 },
 "nbformat": 4,
 "nbformat_minor": 5
}
