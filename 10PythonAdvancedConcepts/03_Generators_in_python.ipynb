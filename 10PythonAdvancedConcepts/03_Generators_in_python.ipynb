{
 "cells": [
  {
   "cell_type": "markdown",
   "id": "a2375ed4-59d7-4753-a38d-95f5e0eab55a",
   "metadata": {},
   "source": [
    "## Generators in Python\n",
    "\n",
    "Generators in Python are a type of iterable, similar to lists or tuples, but unlike lists, they do not store their contents in memory. Instead, they generate values on the fly and can be iterated over once. This makes generators especially useful for working with large datasets or streams of data where you do not want to load everything into memory at once.\n",
    "\n",
    "* A generator function is defined using the `def` keyword and contains one or more `yield` statements. When called, a generator function returns a generator object, which can be iterated over.\n",
    "\n",
    "\n"
   ]
  },
  {
   "cell_type": "code",
   "execution_count": 1,
   "id": "fca56fb3-d23c-4ba7-9e14-4939b2bf34b1",
   "metadata": {},
   "outputs": [
    {
     "name": "stdout",
     "output_type": "stream",
     "text": [
      "1\n",
      "2\n",
      "3\n",
      "4\n",
      "5\n",
      "6\n",
      "7\n",
      "8\n",
      "9\n",
      "10\n"
     ]
    }
   ],
   "source": [
    "def count_up_to(max):\n",
    "    count = 1\n",
    "    while count <= max:\n",
    "        yield count\n",
    "        count += 1\n",
    "\n",
    "counter = count_up_to(10)\n",
    "\n",
    "for num in counter:\n",
    "    print(num)"
   ]
  },
  {
   "cell_type": "code",
   "execution_count": null,
   "id": "dcc0a884-0d5b-41e5-be8b-e9193795dedc",
   "metadata": {},
   "outputs": [],
   "source": []
  }
 ],
 "metadata": {
  "kernelspec": {
   "display_name": "Python 3 (ipykernel)",
   "language": "python",
   "name": "python3"
  },
  "language_info": {
   "codemirror_mode": {
    "name": "ipython",
    "version": 3
   },
   "file_extension": ".py",
   "mimetype": "text/x-python",
   "name": "python",
   "nbconvert_exporter": "python",
   "pygments_lexer": "ipython3",
   "version": "3.8.18"
  }
 },
 "nbformat": 4,
 "nbformat_minor": 5
}
